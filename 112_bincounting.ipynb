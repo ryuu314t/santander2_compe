{
 "cells": [
  {
   "cell_type": "code",
   "execution_count": 10,
   "metadata": {
    "collapsed": true
   },
   "outputs": [],
   "source": [
    "import numpy as np\n",
    "import pandas as pd\n",
    "from sklearn import neighbors\n",
    "from sklearn.cluster import KMeans"
   ]
  },
  {
   "cell_type": "code",
   "execution_count": 11,
   "metadata": {
    "collapsed": false
   },
   "outputs": [
    {
     "name": "stdout",
     "output_type": "stream",
     "text": [
      "Wall time: 22 s\n"
     ]
    }
   ],
   "source": [
    "%%time\n",
    "train_df = pd.read_csv(\"./input/train.csv\")\n",
    "test_df = pd.read_csv(\"./input/test.csv\")"
   ]
  },
  {
   "cell_type": "code",
   "execution_count": 12,
   "metadata": {
    "collapsed": false
   },
   "outputs": [],
   "source": [
    "submit_flg=1 #全件処理かどうかをコントロール\n",
    "grid_flg=1 #GridSearchをするかコントロール\n",
    "SEED=12345\n",
    "sample_num=10000\n",
    "fold_num=5\n",
    "\n",
    "#train関連\n",
    "train_drop_col=['ID_code','target']\n",
    "train_label='target'\n",
    "\n",
    "#test関連\n",
    "test_drop_col=['ID_code']"
   ]
  },
  {
   "cell_type": "code",
   "execution_count": 13,
   "metadata": {
    "collapsed": false
   },
   "outputs": [],
   "source": [
    "#x,y作成\n",
    "x_train=train_df.drop(train_drop_col,axis=1)\n",
    "x_test=test_df.drop(test_drop_col,axis=1)\n",
    "x_test['target']=2\n",
    "x_train['target']=train_df['target']"
   ]
  },
  {
   "cell_type": "markdown",
   "metadata": {},
   "source": [
    "特徴量作成コードを記載"
   ]
  },
  {
   "cell_type": "code",
   "execution_count": 14,
   "metadata": {
    "collapsed": false
   },
   "outputs": [],
   "source": [
    "df_all=pd.concat([x_train,x_test])\n",
    "\n",
    "#for i in ['var_68']:\n",
    "for i in x_train.columns:\n",
    "    df_all[i+'_qcut']=pd.qcut(df_all[i],100,labels=False,duplicates='drop')"
   ]
  },
  {
   "cell_type": "code",
   "execution_count": 15,
   "metadata": {
    "collapsed": false
   },
   "outputs": [
    {
     "name": "stdout",
     "output_type": "stream",
     "text": [
      "var_0\n",
      " \n"
     ]
    },
    {
     "name": "stderr",
     "output_type": "stream",
     "text": [
      "C:\\Users\\tatsuya.okamoto\\AppData\\Local\\Continuum\\Anaconda3\\lib\\site-packages\\ipykernel\\__main__.py:7: SettingWithCopyWarning: \n",
      "A value is trying to be set on a copy of a slice from a DataFrame\n",
      "\n",
      "See the caveats in the documentation: http://pandas.pydata.org/pandas-docs/stable/indexing.html#indexing-view-versus-copy\n",
      "C:\\Users\\tatsuya.okamoto\\AppData\\Local\\Continuum\\Anaconda3\\lib\\site-packages\\ipykernel\\__main__.py:7: SettingWithCopyWarning: \n",
      "A value is trying to be set on a copy of a slice from a DataFrame\n",
      "\n",
      "See the caveats in the documentation: http://pandas.pydata.org/pandas-docs/stable/indexing.html#indexing-view-versus-copy\n"
     ]
    },
    {
     "name": "stdout",
     "output_type": "stream",
     "text": [
      "var_1\n",
      " \n"
     ]
    },
    {
     "name": "stderr",
     "output_type": "stream",
     "text": [
      "C:\\Users\\tatsuya.okamoto\\AppData\\Local\\Continuum\\Anaconda3\\lib\\site-packages\\ipykernel\\__main__.py:7: SettingWithCopyWarning: \n",
      "A value is trying to be set on a copy of a slice from a DataFrame\n",
      "\n",
      "See the caveats in the documentation: http://pandas.pydata.org/pandas-docs/stable/indexing.html#indexing-view-versus-copy\n"
     ]
    },
    {
     "name": "stdout",
     "output_type": "stream",
     "text": [
      "var_2\n",
      " \n"
     ]
    },
    {
     "name": "stderr",
     "output_type": "stream",
     "text": [
      "C:\\Users\\tatsuya.okamoto\\AppData\\Local\\Continuum\\Anaconda3\\lib\\site-packages\\ipykernel\\__main__.py:7: SettingWithCopyWarning: \n",
      "A value is trying to be set on a copy of a slice from a DataFrame\n",
      "\n",
      "See the caveats in the documentation: http://pandas.pydata.org/pandas-docs/stable/indexing.html#indexing-view-versus-copy\n"
     ]
    },
    {
     "name": "stdout",
     "output_type": "stream",
     "text": [
      "var_3\n",
      " \n"
     ]
    },
    {
     "name": "stderr",
     "output_type": "stream",
     "text": [
      "C:\\Users\\tatsuya.okamoto\\AppData\\Local\\Continuum\\Anaconda3\\lib\\site-packages\\ipykernel\\__main__.py:7: SettingWithCopyWarning: \n",
      "A value is trying to be set on a copy of a slice from a DataFrame\n",
      "\n",
      "See the caveats in the documentation: http://pandas.pydata.org/pandas-docs/stable/indexing.html#indexing-view-versus-copy\n"
     ]
    },
    {
     "name": "stdout",
     "output_type": "stream",
     "text": [
      "var_4\n",
      " \n"
     ]
    },
    {
     "name": "stderr",
     "output_type": "stream",
     "text": [
      "C:\\Users\\tatsuya.okamoto\\AppData\\Local\\Continuum\\Anaconda3\\lib\\site-packages\\ipykernel\\__main__.py:7: SettingWithCopyWarning: \n",
      "A value is trying to be set on a copy of a slice from a DataFrame\n",
      "\n",
      "See the caveats in the documentation: http://pandas.pydata.org/pandas-docs/stable/indexing.html#indexing-view-versus-copy\n"
     ]
    },
    {
     "name": "stdout",
     "output_type": "stream",
     "text": [
      "var_5\n",
      " \n"
     ]
    },
    {
     "name": "stderr",
     "output_type": "stream",
     "text": [
      "C:\\Users\\tatsuya.okamoto\\AppData\\Local\\Continuum\\Anaconda3\\lib\\site-packages\\ipykernel\\__main__.py:7: SettingWithCopyWarning: \n",
      "A value is trying to be set on a copy of a slice from a DataFrame\n",
      "\n",
      "See the caveats in the documentation: http://pandas.pydata.org/pandas-docs/stable/indexing.html#indexing-view-versus-copy\n"
     ]
    },
    {
     "name": "stdout",
     "output_type": "stream",
     "text": [
      "var_6\n",
      " \n"
     ]
    },
    {
     "name": "stderr",
     "output_type": "stream",
     "text": [
      "C:\\Users\\tatsuya.okamoto\\AppData\\Local\\Continuum\\Anaconda3\\lib\\site-packages\\ipykernel\\__main__.py:7: SettingWithCopyWarning: \n",
      "A value is trying to be set on a copy of a slice from a DataFrame\n",
      "\n",
      "See the caveats in the documentation: http://pandas.pydata.org/pandas-docs/stable/indexing.html#indexing-view-versus-copy\n"
     ]
    },
    {
     "name": "stdout",
     "output_type": "stream",
     "text": [
      "var_7\n",
      " \n"
     ]
    },
    {
     "name": "stderr",
     "output_type": "stream",
     "text": [
      "C:\\Users\\tatsuya.okamoto\\AppData\\Local\\Continuum\\Anaconda3\\lib\\site-packages\\ipykernel\\__main__.py:7: SettingWithCopyWarning: \n",
      "A value is trying to be set on a copy of a slice from a DataFrame\n",
      "\n",
      "See the caveats in the documentation: http://pandas.pydata.org/pandas-docs/stable/indexing.html#indexing-view-versus-copy\n"
     ]
    },
    {
     "name": "stdout",
     "output_type": "stream",
     "text": [
      "var_8\n",
      " \n"
     ]
    },
    {
     "name": "stderr",
     "output_type": "stream",
     "text": [
      "C:\\Users\\tatsuya.okamoto\\AppData\\Local\\Continuum\\Anaconda3\\lib\\site-packages\\ipykernel\\__main__.py:7: SettingWithCopyWarning: \n",
      "A value is trying to be set on a copy of a slice from a DataFrame\n",
      "\n",
      "See the caveats in the documentation: http://pandas.pydata.org/pandas-docs/stable/indexing.html#indexing-view-versus-copy\n"
     ]
    },
    {
     "name": "stdout",
     "output_type": "stream",
     "text": [
      "var_9\n",
      " \n"
     ]
    },
    {
     "name": "stderr",
     "output_type": "stream",
     "text": [
      "C:\\Users\\tatsuya.okamoto\\AppData\\Local\\Continuum\\Anaconda3\\lib\\site-packages\\ipykernel\\__main__.py:7: SettingWithCopyWarning: \n",
      "A value is trying to be set on a copy of a slice from a DataFrame\n",
      "\n",
      "See the caveats in the documentation: http://pandas.pydata.org/pandas-docs/stable/indexing.html#indexing-view-versus-copy\n"
     ]
    },
    {
     "name": "stdout",
     "output_type": "stream",
     "text": [
      "var_10\n",
      " \n"
     ]
    },
    {
     "name": "stderr",
     "output_type": "stream",
     "text": [
      "C:\\Users\\tatsuya.okamoto\\AppData\\Local\\Continuum\\Anaconda3\\lib\\site-packages\\ipykernel\\__main__.py:7: SettingWithCopyWarning: \n",
      "A value is trying to be set on a copy of a slice from a DataFrame\n",
      "\n",
      "See the caveats in the documentation: http://pandas.pydata.org/pandas-docs/stable/indexing.html#indexing-view-versus-copy\n"
     ]
    },
    {
     "name": "stdout",
     "output_type": "stream",
     "text": [
      "var_11\n",
      " \n"
     ]
    },
    {
     "name": "stderr",
     "output_type": "stream",
     "text": [
      "C:\\Users\\tatsuya.okamoto\\AppData\\Local\\Continuum\\Anaconda3\\lib\\site-packages\\ipykernel\\__main__.py:7: SettingWithCopyWarning: \n",
      "A value is trying to be set on a copy of a slice from a DataFrame\n",
      "\n",
      "See the caveats in the documentation: http://pandas.pydata.org/pandas-docs/stable/indexing.html#indexing-view-versus-copy\n"
     ]
    },
    {
     "name": "stdout",
     "output_type": "stream",
     "text": [
      "var_12\n",
      " \n"
     ]
    },
    {
     "name": "stderr",
     "output_type": "stream",
     "text": [
      "C:\\Users\\tatsuya.okamoto\\AppData\\Local\\Continuum\\Anaconda3\\lib\\site-packages\\ipykernel\\__main__.py:7: SettingWithCopyWarning: \n",
      "A value is trying to be set on a copy of a slice from a DataFrame\n",
      "\n",
      "See the caveats in the documentation: http://pandas.pydata.org/pandas-docs/stable/indexing.html#indexing-view-versus-copy\n"
     ]
    },
    {
     "name": "stdout",
     "output_type": "stream",
     "text": [
      "var_13\n",
      " \n"
     ]
    },
    {
     "name": "stderr",
     "output_type": "stream",
     "text": [
      "C:\\Users\\tatsuya.okamoto\\AppData\\Local\\Continuum\\Anaconda3\\lib\\site-packages\\ipykernel\\__main__.py:7: SettingWithCopyWarning: \n",
      "A value is trying to be set on a copy of a slice from a DataFrame\n",
      "\n",
      "See the caveats in the documentation: http://pandas.pydata.org/pandas-docs/stable/indexing.html#indexing-view-versus-copy\n"
     ]
    },
    {
     "name": "stdout",
     "output_type": "stream",
     "text": [
      "var_14\n",
      " \n"
     ]
    },
    {
     "name": "stderr",
     "output_type": "stream",
     "text": [
      "C:\\Users\\tatsuya.okamoto\\AppData\\Local\\Continuum\\Anaconda3\\lib\\site-packages\\ipykernel\\__main__.py:7: SettingWithCopyWarning: \n",
      "A value is trying to be set on a copy of a slice from a DataFrame\n",
      "\n",
      "See the caveats in the documentation: http://pandas.pydata.org/pandas-docs/stable/indexing.html#indexing-view-versus-copy\n"
     ]
    },
    {
     "name": "stdout",
     "output_type": "stream",
     "text": [
      "var_15\n",
      " \n"
     ]
    },
    {
     "name": "stderr",
     "output_type": "stream",
     "text": [
      "C:\\Users\\tatsuya.okamoto\\AppData\\Local\\Continuum\\Anaconda3\\lib\\site-packages\\ipykernel\\__main__.py:7: SettingWithCopyWarning: \n",
      "A value is trying to be set on a copy of a slice from a DataFrame\n",
      "\n",
      "See the caveats in the documentation: http://pandas.pydata.org/pandas-docs/stable/indexing.html#indexing-view-versus-copy\n"
     ]
    },
    {
     "name": "stdout",
     "output_type": "stream",
     "text": [
      "var_16\n",
      " \n"
     ]
    },
    {
     "name": "stderr",
     "output_type": "stream",
     "text": [
      "C:\\Users\\tatsuya.okamoto\\AppData\\Local\\Continuum\\Anaconda3\\lib\\site-packages\\ipykernel\\__main__.py:7: SettingWithCopyWarning: \n",
      "A value is trying to be set on a copy of a slice from a DataFrame\n",
      "\n",
      "See the caveats in the documentation: http://pandas.pydata.org/pandas-docs/stable/indexing.html#indexing-view-versus-copy\n"
     ]
    },
    {
     "name": "stdout",
     "output_type": "stream",
     "text": [
      "var_17\n",
      " \n"
     ]
    },
    {
     "name": "stderr",
     "output_type": "stream",
     "text": [
      "C:\\Users\\tatsuya.okamoto\\AppData\\Local\\Continuum\\Anaconda3\\lib\\site-packages\\ipykernel\\__main__.py:7: SettingWithCopyWarning: \n",
      "A value is trying to be set on a copy of a slice from a DataFrame\n",
      "\n",
      "See the caveats in the documentation: http://pandas.pydata.org/pandas-docs/stable/indexing.html#indexing-view-versus-copy\n"
     ]
    },
    {
     "name": "stdout",
     "output_type": "stream",
     "text": [
      "var_18\n",
      " \n"
     ]
    },
    {
     "name": "stderr",
     "output_type": "stream",
     "text": [
      "C:\\Users\\tatsuya.okamoto\\AppData\\Local\\Continuum\\Anaconda3\\lib\\site-packages\\ipykernel\\__main__.py:7: SettingWithCopyWarning: \n",
      "A value is trying to be set on a copy of a slice from a DataFrame\n",
      "\n",
      "See the caveats in the documentation: http://pandas.pydata.org/pandas-docs/stable/indexing.html#indexing-view-versus-copy\n"
     ]
    },
    {
     "name": "stdout",
     "output_type": "stream",
     "text": [
      "var_19\n",
      " \n"
     ]
    },
    {
     "name": "stderr",
     "output_type": "stream",
     "text": [
      "C:\\Users\\tatsuya.okamoto\\AppData\\Local\\Continuum\\Anaconda3\\lib\\site-packages\\ipykernel\\__main__.py:7: SettingWithCopyWarning: \n",
      "A value is trying to be set on a copy of a slice from a DataFrame\n",
      "\n",
      "See the caveats in the documentation: http://pandas.pydata.org/pandas-docs/stable/indexing.html#indexing-view-versus-copy\n"
     ]
    },
    {
     "name": "stdout",
     "output_type": "stream",
     "text": [
      "var_20\n",
      " \n"
     ]
    },
    {
     "name": "stderr",
     "output_type": "stream",
     "text": [
      "C:\\Users\\tatsuya.okamoto\\AppData\\Local\\Continuum\\Anaconda3\\lib\\site-packages\\ipykernel\\__main__.py:7: SettingWithCopyWarning: \n",
      "A value is trying to be set on a copy of a slice from a DataFrame\n",
      "\n",
      "See the caveats in the documentation: http://pandas.pydata.org/pandas-docs/stable/indexing.html#indexing-view-versus-copy\n"
     ]
    },
    {
     "name": "stdout",
     "output_type": "stream",
     "text": [
      "var_21\n",
      " \n"
     ]
    },
    {
     "name": "stderr",
     "output_type": "stream",
     "text": [
      "C:\\Users\\tatsuya.okamoto\\AppData\\Local\\Continuum\\Anaconda3\\lib\\site-packages\\ipykernel\\__main__.py:7: SettingWithCopyWarning: \n",
      "A value is trying to be set on a copy of a slice from a DataFrame\n",
      "\n",
      "See the caveats in the documentation: http://pandas.pydata.org/pandas-docs/stable/indexing.html#indexing-view-versus-copy\n"
     ]
    },
    {
     "name": "stdout",
     "output_type": "stream",
     "text": [
      "var_22\n",
      " \n"
     ]
    },
    {
     "name": "stderr",
     "output_type": "stream",
     "text": [
      "C:\\Users\\tatsuya.okamoto\\AppData\\Local\\Continuum\\Anaconda3\\lib\\site-packages\\ipykernel\\__main__.py:7: SettingWithCopyWarning: \n",
      "A value is trying to be set on a copy of a slice from a DataFrame\n",
      "\n",
      "See the caveats in the documentation: http://pandas.pydata.org/pandas-docs/stable/indexing.html#indexing-view-versus-copy\n"
     ]
    },
    {
     "name": "stdout",
     "output_type": "stream",
     "text": [
      "var_23\n",
      " \n"
     ]
    },
    {
     "name": "stderr",
     "output_type": "stream",
     "text": [
      "C:\\Users\\tatsuya.okamoto\\AppData\\Local\\Continuum\\Anaconda3\\lib\\site-packages\\ipykernel\\__main__.py:7: SettingWithCopyWarning: \n",
      "A value is trying to be set on a copy of a slice from a DataFrame\n",
      "\n",
      "See the caveats in the documentation: http://pandas.pydata.org/pandas-docs/stable/indexing.html#indexing-view-versus-copy\n"
     ]
    },
    {
     "name": "stdout",
     "output_type": "stream",
     "text": [
      "var_24\n",
      " \n"
     ]
    },
    {
     "name": "stderr",
     "output_type": "stream",
     "text": [
      "C:\\Users\\tatsuya.okamoto\\AppData\\Local\\Continuum\\Anaconda3\\lib\\site-packages\\ipykernel\\__main__.py:7: SettingWithCopyWarning: \n",
      "A value is trying to be set on a copy of a slice from a DataFrame\n",
      "\n",
      "See the caveats in the documentation: http://pandas.pydata.org/pandas-docs/stable/indexing.html#indexing-view-versus-copy\n"
     ]
    },
    {
     "name": "stdout",
     "output_type": "stream",
     "text": [
      "var_25\n",
      " \n"
     ]
    },
    {
     "name": "stderr",
     "output_type": "stream",
     "text": [
      "C:\\Users\\tatsuya.okamoto\\AppData\\Local\\Continuum\\Anaconda3\\lib\\site-packages\\ipykernel\\__main__.py:7: SettingWithCopyWarning: \n",
      "A value is trying to be set on a copy of a slice from a DataFrame\n",
      "\n",
      "See the caveats in the documentation: http://pandas.pydata.org/pandas-docs/stable/indexing.html#indexing-view-versus-copy\n"
     ]
    },
    {
     "name": "stdout",
     "output_type": "stream",
     "text": [
      "var_26\n",
      " \n"
     ]
    },
    {
     "name": "stderr",
     "output_type": "stream",
     "text": [
      "C:\\Users\\tatsuya.okamoto\\AppData\\Local\\Continuum\\Anaconda3\\lib\\site-packages\\ipykernel\\__main__.py:7: SettingWithCopyWarning: \n",
      "A value is trying to be set on a copy of a slice from a DataFrame\n",
      "\n",
      "See the caveats in the documentation: http://pandas.pydata.org/pandas-docs/stable/indexing.html#indexing-view-versus-copy\n"
     ]
    },
    {
     "name": "stdout",
     "output_type": "stream",
     "text": [
      "var_27\n",
      " \n"
     ]
    },
    {
     "name": "stderr",
     "output_type": "stream",
     "text": [
      "C:\\Users\\tatsuya.okamoto\\AppData\\Local\\Continuum\\Anaconda3\\lib\\site-packages\\ipykernel\\__main__.py:7: SettingWithCopyWarning: \n",
      "A value is trying to be set on a copy of a slice from a DataFrame\n",
      "\n",
      "See the caveats in the documentation: http://pandas.pydata.org/pandas-docs/stable/indexing.html#indexing-view-versus-copy\n"
     ]
    },
    {
     "name": "stdout",
     "output_type": "stream",
     "text": [
      "var_28\n",
      " \n"
     ]
    },
    {
     "name": "stderr",
     "output_type": "stream",
     "text": [
      "C:\\Users\\tatsuya.okamoto\\AppData\\Local\\Continuum\\Anaconda3\\lib\\site-packages\\ipykernel\\__main__.py:7: SettingWithCopyWarning: \n",
      "A value is trying to be set on a copy of a slice from a DataFrame\n",
      "\n",
      "See the caveats in the documentation: http://pandas.pydata.org/pandas-docs/stable/indexing.html#indexing-view-versus-copy\n"
     ]
    },
    {
     "name": "stdout",
     "output_type": "stream",
     "text": [
      "var_29\n",
      " \n"
     ]
    },
    {
     "name": "stderr",
     "output_type": "stream",
     "text": [
      "C:\\Users\\tatsuya.okamoto\\AppData\\Local\\Continuum\\Anaconda3\\lib\\site-packages\\ipykernel\\__main__.py:7: SettingWithCopyWarning: \n",
      "A value is trying to be set on a copy of a slice from a DataFrame\n",
      "\n",
      "See the caveats in the documentation: http://pandas.pydata.org/pandas-docs/stable/indexing.html#indexing-view-versus-copy\n"
     ]
    },
    {
     "name": "stdout",
     "output_type": "stream",
     "text": [
      "var_30\n",
      " \n"
     ]
    },
    {
     "name": "stderr",
     "output_type": "stream",
     "text": [
      "C:\\Users\\tatsuya.okamoto\\AppData\\Local\\Continuum\\Anaconda3\\lib\\site-packages\\ipykernel\\__main__.py:7: SettingWithCopyWarning: \n",
      "A value is trying to be set on a copy of a slice from a DataFrame\n",
      "\n",
      "See the caveats in the documentation: http://pandas.pydata.org/pandas-docs/stable/indexing.html#indexing-view-versus-copy\n"
     ]
    },
    {
     "name": "stdout",
     "output_type": "stream",
     "text": [
      "var_31\n",
      " \n"
     ]
    },
    {
     "name": "stderr",
     "output_type": "stream",
     "text": [
      "C:\\Users\\tatsuya.okamoto\\AppData\\Local\\Continuum\\Anaconda3\\lib\\site-packages\\ipykernel\\__main__.py:7: SettingWithCopyWarning: \n",
      "A value is trying to be set on a copy of a slice from a DataFrame\n",
      "\n",
      "See the caveats in the documentation: http://pandas.pydata.org/pandas-docs/stable/indexing.html#indexing-view-versus-copy\n"
     ]
    },
    {
     "name": "stdout",
     "output_type": "stream",
     "text": [
      "var_32\n",
      " \n"
     ]
    },
    {
     "name": "stderr",
     "output_type": "stream",
     "text": [
      "C:\\Users\\tatsuya.okamoto\\AppData\\Local\\Continuum\\Anaconda3\\lib\\site-packages\\ipykernel\\__main__.py:7: SettingWithCopyWarning: \n",
      "A value is trying to be set on a copy of a slice from a DataFrame\n",
      "\n",
      "See the caveats in the documentation: http://pandas.pydata.org/pandas-docs/stable/indexing.html#indexing-view-versus-copy\n"
     ]
    },
    {
     "name": "stdout",
     "output_type": "stream",
     "text": [
      "var_33\n",
      " \n"
     ]
    },
    {
     "name": "stderr",
     "output_type": "stream",
     "text": [
      "C:\\Users\\tatsuya.okamoto\\AppData\\Local\\Continuum\\Anaconda3\\lib\\site-packages\\ipykernel\\__main__.py:7: SettingWithCopyWarning: \n",
      "A value is trying to be set on a copy of a slice from a DataFrame\n",
      "\n",
      "See the caveats in the documentation: http://pandas.pydata.org/pandas-docs/stable/indexing.html#indexing-view-versus-copy\n"
     ]
    },
    {
     "name": "stdout",
     "output_type": "stream",
     "text": [
      "var_34\n",
      " \n"
     ]
    },
    {
     "name": "stderr",
     "output_type": "stream",
     "text": [
      "C:\\Users\\tatsuya.okamoto\\AppData\\Local\\Continuum\\Anaconda3\\lib\\site-packages\\ipykernel\\__main__.py:7: SettingWithCopyWarning: \n",
      "A value is trying to be set on a copy of a slice from a DataFrame\n",
      "\n",
      "See the caveats in the documentation: http://pandas.pydata.org/pandas-docs/stable/indexing.html#indexing-view-versus-copy\n"
     ]
    },
    {
     "name": "stdout",
     "output_type": "stream",
     "text": [
      "var_35\n",
      " \n"
     ]
    },
    {
     "name": "stderr",
     "output_type": "stream",
     "text": [
      "C:\\Users\\tatsuya.okamoto\\AppData\\Local\\Continuum\\Anaconda3\\lib\\site-packages\\ipykernel\\__main__.py:7: SettingWithCopyWarning: \n",
      "A value is trying to be set on a copy of a slice from a DataFrame\n",
      "\n",
      "See the caveats in the documentation: http://pandas.pydata.org/pandas-docs/stable/indexing.html#indexing-view-versus-copy\n"
     ]
    },
    {
     "name": "stdout",
     "output_type": "stream",
     "text": [
      "var_36\n",
      " \n"
     ]
    },
    {
     "name": "stderr",
     "output_type": "stream",
     "text": [
      "C:\\Users\\tatsuya.okamoto\\AppData\\Local\\Continuum\\Anaconda3\\lib\\site-packages\\ipykernel\\__main__.py:7: SettingWithCopyWarning: \n",
      "A value is trying to be set on a copy of a slice from a DataFrame\n",
      "\n",
      "See the caveats in the documentation: http://pandas.pydata.org/pandas-docs/stable/indexing.html#indexing-view-versus-copy\n"
     ]
    },
    {
     "name": "stdout",
     "output_type": "stream",
     "text": [
      "var_37\n",
      " \n"
     ]
    },
    {
     "name": "stderr",
     "output_type": "stream",
     "text": [
      "C:\\Users\\tatsuya.okamoto\\AppData\\Local\\Continuum\\Anaconda3\\lib\\site-packages\\ipykernel\\__main__.py:7: SettingWithCopyWarning: \n",
      "A value is trying to be set on a copy of a slice from a DataFrame\n",
      "\n",
      "See the caveats in the documentation: http://pandas.pydata.org/pandas-docs/stable/indexing.html#indexing-view-versus-copy\n"
     ]
    },
    {
     "name": "stdout",
     "output_type": "stream",
     "text": [
      "var_38\n",
      " \n"
     ]
    },
    {
     "name": "stderr",
     "output_type": "stream",
     "text": [
      "C:\\Users\\tatsuya.okamoto\\AppData\\Local\\Continuum\\Anaconda3\\lib\\site-packages\\ipykernel\\__main__.py:7: SettingWithCopyWarning: \n",
      "A value is trying to be set on a copy of a slice from a DataFrame\n",
      "\n",
      "See the caveats in the documentation: http://pandas.pydata.org/pandas-docs/stable/indexing.html#indexing-view-versus-copy\n"
     ]
    },
    {
     "name": "stdout",
     "output_type": "stream",
     "text": [
      "var_39\n",
      " \n"
     ]
    },
    {
     "name": "stderr",
     "output_type": "stream",
     "text": [
      "C:\\Users\\tatsuya.okamoto\\AppData\\Local\\Continuum\\Anaconda3\\lib\\site-packages\\ipykernel\\__main__.py:7: SettingWithCopyWarning: \n",
      "A value is trying to be set on a copy of a slice from a DataFrame\n",
      "\n",
      "See the caveats in the documentation: http://pandas.pydata.org/pandas-docs/stable/indexing.html#indexing-view-versus-copy\n"
     ]
    },
    {
     "name": "stdout",
     "output_type": "stream",
     "text": [
      "var_40\n",
      " \n"
     ]
    },
    {
     "name": "stderr",
     "output_type": "stream",
     "text": [
      "C:\\Users\\tatsuya.okamoto\\AppData\\Local\\Continuum\\Anaconda3\\lib\\site-packages\\ipykernel\\__main__.py:7: SettingWithCopyWarning: \n",
      "A value is trying to be set on a copy of a slice from a DataFrame\n",
      "\n",
      "See the caveats in the documentation: http://pandas.pydata.org/pandas-docs/stable/indexing.html#indexing-view-versus-copy\n"
     ]
    },
    {
     "name": "stdout",
     "output_type": "stream",
     "text": [
      "var_41\n",
      " \n"
     ]
    },
    {
     "name": "stderr",
     "output_type": "stream",
     "text": [
      "C:\\Users\\tatsuya.okamoto\\AppData\\Local\\Continuum\\Anaconda3\\lib\\site-packages\\ipykernel\\__main__.py:7: SettingWithCopyWarning: \n",
      "A value is trying to be set on a copy of a slice from a DataFrame\n",
      "\n",
      "See the caveats in the documentation: http://pandas.pydata.org/pandas-docs/stable/indexing.html#indexing-view-versus-copy\n"
     ]
    },
    {
     "name": "stdout",
     "output_type": "stream",
     "text": [
      "var_42\n",
      " \n"
     ]
    },
    {
     "name": "stderr",
     "output_type": "stream",
     "text": [
      "C:\\Users\\tatsuya.okamoto\\AppData\\Local\\Continuum\\Anaconda3\\lib\\site-packages\\ipykernel\\__main__.py:7: SettingWithCopyWarning: \n",
      "A value is trying to be set on a copy of a slice from a DataFrame\n",
      "\n",
      "See the caveats in the documentation: http://pandas.pydata.org/pandas-docs/stable/indexing.html#indexing-view-versus-copy\n"
     ]
    },
    {
     "name": "stdout",
     "output_type": "stream",
     "text": [
      "var_43\n",
      " \n"
     ]
    },
    {
     "name": "stderr",
     "output_type": "stream",
     "text": [
      "C:\\Users\\tatsuya.okamoto\\AppData\\Local\\Continuum\\Anaconda3\\lib\\site-packages\\ipykernel\\__main__.py:7: SettingWithCopyWarning: \n",
      "A value is trying to be set on a copy of a slice from a DataFrame\n",
      "\n",
      "See the caveats in the documentation: http://pandas.pydata.org/pandas-docs/stable/indexing.html#indexing-view-versus-copy\n"
     ]
    },
    {
     "name": "stdout",
     "output_type": "stream",
     "text": [
      "var_44\n",
      " \n"
     ]
    },
    {
     "name": "stderr",
     "output_type": "stream",
     "text": [
      "C:\\Users\\tatsuya.okamoto\\AppData\\Local\\Continuum\\Anaconda3\\lib\\site-packages\\ipykernel\\__main__.py:7: SettingWithCopyWarning: \n",
      "A value is trying to be set on a copy of a slice from a DataFrame\n",
      "\n",
      "See the caveats in the documentation: http://pandas.pydata.org/pandas-docs/stable/indexing.html#indexing-view-versus-copy\n"
     ]
    },
    {
     "name": "stdout",
     "output_type": "stream",
     "text": [
      "var_45\n",
      " \n"
     ]
    },
    {
     "name": "stderr",
     "output_type": "stream",
     "text": [
      "C:\\Users\\tatsuya.okamoto\\AppData\\Local\\Continuum\\Anaconda3\\lib\\site-packages\\ipykernel\\__main__.py:7: SettingWithCopyWarning: \n",
      "A value is trying to be set on a copy of a slice from a DataFrame\n",
      "\n",
      "See the caveats in the documentation: http://pandas.pydata.org/pandas-docs/stable/indexing.html#indexing-view-versus-copy\n"
     ]
    },
    {
     "name": "stdout",
     "output_type": "stream",
     "text": [
      "var_46\n",
      " \n"
     ]
    },
    {
     "name": "stderr",
     "output_type": "stream",
     "text": [
      "C:\\Users\\tatsuya.okamoto\\AppData\\Local\\Continuum\\Anaconda3\\lib\\site-packages\\ipykernel\\__main__.py:7: SettingWithCopyWarning: \n",
      "A value is trying to be set on a copy of a slice from a DataFrame\n",
      "\n",
      "See the caveats in the documentation: http://pandas.pydata.org/pandas-docs/stable/indexing.html#indexing-view-versus-copy\n"
     ]
    },
    {
     "name": "stdout",
     "output_type": "stream",
     "text": [
      "var_47\n",
      " \n"
     ]
    },
    {
     "name": "stderr",
     "output_type": "stream",
     "text": [
      "C:\\Users\\tatsuya.okamoto\\AppData\\Local\\Continuum\\Anaconda3\\lib\\site-packages\\ipykernel\\__main__.py:7: SettingWithCopyWarning: \n",
      "A value is trying to be set on a copy of a slice from a DataFrame\n",
      "\n",
      "See the caveats in the documentation: http://pandas.pydata.org/pandas-docs/stable/indexing.html#indexing-view-versus-copy\n"
     ]
    },
    {
     "name": "stdout",
     "output_type": "stream",
     "text": [
      "var_48\n",
      " \n"
     ]
    },
    {
     "name": "stderr",
     "output_type": "stream",
     "text": [
      "C:\\Users\\tatsuya.okamoto\\AppData\\Local\\Continuum\\Anaconda3\\lib\\site-packages\\ipykernel\\__main__.py:7: SettingWithCopyWarning: \n",
      "A value is trying to be set on a copy of a slice from a DataFrame\n",
      "\n",
      "See the caveats in the documentation: http://pandas.pydata.org/pandas-docs/stable/indexing.html#indexing-view-versus-copy\n"
     ]
    },
    {
     "name": "stdout",
     "output_type": "stream",
     "text": [
      "var_49\n",
      " \n"
     ]
    },
    {
     "name": "stderr",
     "output_type": "stream",
     "text": [
      "C:\\Users\\tatsuya.okamoto\\AppData\\Local\\Continuum\\Anaconda3\\lib\\site-packages\\ipykernel\\__main__.py:7: SettingWithCopyWarning: \n",
      "A value is trying to be set on a copy of a slice from a DataFrame\n",
      "\n",
      "See the caveats in the documentation: http://pandas.pydata.org/pandas-docs/stable/indexing.html#indexing-view-versus-copy\n"
     ]
    },
    {
     "name": "stdout",
     "output_type": "stream",
     "text": [
      "var_50\n",
      " \n"
     ]
    },
    {
     "name": "stderr",
     "output_type": "stream",
     "text": [
      "C:\\Users\\tatsuya.okamoto\\AppData\\Local\\Continuum\\Anaconda3\\lib\\site-packages\\ipykernel\\__main__.py:7: SettingWithCopyWarning: \n",
      "A value is trying to be set on a copy of a slice from a DataFrame\n",
      "\n",
      "See the caveats in the documentation: http://pandas.pydata.org/pandas-docs/stable/indexing.html#indexing-view-versus-copy\n"
     ]
    },
    {
     "name": "stdout",
     "output_type": "stream",
     "text": [
      "var_51\n",
      " \n"
     ]
    },
    {
     "name": "stderr",
     "output_type": "stream",
     "text": [
      "C:\\Users\\tatsuya.okamoto\\AppData\\Local\\Continuum\\Anaconda3\\lib\\site-packages\\ipykernel\\__main__.py:7: SettingWithCopyWarning: \n",
      "A value is trying to be set on a copy of a slice from a DataFrame\n",
      "\n",
      "See the caveats in the documentation: http://pandas.pydata.org/pandas-docs/stable/indexing.html#indexing-view-versus-copy\n"
     ]
    },
    {
     "name": "stdout",
     "output_type": "stream",
     "text": [
      "var_52\n",
      " \n"
     ]
    },
    {
     "name": "stderr",
     "output_type": "stream",
     "text": [
      "C:\\Users\\tatsuya.okamoto\\AppData\\Local\\Continuum\\Anaconda3\\lib\\site-packages\\ipykernel\\__main__.py:7: SettingWithCopyWarning: \n",
      "A value is trying to be set on a copy of a slice from a DataFrame\n",
      "\n",
      "See the caveats in the documentation: http://pandas.pydata.org/pandas-docs/stable/indexing.html#indexing-view-versus-copy\n"
     ]
    },
    {
     "name": "stdout",
     "output_type": "stream",
     "text": [
      "var_53\n",
      " \n"
     ]
    },
    {
     "name": "stderr",
     "output_type": "stream",
     "text": [
      "C:\\Users\\tatsuya.okamoto\\AppData\\Local\\Continuum\\Anaconda3\\lib\\site-packages\\ipykernel\\__main__.py:7: SettingWithCopyWarning: \n",
      "A value is trying to be set on a copy of a slice from a DataFrame\n",
      "\n",
      "See the caveats in the documentation: http://pandas.pydata.org/pandas-docs/stable/indexing.html#indexing-view-versus-copy\n"
     ]
    },
    {
     "name": "stdout",
     "output_type": "stream",
     "text": [
      "var_54\n",
      " \n"
     ]
    },
    {
     "name": "stderr",
     "output_type": "stream",
     "text": [
      "C:\\Users\\tatsuya.okamoto\\AppData\\Local\\Continuum\\Anaconda3\\lib\\site-packages\\ipykernel\\__main__.py:7: SettingWithCopyWarning: \n",
      "A value is trying to be set on a copy of a slice from a DataFrame\n",
      "\n",
      "See the caveats in the documentation: http://pandas.pydata.org/pandas-docs/stable/indexing.html#indexing-view-versus-copy\n"
     ]
    },
    {
     "name": "stdout",
     "output_type": "stream",
     "text": [
      "var_55\n",
      " \n"
     ]
    },
    {
     "name": "stderr",
     "output_type": "stream",
     "text": [
      "C:\\Users\\tatsuya.okamoto\\AppData\\Local\\Continuum\\Anaconda3\\lib\\site-packages\\ipykernel\\__main__.py:7: SettingWithCopyWarning: \n",
      "A value is trying to be set on a copy of a slice from a DataFrame\n",
      "\n",
      "See the caveats in the documentation: http://pandas.pydata.org/pandas-docs/stable/indexing.html#indexing-view-versus-copy\n"
     ]
    },
    {
     "name": "stdout",
     "output_type": "stream",
     "text": [
      "var_56\n",
      " \n"
     ]
    },
    {
     "name": "stderr",
     "output_type": "stream",
     "text": [
      "C:\\Users\\tatsuya.okamoto\\AppData\\Local\\Continuum\\Anaconda3\\lib\\site-packages\\ipykernel\\__main__.py:7: SettingWithCopyWarning: \n",
      "A value is trying to be set on a copy of a slice from a DataFrame\n",
      "\n",
      "See the caveats in the documentation: http://pandas.pydata.org/pandas-docs/stable/indexing.html#indexing-view-versus-copy\n"
     ]
    },
    {
     "name": "stdout",
     "output_type": "stream",
     "text": [
      "var_57\n",
      " \n"
     ]
    },
    {
     "name": "stderr",
     "output_type": "stream",
     "text": [
      "C:\\Users\\tatsuya.okamoto\\AppData\\Local\\Continuum\\Anaconda3\\lib\\site-packages\\ipykernel\\__main__.py:7: SettingWithCopyWarning: \n",
      "A value is trying to be set on a copy of a slice from a DataFrame\n",
      "\n",
      "See the caveats in the documentation: http://pandas.pydata.org/pandas-docs/stable/indexing.html#indexing-view-versus-copy\n"
     ]
    },
    {
     "name": "stdout",
     "output_type": "stream",
     "text": [
      "var_58\n",
      " \n"
     ]
    },
    {
     "name": "stderr",
     "output_type": "stream",
     "text": [
      "C:\\Users\\tatsuya.okamoto\\AppData\\Local\\Continuum\\Anaconda3\\lib\\site-packages\\ipykernel\\__main__.py:7: SettingWithCopyWarning: \n",
      "A value is trying to be set on a copy of a slice from a DataFrame\n",
      "\n",
      "See the caveats in the documentation: http://pandas.pydata.org/pandas-docs/stable/indexing.html#indexing-view-versus-copy\n"
     ]
    },
    {
     "name": "stdout",
     "output_type": "stream",
     "text": [
      "var_59\n",
      " \n"
     ]
    },
    {
     "name": "stderr",
     "output_type": "stream",
     "text": [
      "C:\\Users\\tatsuya.okamoto\\AppData\\Local\\Continuum\\Anaconda3\\lib\\site-packages\\ipykernel\\__main__.py:7: SettingWithCopyWarning: \n",
      "A value is trying to be set on a copy of a slice from a DataFrame\n",
      "\n",
      "See the caveats in the documentation: http://pandas.pydata.org/pandas-docs/stable/indexing.html#indexing-view-versus-copy\n"
     ]
    },
    {
     "name": "stdout",
     "output_type": "stream",
     "text": [
      "var_60\n",
      " \n"
     ]
    },
    {
     "name": "stderr",
     "output_type": "stream",
     "text": [
      "C:\\Users\\tatsuya.okamoto\\AppData\\Local\\Continuum\\Anaconda3\\lib\\site-packages\\ipykernel\\__main__.py:7: SettingWithCopyWarning: \n",
      "A value is trying to be set on a copy of a slice from a DataFrame\n",
      "\n",
      "See the caveats in the documentation: http://pandas.pydata.org/pandas-docs/stable/indexing.html#indexing-view-versus-copy\n"
     ]
    },
    {
     "name": "stdout",
     "output_type": "stream",
     "text": [
      "var_61\n",
      " \n"
     ]
    },
    {
     "name": "stderr",
     "output_type": "stream",
     "text": [
      "C:\\Users\\tatsuya.okamoto\\AppData\\Local\\Continuum\\Anaconda3\\lib\\site-packages\\ipykernel\\__main__.py:7: SettingWithCopyWarning: \n",
      "A value is trying to be set on a copy of a slice from a DataFrame\n",
      "\n",
      "See the caveats in the documentation: http://pandas.pydata.org/pandas-docs/stable/indexing.html#indexing-view-versus-copy\n"
     ]
    },
    {
     "name": "stdout",
     "output_type": "stream",
     "text": [
      "var_62\n",
      " \n"
     ]
    },
    {
     "name": "stderr",
     "output_type": "stream",
     "text": [
      "C:\\Users\\tatsuya.okamoto\\AppData\\Local\\Continuum\\Anaconda3\\lib\\site-packages\\ipykernel\\__main__.py:7: SettingWithCopyWarning: \n",
      "A value is trying to be set on a copy of a slice from a DataFrame\n",
      "\n",
      "See the caveats in the documentation: http://pandas.pydata.org/pandas-docs/stable/indexing.html#indexing-view-versus-copy\n"
     ]
    },
    {
     "name": "stdout",
     "output_type": "stream",
     "text": [
      "var_63\n",
      " \n"
     ]
    },
    {
     "name": "stderr",
     "output_type": "stream",
     "text": [
      "C:\\Users\\tatsuya.okamoto\\AppData\\Local\\Continuum\\Anaconda3\\lib\\site-packages\\ipykernel\\__main__.py:7: SettingWithCopyWarning: \n",
      "A value is trying to be set on a copy of a slice from a DataFrame\n",
      "\n",
      "See the caveats in the documentation: http://pandas.pydata.org/pandas-docs/stable/indexing.html#indexing-view-versus-copy\n"
     ]
    },
    {
     "name": "stdout",
     "output_type": "stream",
     "text": [
      "var_64\n",
      " \n"
     ]
    },
    {
     "name": "stderr",
     "output_type": "stream",
     "text": [
      "C:\\Users\\tatsuya.okamoto\\AppData\\Local\\Continuum\\Anaconda3\\lib\\site-packages\\ipykernel\\__main__.py:7: SettingWithCopyWarning: \n",
      "A value is trying to be set on a copy of a slice from a DataFrame\n",
      "\n",
      "See the caveats in the documentation: http://pandas.pydata.org/pandas-docs/stable/indexing.html#indexing-view-versus-copy\n"
     ]
    },
    {
     "name": "stdout",
     "output_type": "stream",
     "text": [
      "var_65\n",
      " \n"
     ]
    },
    {
     "name": "stderr",
     "output_type": "stream",
     "text": [
      "C:\\Users\\tatsuya.okamoto\\AppData\\Local\\Continuum\\Anaconda3\\lib\\site-packages\\ipykernel\\__main__.py:7: SettingWithCopyWarning: \n",
      "A value is trying to be set on a copy of a slice from a DataFrame\n",
      "\n",
      "See the caveats in the documentation: http://pandas.pydata.org/pandas-docs/stable/indexing.html#indexing-view-versus-copy\n"
     ]
    },
    {
     "name": "stdout",
     "output_type": "stream",
     "text": [
      "var_66\n",
      " \n"
     ]
    },
    {
     "name": "stderr",
     "output_type": "stream",
     "text": [
      "C:\\Users\\tatsuya.okamoto\\AppData\\Local\\Continuum\\Anaconda3\\lib\\site-packages\\ipykernel\\__main__.py:7: SettingWithCopyWarning: \n",
      "A value is trying to be set on a copy of a slice from a DataFrame\n",
      "\n",
      "See the caveats in the documentation: http://pandas.pydata.org/pandas-docs/stable/indexing.html#indexing-view-versus-copy\n"
     ]
    },
    {
     "name": "stdout",
     "output_type": "stream",
     "text": [
      "var_67\n",
      " \n"
     ]
    },
    {
     "name": "stderr",
     "output_type": "stream",
     "text": [
      "C:\\Users\\tatsuya.okamoto\\AppData\\Local\\Continuum\\Anaconda3\\lib\\site-packages\\ipykernel\\__main__.py:7: SettingWithCopyWarning: \n",
      "A value is trying to be set on a copy of a slice from a DataFrame\n",
      "\n",
      "See the caveats in the documentation: http://pandas.pydata.org/pandas-docs/stable/indexing.html#indexing-view-versus-copy\n"
     ]
    },
    {
     "name": "stdout",
     "output_type": "stream",
     "text": [
      "var_68\n",
      " \n"
     ]
    },
    {
     "name": "stderr",
     "output_type": "stream",
     "text": [
      "C:\\Users\\tatsuya.okamoto\\AppData\\Local\\Continuum\\Anaconda3\\lib\\site-packages\\ipykernel\\__main__.py:7: SettingWithCopyWarning: \n",
      "A value is trying to be set on a copy of a slice from a DataFrame\n",
      "\n",
      "See the caveats in the documentation: http://pandas.pydata.org/pandas-docs/stable/indexing.html#indexing-view-versus-copy\n"
     ]
    },
    {
     "name": "stdout",
     "output_type": "stream",
     "text": [
      "var_69\n",
      " \n"
     ]
    },
    {
     "name": "stderr",
     "output_type": "stream",
     "text": [
      "C:\\Users\\tatsuya.okamoto\\AppData\\Local\\Continuum\\Anaconda3\\lib\\site-packages\\ipykernel\\__main__.py:7: SettingWithCopyWarning: \n",
      "A value is trying to be set on a copy of a slice from a DataFrame\n",
      "\n",
      "See the caveats in the documentation: http://pandas.pydata.org/pandas-docs/stable/indexing.html#indexing-view-versus-copy\n"
     ]
    },
    {
     "name": "stdout",
     "output_type": "stream",
     "text": [
      "var_70\n",
      " \n"
     ]
    },
    {
     "name": "stderr",
     "output_type": "stream",
     "text": [
      "C:\\Users\\tatsuya.okamoto\\AppData\\Local\\Continuum\\Anaconda3\\lib\\site-packages\\ipykernel\\__main__.py:7: SettingWithCopyWarning: \n",
      "A value is trying to be set on a copy of a slice from a DataFrame\n",
      "\n",
      "See the caveats in the documentation: http://pandas.pydata.org/pandas-docs/stable/indexing.html#indexing-view-versus-copy\n"
     ]
    },
    {
     "name": "stdout",
     "output_type": "stream",
     "text": [
      "var_71\n",
      " \n"
     ]
    },
    {
     "name": "stderr",
     "output_type": "stream",
     "text": [
      "C:\\Users\\tatsuya.okamoto\\AppData\\Local\\Continuum\\Anaconda3\\lib\\site-packages\\ipykernel\\__main__.py:7: SettingWithCopyWarning: \n",
      "A value is trying to be set on a copy of a slice from a DataFrame\n",
      "\n",
      "See the caveats in the documentation: http://pandas.pydata.org/pandas-docs/stable/indexing.html#indexing-view-versus-copy\n"
     ]
    },
    {
     "name": "stdout",
     "output_type": "stream",
     "text": [
      "var_72\n",
      " \n"
     ]
    },
    {
     "name": "stderr",
     "output_type": "stream",
     "text": [
      "C:\\Users\\tatsuya.okamoto\\AppData\\Local\\Continuum\\Anaconda3\\lib\\site-packages\\ipykernel\\__main__.py:7: SettingWithCopyWarning: \n",
      "A value is trying to be set on a copy of a slice from a DataFrame\n",
      "\n",
      "See the caveats in the documentation: http://pandas.pydata.org/pandas-docs/stable/indexing.html#indexing-view-versus-copy\n"
     ]
    },
    {
     "name": "stdout",
     "output_type": "stream",
     "text": [
      "var_73\n",
      " \n"
     ]
    },
    {
     "name": "stderr",
     "output_type": "stream",
     "text": [
      "C:\\Users\\tatsuya.okamoto\\AppData\\Local\\Continuum\\Anaconda3\\lib\\site-packages\\ipykernel\\__main__.py:7: SettingWithCopyWarning: \n",
      "A value is trying to be set on a copy of a slice from a DataFrame\n",
      "\n",
      "See the caveats in the documentation: http://pandas.pydata.org/pandas-docs/stable/indexing.html#indexing-view-versus-copy\n"
     ]
    },
    {
     "name": "stdout",
     "output_type": "stream",
     "text": [
      "var_74\n",
      " \n"
     ]
    },
    {
     "name": "stderr",
     "output_type": "stream",
     "text": [
      "C:\\Users\\tatsuya.okamoto\\AppData\\Local\\Continuum\\Anaconda3\\lib\\site-packages\\ipykernel\\__main__.py:7: SettingWithCopyWarning: \n",
      "A value is trying to be set on a copy of a slice from a DataFrame\n",
      "\n",
      "See the caveats in the documentation: http://pandas.pydata.org/pandas-docs/stable/indexing.html#indexing-view-versus-copy\n"
     ]
    },
    {
     "name": "stdout",
     "output_type": "stream",
     "text": [
      "var_75\n",
      " \n"
     ]
    },
    {
     "name": "stderr",
     "output_type": "stream",
     "text": [
      "C:\\Users\\tatsuya.okamoto\\AppData\\Local\\Continuum\\Anaconda3\\lib\\site-packages\\ipykernel\\__main__.py:7: SettingWithCopyWarning: \n",
      "A value is trying to be set on a copy of a slice from a DataFrame\n",
      "\n",
      "See the caveats in the documentation: http://pandas.pydata.org/pandas-docs/stable/indexing.html#indexing-view-versus-copy\n"
     ]
    },
    {
     "name": "stdout",
     "output_type": "stream",
     "text": [
      "var_76\n",
      " \n"
     ]
    },
    {
     "name": "stderr",
     "output_type": "stream",
     "text": [
      "C:\\Users\\tatsuya.okamoto\\AppData\\Local\\Continuum\\Anaconda3\\lib\\site-packages\\ipykernel\\__main__.py:7: SettingWithCopyWarning: \n",
      "A value is trying to be set on a copy of a slice from a DataFrame\n",
      "\n",
      "See the caveats in the documentation: http://pandas.pydata.org/pandas-docs/stable/indexing.html#indexing-view-versus-copy\n"
     ]
    },
    {
     "name": "stdout",
     "output_type": "stream",
     "text": [
      "var_77\n",
      " \n"
     ]
    },
    {
     "name": "stderr",
     "output_type": "stream",
     "text": [
      "C:\\Users\\tatsuya.okamoto\\AppData\\Local\\Continuum\\Anaconda3\\lib\\site-packages\\ipykernel\\__main__.py:7: SettingWithCopyWarning: \n",
      "A value is trying to be set on a copy of a slice from a DataFrame\n",
      "\n",
      "See the caveats in the documentation: http://pandas.pydata.org/pandas-docs/stable/indexing.html#indexing-view-versus-copy\n"
     ]
    },
    {
     "name": "stdout",
     "output_type": "stream",
     "text": [
      "var_78\n",
      " \n"
     ]
    },
    {
     "name": "stderr",
     "output_type": "stream",
     "text": [
      "C:\\Users\\tatsuya.okamoto\\AppData\\Local\\Continuum\\Anaconda3\\lib\\site-packages\\ipykernel\\__main__.py:7: SettingWithCopyWarning: \n",
      "A value is trying to be set on a copy of a slice from a DataFrame\n",
      "\n",
      "See the caveats in the documentation: http://pandas.pydata.org/pandas-docs/stable/indexing.html#indexing-view-versus-copy\n"
     ]
    },
    {
     "name": "stdout",
     "output_type": "stream",
     "text": [
      "var_79\n",
      " \n"
     ]
    },
    {
     "name": "stderr",
     "output_type": "stream",
     "text": [
      "C:\\Users\\tatsuya.okamoto\\AppData\\Local\\Continuum\\Anaconda3\\lib\\site-packages\\ipykernel\\__main__.py:7: SettingWithCopyWarning: \n",
      "A value is trying to be set on a copy of a slice from a DataFrame\n",
      "\n",
      "See the caveats in the documentation: http://pandas.pydata.org/pandas-docs/stable/indexing.html#indexing-view-versus-copy\n"
     ]
    },
    {
     "name": "stdout",
     "output_type": "stream",
     "text": [
      "var_80\n",
      " \n"
     ]
    },
    {
     "name": "stderr",
     "output_type": "stream",
     "text": [
      "C:\\Users\\tatsuya.okamoto\\AppData\\Local\\Continuum\\Anaconda3\\lib\\site-packages\\ipykernel\\__main__.py:7: SettingWithCopyWarning: \n",
      "A value is trying to be set on a copy of a slice from a DataFrame\n",
      "\n",
      "See the caveats in the documentation: http://pandas.pydata.org/pandas-docs/stable/indexing.html#indexing-view-versus-copy\n"
     ]
    },
    {
     "name": "stdout",
     "output_type": "stream",
     "text": [
      "var_81\n",
      " \n"
     ]
    },
    {
     "name": "stderr",
     "output_type": "stream",
     "text": [
      "C:\\Users\\tatsuya.okamoto\\AppData\\Local\\Continuum\\Anaconda3\\lib\\site-packages\\ipykernel\\__main__.py:7: SettingWithCopyWarning: \n",
      "A value is trying to be set on a copy of a slice from a DataFrame\n",
      "\n",
      "See the caveats in the documentation: http://pandas.pydata.org/pandas-docs/stable/indexing.html#indexing-view-versus-copy\n"
     ]
    },
    {
     "name": "stdout",
     "output_type": "stream",
     "text": [
      "var_82\n",
      " \n"
     ]
    },
    {
     "name": "stderr",
     "output_type": "stream",
     "text": [
      "C:\\Users\\tatsuya.okamoto\\AppData\\Local\\Continuum\\Anaconda3\\lib\\site-packages\\ipykernel\\__main__.py:7: SettingWithCopyWarning: \n",
      "A value is trying to be set on a copy of a slice from a DataFrame\n",
      "\n",
      "See the caveats in the documentation: http://pandas.pydata.org/pandas-docs/stable/indexing.html#indexing-view-versus-copy\n"
     ]
    },
    {
     "name": "stdout",
     "output_type": "stream",
     "text": [
      "var_83\n",
      " \n"
     ]
    },
    {
     "name": "stderr",
     "output_type": "stream",
     "text": [
      "C:\\Users\\tatsuya.okamoto\\AppData\\Local\\Continuum\\Anaconda3\\lib\\site-packages\\ipykernel\\__main__.py:7: SettingWithCopyWarning: \n",
      "A value is trying to be set on a copy of a slice from a DataFrame\n",
      "\n",
      "See the caveats in the documentation: http://pandas.pydata.org/pandas-docs/stable/indexing.html#indexing-view-versus-copy\n"
     ]
    },
    {
     "name": "stdout",
     "output_type": "stream",
     "text": [
      "var_84\n",
      " \n"
     ]
    },
    {
     "name": "stderr",
     "output_type": "stream",
     "text": [
      "C:\\Users\\tatsuya.okamoto\\AppData\\Local\\Continuum\\Anaconda3\\lib\\site-packages\\ipykernel\\__main__.py:7: SettingWithCopyWarning: \n",
      "A value is trying to be set on a copy of a slice from a DataFrame\n",
      "\n",
      "See the caveats in the documentation: http://pandas.pydata.org/pandas-docs/stable/indexing.html#indexing-view-versus-copy\n"
     ]
    },
    {
     "name": "stdout",
     "output_type": "stream",
     "text": [
      "var_85\n",
      " \n"
     ]
    },
    {
     "name": "stderr",
     "output_type": "stream",
     "text": [
      "C:\\Users\\tatsuya.okamoto\\AppData\\Local\\Continuum\\Anaconda3\\lib\\site-packages\\ipykernel\\__main__.py:7: SettingWithCopyWarning: \n",
      "A value is trying to be set on a copy of a slice from a DataFrame\n",
      "\n",
      "See the caveats in the documentation: http://pandas.pydata.org/pandas-docs/stable/indexing.html#indexing-view-versus-copy\n"
     ]
    },
    {
     "name": "stdout",
     "output_type": "stream",
     "text": [
      "var_86\n",
      " \n"
     ]
    },
    {
     "name": "stderr",
     "output_type": "stream",
     "text": [
      "C:\\Users\\tatsuya.okamoto\\AppData\\Local\\Continuum\\Anaconda3\\lib\\site-packages\\ipykernel\\__main__.py:7: SettingWithCopyWarning: \n",
      "A value is trying to be set on a copy of a slice from a DataFrame\n",
      "\n",
      "See the caveats in the documentation: http://pandas.pydata.org/pandas-docs/stable/indexing.html#indexing-view-versus-copy\n"
     ]
    },
    {
     "name": "stdout",
     "output_type": "stream",
     "text": [
      "var_87\n",
      " \n"
     ]
    },
    {
     "name": "stderr",
     "output_type": "stream",
     "text": [
      "C:\\Users\\tatsuya.okamoto\\AppData\\Local\\Continuum\\Anaconda3\\lib\\site-packages\\ipykernel\\__main__.py:7: SettingWithCopyWarning: \n",
      "A value is trying to be set on a copy of a slice from a DataFrame\n",
      "\n",
      "See the caveats in the documentation: http://pandas.pydata.org/pandas-docs/stable/indexing.html#indexing-view-versus-copy\n"
     ]
    },
    {
     "name": "stdout",
     "output_type": "stream",
     "text": [
      "var_88\n",
      " \n"
     ]
    },
    {
     "name": "stderr",
     "output_type": "stream",
     "text": [
      "C:\\Users\\tatsuya.okamoto\\AppData\\Local\\Continuum\\Anaconda3\\lib\\site-packages\\ipykernel\\__main__.py:7: SettingWithCopyWarning: \n",
      "A value is trying to be set on a copy of a slice from a DataFrame\n",
      "\n",
      "See the caveats in the documentation: http://pandas.pydata.org/pandas-docs/stable/indexing.html#indexing-view-versus-copy\n"
     ]
    },
    {
     "name": "stdout",
     "output_type": "stream",
     "text": [
      "var_89\n",
      " \n"
     ]
    },
    {
     "name": "stderr",
     "output_type": "stream",
     "text": [
      "C:\\Users\\tatsuya.okamoto\\AppData\\Local\\Continuum\\Anaconda3\\lib\\site-packages\\ipykernel\\__main__.py:7: SettingWithCopyWarning: \n",
      "A value is trying to be set on a copy of a slice from a DataFrame\n",
      "\n",
      "See the caveats in the documentation: http://pandas.pydata.org/pandas-docs/stable/indexing.html#indexing-view-versus-copy\n"
     ]
    },
    {
     "name": "stdout",
     "output_type": "stream",
     "text": [
      "var_90\n",
      " \n"
     ]
    },
    {
     "name": "stderr",
     "output_type": "stream",
     "text": [
      "C:\\Users\\tatsuya.okamoto\\AppData\\Local\\Continuum\\Anaconda3\\lib\\site-packages\\ipykernel\\__main__.py:7: SettingWithCopyWarning: \n",
      "A value is trying to be set on a copy of a slice from a DataFrame\n",
      "\n",
      "See the caveats in the documentation: http://pandas.pydata.org/pandas-docs/stable/indexing.html#indexing-view-versus-copy\n"
     ]
    },
    {
     "name": "stdout",
     "output_type": "stream",
     "text": [
      "var_91\n",
      " \n"
     ]
    },
    {
     "name": "stderr",
     "output_type": "stream",
     "text": [
      "C:\\Users\\tatsuya.okamoto\\AppData\\Local\\Continuum\\Anaconda3\\lib\\site-packages\\ipykernel\\__main__.py:7: SettingWithCopyWarning: \n",
      "A value is trying to be set on a copy of a slice from a DataFrame\n",
      "\n",
      "See the caveats in the documentation: http://pandas.pydata.org/pandas-docs/stable/indexing.html#indexing-view-versus-copy\n"
     ]
    },
    {
     "name": "stdout",
     "output_type": "stream",
     "text": [
      "var_92\n",
      " \n"
     ]
    },
    {
     "name": "stderr",
     "output_type": "stream",
     "text": [
      "C:\\Users\\tatsuya.okamoto\\AppData\\Local\\Continuum\\Anaconda3\\lib\\site-packages\\ipykernel\\__main__.py:7: SettingWithCopyWarning: \n",
      "A value is trying to be set on a copy of a slice from a DataFrame\n",
      "\n",
      "See the caveats in the documentation: http://pandas.pydata.org/pandas-docs/stable/indexing.html#indexing-view-versus-copy\n"
     ]
    },
    {
     "name": "stdout",
     "output_type": "stream",
     "text": [
      "var_93\n",
      " \n"
     ]
    },
    {
     "name": "stderr",
     "output_type": "stream",
     "text": [
      "C:\\Users\\tatsuya.okamoto\\AppData\\Local\\Continuum\\Anaconda3\\lib\\site-packages\\ipykernel\\__main__.py:7: SettingWithCopyWarning: \n",
      "A value is trying to be set on a copy of a slice from a DataFrame\n",
      "\n",
      "See the caveats in the documentation: http://pandas.pydata.org/pandas-docs/stable/indexing.html#indexing-view-versus-copy\n"
     ]
    },
    {
     "name": "stdout",
     "output_type": "stream",
     "text": [
      "var_94\n",
      " \n"
     ]
    },
    {
     "name": "stderr",
     "output_type": "stream",
     "text": [
      "C:\\Users\\tatsuya.okamoto\\AppData\\Local\\Continuum\\Anaconda3\\lib\\site-packages\\ipykernel\\__main__.py:7: SettingWithCopyWarning: \n",
      "A value is trying to be set on a copy of a slice from a DataFrame\n",
      "\n",
      "See the caveats in the documentation: http://pandas.pydata.org/pandas-docs/stable/indexing.html#indexing-view-versus-copy\n"
     ]
    },
    {
     "name": "stdout",
     "output_type": "stream",
     "text": [
      "var_95\n",
      " \n"
     ]
    },
    {
     "name": "stderr",
     "output_type": "stream",
     "text": [
      "C:\\Users\\tatsuya.okamoto\\AppData\\Local\\Continuum\\Anaconda3\\lib\\site-packages\\ipykernel\\__main__.py:7: SettingWithCopyWarning: \n",
      "A value is trying to be set on a copy of a slice from a DataFrame\n",
      "\n",
      "See the caveats in the documentation: http://pandas.pydata.org/pandas-docs/stable/indexing.html#indexing-view-versus-copy\n"
     ]
    },
    {
     "name": "stdout",
     "output_type": "stream",
     "text": [
      "var_96\n",
      " \n"
     ]
    },
    {
     "name": "stderr",
     "output_type": "stream",
     "text": [
      "C:\\Users\\tatsuya.okamoto\\AppData\\Local\\Continuum\\Anaconda3\\lib\\site-packages\\ipykernel\\__main__.py:7: SettingWithCopyWarning: \n",
      "A value is trying to be set on a copy of a slice from a DataFrame\n",
      "\n",
      "See the caveats in the documentation: http://pandas.pydata.org/pandas-docs/stable/indexing.html#indexing-view-versus-copy\n"
     ]
    },
    {
     "name": "stdout",
     "output_type": "stream",
     "text": [
      "var_97\n",
      " \n"
     ]
    },
    {
     "name": "stderr",
     "output_type": "stream",
     "text": [
      "C:\\Users\\tatsuya.okamoto\\AppData\\Local\\Continuum\\Anaconda3\\lib\\site-packages\\ipykernel\\__main__.py:7: SettingWithCopyWarning: \n",
      "A value is trying to be set on a copy of a slice from a DataFrame\n",
      "\n",
      "See the caveats in the documentation: http://pandas.pydata.org/pandas-docs/stable/indexing.html#indexing-view-versus-copy\n"
     ]
    },
    {
     "name": "stdout",
     "output_type": "stream",
     "text": [
      "var_98\n",
      " \n"
     ]
    },
    {
     "name": "stderr",
     "output_type": "stream",
     "text": [
      "C:\\Users\\tatsuya.okamoto\\AppData\\Local\\Continuum\\Anaconda3\\lib\\site-packages\\ipykernel\\__main__.py:7: SettingWithCopyWarning: \n",
      "A value is trying to be set on a copy of a slice from a DataFrame\n",
      "\n",
      "See the caveats in the documentation: http://pandas.pydata.org/pandas-docs/stable/indexing.html#indexing-view-versus-copy\n"
     ]
    },
    {
     "name": "stdout",
     "output_type": "stream",
     "text": [
      "var_99\n",
      " \n"
     ]
    },
    {
     "name": "stderr",
     "output_type": "stream",
     "text": [
      "C:\\Users\\tatsuya.okamoto\\AppData\\Local\\Continuum\\Anaconda3\\lib\\site-packages\\ipykernel\\__main__.py:7: SettingWithCopyWarning: \n",
      "A value is trying to be set on a copy of a slice from a DataFrame\n",
      "\n",
      "See the caveats in the documentation: http://pandas.pydata.org/pandas-docs/stable/indexing.html#indexing-view-versus-copy\n"
     ]
    },
    {
     "name": "stdout",
     "output_type": "stream",
     "text": [
      "var_100\n",
      " \n"
     ]
    },
    {
     "name": "stderr",
     "output_type": "stream",
     "text": [
      "C:\\Users\\tatsuya.okamoto\\AppData\\Local\\Continuum\\Anaconda3\\lib\\site-packages\\ipykernel\\__main__.py:7: SettingWithCopyWarning: \n",
      "A value is trying to be set on a copy of a slice from a DataFrame\n",
      "\n",
      "See the caveats in the documentation: http://pandas.pydata.org/pandas-docs/stable/indexing.html#indexing-view-versus-copy\n"
     ]
    },
    {
     "name": "stdout",
     "output_type": "stream",
     "text": [
      "var_101\n",
      " \n"
     ]
    },
    {
     "name": "stderr",
     "output_type": "stream",
     "text": [
      "C:\\Users\\tatsuya.okamoto\\AppData\\Local\\Continuum\\Anaconda3\\lib\\site-packages\\ipykernel\\__main__.py:7: SettingWithCopyWarning: \n",
      "A value is trying to be set on a copy of a slice from a DataFrame\n",
      "\n",
      "See the caveats in the documentation: http://pandas.pydata.org/pandas-docs/stable/indexing.html#indexing-view-versus-copy\n"
     ]
    },
    {
     "name": "stdout",
     "output_type": "stream",
     "text": [
      "var_102\n",
      " \n"
     ]
    },
    {
     "name": "stderr",
     "output_type": "stream",
     "text": [
      "C:\\Users\\tatsuya.okamoto\\AppData\\Local\\Continuum\\Anaconda3\\lib\\site-packages\\ipykernel\\__main__.py:7: SettingWithCopyWarning: \n",
      "A value is trying to be set on a copy of a slice from a DataFrame\n",
      "\n",
      "See the caveats in the documentation: http://pandas.pydata.org/pandas-docs/stable/indexing.html#indexing-view-versus-copy\n"
     ]
    },
    {
     "name": "stdout",
     "output_type": "stream",
     "text": [
      "var_103\n",
      " \n"
     ]
    },
    {
     "name": "stderr",
     "output_type": "stream",
     "text": [
      "C:\\Users\\tatsuya.okamoto\\AppData\\Local\\Continuum\\Anaconda3\\lib\\site-packages\\ipykernel\\__main__.py:7: SettingWithCopyWarning: \n",
      "A value is trying to be set on a copy of a slice from a DataFrame\n",
      "\n",
      "See the caveats in the documentation: http://pandas.pydata.org/pandas-docs/stable/indexing.html#indexing-view-versus-copy\n"
     ]
    },
    {
     "name": "stdout",
     "output_type": "stream",
     "text": [
      "var_104\n",
      " \n"
     ]
    },
    {
     "name": "stderr",
     "output_type": "stream",
     "text": [
      "C:\\Users\\tatsuya.okamoto\\AppData\\Local\\Continuum\\Anaconda3\\lib\\site-packages\\ipykernel\\__main__.py:7: SettingWithCopyWarning: \n",
      "A value is trying to be set on a copy of a slice from a DataFrame\n",
      "\n",
      "See the caveats in the documentation: http://pandas.pydata.org/pandas-docs/stable/indexing.html#indexing-view-versus-copy\n"
     ]
    },
    {
     "name": "stdout",
     "output_type": "stream",
     "text": [
      "var_105\n",
      " \n"
     ]
    },
    {
     "name": "stderr",
     "output_type": "stream",
     "text": [
      "C:\\Users\\tatsuya.okamoto\\AppData\\Local\\Continuum\\Anaconda3\\lib\\site-packages\\ipykernel\\__main__.py:7: SettingWithCopyWarning: \n",
      "A value is trying to be set on a copy of a slice from a DataFrame\n",
      "\n",
      "See the caveats in the documentation: http://pandas.pydata.org/pandas-docs/stable/indexing.html#indexing-view-versus-copy\n"
     ]
    },
    {
     "name": "stdout",
     "output_type": "stream",
     "text": [
      "var_106\n",
      " \n"
     ]
    },
    {
     "name": "stderr",
     "output_type": "stream",
     "text": [
      "C:\\Users\\tatsuya.okamoto\\AppData\\Local\\Continuum\\Anaconda3\\lib\\site-packages\\ipykernel\\__main__.py:7: SettingWithCopyWarning: \n",
      "A value is trying to be set on a copy of a slice from a DataFrame\n",
      "\n",
      "See the caveats in the documentation: http://pandas.pydata.org/pandas-docs/stable/indexing.html#indexing-view-versus-copy\n"
     ]
    },
    {
     "name": "stdout",
     "output_type": "stream",
     "text": [
      "var_107\n",
      " \n"
     ]
    },
    {
     "name": "stderr",
     "output_type": "stream",
     "text": [
      "C:\\Users\\tatsuya.okamoto\\AppData\\Local\\Continuum\\Anaconda3\\lib\\site-packages\\ipykernel\\__main__.py:7: SettingWithCopyWarning: \n",
      "A value is trying to be set on a copy of a slice from a DataFrame\n",
      "\n",
      "See the caveats in the documentation: http://pandas.pydata.org/pandas-docs/stable/indexing.html#indexing-view-versus-copy\n"
     ]
    },
    {
     "name": "stdout",
     "output_type": "stream",
     "text": [
      "var_108\n",
      " \n"
     ]
    },
    {
     "name": "stderr",
     "output_type": "stream",
     "text": [
      "C:\\Users\\tatsuya.okamoto\\AppData\\Local\\Continuum\\Anaconda3\\lib\\site-packages\\ipykernel\\__main__.py:7: SettingWithCopyWarning: \n",
      "A value is trying to be set on a copy of a slice from a DataFrame\n",
      "\n",
      "See the caveats in the documentation: http://pandas.pydata.org/pandas-docs/stable/indexing.html#indexing-view-versus-copy\n"
     ]
    },
    {
     "name": "stdout",
     "output_type": "stream",
     "text": [
      "var_109\n",
      " \n"
     ]
    },
    {
     "name": "stderr",
     "output_type": "stream",
     "text": [
      "C:\\Users\\tatsuya.okamoto\\AppData\\Local\\Continuum\\Anaconda3\\lib\\site-packages\\ipykernel\\__main__.py:7: SettingWithCopyWarning: \n",
      "A value is trying to be set on a copy of a slice from a DataFrame\n",
      "\n",
      "See the caveats in the documentation: http://pandas.pydata.org/pandas-docs/stable/indexing.html#indexing-view-versus-copy\n"
     ]
    },
    {
     "name": "stdout",
     "output_type": "stream",
     "text": [
      "var_110\n",
      " \n"
     ]
    },
    {
     "name": "stderr",
     "output_type": "stream",
     "text": [
      "C:\\Users\\tatsuya.okamoto\\AppData\\Local\\Continuum\\Anaconda3\\lib\\site-packages\\ipykernel\\__main__.py:7: SettingWithCopyWarning: \n",
      "A value is trying to be set on a copy of a slice from a DataFrame\n",
      "\n",
      "See the caveats in the documentation: http://pandas.pydata.org/pandas-docs/stable/indexing.html#indexing-view-versus-copy\n"
     ]
    },
    {
     "name": "stdout",
     "output_type": "stream",
     "text": [
      "var_111\n",
      " \n"
     ]
    },
    {
     "name": "stderr",
     "output_type": "stream",
     "text": [
      "C:\\Users\\tatsuya.okamoto\\AppData\\Local\\Continuum\\Anaconda3\\lib\\site-packages\\ipykernel\\__main__.py:7: SettingWithCopyWarning: \n",
      "A value is trying to be set on a copy of a slice from a DataFrame\n",
      "\n",
      "See the caveats in the documentation: http://pandas.pydata.org/pandas-docs/stable/indexing.html#indexing-view-versus-copy\n"
     ]
    },
    {
     "name": "stdout",
     "output_type": "stream",
     "text": [
      "var_112\n",
      " \n"
     ]
    },
    {
     "name": "stderr",
     "output_type": "stream",
     "text": [
      "C:\\Users\\tatsuya.okamoto\\AppData\\Local\\Continuum\\Anaconda3\\lib\\site-packages\\ipykernel\\__main__.py:7: SettingWithCopyWarning: \n",
      "A value is trying to be set on a copy of a slice from a DataFrame\n",
      "\n",
      "See the caveats in the documentation: http://pandas.pydata.org/pandas-docs/stable/indexing.html#indexing-view-versus-copy\n"
     ]
    },
    {
     "name": "stdout",
     "output_type": "stream",
     "text": [
      "var_113\n",
      " \n"
     ]
    },
    {
     "name": "stderr",
     "output_type": "stream",
     "text": [
      "C:\\Users\\tatsuya.okamoto\\AppData\\Local\\Continuum\\Anaconda3\\lib\\site-packages\\ipykernel\\__main__.py:7: SettingWithCopyWarning: \n",
      "A value is trying to be set on a copy of a slice from a DataFrame\n",
      "\n",
      "See the caveats in the documentation: http://pandas.pydata.org/pandas-docs/stable/indexing.html#indexing-view-versus-copy\n"
     ]
    },
    {
     "name": "stdout",
     "output_type": "stream",
     "text": [
      "var_114\n",
      " \n"
     ]
    },
    {
     "name": "stderr",
     "output_type": "stream",
     "text": [
      "C:\\Users\\tatsuya.okamoto\\AppData\\Local\\Continuum\\Anaconda3\\lib\\site-packages\\ipykernel\\__main__.py:7: SettingWithCopyWarning: \n",
      "A value is trying to be set on a copy of a slice from a DataFrame\n",
      "\n",
      "See the caveats in the documentation: http://pandas.pydata.org/pandas-docs/stable/indexing.html#indexing-view-versus-copy\n"
     ]
    },
    {
     "name": "stdout",
     "output_type": "stream",
     "text": [
      "var_115\n",
      " \n"
     ]
    },
    {
     "name": "stderr",
     "output_type": "stream",
     "text": [
      "C:\\Users\\tatsuya.okamoto\\AppData\\Local\\Continuum\\Anaconda3\\lib\\site-packages\\ipykernel\\__main__.py:7: SettingWithCopyWarning: \n",
      "A value is trying to be set on a copy of a slice from a DataFrame\n",
      "\n",
      "See the caveats in the documentation: http://pandas.pydata.org/pandas-docs/stable/indexing.html#indexing-view-versus-copy\n"
     ]
    },
    {
     "name": "stdout",
     "output_type": "stream",
     "text": [
      "var_116\n",
      " \n"
     ]
    },
    {
     "name": "stderr",
     "output_type": "stream",
     "text": [
      "C:\\Users\\tatsuya.okamoto\\AppData\\Local\\Continuum\\Anaconda3\\lib\\site-packages\\ipykernel\\__main__.py:7: SettingWithCopyWarning: \n",
      "A value is trying to be set on a copy of a slice from a DataFrame\n",
      "\n",
      "See the caveats in the documentation: http://pandas.pydata.org/pandas-docs/stable/indexing.html#indexing-view-versus-copy\n"
     ]
    },
    {
     "name": "stdout",
     "output_type": "stream",
     "text": [
      "var_117\n",
      " \n"
     ]
    },
    {
     "name": "stderr",
     "output_type": "stream",
     "text": [
      "C:\\Users\\tatsuya.okamoto\\AppData\\Local\\Continuum\\Anaconda3\\lib\\site-packages\\ipykernel\\__main__.py:7: SettingWithCopyWarning: \n",
      "A value is trying to be set on a copy of a slice from a DataFrame\n",
      "\n",
      "See the caveats in the documentation: http://pandas.pydata.org/pandas-docs/stable/indexing.html#indexing-view-versus-copy\n"
     ]
    },
    {
     "name": "stdout",
     "output_type": "stream",
     "text": [
      "var_118\n",
      " \n"
     ]
    },
    {
     "name": "stderr",
     "output_type": "stream",
     "text": [
      "C:\\Users\\tatsuya.okamoto\\AppData\\Local\\Continuum\\Anaconda3\\lib\\site-packages\\ipykernel\\__main__.py:7: SettingWithCopyWarning: \n",
      "A value is trying to be set on a copy of a slice from a DataFrame\n",
      "\n",
      "See the caveats in the documentation: http://pandas.pydata.org/pandas-docs/stable/indexing.html#indexing-view-versus-copy\n"
     ]
    },
    {
     "name": "stdout",
     "output_type": "stream",
     "text": [
      "var_119\n",
      " \n"
     ]
    },
    {
     "name": "stderr",
     "output_type": "stream",
     "text": [
      "C:\\Users\\tatsuya.okamoto\\AppData\\Local\\Continuum\\Anaconda3\\lib\\site-packages\\ipykernel\\__main__.py:7: SettingWithCopyWarning: \n",
      "A value is trying to be set on a copy of a slice from a DataFrame\n",
      "\n",
      "See the caveats in the documentation: http://pandas.pydata.org/pandas-docs/stable/indexing.html#indexing-view-versus-copy\n"
     ]
    },
    {
     "name": "stdout",
     "output_type": "stream",
     "text": [
      "var_120\n",
      " \n"
     ]
    },
    {
     "name": "stderr",
     "output_type": "stream",
     "text": [
      "C:\\Users\\tatsuya.okamoto\\AppData\\Local\\Continuum\\Anaconda3\\lib\\site-packages\\ipykernel\\__main__.py:7: SettingWithCopyWarning: \n",
      "A value is trying to be set on a copy of a slice from a DataFrame\n",
      "\n",
      "See the caveats in the documentation: http://pandas.pydata.org/pandas-docs/stable/indexing.html#indexing-view-versus-copy\n"
     ]
    },
    {
     "name": "stdout",
     "output_type": "stream",
     "text": [
      "var_121\n",
      " \n"
     ]
    },
    {
     "name": "stderr",
     "output_type": "stream",
     "text": [
      "C:\\Users\\tatsuya.okamoto\\AppData\\Local\\Continuum\\Anaconda3\\lib\\site-packages\\ipykernel\\__main__.py:7: SettingWithCopyWarning: \n",
      "A value is trying to be set on a copy of a slice from a DataFrame\n",
      "\n",
      "See the caveats in the documentation: http://pandas.pydata.org/pandas-docs/stable/indexing.html#indexing-view-versus-copy\n"
     ]
    },
    {
     "name": "stdout",
     "output_type": "stream",
     "text": [
      "var_122\n",
      " \n"
     ]
    },
    {
     "name": "stderr",
     "output_type": "stream",
     "text": [
      "C:\\Users\\tatsuya.okamoto\\AppData\\Local\\Continuum\\Anaconda3\\lib\\site-packages\\ipykernel\\__main__.py:7: SettingWithCopyWarning: \n",
      "A value is trying to be set on a copy of a slice from a DataFrame\n",
      "\n",
      "See the caveats in the documentation: http://pandas.pydata.org/pandas-docs/stable/indexing.html#indexing-view-versus-copy\n"
     ]
    },
    {
     "name": "stdout",
     "output_type": "stream",
     "text": [
      "var_123\n",
      " \n"
     ]
    },
    {
     "name": "stderr",
     "output_type": "stream",
     "text": [
      "C:\\Users\\tatsuya.okamoto\\AppData\\Local\\Continuum\\Anaconda3\\lib\\site-packages\\ipykernel\\__main__.py:7: SettingWithCopyWarning: \n",
      "A value is trying to be set on a copy of a slice from a DataFrame\n",
      "\n",
      "See the caveats in the documentation: http://pandas.pydata.org/pandas-docs/stable/indexing.html#indexing-view-versus-copy\n"
     ]
    },
    {
     "name": "stdout",
     "output_type": "stream",
     "text": [
      "var_124\n",
      " \n"
     ]
    },
    {
     "name": "stderr",
     "output_type": "stream",
     "text": [
      "C:\\Users\\tatsuya.okamoto\\AppData\\Local\\Continuum\\Anaconda3\\lib\\site-packages\\ipykernel\\__main__.py:7: SettingWithCopyWarning: \n",
      "A value is trying to be set on a copy of a slice from a DataFrame\n",
      "\n",
      "See the caveats in the documentation: http://pandas.pydata.org/pandas-docs/stable/indexing.html#indexing-view-versus-copy\n"
     ]
    },
    {
     "name": "stdout",
     "output_type": "stream",
     "text": [
      "var_125\n",
      " \n"
     ]
    },
    {
     "name": "stderr",
     "output_type": "stream",
     "text": [
      "C:\\Users\\tatsuya.okamoto\\AppData\\Local\\Continuum\\Anaconda3\\lib\\site-packages\\ipykernel\\__main__.py:7: SettingWithCopyWarning: \n",
      "A value is trying to be set on a copy of a slice from a DataFrame\n",
      "\n",
      "See the caveats in the documentation: http://pandas.pydata.org/pandas-docs/stable/indexing.html#indexing-view-versus-copy\n"
     ]
    },
    {
     "name": "stdout",
     "output_type": "stream",
     "text": [
      "var_126\n",
      " \n"
     ]
    },
    {
     "name": "stderr",
     "output_type": "stream",
     "text": [
      "C:\\Users\\tatsuya.okamoto\\AppData\\Local\\Continuum\\Anaconda3\\lib\\site-packages\\ipykernel\\__main__.py:7: SettingWithCopyWarning: \n",
      "A value is trying to be set on a copy of a slice from a DataFrame\n",
      "\n",
      "See the caveats in the documentation: http://pandas.pydata.org/pandas-docs/stable/indexing.html#indexing-view-versus-copy\n"
     ]
    },
    {
     "name": "stdout",
     "output_type": "stream",
     "text": [
      "var_127\n",
      " \n"
     ]
    },
    {
     "name": "stderr",
     "output_type": "stream",
     "text": [
      "C:\\Users\\tatsuya.okamoto\\AppData\\Local\\Continuum\\Anaconda3\\lib\\site-packages\\ipykernel\\__main__.py:7: SettingWithCopyWarning: \n",
      "A value is trying to be set on a copy of a slice from a DataFrame\n",
      "\n",
      "See the caveats in the documentation: http://pandas.pydata.org/pandas-docs/stable/indexing.html#indexing-view-versus-copy\n"
     ]
    },
    {
     "name": "stdout",
     "output_type": "stream",
     "text": [
      "var_128\n",
      " \n"
     ]
    },
    {
     "name": "stderr",
     "output_type": "stream",
     "text": [
      "C:\\Users\\tatsuya.okamoto\\AppData\\Local\\Continuum\\Anaconda3\\lib\\site-packages\\ipykernel\\__main__.py:7: SettingWithCopyWarning: \n",
      "A value is trying to be set on a copy of a slice from a DataFrame\n",
      "\n",
      "See the caveats in the documentation: http://pandas.pydata.org/pandas-docs/stable/indexing.html#indexing-view-versus-copy\n"
     ]
    },
    {
     "name": "stdout",
     "output_type": "stream",
     "text": [
      "var_129\n",
      " \n"
     ]
    },
    {
     "name": "stderr",
     "output_type": "stream",
     "text": [
      "C:\\Users\\tatsuya.okamoto\\AppData\\Local\\Continuum\\Anaconda3\\lib\\site-packages\\ipykernel\\__main__.py:7: SettingWithCopyWarning: \n",
      "A value is trying to be set on a copy of a slice from a DataFrame\n",
      "\n",
      "See the caveats in the documentation: http://pandas.pydata.org/pandas-docs/stable/indexing.html#indexing-view-versus-copy\n"
     ]
    },
    {
     "name": "stdout",
     "output_type": "stream",
     "text": [
      "var_130\n",
      " \n"
     ]
    },
    {
     "name": "stderr",
     "output_type": "stream",
     "text": [
      "C:\\Users\\tatsuya.okamoto\\AppData\\Local\\Continuum\\Anaconda3\\lib\\site-packages\\ipykernel\\__main__.py:7: SettingWithCopyWarning: \n",
      "A value is trying to be set on a copy of a slice from a DataFrame\n",
      "\n",
      "See the caveats in the documentation: http://pandas.pydata.org/pandas-docs/stable/indexing.html#indexing-view-versus-copy\n"
     ]
    },
    {
     "name": "stdout",
     "output_type": "stream",
     "text": [
      "var_131\n",
      " \n"
     ]
    },
    {
     "name": "stderr",
     "output_type": "stream",
     "text": [
      "C:\\Users\\tatsuya.okamoto\\AppData\\Local\\Continuum\\Anaconda3\\lib\\site-packages\\ipykernel\\__main__.py:7: SettingWithCopyWarning: \n",
      "A value is trying to be set on a copy of a slice from a DataFrame\n",
      "\n",
      "See the caveats in the documentation: http://pandas.pydata.org/pandas-docs/stable/indexing.html#indexing-view-versus-copy\n"
     ]
    },
    {
     "name": "stdout",
     "output_type": "stream",
     "text": [
      "var_132\n",
      " \n"
     ]
    },
    {
     "name": "stderr",
     "output_type": "stream",
     "text": [
      "C:\\Users\\tatsuya.okamoto\\AppData\\Local\\Continuum\\Anaconda3\\lib\\site-packages\\ipykernel\\__main__.py:7: SettingWithCopyWarning: \n",
      "A value is trying to be set on a copy of a slice from a DataFrame\n",
      "\n",
      "See the caveats in the documentation: http://pandas.pydata.org/pandas-docs/stable/indexing.html#indexing-view-versus-copy\n"
     ]
    },
    {
     "name": "stdout",
     "output_type": "stream",
     "text": [
      "var_133\n",
      " \n"
     ]
    },
    {
     "name": "stderr",
     "output_type": "stream",
     "text": [
      "C:\\Users\\tatsuya.okamoto\\AppData\\Local\\Continuum\\Anaconda3\\lib\\site-packages\\ipykernel\\__main__.py:7: SettingWithCopyWarning: \n",
      "A value is trying to be set on a copy of a slice from a DataFrame\n",
      "\n",
      "See the caveats in the documentation: http://pandas.pydata.org/pandas-docs/stable/indexing.html#indexing-view-versus-copy\n"
     ]
    },
    {
     "name": "stdout",
     "output_type": "stream",
     "text": [
      "var_134\n",
      " \n"
     ]
    },
    {
     "name": "stderr",
     "output_type": "stream",
     "text": [
      "C:\\Users\\tatsuya.okamoto\\AppData\\Local\\Continuum\\Anaconda3\\lib\\site-packages\\ipykernel\\__main__.py:7: SettingWithCopyWarning: \n",
      "A value is trying to be set on a copy of a slice from a DataFrame\n",
      "\n",
      "See the caveats in the documentation: http://pandas.pydata.org/pandas-docs/stable/indexing.html#indexing-view-versus-copy\n"
     ]
    },
    {
     "name": "stdout",
     "output_type": "stream",
     "text": [
      "var_135\n",
      " \n"
     ]
    },
    {
     "name": "stderr",
     "output_type": "stream",
     "text": [
      "C:\\Users\\tatsuya.okamoto\\AppData\\Local\\Continuum\\Anaconda3\\lib\\site-packages\\ipykernel\\__main__.py:7: SettingWithCopyWarning: \n",
      "A value is trying to be set on a copy of a slice from a DataFrame\n",
      "\n",
      "See the caveats in the documentation: http://pandas.pydata.org/pandas-docs/stable/indexing.html#indexing-view-versus-copy\n"
     ]
    },
    {
     "name": "stdout",
     "output_type": "stream",
     "text": [
      "var_136\n",
      " \n"
     ]
    },
    {
     "name": "stderr",
     "output_type": "stream",
     "text": [
      "C:\\Users\\tatsuya.okamoto\\AppData\\Local\\Continuum\\Anaconda3\\lib\\site-packages\\ipykernel\\__main__.py:7: SettingWithCopyWarning: \n",
      "A value is trying to be set on a copy of a slice from a DataFrame\n",
      "\n",
      "See the caveats in the documentation: http://pandas.pydata.org/pandas-docs/stable/indexing.html#indexing-view-versus-copy\n"
     ]
    },
    {
     "name": "stdout",
     "output_type": "stream",
     "text": [
      "var_137\n",
      " \n"
     ]
    },
    {
     "name": "stderr",
     "output_type": "stream",
     "text": [
      "C:\\Users\\tatsuya.okamoto\\AppData\\Local\\Continuum\\Anaconda3\\lib\\site-packages\\ipykernel\\__main__.py:7: SettingWithCopyWarning: \n",
      "A value is trying to be set on a copy of a slice from a DataFrame\n",
      "\n",
      "See the caveats in the documentation: http://pandas.pydata.org/pandas-docs/stable/indexing.html#indexing-view-versus-copy\n"
     ]
    },
    {
     "name": "stdout",
     "output_type": "stream",
     "text": [
      "var_138\n",
      " \n"
     ]
    },
    {
     "name": "stderr",
     "output_type": "stream",
     "text": [
      "C:\\Users\\tatsuya.okamoto\\AppData\\Local\\Continuum\\Anaconda3\\lib\\site-packages\\ipykernel\\__main__.py:7: SettingWithCopyWarning: \n",
      "A value is trying to be set on a copy of a slice from a DataFrame\n",
      "\n",
      "See the caveats in the documentation: http://pandas.pydata.org/pandas-docs/stable/indexing.html#indexing-view-versus-copy\n"
     ]
    },
    {
     "name": "stdout",
     "output_type": "stream",
     "text": [
      "var_139\n",
      " \n"
     ]
    },
    {
     "name": "stderr",
     "output_type": "stream",
     "text": [
      "C:\\Users\\tatsuya.okamoto\\AppData\\Local\\Continuum\\Anaconda3\\lib\\site-packages\\ipykernel\\__main__.py:7: SettingWithCopyWarning: \n",
      "A value is trying to be set on a copy of a slice from a DataFrame\n",
      "\n",
      "See the caveats in the documentation: http://pandas.pydata.org/pandas-docs/stable/indexing.html#indexing-view-versus-copy\n"
     ]
    },
    {
     "name": "stdout",
     "output_type": "stream",
     "text": [
      "var_140\n",
      " \n"
     ]
    },
    {
     "name": "stderr",
     "output_type": "stream",
     "text": [
      "C:\\Users\\tatsuya.okamoto\\AppData\\Local\\Continuum\\Anaconda3\\lib\\site-packages\\ipykernel\\__main__.py:7: SettingWithCopyWarning: \n",
      "A value is trying to be set on a copy of a slice from a DataFrame\n",
      "\n",
      "See the caveats in the documentation: http://pandas.pydata.org/pandas-docs/stable/indexing.html#indexing-view-versus-copy\n"
     ]
    },
    {
     "name": "stdout",
     "output_type": "stream",
     "text": [
      "var_141\n",
      " \n"
     ]
    },
    {
     "name": "stderr",
     "output_type": "stream",
     "text": [
      "C:\\Users\\tatsuya.okamoto\\AppData\\Local\\Continuum\\Anaconda3\\lib\\site-packages\\ipykernel\\__main__.py:7: SettingWithCopyWarning: \n",
      "A value is trying to be set on a copy of a slice from a DataFrame\n",
      "\n",
      "See the caveats in the documentation: http://pandas.pydata.org/pandas-docs/stable/indexing.html#indexing-view-versus-copy\n"
     ]
    },
    {
     "name": "stdout",
     "output_type": "stream",
     "text": [
      "var_142\n",
      " \n"
     ]
    },
    {
     "name": "stderr",
     "output_type": "stream",
     "text": [
      "C:\\Users\\tatsuya.okamoto\\AppData\\Local\\Continuum\\Anaconda3\\lib\\site-packages\\ipykernel\\__main__.py:7: SettingWithCopyWarning: \n",
      "A value is trying to be set on a copy of a slice from a DataFrame\n",
      "\n",
      "See the caveats in the documentation: http://pandas.pydata.org/pandas-docs/stable/indexing.html#indexing-view-versus-copy\n"
     ]
    },
    {
     "name": "stdout",
     "output_type": "stream",
     "text": [
      "var_143\n",
      " \n"
     ]
    },
    {
     "name": "stderr",
     "output_type": "stream",
     "text": [
      "C:\\Users\\tatsuya.okamoto\\AppData\\Local\\Continuum\\Anaconda3\\lib\\site-packages\\ipykernel\\__main__.py:7: SettingWithCopyWarning: \n",
      "A value is trying to be set on a copy of a slice from a DataFrame\n",
      "\n",
      "See the caveats in the documentation: http://pandas.pydata.org/pandas-docs/stable/indexing.html#indexing-view-versus-copy\n"
     ]
    },
    {
     "name": "stdout",
     "output_type": "stream",
     "text": [
      "var_144\n",
      " \n"
     ]
    },
    {
     "name": "stderr",
     "output_type": "stream",
     "text": [
      "C:\\Users\\tatsuya.okamoto\\AppData\\Local\\Continuum\\Anaconda3\\lib\\site-packages\\ipykernel\\__main__.py:7: SettingWithCopyWarning: \n",
      "A value is trying to be set on a copy of a slice from a DataFrame\n",
      "\n",
      "See the caveats in the documentation: http://pandas.pydata.org/pandas-docs/stable/indexing.html#indexing-view-versus-copy\n"
     ]
    },
    {
     "name": "stdout",
     "output_type": "stream",
     "text": [
      "var_145\n",
      " \n"
     ]
    },
    {
     "name": "stderr",
     "output_type": "stream",
     "text": [
      "C:\\Users\\tatsuya.okamoto\\AppData\\Local\\Continuum\\Anaconda3\\lib\\site-packages\\ipykernel\\__main__.py:7: SettingWithCopyWarning: \n",
      "A value is trying to be set on a copy of a slice from a DataFrame\n",
      "\n",
      "See the caveats in the documentation: http://pandas.pydata.org/pandas-docs/stable/indexing.html#indexing-view-versus-copy\n"
     ]
    },
    {
     "name": "stdout",
     "output_type": "stream",
     "text": [
      "var_146\n",
      " \n"
     ]
    },
    {
     "name": "stderr",
     "output_type": "stream",
     "text": [
      "C:\\Users\\tatsuya.okamoto\\AppData\\Local\\Continuum\\Anaconda3\\lib\\site-packages\\ipykernel\\__main__.py:7: SettingWithCopyWarning: \n",
      "A value is trying to be set on a copy of a slice from a DataFrame\n",
      "\n",
      "See the caveats in the documentation: http://pandas.pydata.org/pandas-docs/stable/indexing.html#indexing-view-versus-copy\n"
     ]
    },
    {
     "name": "stdout",
     "output_type": "stream",
     "text": [
      "var_147\n",
      " \n"
     ]
    },
    {
     "name": "stderr",
     "output_type": "stream",
     "text": [
      "C:\\Users\\tatsuya.okamoto\\AppData\\Local\\Continuum\\Anaconda3\\lib\\site-packages\\ipykernel\\__main__.py:7: SettingWithCopyWarning: \n",
      "A value is trying to be set on a copy of a slice from a DataFrame\n",
      "\n",
      "See the caveats in the documentation: http://pandas.pydata.org/pandas-docs/stable/indexing.html#indexing-view-versus-copy\n"
     ]
    },
    {
     "name": "stdout",
     "output_type": "stream",
     "text": [
      "var_148\n",
      " \n"
     ]
    },
    {
     "name": "stderr",
     "output_type": "stream",
     "text": [
      "C:\\Users\\tatsuya.okamoto\\AppData\\Local\\Continuum\\Anaconda3\\lib\\site-packages\\ipykernel\\__main__.py:7: SettingWithCopyWarning: \n",
      "A value is trying to be set on a copy of a slice from a DataFrame\n",
      "\n",
      "See the caveats in the documentation: http://pandas.pydata.org/pandas-docs/stable/indexing.html#indexing-view-versus-copy\n"
     ]
    },
    {
     "name": "stdout",
     "output_type": "stream",
     "text": [
      "var_149\n",
      " \n"
     ]
    },
    {
     "name": "stderr",
     "output_type": "stream",
     "text": [
      "C:\\Users\\tatsuya.okamoto\\AppData\\Local\\Continuum\\Anaconda3\\lib\\site-packages\\ipykernel\\__main__.py:7: SettingWithCopyWarning: \n",
      "A value is trying to be set on a copy of a slice from a DataFrame\n",
      "\n",
      "See the caveats in the documentation: http://pandas.pydata.org/pandas-docs/stable/indexing.html#indexing-view-versus-copy\n"
     ]
    },
    {
     "name": "stdout",
     "output_type": "stream",
     "text": [
      "var_150\n",
      " \n"
     ]
    },
    {
     "name": "stderr",
     "output_type": "stream",
     "text": [
      "C:\\Users\\tatsuya.okamoto\\AppData\\Local\\Continuum\\Anaconda3\\lib\\site-packages\\ipykernel\\__main__.py:7: SettingWithCopyWarning: \n",
      "A value is trying to be set on a copy of a slice from a DataFrame\n",
      "\n",
      "See the caveats in the documentation: http://pandas.pydata.org/pandas-docs/stable/indexing.html#indexing-view-versus-copy\n"
     ]
    },
    {
     "name": "stdout",
     "output_type": "stream",
     "text": [
      "var_151\n",
      " \n"
     ]
    },
    {
     "name": "stderr",
     "output_type": "stream",
     "text": [
      "C:\\Users\\tatsuya.okamoto\\AppData\\Local\\Continuum\\Anaconda3\\lib\\site-packages\\ipykernel\\__main__.py:7: SettingWithCopyWarning: \n",
      "A value is trying to be set on a copy of a slice from a DataFrame\n",
      "\n",
      "See the caveats in the documentation: http://pandas.pydata.org/pandas-docs/stable/indexing.html#indexing-view-versus-copy\n"
     ]
    },
    {
     "name": "stdout",
     "output_type": "stream",
     "text": [
      "var_152\n",
      " \n"
     ]
    },
    {
     "name": "stderr",
     "output_type": "stream",
     "text": [
      "C:\\Users\\tatsuya.okamoto\\AppData\\Local\\Continuum\\Anaconda3\\lib\\site-packages\\ipykernel\\__main__.py:7: SettingWithCopyWarning: \n",
      "A value is trying to be set on a copy of a slice from a DataFrame\n",
      "\n",
      "See the caveats in the documentation: http://pandas.pydata.org/pandas-docs/stable/indexing.html#indexing-view-versus-copy\n"
     ]
    },
    {
     "name": "stdout",
     "output_type": "stream",
     "text": [
      "var_153\n",
      " \n"
     ]
    },
    {
     "name": "stderr",
     "output_type": "stream",
     "text": [
      "C:\\Users\\tatsuya.okamoto\\AppData\\Local\\Continuum\\Anaconda3\\lib\\site-packages\\ipykernel\\__main__.py:7: SettingWithCopyWarning: \n",
      "A value is trying to be set on a copy of a slice from a DataFrame\n",
      "\n",
      "See the caveats in the documentation: http://pandas.pydata.org/pandas-docs/stable/indexing.html#indexing-view-versus-copy\n"
     ]
    },
    {
     "name": "stdout",
     "output_type": "stream",
     "text": [
      "var_154\n",
      " \n"
     ]
    },
    {
     "name": "stderr",
     "output_type": "stream",
     "text": [
      "C:\\Users\\tatsuya.okamoto\\AppData\\Local\\Continuum\\Anaconda3\\lib\\site-packages\\ipykernel\\__main__.py:7: SettingWithCopyWarning: \n",
      "A value is trying to be set on a copy of a slice from a DataFrame\n",
      "\n",
      "See the caveats in the documentation: http://pandas.pydata.org/pandas-docs/stable/indexing.html#indexing-view-versus-copy\n"
     ]
    },
    {
     "name": "stdout",
     "output_type": "stream",
     "text": [
      "var_155\n",
      " \n"
     ]
    },
    {
     "name": "stderr",
     "output_type": "stream",
     "text": [
      "C:\\Users\\tatsuya.okamoto\\AppData\\Local\\Continuum\\Anaconda3\\lib\\site-packages\\ipykernel\\__main__.py:7: SettingWithCopyWarning: \n",
      "A value is trying to be set on a copy of a slice from a DataFrame\n",
      "\n",
      "See the caveats in the documentation: http://pandas.pydata.org/pandas-docs/stable/indexing.html#indexing-view-versus-copy\n"
     ]
    },
    {
     "name": "stdout",
     "output_type": "stream",
     "text": [
      "var_156\n",
      " \n"
     ]
    },
    {
     "name": "stderr",
     "output_type": "stream",
     "text": [
      "C:\\Users\\tatsuya.okamoto\\AppData\\Local\\Continuum\\Anaconda3\\lib\\site-packages\\ipykernel\\__main__.py:7: SettingWithCopyWarning: \n",
      "A value is trying to be set on a copy of a slice from a DataFrame\n",
      "\n",
      "See the caveats in the documentation: http://pandas.pydata.org/pandas-docs/stable/indexing.html#indexing-view-versus-copy\n"
     ]
    },
    {
     "name": "stdout",
     "output_type": "stream",
     "text": [
      "var_157\n",
      " \n"
     ]
    },
    {
     "name": "stderr",
     "output_type": "stream",
     "text": [
      "C:\\Users\\tatsuya.okamoto\\AppData\\Local\\Continuum\\Anaconda3\\lib\\site-packages\\ipykernel\\__main__.py:7: SettingWithCopyWarning: \n",
      "A value is trying to be set on a copy of a slice from a DataFrame\n",
      "\n",
      "See the caveats in the documentation: http://pandas.pydata.org/pandas-docs/stable/indexing.html#indexing-view-versus-copy\n"
     ]
    },
    {
     "name": "stdout",
     "output_type": "stream",
     "text": [
      "var_158\n",
      " \n"
     ]
    },
    {
     "name": "stderr",
     "output_type": "stream",
     "text": [
      "C:\\Users\\tatsuya.okamoto\\AppData\\Local\\Continuum\\Anaconda3\\lib\\site-packages\\ipykernel\\__main__.py:7: SettingWithCopyWarning: \n",
      "A value is trying to be set on a copy of a slice from a DataFrame\n",
      "\n",
      "See the caveats in the documentation: http://pandas.pydata.org/pandas-docs/stable/indexing.html#indexing-view-versus-copy\n"
     ]
    },
    {
     "name": "stdout",
     "output_type": "stream",
     "text": [
      "var_159\n",
      " \n"
     ]
    },
    {
     "name": "stderr",
     "output_type": "stream",
     "text": [
      "C:\\Users\\tatsuya.okamoto\\AppData\\Local\\Continuum\\Anaconda3\\lib\\site-packages\\ipykernel\\__main__.py:7: SettingWithCopyWarning: \n",
      "A value is trying to be set on a copy of a slice from a DataFrame\n",
      "\n",
      "See the caveats in the documentation: http://pandas.pydata.org/pandas-docs/stable/indexing.html#indexing-view-versus-copy\n"
     ]
    },
    {
     "name": "stdout",
     "output_type": "stream",
     "text": [
      "var_160\n",
      " \n"
     ]
    },
    {
     "name": "stderr",
     "output_type": "stream",
     "text": [
      "C:\\Users\\tatsuya.okamoto\\AppData\\Local\\Continuum\\Anaconda3\\lib\\site-packages\\ipykernel\\__main__.py:7: SettingWithCopyWarning: \n",
      "A value is trying to be set on a copy of a slice from a DataFrame\n",
      "\n",
      "See the caveats in the documentation: http://pandas.pydata.org/pandas-docs/stable/indexing.html#indexing-view-versus-copy\n"
     ]
    },
    {
     "name": "stdout",
     "output_type": "stream",
     "text": [
      "var_161\n",
      " \n"
     ]
    },
    {
     "name": "stderr",
     "output_type": "stream",
     "text": [
      "C:\\Users\\tatsuya.okamoto\\AppData\\Local\\Continuum\\Anaconda3\\lib\\site-packages\\ipykernel\\__main__.py:7: SettingWithCopyWarning: \n",
      "A value is trying to be set on a copy of a slice from a DataFrame\n",
      "\n",
      "See the caveats in the documentation: http://pandas.pydata.org/pandas-docs/stable/indexing.html#indexing-view-versus-copy\n"
     ]
    },
    {
     "name": "stdout",
     "output_type": "stream",
     "text": [
      "var_162\n",
      " \n"
     ]
    },
    {
     "name": "stderr",
     "output_type": "stream",
     "text": [
      "C:\\Users\\tatsuya.okamoto\\AppData\\Local\\Continuum\\Anaconda3\\lib\\site-packages\\ipykernel\\__main__.py:7: SettingWithCopyWarning: \n",
      "A value is trying to be set on a copy of a slice from a DataFrame\n",
      "\n",
      "See the caveats in the documentation: http://pandas.pydata.org/pandas-docs/stable/indexing.html#indexing-view-versus-copy\n"
     ]
    },
    {
     "name": "stdout",
     "output_type": "stream",
     "text": [
      "var_163\n",
      " \n"
     ]
    },
    {
     "name": "stderr",
     "output_type": "stream",
     "text": [
      "C:\\Users\\tatsuya.okamoto\\AppData\\Local\\Continuum\\Anaconda3\\lib\\site-packages\\ipykernel\\__main__.py:7: SettingWithCopyWarning: \n",
      "A value is trying to be set on a copy of a slice from a DataFrame\n",
      "\n",
      "See the caveats in the documentation: http://pandas.pydata.org/pandas-docs/stable/indexing.html#indexing-view-versus-copy\n"
     ]
    },
    {
     "name": "stdout",
     "output_type": "stream",
     "text": [
      "var_164\n",
      " \n"
     ]
    },
    {
     "name": "stderr",
     "output_type": "stream",
     "text": [
      "C:\\Users\\tatsuya.okamoto\\AppData\\Local\\Continuum\\Anaconda3\\lib\\site-packages\\ipykernel\\__main__.py:7: SettingWithCopyWarning: \n",
      "A value is trying to be set on a copy of a slice from a DataFrame\n",
      "\n",
      "See the caveats in the documentation: http://pandas.pydata.org/pandas-docs/stable/indexing.html#indexing-view-versus-copy\n"
     ]
    },
    {
     "name": "stdout",
     "output_type": "stream",
     "text": [
      "var_165\n",
      " \n"
     ]
    },
    {
     "name": "stderr",
     "output_type": "stream",
     "text": [
      "C:\\Users\\tatsuya.okamoto\\AppData\\Local\\Continuum\\Anaconda3\\lib\\site-packages\\ipykernel\\__main__.py:7: SettingWithCopyWarning: \n",
      "A value is trying to be set on a copy of a slice from a DataFrame\n",
      "\n",
      "See the caveats in the documentation: http://pandas.pydata.org/pandas-docs/stable/indexing.html#indexing-view-versus-copy\n"
     ]
    },
    {
     "name": "stdout",
     "output_type": "stream",
     "text": [
      "var_166\n",
      " \n"
     ]
    },
    {
     "name": "stderr",
     "output_type": "stream",
     "text": [
      "C:\\Users\\tatsuya.okamoto\\AppData\\Local\\Continuum\\Anaconda3\\lib\\site-packages\\ipykernel\\__main__.py:7: SettingWithCopyWarning: \n",
      "A value is trying to be set on a copy of a slice from a DataFrame\n",
      "\n",
      "See the caveats in the documentation: http://pandas.pydata.org/pandas-docs/stable/indexing.html#indexing-view-versus-copy\n"
     ]
    },
    {
     "name": "stdout",
     "output_type": "stream",
     "text": [
      "var_167\n",
      " \n"
     ]
    },
    {
     "name": "stderr",
     "output_type": "stream",
     "text": [
      "C:\\Users\\tatsuya.okamoto\\AppData\\Local\\Continuum\\Anaconda3\\lib\\site-packages\\ipykernel\\__main__.py:7: SettingWithCopyWarning: \n",
      "A value is trying to be set on a copy of a slice from a DataFrame\n",
      "\n",
      "See the caveats in the documentation: http://pandas.pydata.org/pandas-docs/stable/indexing.html#indexing-view-versus-copy\n"
     ]
    },
    {
     "name": "stdout",
     "output_type": "stream",
     "text": [
      "var_168\n",
      " \n"
     ]
    },
    {
     "name": "stderr",
     "output_type": "stream",
     "text": [
      "C:\\Users\\tatsuya.okamoto\\AppData\\Local\\Continuum\\Anaconda3\\lib\\site-packages\\ipykernel\\__main__.py:7: SettingWithCopyWarning: \n",
      "A value is trying to be set on a copy of a slice from a DataFrame\n",
      "\n",
      "See the caveats in the documentation: http://pandas.pydata.org/pandas-docs/stable/indexing.html#indexing-view-versus-copy\n"
     ]
    },
    {
     "name": "stdout",
     "output_type": "stream",
     "text": [
      "var_169\n",
      " \n"
     ]
    },
    {
     "name": "stderr",
     "output_type": "stream",
     "text": [
      "C:\\Users\\tatsuya.okamoto\\AppData\\Local\\Continuum\\Anaconda3\\lib\\site-packages\\ipykernel\\__main__.py:7: SettingWithCopyWarning: \n",
      "A value is trying to be set on a copy of a slice from a DataFrame\n",
      "\n",
      "See the caveats in the documentation: http://pandas.pydata.org/pandas-docs/stable/indexing.html#indexing-view-versus-copy\n"
     ]
    },
    {
     "name": "stdout",
     "output_type": "stream",
     "text": [
      "var_170\n",
      " \n"
     ]
    },
    {
     "name": "stderr",
     "output_type": "stream",
     "text": [
      "C:\\Users\\tatsuya.okamoto\\AppData\\Local\\Continuum\\Anaconda3\\lib\\site-packages\\ipykernel\\__main__.py:7: SettingWithCopyWarning: \n",
      "A value is trying to be set on a copy of a slice from a DataFrame\n",
      "\n",
      "See the caveats in the documentation: http://pandas.pydata.org/pandas-docs/stable/indexing.html#indexing-view-versus-copy\n"
     ]
    },
    {
     "name": "stdout",
     "output_type": "stream",
     "text": [
      "var_171\n",
      " \n"
     ]
    },
    {
     "name": "stderr",
     "output_type": "stream",
     "text": [
      "C:\\Users\\tatsuya.okamoto\\AppData\\Local\\Continuum\\Anaconda3\\lib\\site-packages\\ipykernel\\__main__.py:7: SettingWithCopyWarning: \n",
      "A value is trying to be set on a copy of a slice from a DataFrame\n",
      "\n",
      "See the caveats in the documentation: http://pandas.pydata.org/pandas-docs/stable/indexing.html#indexing-view-versus-copy\n"
     ]
    },
    {
     "name": "stdout",
     "output_type": "stream",
     "text": [
      "var_172\n",
      " \n"
     ]
    },
    {
     "name": "stderr",
     "output_type": "stream",
     "text": [
      "C:\\Users\\tatsuya.okamoto\\AppData\\Local\\Continuum\\Anaconda3\\lib\\site-packages\\ipykernel\\__main__.py:7: SettingWithCopyWarning: \n",
      "A value is trying to be set on a copy of a slice from a DataFrame\n",
      "\n",
      "See the caveats in the documentation: http://pandas.pydata.org/pandas-docs/stable/indexing.html#indexing-view-versus-copy\n"
     ]
    },
    {
     "name": "stdout",
     "output_type": "stream",
     "text": [
      "var_173\n",
      " \n"
     ]
    },
    {
     "name": "stderr",
     "output_type": "stream",
     "text": [
      "C:\\Users\\tatsuya.okamoto\\AppData\\Local\\Continuum\\Anaconda3\\lib\\site-packages\\ipykernel\\__main__.py:7: SettingWithCopyWarning: \n",
      "A value is trying to be set on a copy of a slice from a DataFrame\n",
      "\n",
      "See the caveats in the documentation: http://pandas.pydata.org/pandas-docs/stable/indexing.html#indexing-view-versus-copy\n"
     ]
    },
    {
     "name": "stdout",
     "output_type": "stream",
     "text": [
      "var_174\n",
      " \n"
     ]
    },
    {
     "name": "stderr",
     "output_type": "stream",
     "text": [
      "C:\\Users\\tatsuya.okamoto\\AppData\\Local\\Continuum\\Anaconda3\\lib\\site-packages\\ipykernel\\__main__.py:7: SettingWithCopyWarning: \n",
      "A value is trying to be set on a copy of a slice from a DataFrame\n",
      "\n",
      "See the caveats in the documentation: http://pandas.pydata.org/pandas-docs/stable/indexing.html#indexing-view-versus-copy\n"
     ]
    },
    {
     "name": "stdout",
     "output_type": "stream",
     "text": [
      "var_175\n",
      " \n"
     ]
    },
    {
     "name": "stderr",
     "output_type": "stream",
     "text": [
      "C:\\Users\\tatsuya.okamoto\\AppData\\Local\\Continuum\\Anaconda3\\lib\\site-packages\\ipykernel\\__main__.py:7: SettingWithCopyWarning: \n",
      "A value is trying to be set on a copy of a slice from a DataFrame\n",
      "\n",
      "See the caveats in the documentation: http://pandas.pydata.org/pandas-docs/stable/indexing.html#indexing-view-versus-copy\n"
     ]
    },
    {
     "name": "stdout",
     "output_type": "stream",
     "text": [
      "var_176\n",
      " \n"
     ]
    },
    {
     "name": "stderr",
     "output_type": "stream",
     "text": [
      "C:\\Users\\tatsuya.okamoto\\AppData\\Local\\Continuum\\Anaconda3\\lib\\site-packages\\ipykernel\\__main__.py:7: SettingWithCopyWarning: \n",
      "A value is trying to be set on a copy of a slice from a DataFrame\n",
      "\n",
      "See the caveats in the documentation: http://pandas.pydata.org/pandas-docs/stable/indexing.html#indexing-view-versus-copy\n"
     ]
    },
    {
     "name": "stdout",
     "output_type": "stream",
     "text": [
      "var_177\n",
      " \n"
     ]
    },
    {
     "name": "stderr",
     "output_type": "stream",
     "text": [
      "C:\\Users\\tatsuya.okamoto\\AppData\\Local\\Continuum\\Anaconda3\\lib\\site-packages\\ipykernel\\__main__.py:7: SettingWithCopyWarning: \n",
      "A value is trying to be set on a copy of a slice from a DataFrame\n",
      "\n",
      "See the caveats in the documentation: http://pandas.pydata.org/pandas-docs/stable/indexing.html#indexing-view-versus-copy\n"
     ]
    },
    {
     "name": "stdout",
     "output_type": "stream",
     "text": [
      "var_178\n",
      " \n"
     ]
    },
    {
     "name": "stderr",
     "output_type": "stream",
     "text": [
      "C:\\Users\\tatsuya.okamoto\\AppData\\Local\\Continuum\\Anaconda3\\lib\\site-packages\\ipykernel\\__main__.py:7: SettingWithCopyWarning: \n",
      "A value is trying to be set on a copy of a slice from a DataFrame\n",
      "\n",
      "See the caveats in the documentation: http://pandas.pydata.org/pandas-docs/stable/indexing.html#indexing-view-versus-copy\n"
     ]
    },
    {
     "name": "stdout",
     "output_type": "stream",
     "text": [
      "var_179\n",
      " \n"
     ]
    },
    {
     "name": "stderr",
     "output_type": "stream",
     "text": [
      "C:\\Users\\tatsuya.okamoto\\AppData\\Local\\Continuum\\Anaconda3\\lib\\site-packages\\ipykernel\\__main__.py:7: SettingWithCopyWarning: \n",
      "A value is trying to be set on a copy of a slice from a DataFrame\n",
      "\n",
      "See the caveats in the documentation: http://pandas.pydata.org/pandas-docs/stable/indexing.html#indexing-view-versus-copy\n"
     ]
    },
    {
     "name": "stdout",
     "output_type": "stream",
     "text": [
      "var_180\n",
      " \n"
     ]
    },
    {
     "name": "stderr",
     "output_type": "stream",
     "text": [
      "C:\\Users\\tatsuya.okamoto\\AppData\\Local\\Continuum\\Anaconda3\\lib\\site-packages\\ipykernel\\__main__.py:7: SettingWithCopyWarning: \n",
      "A value is trying to be set on a copy of a slice from a DataFrame\n",
      "\n",
      "See the caveats in the documentation: http://pandas.pydata.org/pandas-docs/stable/indexing.html#indexing-view-versus-copy\n"
     ]
    },
    {
     "name": "stdout",
     "output_type": "stream",
     "text": [
      "var_181\n",
      " \n"
     ]
    },
    {
     "name": "stderr",
     "output_type": "stream",
     "text": [
      "C:\\Users\\tatsuya.okamoto\\AppData\\Local\\Continuum\\Anaconda3\\lib\\site-packages\\ipykernel\\__main__.py:7: SettingWithCopyWarning: \n",
      "A value is trying to be set on a copy of a slice from a DataFrame\n",
      "\n",
      "See the caveats in the documentation: http://pandas.pydata.org/pandas-docs/stable/indexing.html#indexing-view-versus-copy\n"
     ]
    },
    {
     "name": "stdout",
     "output_type": "stream",
     "text": [
      "var_182\n",
      " \n"
     ]
    },
    {
     "name": "stderr",
     "output_type": "stream",
     "text": [
      "C:\\Users\\tatsuya.okamoto\\AppData\\Local\\Continuum\\Anaconda3\\lib\\site-packages\\ipykernel\\__main__.py:7: SettingWithCopyWarning: \n",
      "A value is trying to be set on a copy of a slice from a DataFrame\n",
      "\n",
      "See the caveats in the documentation: http://pandas.pydata.org/pandas-docs/stable/indexing.html#indexing-view-versus-copy\n"
     ]
    },
    {
     "name": "stdout",
     "output_type": "stream",
     "text": [
      "var_183\n",
      " \n"
     ]
    },
    {
     "name": "stderr",
     "output_type": "stream",
     "text": [
      "C:\\Users\\tatsuya.okamoto\\AppData\\Local\\Continuum\\Anaconda3\\lib\\site-packages\\ipykernel\\__main__.py:7: SettingWithCopyWarning: \n",
      "A value is trying to be set on a copy of a slice from a DataFrame\n",
      "\n",
      "See the caveats in the documentation: http://pandas.pydata.org/pandas-docs/stable/indexing.html#indexing-view-versus-copy\n"
     ]
    },
    {
     "name": "stdout",
     "output_type": "stream",
     "text": [
      "var_184\n",
      " \n"
     ]
    },
    {
     "name": "stderr",
     "output_type": "stream",
     "text": [
      "C:\\Users\\tatsuya.okamoto\\AppData\\Local\\Continuum\\Anaconda3\\lib\\site-packages\\ipykernel\\__main__.py:7: SettingWithCopyWarning: \n",
      "A value is trying to be set on a copy of a slice from a DataFrame\n",
      "\n",
      "See the caveats in the documentation: http://pandas.pydata.org/pandas-docs/stable/indexing.html#indexing-view-versus-copy\n"
     ]
    },
    {
     "name": "stdout",
     "output_type": "stream",
     "text": [
      "var_185\n",
      " \n"
     ]
    },
    {
     "name": "stderr",
     "output_type": "stream",
     "text": [
      "C:\\Users\\tatsuya.okamoto\\AppData\\Local\\Continuum\\Anaconda3\\lib\\site-packages\\ipykernel\\__main__.py:7: SettingWithCopyWarning: \n",
      "A value is trying to be set on a copy of a slice from a DataFrame\n",
      "\n",
      "See the caveats in the documentation: http://pandas.pydata.org/pandas-docs/stable/indexing.html#indexing-view-versus-copy\n"
     ]
    },
    {
     "name": "stdout",
     "output_type": "stream",
     "text": [
      "var_186\n",
      " \n"
     ]
    },
    {
     "name": "stderr",
     "output_type": "stream",
     "text": [
      "C:\\Users\\tatsuya.okamoto\\AppData\\Local\\Continuum\\Anaconda3\\lib\\site-packages\\ipykernel\\__main__.py:7: SettingWithCopyWarning: \n",
      "A value is trying to be set on a copy of a slice from a DataFrame\n",
      "\n",
      "See the caveats in the documentation: http://pandas.pydata.org/pandas-docs/stable/indexing.html#indexing-view-versus-copy\n"
     ]
    },
    {
     "name": "stdout",
     "output_type": "stream",
     "text": [
      "var_187\n",
      " \n"
     ]
    },
    {
     "name": "stderr",
     "output_type": "stream",
     "text": [
      "C:\\Users\\tatsuya.okamoto\\AppData\\Local\\Continuum\\Anaconda3\\lib\\site-packages\\ipykernel\\__main__.py:7: SettingWithCopyWarning: \n",
      "A value is trying to be set on a copy of a slice from a DataFrame\n",
      "\n",
      "See the caveats in the documentation: http://pandas.pydata.org/pandas-docs/stable/indexing.html#indexing-view-versus-copy\n"
     ]
    },
    {
     "name": "stdout",
     "output_type": "stream",
     "text": [
      "var_188\n",
      " \n"
     ]
    },
    {
     "name": "stderr",
     "output_type": "stream",
     "text": [
      "C:\\Users\\tatsuya.okamoto\\AppData\\Local\\Continuum\\Anaconda3\\lib\\site-packages\\ipykernel\\__main__.py:7: SettingWithCopyWarning: \n",
      "A value is trying to be set on a copy of a slice from a DataFrame\n",
      "\n",
      "See the caveats in the documentation: http://pandas.pydata.org/pandas-docs/stable/indexing.html#indexing-view-versus-copy\n"
     ]
    },
    {
     "name": "stdout",
     "output_type": "stream",
     "text": [
      "var_189\n",
      " \n"
     ]
    },
    {
     "name": "stderr",
     "output_type": "stream",
     "text": [
      "C:\\Users\\tatsuya.okamoto\\AppData\\Local\\Continuum\\Anaconda3\\lib\\site-packages\\ipykernel\\__main__.py:7: SettingWithCopyWarning: \n",
      "A value is trying to be set on a copy of a slice from a DataFrame\n",
      "\n",
      "See the caveats in the documentation: http://pandas.pydata.org/pandas-docs/stable/indexing.html#indexing-view-versus-copy\n"
     ]
    },
    {
     "name": "stdout",
     "output_type": "stream",
     "text": [
      "var_190\n",
      " \n"
     ]
    },
    {
     "name": "stderr",
     "output_type": "stream",
     "text": [
      "C:\\Users\\tatsuya.okamoto\\AppData\\Local\\Continuum\\Anaconda3\\lib\\site-packages\\ipykernel\\__main__.py:7: SettingWithCopyWarning: \n",
      "A value is trying to be set on a copy of a slice from a DataFrame\n",
      "\n",
      "See the caveats in the documentation: http://pandas.pydata.org/pandas-docs/stable/indexing.html#indexing-view-versus-copy\n"
     ]
    },
    {
     "name": "stdout",
     "output_type": "stream",
     "text": [
      "var_191\n",
      " \n"
     ]
    },
    {
     "name": "stderr",
     "output_type": "stream",
     "text": [
      "C:\\Users\\tatsuya.okamoto\\AppData\\Local\\Continuum\\Anaconda3\\lib\\site-packages\\ipykernel\\__main__.py:7: SettingWithCopyWarning: \n",
      "A value is trying to be set on a copy of a slice from a DataFrame\n",
      "\n",
      "See the caveats in the documentation: http://pandas.pydata.org/pandas-docs/stable/indexing.html#indexing-view-versus-copy\n"
     ]
    },
    {
     "name": "stdout",
     "output_type": "stream",
     "text": [
      "var_192\n",
      " \n"
     ]
    },
    {
     "name": "stderr",
     "output_type": "stream",
     "text": [
      "C:\\Users\\tatsuya.okamoto\\AppData\\Local\\Continuum\\Anaconda3\\lib\\site-packages\\ipykernel\\__main__.py:7: SettingWithCopyWarning: \n",
      "A value is trying to be set on a copy of a slice from a DataFrame\n",
      "\n",
      "See the caveats in the documentation: http://pandas.pydata.org/pandas-docs/stable/indexing.html#indexing-view-versus-copy\n"
     ]
    },
    {
     "name": "stdout",
     "output_type": "stream",
     "text": [
      "var_193\n",
      " \n"
     ]
    },
    {
     "name": "stderr",
     "output_type": "stream",
     "text": [
      "C:\\Users\\tatsuya.okamoto\\AppData\\Local\\Continuum\\Anaconda3\\lib\\site-packages\\ipykernel\\__main__.py:7: SettingWithCopyWarning: \n",
      "A value is trying to be set on a copy of a slice from a DataFrame\n",
      "\n",
      "See the caveats in the documentation: http://pandas.pydata.org/pandas-docs/stable/indexing.html#indexing-view-versus-copy\n"
     ]
    },
    {
     "name": "stdout",
     "output_type": "stream",
     "text": [
      "var_194\n",
      " \n"
     ]
    },
    {
     "name": "stderr",
     "output_type": "stream",
     "text": [
      "C:\\Users\\tatsuya.okamoto\\AppData\\Local\\Continuum\\Anaconda3\\lib\\site-packages\\ipykernel\\__main__.py:7: SettingWithCopyWarning: \n",
      "A value is trying to be set on a copy of a slice from a DataFrame\n",
      "\n",
      "See the caveats in the documentation: http://pandas.pydata.org/pandas-docs/stable/indexing.html#indexing-view-versus-copy\n"
     ]
    },
    {
     "name": "stdout",
     "output_type": "stream",
     "text": [
      "var_195\n",
      " \n"
     ]
    },
    {
     "name": "stderr",
     "output_type": "stream",
     "text": [
      "C:\\Users\\tatsuya.okamoto\\AppData\\Local\\Continuum\\Anaconda3\\lib\\site-packages\\ipykernel\\__main__.py:7: SettingWithCopyWarning: \n",
      "A value is trying to be set on a copy of a slice from a DataFrame\n",
      "\n",
      "See the caveats in the documentation: http://pandas.pydata.org/pandas-docs/stable/indexing.html#indexing-view-versus-copy\n"
     ]
    },
    {
     "name": "stdout",
     "output_type": "stream",
     "text": [
      "var_196\n",
      " \n"
     ]
    },
    {
     "name": "stderr",
     "output_type": "stream",
     "text": [
      "C:\\Users\\tatsuya.okamoto\\AppData\\Local\\Continuum\\Anaconda3\\lib\\site-packages\\ipykernel\\__main__.py:7: SettingWithCopyWarning: \n",
      "A value is trying to be set on a copy of a slice from a DataFrame\n",
      "\n",
      "See the caveats in the documentation: http://pandas.pydata.org/pandas-docs/stable/indexing.html#indexing-view-versus-copy\n"
     ]
    },
    {
     "name": "stdout",
     "output_type": "stream",
     "text": [
      "var_197\n",
      " \n"
     ]
    },
    {
     "name": "stderr",
     "output_type": "stream",
     "text": [
      "C:\\Users\\tatsuya.okamoto\\AppData\\Local\\Continuum\\Anaconda3\\lib\\site-packages\\ipykernel\\__main__.py:7: SettingWithCopyWarning: \n",
      "A value is trying to be set on a copy of a slice from a DataFrame\n",
      "\n",
      "See the caveats in the documentation: http://pandas.pydata.org/pandas-docs/stable/indexing.html#indexing-view-versus-copy\n"
     ]
    },
    {
     "name": "stdout",
     "output_type": "stream",
     "text": [
      "var_198\n",
      " \n"
     ]
    },
    {
     "name": "stderr",
     "output_type": "stream",
     "text": [
      "C:\\Users\\tatsuya.okamoto\\AppData\\Local\\Continuum\\Anaconda3\\lib\\site-packages\\ipykernel\\__main__.py:7: SettingWithCopyWarning: \n",
      "A value is trying to be set on a copy of a slice from a DataFrame\n",
      "\n",
      "See the caveats in the documentation: http://pandas.pydata.org/pandas-docs/stable/indexing.html#indexing-view-versus-copy\n"
     ]
    },
    {
     "name": "stdout",
     "output_type": "stream",
     "text": [
      "var_199\n",
      " \n"
     ]
    },
    {
     "name": "stderr",
     "output_type": "stream",
     "text": [
      "C:\\Users\\tatsuya.okamoto\\AppData\\Local\\Continuum\\Anaconda3\\lib\\site-packages\\ipykernel\\__main__.py:7: SettingWithCopyWarning: \n",
      "A value is trying to be set on a copy of a slice from a DataFrame\n",
      "\n",
      "See the caveats in the documentation: http://pandas.pydata.org/pandas-docs/stable/indexing.html#indexing-view-versus-copy\n"
     ]
    },
    {
     "name": "stdout",
     "output_type": "stream",
     "text": [
      "target\n",
      " \n"
     ]
    },
    {
     "ename": "ZeroDivisionError",
     "evalue": "division by zero",
     "output_type": "error",
     "traceback": [
      "\u001b[0;31m---------------------------------------------------------------------------\u001b[0m",
      "\u001b[0;31mZeroDivisionError\u001b[0m                         Traceback (most recent call last)",
      "\u001b[0;32m<ipython-input-15-2c86ecbfff7a>\u001b[0m in \u001b[0;36m<module>\u001b[0;34m()\u001b[0m\n\u001b[1;32m      4\u001b[0m     \u001b[0mdf_all\u001b[0m\u001b[1;33m[\u001b[0m\u001b[0mj\u001b[0m\u001b[1;33m+\u001b[0m\u001b[1;34m'_rate'\u001b[0m\u001b[1;33m]\u001b[0m\u001b[1;33m=\u001b[0m\u001b[1;36m0\u001b[0m\u001b[1;33m\u001b[0m\u001b[0m\n\u001b[1;32m      5\u001b[0m     \u001b[1;32mfor\u001b[0m \u001b[0mi\u001b[0m \u001b[1;32min\u001b[0m \u001b[0mrange\u001b[0m\u001b[1;33m(\u001b[0m\u001b[1;36m0\u001b[0m\u001b[1;33m,\u001b[0m\u001b[1;36m99\u001b[0m\u001b[1;33m)\u001b[0m\u001b[1;33m:\u001b[0m\u001b[1;33m\u001b[0m\u001b[0m\n\u001b[0;32m----> 6\u001b[0;31m         \u001b[0mrate\u001b[0m\u001b[1;33m=\u001b[0m\u001b[0mlen\u001b[0m\u001b[1;33m(\u001b[0m\u001b[0mdf_all\u001b[0m\u001b[1;33m[\u001b[0m\u001b[1;33m(\u001b[0m\u001b[0mdf_all\u001b[0m\u001b[1;33m[\u001b[0m\u001b[0mj\u001b[0m\u001b[1;33m+\u001b[0m\u001b[1;34m'_qcut'\u001b[0m\u001b[1;33m]\u001b[0m\u001b[1;33m==\u001b[0m\u001b[0mi\u001b[0m\u001b[1;33m)\u001b[0m \u001b[1;33m&\u001b[0m \u001b[1;33m(\u001b[0m\u001b[0mdf_all\u001b[0m\u001b[1;33m[\u001b[0m\u001b[1;34m'target'\u001b[0m\u001b[1;33m]\u001b[0m\u001b[1;33m==\u001b[0m\u001b[1;36m1\u001b[0m\u001b[1;33m)\u001b[0m\u001b[1;33m]\u001b[0m\u001b[1;33m)\u001b[0m\u001b[1;33m/\u001b[0m\u001b[0mlen\u001b[0m\u001b[1;33m(\u001b[0m\u001b[0mdf_all\u001b[0m\u001b[1;33m[\u001b[0m\u001b[1;33m(\u001b[0m\u001b[0mdf_all\u001b[0m\u001b[1;33m[\u001b[0m\u001b[0mj\u001b[0m\u001b[1;33m+\u001b[0m\u001b[1;34m'_qcut'\u001b[0m\u001b[1;33m]\u001b[0m\u001b[1;33m==\u001b[0m\u001b[0mi\u001b[0m\u001b[1;33m)\u001b[0m \u001b[1;33m&\u001b[0m \u001b[1;33m(\u001b[0m\u001b[0mdf_all\u001b[0m\u001b[1;33m[\u001b[0m\u001b[1;34m'target'\u001b[0m\u001b[1;33m]\u001b[0m\u001b[1;33m==\u001b[0m\u001b[1;36m0\u001b[0m\u001b[1;33m)\u001b[0m\u001b[1;33m]\u001b[0m\u001b[1;33m)\u001b[0m\u001b[1;33m\u001b[0m\u001b[0m\n\u001b[0m\u001b[1;32m      7\u001b[0m         \u001b[0mdf_all\u001b[0m\u001b[1;33m[\u001b[0m\u001b[0mj\u001b[0m\u001b[1;33m+\u001b[0m\u001b[1;34m'_rate'\u001b[0m\u001b[1;33m]\u001b[0m\u001b[1;33m[\u001b[0m\u001b[0mdf_all\u001b[0m\u001b[1;33m[\u001b[0m\u001b[0mj\u001b[0m\u001b[1;33m+\u001b[0m\u001b[1;34m'_qcut'\u001b[0m\u001b[1;33m]\u001b[0m\u001b[1;33m==\u001b[0m\u001b[0mi\u001b[0m\u001b[1;33m]\u001b[0m\u001b[1;33m=\u001b[0m\u001b[0mrate\u001b[0m\u001b[1;33m\u001b[0m\u001b[0m\n\u001b[1;32m      8\u001b[0m         \u001b[1;31m#print(rate)\u001b[0m\u001b[1;33m\u001b[0m\u001b[1;33m\u001b[0m\u001b[0m\n",
      "\u001b[0;31mZeroDivisionError\u001b[0m: division by zero"
     ]
    }
   ],
   "source": [
    "for j in x_train.columns:\n",
    "    print(j)\n",
    "    print(' ')\n",
    "    df_all[j+'_rate']=0\n",
    "    for i in range(0,99):\n",
    "        rate=len(df_all[(df_all[j+'_qcut']==i) & (df_all['target']==1)])/len(df_all[(df_all[j+'_qcut']==i) & (df_all['target']==0)])\n",
    "        df_all[j+'_rate'][df_all[j+'_qcut']==i]=rate\n",
    "        #print(rate)\n",
    "        "
   ]
  },
  {
   "cell_type": "code",
   "execution_count": 16,
   "metadata": {
    "collapsed": false
   },
   "outputs": [
    {
     "data": {
      "text/html": [
       "<div>\n",
       "<style scoped>\n",
       "    .dataframe tbody tr th:only-of-type {\n",
       "        vertical-align: middle;\n",
       "    }\n",
       "\n",
       "    .dataframe tbody tr th {\n",
       "        vertical-align: top;\n",
       "    }\n",
       "\n",
       "    .dataframe thead th {\n",
       "        text-align: right;\n",
       "    }\n",
       "</style>\n",
       "<table border=\"1\" class=\"dataframe\">\n",
       "  <thead>\n",
       "    <tr style=\"text-align: right;\">\n",
       "      <th></th>\n",
       "      <th>var_0</th>\n",
       "      <th>var_1</th>\n",
       "      <th>var_2</th>\n",
       "      <th>var_3</th>\n",
       "      <th>var_4</th>\n",
       "      <th>var_5</th>\n",
       "      <th>var_6</th>\n",
       "      <th>var_7</th>\n",
       "      <th>var_8</th>\n",
       "      <th>var_9</th>\n",
       "      <th>...</th>\n",
       "      <th>var_191_rate</th>\n",
       "      <th>var_192_rate</th>\n",
       "      <th>var_193_rate</th>\n",
       "      <th>var_194_rate</th>\n",
       "      <th>var_195_rate</th>\n",
       "      <th>var_196_rate</th>\n",
       "      <th>var_197_rate</th>\n",
       "      <th>var_198_rate</th>\n",
       "      <th>var_199_rate</th>\n",
       "      <th>target_rate</th>\n",
       "    </tr>\n",
       "  </thead>\n",
       "  <tbody>\n",
       "    <tr>\n",
       "      <th>0</th>\n",
       "      <td>8.9255</td>\n",
       "      <td>-6.7863</td>\n",
       "      <td>11.9081</td>\n",
       "      <td>5.0930</td>\n",
       "      <td>11.4607</td>\n",
       "      <td>-9.2834</td>\n",
       "      <td>5.1187</td>\n",
       "      <td>18.6266</td>\n",
       "      <td>-4.9200</td>\n",
       "      <td>5.7470</td>\n",
       "      <td>...</td>\n",
       "      <td>0.099183</td>\n",
       "      <td>0.091362</td>\n",
       "      <td>0.122584</td>\n",
       "      <td>0.113960</td>\n",
       "      <td>0.096739</td>\n",
       "      <td>0.105705</td>\n",
       "      <td>0.116408</td>\n",
       "      <td>0.118333</td>\n",
       "      <td>0.119658</td>\n",
       "      <td>0.111716</td>\n",
       "    </tr>\n",
       "    <tr>\n",
       "      <th>1</th>\n",
       "      <td>11.5006</td>\n",
       "      <td>-4.1473</td>\n",
       "      <td>13.8588</td>\n",
       "      <td>5.3890</td>\n",
       "      <td>12.3622</td>\n",
       "      <td>7.0433</td>\n",
       "      <td>5.6208</td>\n",
       "      <td>16.5338</td>\n",
       "      <td>3.1468</td>\n",
       "      <td>8.0851</td>\n",
       "      <td>...</td>\n",
       "      <td>0.096237</td>\n",
       "      <td>0.088009</td>\n",
       "      <td>0.110147</td>\n",
       "      <td>0.121910</td>\n",
       "      <td>0.138169</td>\n",
       "      <td>0.113736</td>\n",
       "      <td>0.107865</td>\n",
       "      <td>0.097574</td>\n",
       "      <td>0.108672</td>\n",
       "      <td>0.111716</td>\n",
       "    </tr>\n",
       "    <tr>\n",
       "      <th>2</th>\n",
       "      <td>8.6093</td>\n",
       "      <td>-2.7457</td>\n",
       "      <td>12.0805</td>\n",
       "      <td>7.8928</td>\n",
       "      <td>10.5825</td>\n",
       "      <td>-9.0837</td>\n",
       "      <td>6.9427</td>\n",
       "      <td>14.6155</td>\n",
       "      <td>-4.9193</td>\n",
       "      <td>5.9525</td>\n",
       "      <td>...</td>\n",
       "      <td>0.115670</td>\n",
       "      <td>0.123430</td>\n",
       "      <td>0.122584</td>\n",
       "      <td>0.110986</td>\n",
       "      <td>0.168923</td>\n",
       "      <td>0.100221</td>\n",
       "      <td>0.120946</td>\n",
       "      <td>0.108170</td>\n",
       "      <td>0.123464</td>\n",
       "      <td>0.111716</td>\n",
       "    </tr>\n",
       "    <tr>\n",
       "      <th>3</th>\n",
       "      <td>11.0604</td>\n",
       "      <td>-2.1518</td>\n",
       "      <td>8.9522</td>\n",
       "      <td>7.1957</td>\n",
       "      <td>12.5846</td>\n",
       "      <td>-1.8361</td>\n",
       "      <td>5.8428</td>\n",
       "      <td>14.9250</td>\n",
       "      <td>-5.8609</td>\n",
       "      <td>8.2450</td>\n",
       "      <td>...</td>\n",
       "      <td>0.096123</td>\n",
       "      <td>0.112031</td>\n",
       "      <td>0.109400</td>\n",
       "      <td>0.105148</td>\n",
       "      <td>0.103840</td>\n",
       "      <td>0.089617</td>\n",
       "      <td>0.091500</td>\n",
       "      <td>0.098859</td>\n",
       "      <td>0.119977</td>\n",
       "      <td>0.111716</td>\n",
       "    </tr>\n",
       "    <tr>\n",
       "      <th>4</th>\n",
       "      <td>9.8369</td>\n",
       "      <td>-1.4834</td>\n",
       "      <td>12.8746</td>\n",
       "      <td>6.6375</td>\n",
       "      <td>12.2772</td>\n",
       "      <td>2.4486</td>\n",
       "      <td>5.9405</td>\n",
       "      <td>19.2514</td>\n",
       "      <td>6.2654</td>\n",
       "      <td>7.6784</td>\n",
       "      <td>...</td>\n",
       "      <td>0.125139</td>\n",
       "      <td>0.125499</td>\n",
       "      <td>0.107870</td>\n",
       "      <td>0.125140</td>\n",
       "      <td>0.089701</td>\n",
       "      <td>0.102097</td>\n",
       "      <td>0.102397</td>\n",
       "      <td>0.098859</td>\n",
       "      <td>0.119977</td>\n",
       "      <td>0.111716</td>\n",
       "    </tr>\n",
       "    <tr>\n",
       "      <th>5</th>\n",
       "      <td>11.4763</td>\n",
       "      <td>-2.3182</td>\n",
       "      <td>12.6080</td>\n",
       "      <td>8.6264</td>\n",
       "      <td>10.9621</td>\n",
       "      <td>3.5609</td>\n",
       "      <td>4.5322</td>\n",
       "      <td>15.2255</td>\n",
       "      <td>3.5855</td>\n",
       "      <td>5.9790</td>\n",
       "      <td>...</td>\n",
       "      <td>0.112636</td>\n",
       "      <td>0.090022</td>\n",
       "      <td>0.112031</td>\n",
       "      <td>0.099169</td>\n",
       "      <td>0.108952</td>\n",
       "      <td>0.099789</td>\n",
       "      <td>0.108287</td>\n",
       "      <td>0.103410</td>\n",
       "      <td>0.111607</td>\n",
       "      <td>0.111716</td>\n",
       "    </tr>\n",
       "    <tr>\n",
       "      <th>6</th>\n",
       "      <td>11.8091</td>\n",
       "      <td>-0.0832</td>\n",
       "      <td>9.3494</td>\n",
       "      <td>4.2916</td>\n",
       "      <td>11.1355</td>\n",
       "      <td>-8.0198</td>\n",
       "      <td>6.1961</td>\n",
       "      <td>12.0771</td>\n",
       "      <td>-4.3781</td>\n",
       "      <td>7.9232</td>\n",
       "      <td>...</td>\n",
       "      <td>0.089056</td>\n",
       "      <td>0.088840</td>\n",
       "      <td>0.109059</td>\n",
       "      <td>0.127119</td>\n",
       "      <td>0.103604</td>\n",
       "      <td>0.121130</td>\n",
       "      <td>0.118110</td>\n",
       "      <td>0.185731</td>\n",
       "      <td>0.102762</td>\n",
       "      <td>0.111716</td>\n",
       "    </tr>\n",
       "    <tr>\n",
       "      <th>7</th>\n",
       "      <td>13.5580</td>\n",
       "      <td>-7.9881</td>\n",
       "      <td>13.8776</td>\n",
       "      <td>7.5985</td>\n",
       "      <td>8.6543</td>\n",
       "      <td>0.8310</td>\n",
       "      <td>5.6890</td>\n",
       "      <td>22.3262</td>\n",
       "      <td>5.0647</td>\n",
       "      <td>7.1971</td>\n",
       "      <td>...</td>\n",
       "      <td>0.101136</td>\n",
       "      <td>0.087671</td>\n",
       "      <td>0.120360</td>\n",
       "      <td>0.101963</td>\n",
       "      <td>0.101488</td>\n",
       "      <td>0.134106</td>\n",
       "      <td>0.101401</td>\n",
       "      <td>0.242931</td>\n",
       "      <td>0.115680</td>\n",
       "      <td>0.111716</td>\n",
       "    </tr>\n",
       "    <tr>\n",
       "      <th>8</th>\n",
       "      <td>16.1071</td>\n",
       "      <td>2.4426</td>\n",
       "      <td>13.9307</td>\n",
       "      <td>5.6327</td>\n",
       "      <td>8.8014</td>\n",
       "      <td>6.1630</td>\n",
       "      <td>4.4514</td>\n",
       "      <td>10.1854</td>\n",
       "      <td>-3.1882</td>\n",
       "      <td>9.0827</td>\n",
       "      <td>...</td>\n",
       "      <td>0.210241</td>\n",
       "      <td>0.123430</td>\n",
       "      <td>0.109400</td>\n",
       "      <td>0.119865</td>\n",
       "      <td>0.119798</td>\n",
       "      <td>0.115575</td>\n",
       "      <td>0.100746</td>\n",
       "      <td>0.102883</td>\n",
       "      <td>0.098698</td>\n",
       "      <td>0.111716</td>\n",
       "    </tr>\n",
       "    <tr>\n",
       "      <th>9</th>\n",
       "      <td>12.5088</td>\n",
       "      <td>1.9743</td>\n",
       "      <td>8.8960</td>\n",
       "      <td>5.4508</td>\n",
       "      <td>13.6043</td>\n",
       "      <td>-16.2859</td>\n",
       "      <td>6.0637</td>\n",
       "      <td>16.8410</td>\n",
       "      <td>0.1287</td>\n",
       "      <td>7.9682</td>\n",
       "      <td>...</td>\n",
       "      <td>0.105490</td>\n",
       "      <td>0.112955</td>\n",
       "      <td>0.115429</td>\n",
       "      <td>0.119865</td>\n",
       "      <td>0.114773</td>\n",
       "      <td>0.000000</td>\n",
       "      <td>0.120147</td>\n",
       "      <td>0.087146</td>\n",
       "      <td>0.147701</td>\n",
       "      <td>0.111716</td>\n",
       "    </tr>\n",
       "    <tr>\n",
       "      <th>10</th>\n",
       "      <td>5.0702</td>\n",
       "      <td>-0.5447</td>\n",
       "      <td>9.5900</td>\n",
       "      <td>4.2987</td>\n",
       "      <td>12.3910</td>\n",
       "      <td>-18.8687</td>\n",
       "      <td>6.0382</td>\n",
       "      <td>14.3797</td>\n",
       "      <td>-0.4711</td>\n",
       "      <td>7.3198</td>\n",
       "      <td>...</td>\n",
       "      <td>0.104575</td>\n",
       "      <td>0.128621</td>\n",
       "      <td>0.115073</td>\n",
       "      <td>0.099169</td>\n",
       "      <td>0.110928</td>\n",
       "      <td>0.114790</td>\n",
       "      <td>0.106812</td>\n",
       "      <td>0.101433</td>\n",
       "      <td>0.113426</td>\n",
       "      <td>0.111716</td>\n",
       "    </tr>\n",
       "    <tr>\n",
       "      <th>11</th>\n",
       "      <td>12.7188</td>\n",
       "      <td>-7.9750</td>\n",
       "      <td>10.3757</td>\n",
       "      <td>9.0101</td>\n",
       "      <td>12.8570</td>\n",
       "      <td>-12.0852</td>\n",
       "      <td>5.6464</td>\n",
       "      <td>11.8370</td>\n",
       "      <td>1.2953</td>\n",
       "      <td>6.8093</td>\n",
       "      <td>...</td>\n",
       "      <td>0.091450</td>\n",
       "      <td>0.149306</td>\n",
       "      <td>0.110506</td>\n",
       "      <td>0.121495</td>\n",
       "      <td>0.138506</td>\n",
       "      <td>0.106946</td>\n",
       "      <td>0.096582</td>\n",
       "      <td>0.099837</td>\n",
       "      <td>0.113270</td>\n",
       "      <td>0.111716</td>\n",
       "    </tr>\n",
       "    <tr>\n",
       "      <th>12</th>\n",
       "      <td>8.7671</td>\n",
       "      <td>-4.6154</td>\n",
       "      <td>9.7242</td>\n",
       "      <td>7.4242</td>\n",
       "      <td>9.0254</td>\n",
       "      <td>1.4247</td>\n",
       "      <td>6.2815</td>\n",
       "      <td>12.3143</td>\n",
       "      <td>5.6964</td>\n",
       "      <td>6.0197</td>\n",
       "      <td>...</td>\n",
       "      <td>0.098209</td>\n",
       "      <td>0.129286</td>\n",
       "      <td>0.109400</td>\n",
       "      <td>0.105530</td>\n",
       "      <td>0.110368</td>\n",
       "      <td>0.108544</td>\n",
       "      <td>0.112500</td>\n",
       "      <td>0.094093</td>\n",
       "      <td>0.098698</td>\n",
       "      <td>0.111716</td>\n",
       "    </tr>\n",
       "    <tr>\n",
       "      <th>13</th>\n",
       "      <td>16.3699</td>\n",
       "      <td>1.5934</td>\n",
       "      <td>16.7395</td>\n",
       "      <td>7.3330</td>\n",
       "      <td>12.1450</td>\n",
       "      <td>5.9004</td>\n",
       "      <td>4.8222</td>\n",
       "      <td>20.9729</td>\n",
       "      <td>1.1064</td>\n",
       "      <td>8.6978</td>\n",
       "      <td>...</td>\n",
       "      <td>0.098209</td>\n",
       "      <td>0.101482</td>\n",
       "      <td>0.118539</td>\n",
       "      <td>0.110925</td>\n",
       "      <td>0.103840</td>\n",
       "      <td>0.123620</td>\n",
       "      <td>0.115186</td>\n",
       "      <td>0.108280</td>\n",
       "      <td>0.116548</td>\n",
       "      <td>0.111716</td>\n",
       "    </tr>\n",
       "    <tr>\n",
       "      <th>14</th>\n",
       "      <td>13.8080</td>\n",
       "      <td>5.0514</td>\n",
       "      <td>17.2611</td>\n",
       "      <td>8.5120</td>\n",
       "      <td>12.8517</td>\n",
       "      <td>-9.1622</td>\n",
       "      <td>5.7327</td>\n",
       "      <td>21.0517</td>\n",
       "      <td>-4.5117</td>\n",
       "      <td>6.8116</td>\n",
       "      <td>...</td>\n",
       "      <td>0.125642</td>\n",
       "      <td>0.103955</td>\n",
       "      <td>0.122584</td>\n",
       "      <td>0.111474</td>\n",
       "      <td>0.120623</td>\n",
       "      <td>0.099789</td>\n",
       "      <td>0.094580</td>\n",
       "      <td>0.000000</td>\n",
       "      <td>0.114191</td>\n",
       "      <td>0.111716</td>\n",
       "    </tr>\n",
       "    <tr>\n",
       "      <th>15</th>\n",
       "      <td>3.9416</td>\n",
       "      <td>2.6562</td>\n",
       "      <td>13.3633</td>\n",
       "      <td>6.8895</td>\n",
       "      <td>12.2806</td>\n",
       "      <td>-16.1620</td>\n",
       "      <td>5.6979</td>\n",
       "      <td>14.4573</td>\n",
       "      <td>-4.3144</td>\n",
       "      <td>7.1290</td>\n",
       "      <td>...</td>\n",
       "      <td>0.112323</td>\n",
       "      <td>0.128336</td>\n",
       "      <td>0.108746</td>\n",
       "      <td>0.105547</td>\n",
       "      <td>0.104190</td>\n",
       "      <td>0.118443</td>\n",
       "      <td>0.127563</td>\n",
       "      <td>0.107945</td>\n",
       "      <td>0.111607</td>\n",
       "      <td>0.111716</td>\n",
       "    </tr>\n",
       "    <tr>\n",
       "      <th>16</th>\n",
       "      <td>5.0615</td>\n",
       "      <td>0.2689</td>\n",
       "      <td>15.1325</td>\n",
       "      <td>3.6587</td>\n",
       "      <td>13.5276</td>\n",
       "      <td>-6.5477</td>\n",
       "      <td>5.2757</td>\n",
       "      <td>9.8710</td>\n",
       "      <td>2.5569</td>\n",
       "      <td>9.4701</td>\n",
       "      <td>...</td>\n",
       "      <td>0.106874</td>\n",
       "      <td>0.147597</td>\n",
       "      <td>0.114910</td>\n",
       "      <td>0.119420</td>\n",
       "      <td>0.114773</td>\n",
       "      <td>0.105705</td>\n",
       "      <td>0.116667</td>\n",
       "      <td>0.095003</td>\n",
       "      <td>0.143772</td>\n",
       "      <td>0.111716</td>\n",
       "    </tr>\n",
       "    <tr>\n",
       "      <th>17</th>\n",
       "      <td>8.4199</td>\n",
       "      <td>-1.8128</td>\n",
       "      <td>8.1202</td>\n",
       "      <td>5.3955</td>\n",
       "      <td>9.7184</td>\n",
       "      <td>-17.8390</td>\n",
       "      <td>4.0959</td>\n",
       "      <td>15.2860</td>\n",
       "      <td>1.9016</td>\n",
       "      <td>7.0967</td>\n",
       "      <td>...</td>\n",
       "      <td>0.119287</td>\n",
       "      <td>0.106052</td>\n",
       "      <td>0.115073</td>\n",
       "      <td>0.109581</td>\n",
       "      <td>0.095875</td>\n",
       "      <td>0.121622</td>\n",
       "      <td>0.106704</td>\n",
       "      <td>0.100850</td>\n",
       "      <td>0.114191</td>\n",
       "      <td>0.111716</td>\n",
       "    </tr>\n",
       "    <tr>\n",
       "      <th>18</th>\n",
       "      <td>4.8750</td>\n",
       "      <td>1.2646</td>\n",
       "      <td>11.9190</td>\n",
       "      <td>8.4650</td>\n",
       "      <td>10.7203</td>\n",
       "      <td>-0.6707</td>\n",
       "      <td>5.6103</td>\n",
       "      <td>16.4661</td>\n",
       "      <td>-2.6601</td>\n",
       "      <td>8.4254</td>\n",
       "      <td>...</td>\n",
       "      <td>0.091450</td>\n",
       "      <td>0.115169</td>\n",
       "      <td>0.087671</td>\n",
       "      <td>0.097481</td>\n",
       "      <td>0.089701</td>\n",
       "      <td>0.109198</td>\n",
       "      <td>0.122992</td>\n",
       "      <td>0.083285</td>\n",
       "      <td>0.094549</td>\n",
       "      <td>0.111716</td>\n",
       "    </tr>\n",
       "    <tr>\n",
       "      <th>19</th>\n",
       "      <td>4.4090</td>\n",
       "      <td>-0.7863</td>\n",
       "      <td>15.1828</td>\n",
       "      <td>8.0631</td>\n",
       "      <td>11.2831</td>\n",
       "      <td>-0.7356</td>\n",
       "      <td>6.3801</td>\n",
       "      <td>16.0218</td>\n",
       "      <td>2.4621</td>\n",
       "      <td>8.2108</td>\n",
       "      <td>...</td>\n",
       "      <td>0.105490</td>\n",
       "      <td>0.091005</td>\n",
       "      <td>0.121262</td>\n",
       "      <td>0.097481</td>\n",
       "      <td>0.097748</td>\n",
       "      <td>0.109101</td>\n",
       "      <td>0.101610</td>\n",
       "      <td>0.108170</td>\n",
       "      <td>0.114365</td>\n",
       "      <td>0.111716</td>\n",
       "    </tr>\n",
       "    <tr>\n",
       "      <th>20</th>\n",
       "      <td>12.6700</td>\n",
       "      <td>-2.0221</td>\n",
       "      <td>6.8930</td>\n",
       "      <td>6.9152</td>\n",
       "      <td>9.5677</td>\n",
       "      <td>-11.2672</td>\n",
       "      <td>5.6061</td>\n",
       "      <td>16.2354</td>\n",
       "      <td>4.0217</td>\n",
       "      <td>6.4026</td>\n",
       "      <td>...</td>\n",
       "      <td>0.087852</td>\n",
       "      <td>0.125499</td>\n",
       "      <td>0.126251</td>\n",
       "      <td>0.125563</td>\n",
       "      <td>0.104190</td>\n",
       "      <td>0.121130</td>\n",
       "      <td>0.105263</td>\n",
       "      <td>0.000000</td>\n",
       "      <td>0.084746</td>\n",
       "      <td>0.111716</td>\n",
       "    </tr>\n",
       "    <tr>\n",
       "      <th>21</th>\n",
       "      <td>8.3918</td>\n",
       "      <td>1.4806</td>\n",
       "      <td>12.9804</td>\n",
       "      <td>7.5538</td>\n",
       "      <td>11.1531</td>\n",
       "      <td>-14.7776</td>\n",
       "      <td>5.9987</td>\n",
       "      <td>15.5148</td>\n",
       "      <td>-5.5531</td>\n",
       "      <td>6.9881</td>\n",
       "      <td>...</td>\n",
       "      <td>0.088472</td>\n",
       "      <td>0.119524</td>\n",
       "      <td>0.120360</td>\n",
       "      <td>0.101963</td>\n",
       "      <td>0.103840</td>\n",
       "      <td>0.101961</td>\n",
       "      <td>0.124931</td>\n",
       "      <td>0.098214</td>\n",
       "      <td>0.144744</td>\n",
       "      <td>0.111716</td>\n",
       "    </tr>\n",
       "    <tr>\n",
       "      <th>22</th>\n",
       "      <td>10.2031</td>\n",
       "      <td>0.1925</td>\n",
       "      <td>14.0238</td>\n",
       "      <td>7.0345</td>\n",
       "      <td>11.8514</td>\n",
       "      <td>13.8830</td>\n",
       "      <td>6.4040</td>\n",
       "      <td>18.0058</td>\n",
       "      <td>-4.5693</td>\n",
       "      <td>9.5722</td>\n",
       "      <td>...</td>\n",
       "      <td>0.096895</td>\n",
       "      <td>0.158711</td>\n",
       "      <td>0.095648</td>\n",
       "      <td>0.156451</td>\n",
       "      <td>0.111234</td>\n",
       "      <td>0.094851</td>\n",
       "      <td>0.103205</td>\n",
       "      <td>0.242931</td>\n",
       "      <td>0.099114</td>\n",
       "      <td>0.111716</td>\n",
       "    </tr>\n",
       "    <tr>\n",
       "      <th>23</th>\n",
       "      <td>15.0029</td>\n",
       "      <td>-9.3439</td>\n",
       "      <td>10.3790</td>\n",
       "      <td>8.3226</td>\n",
       "      <td>13.0204</td>\n",
       "      <td>-5.0744</td>\n",
       "      <td>5.2489</td>\n",
       "      <td>11.6845</td>\n",
       "      <td>2.4277</td>\n",
       "      <td>6.6768</td>\n",
       "      <td>...</td>\n",
       "      <td>0.097711</td>\n",
       "      <td>0.090022</td>\n",
       "      <td>0.109400</td>\n",
       "      <td>0.127119</td>\n",
       "      <td>0.138506</td>\n",
       "      <td>0.099789</td>\n",
       "      <td>0.106704</td>\n",
       "      <td>0.118333</td>\n",
       "      <td>0.109081</td>\n",
       "      <td>0.111716</td>\n",
       "    </tr>\n",
       "    <tr>\n",
       "      <th>24</th>\n",
       "      <td>5.9240</td>\n",
       "      <td>-3.7285</td>\n",
       "      <td>11.0995</td>\n",
       "      <td>4.6969</td>\n",
       "      <td>11.7363</td>\n",
       "      <td>-20.4102</td>\n",
       "      <td>5.8125</td>\n",
       "      <td>15.9027</td>\n",
       "      <td>-2.5871</td>\n",
       "      <td>8.1194</td>\n",
       "      <td>...</td>\n",
       "      <td>0.114838</td>\n",
       "      <td>0.119524</td>\n",
       "      <td>0.096099</td>\n",
       "      <td>0.105530</td>\n",
       "      <td>0.105035</td>\n",
       "      <td>0.111556</td>\n",
       "      <td>0.098847</td>\n",
       "      <td>0.101433</td>\n",
       "      <td>0.108672</td>\n",
       "      <td>0.111716</td>\n",
       "    </tr>\n",
       "    <tr>\n",
       "      <th>25</th>\n",
       "      <td>8.2703</td>\n",
       "      <td>-5.6854</td>\n",
       "      <td>12.6862</td>\n",
       "      <td>7.2755</td>\n",
       "      <td>12.3713</td>\n",
       "      <td>-7.7521</td>\n",
       "      <td>6.7252</td>\n",
       "      <td>18.4270</td>\n",
       "      <td>-2.7730</td>\n",
       "      <td>7.7828</td>\n",
       "      <td>...</td>\n",
       "      <td>0.109853</td>\n",
       "      <td>0.120047</td>\n",
       "      <td>0.110368</td>\n",
       "      <td>0.094143</td>\n",
       "      <td>0.106866</td>\n",
       "      <td>0.108544</td>\n",
       "      <td>0.090860</td>\n",
       "      <td>0.086169</td>\n",
       "      <td>0.102762</td>\n",
       "      <td>0.111716</td>\n",
       "    </tr>\n",
       "    <tr>\n",
       "      <th>26</th>\n",
       "      <td>15.6567</td>\n",
       "      <td>-4.4950</td>\n",
       "      <td>10.4867</td>\n",
       "      <td>3.8187</td>\n",
       "      <td>8.8813</td>\n",
       "      <td>-6.0295</td>\n",
       "      <td>5.5224</td>\n",
       "      <td>17.6964</td>\n",
       "      <td>-0.7919</td>\n",
       "      <td>6.3417</td>\n",
       "      <td>...</td>\n",
       "      <td>0.121562</td>\n",
       "      <td>0.119524</td>\n",
       "      <td>0.103882</td>\n",
       "      <td>0.097808</td>\n",
       "      <td>0.118866</td>\n",
       "      <td>0.131119</td>\n",
       "      <td>0.098139</td>\n",
       "      <td>0.104651</td>\n",
       "      <td>0.113426</td>\n",
       "      <td>0.111716</td>\n",
       "    </tr>\n",
       "    <tr>\n",
       "      <th>27</th>\n",
       "      <td>10.7166</td>\n",
       "      <td>-9.9800</td>\n",
       "      <td>10.9569</td>\n",
       "      <td>6.7660</td>\n",
       "      <td>10.6803</td>\n",
       "      <td>-12.9329</td>\n",
       "      <td>4.5012</td>\n",
       "      <td>17.3841</td>\n",
       "      <td>4.2400</td>\n",
       "      <td>8.5820</td>\n",
       "      <td>...</td>\n",
       "      <td>0.126975</td>\n",
       "      <td>0.125069</td>\n",
       "      <td>0.108020</td>\n",
       "      <td>0.125692</td>\n",
       "      <td>0.157200</td>\n",
       "      <td>0.121622</td>\n",
       "      <td>0.109581</td>\n",
       "      <td>0.104101</td>\n",
       "      <td>0.110423</td>\n",
       "      <td>0.111716</td>\n",
       "    </tr>\n",
       "    <tr>\n",
       "      <th>28</th>\n",
       "      <td>7.8010</td>\n",
       "      <td>4.5262</td>\n",
       "      <td>8.9291</td>\n",
       "      <td>8.4884</td>\n",
       "      <td>12.8435</td>\n",
       "      <td>-1.2632</td>\n",
       "      <td>5.0383</td>\n",
       "      <td>13.6339</td>\n",
       "      <td>-0.0472</td>\n",
       "      <td>5.9016</td>\n",
       "      <td>...</td>\n",
       "      <td>0.101073</td>\n",
       "      <td>0.147597</td>\n",
       "      <td>0.107870</td>\n",
       "      <td>0.112500</td>\n",
       "      <td>0.136782</td>\n",
       "      <td>0.105705</td>\n",
       "      <td>0.093178</td>\n",
       "      <td>0.120181</td>\n",
       "      <td>0.111965</td>\n",
       "      <td>0.111716</td>\n",
       "    </tr>\n",
       "    <tr>\n",
       "      <th>29</th>\n",
       "      <td>5.3301</td>\n",
       "      <td>-2.6064</td>\n",
       "      <td>13.1913</td>\n",
       "      <td>3.1193</td>\n",
       "      <td>6.6483</td>\n",
       "      <td>-6.5659</td>\n",
       "      <td>5.9064</td>\n",
       "      <td>15.2341</td>\n",
       "      <td>1.2915</td>\n",
       "      <td>9.1168</td>\n",
       "      <td>...</td>\n",
       "      <td>0.110497</td>\n",
       "      <td>0.102052</td>\n",
       "      <td>0.125612</td>\n",
       "      <td>0.101963</td>\n",
       "      <td>0.119798</td>\n",
       "      <td>0.103219</td>\n",
       "      <td>0.106704</td>\n",
       "      <td>0.084545</td>\n",
       "      <td>0.104948</td>\n",
       "      <td>0.111716</td>\n",
       "    </tr>\n",
       "    <tr>\n",
       "      <th>...</th>\n",
       "      <td>...</td>\n",
       "      <td>...</td>\n",
       "      <td>...</td>\n",
       "      <td>...</td>\n",
       "      <td>...</td>\n",
       "      <td>...</td>\n",
       "      <td>...</td>\n",
       "      <td>...</td>\n",
       "      <td>...</td>\n",
       "      <td>...</td>\n",
       "      <td>...</td>\n",
       "      <td>...</td>\n",
       "      <td>...</td>\n",
       "      <td>...</td>\n",
       "      <td>...</td>\n",
       "      <td>...</td>\n",
       "      <td>...</td>\n",
       "      <td>...</td>\n",
       "      <td>...</td>\n",
       "      <td>...</td>\n",
       "      <td>...</td>\n",
       "    </tr>\n",
       "    <tr>\n",
       "      <th>199970</th>\n",
       "      <td>12.7260</td>\n",
       "      <td>-1.6706</td>\n",
       "      <td>12.3598</td>\n",
       "      <td>9.1114</td>\n",
       "      <td>10.1868</td>\n",
       "      <td>-9.5857</td>\n",
       "      <td>5.3494</td>\n",
       "      <td>23.6362</td>\n",
       "      <td>2.0626</td>\n",
       "      <td>6.2033</td>\n",
       "      <td>...</td>\n",
       "      <td>0.125139</td>\n",
       "      <td>0.125499</td>\n",
       "      <td>0.123429</td>\n",
       "      <td>0.156451</td>\n",
       "      <td>0.110294</td>\n",
       "      <td>0.093422</td>\n",
       "      <td>0.118110</td>\n",
       "      <td>0.100850</td>\n",
       "      <td>0.113426</td>\n",
       "      <td>0.000000</td>\n",
       "    </tr>\n",
       "    <tr>\n",
       "      <th>199971</th>\n",
       "      <td>9.4700</td>\n",
       "      <td>-6.7655</td>\n",
       "      <td>12.6591</td>\n",
       "      <td>9.1842</td>\n",
       "      <td>11.8260</td>\n",
       "      <td>0.0264</td>\n",
       "      <td>5.0633</td>\n",
       "      <td>20.7034</td>\n",
       "      <td>2.4171</td>\n",
       "      <td>8.2646</td>\n",
       "      <td>...</td>\n",
       "      <td>0.124419</td>\n",
       "      <td>0.117746</td>\n",
       "      <td>0.111412</td>\n",
       "      <td>0.117355</td>\n",
       "      <td>0.100113</td>\n",
       "      <td>0.102267</td>\n",
       "      <td>0.120946</td>\n",
       "      <td>0.098126</td>\n",
       "      <td>0.119658</td>\n",
       "      <td>0.000000</td>\n",
       "    </tr>\n",
       "    <tr>\n",
       "      <th>199972</th>\n",
       "      <td>13.3243</td>\n",
       "      <td>1.0870</td>\n",
       "      <td>8.4555</td>\n",
       "      <td>3.6929</td>\n",
       "      <td>11.2423</td>\n",
       "      <td>1.3986</td>\n",
       "      <td>4.4765</td>\n",
       "      <td>19.1021</td>\n",
       "      <td>-2.6573</td>\n",
       "      <td>8.6612</td>\n",
       "      <td>...</td>\n",
       "      <td>0.126219</td>\n",
       "      <td>0.085084</td>\n",
       "      <td>0.103429</td>\n",
       "      <td>0.121910</td>\n",
       "      <td>0.114051</td>\n",
       "      <td>0.092077</td>\n",
       "      <td>0.107386</td>\n",
       "      <td>0.108280</td>\n",
       "      <td>0.121023</td>\n",
       "      <td>0.000000</td>\n",
       "    </tr>\n",
       "    <tr>\n",
       "      <th>199973</th>\n",
       "      <td>14.2830</td>\n",
       "      <td>-1.8421</td>\n",
       "      <td>11.3664</td>\n",
       "      <td>8.5772</td>\n",
       "      <td>8.8645</td>\n",
       "      <td>-13.8986</td>\n",
       "      <td>4.1603</td>\n",
       "      <td>19.4591</td>\n",
       "      <td>5.6445</td>\n",
       "      <td>9.2011</td>\n",
       "      <td>...</td>\n",
       "      <td>0.123665</td>\n",
       "      <td>0.086980</td>\n",
       "      <td>0.106190</td>\n",
       "      <td>0.114411</td>\n",
       "      <td>0.104918</td>\n",
       "      <td>0.111717</td>\n",
       "      <td>0.098139</td>\n",
       "      <td>0.092432</td>\n",
       "      <td>0.109666</td>\n",
       "      <td>0.000000</td>\n",
       "    </tr>\n",
       "    <tr>\n",
       "      <th>199974</th>\n",
       "      <td>4.5171</td>\n",
       "      <td>-5.2068</td>\n",
       "      <td>7.6007</td>\n",
       "      <td>8.1426</td>\n",
       "      <td>10.4433</td>\n",
       "      <td>-17.2322</td>\n",
       "      <td>4.4205</td>\n",
       "      <td>20.3407</td>\n",
       "      <td>-1.0196</td>\n",
       "      <td>5.6569</td>\n",
       "      <td>...</td>\n",
       "      <td>0.108493</td>\n",
       "      <td>0.091877</td>\n",
       "      <td>0.107451</td>\n",
       "      <td>0.119865</td>\n",
       "      <td>0.105550</td>\n",
       "      <td>0.000000</td>\n",
       "      <td>0.109581</td>\n",
       "      <td>0.101433</td>\n",
       "      <td>0.107609</td>\n",
       "      <td>0.000000</td>\n",
       "    </tr>\n",
       "    <tr>\n",
       "      <th>199975</th>\n",
       "      <td>13.4796</td>\n",
       "      <td>2.7000</td>\n",
       "      <td>10.9653</td>\n",
       "      <td>9.1581</td>\n",
       "      <td>13.2959</td>\n",
       "      <td>-3.0995</td>\n",
       "      <td>5.1483</td>\n",
       "      <td>20.9766</td>\n",
       "      <td>1.2932</td>\n",
       "      <td>7.6743</td>\n",
       "      <td>...</td>\n",
       "      <td>0.095676</td>\n",
       "      <td>0.095662</td>\n",
       "      <td>0.106190</td>\n",
       "      <td>0.112279</td>\n",
       "      <td>0.106866</td>\n",
       "      <td>0.101523</td>\n",
       "      <td>0.107490</td>\n",
       "      <td>0.101161</td>\n",
       "      <td>0.099114</td>\n",
       "      <td>0.000000</td>\n",
       "    </tr>\n",
       "    <tr>\n",
       "      <th>199976</th>\n",
       "      <td>12.6337</td>\n",
       "      <td>-6.9793</td>\n",
       "      <td>9.8703</td>\n",
       "      <td>9.9180</td>\n",
       "      <td>10.8092</td>\n",
       "      <td>2.5809</td>\n",
       "      <td>6.7764</td>\n",
       "      <td>18.3443</td>\n",
       "      <td>4.1498</td>\n",
       "      <td>7.8825</td>\n",
       "      <td>...</td>\n",
       "      <td>0.123256</td>\n",
       "      <td>0.116358</td>\n",
       "      <td>0.116804</td>\n",
       "      <td>0.101466</td>\n",
       "      <td>0.122927</td>\n",
       "      <td>0.104097</td>\n",
       "      <td>0.091259</td>\n",
       "      <td>0.135057</td>\n",
       "      <td>0.108211</td>\n",
       "      <td>0.000000</td>\n",
       "    </tr>\n",
       "    <tr>\n",
       "      <th>199977</th>\n",
       "      <td>10.8078</td>\n",
       "      <td>-4.6108</td>\n",
       "      <td>9.0021</td>\n",
       "      <td>9.8910</td>\n",
       "      <td>12.4514</td>\n",
       "      <td>-3.7566</td>\n",
       "      <td>4.2958</td>\n",
       "      <td>19.9677</td>\n",
       "      <td>0.8806</td>\n",
       "      <td>8.2828</td>\n",
       "      <td>...</td>\n",
       "      <td>0.098623</td>\n",
       "      <td>0.145749</td>\n",
       "      <td>0.114896</td>\n",
       "      <td>0.110986</td>\n",
       "      <td>0.111778</td>\n",
       "      <td>0.127002</td>\n",
       "      <td>0.091763</td>\n",
       "      <td>0.092432</td>\n",
       "      <td>0.094311</td>\n",
       "      <td>0.000000</td>\n",
       "    </tr>\n",
       "    <tr>\n",
       "      <th>199978</th>\n",
       "      <td>9.9317</td>\n",
       "      <td>-2.2815</td>\n",
       "      <td>11.1707</td>\n",
       "      <td>5.6826</td>\n",
       "      <td>12.7396</td>\n",
       "      <td>-4.0659</td>\n",
       "      <td>6.2569</td>\n",
       "      <td>12.7697</td>\n",
       "      <td>-2.1645</td>\n",
       "      <td>8.9019</td>\n",
       "      <td>...</td>\n",
       "      <td>0.099064</td>\n",
       "      <td>0.117746</td>\n",
       "      <td>0.115926</td>\n",
       "      <td>0.114411</td>\n",
       "      <td>0.133783</td>\n",
       "      <td>0.108939</td>\n",
       "      <td>0.124931</td>\n",
       "      <td>0.185731</td>\n",
       "      <td>0.108211</td>\n",
       "      <td>0.000000</td>\n",
       "    </tr>\n",
       "    <tr>\n",
       "      <th>199979</th>\n",
       "      <td>10.5933</td>\n",
       "      <td>-1.2672</td>\n",
       "      <td>13.6817</td>\n",
       "      <td>6.3789</td>\n",
       "      <td>12.8649</td>\n",
       "      <td>-5.4964</td>\n",
       "      <td>6.4800</td>\n",
       "      <td>13.5986</td>\n",
       "      <td>4.0315</td>\n",
       "      <td>8.8308</td>\n",
       "      <td>...</td>\n",
       "      <td>0.101136</td>\n",
       "      <td>0.127729</td>\n",
       "      <td>0.117615</td>\n",
       "      <td>0.115128</td>\n",
       "      <td>0.095035</td>\n",
       "      <td>0.000000</td>\n",
       "      <td>0.110465</td>\n",
       "      <td>0.118719</td>\n",
       "      <td>0.114191</td>\n",
       "      <td>0.000000</td>\n",
       "    </tr>\n",
       "    <tr>\n",
       "      <th>199980</th>\n",
       "      <td>13.4136</td>\n",
       "      <td>5.3912</td>\n",
       "      <td>9.6202</td>\n",
       "      <td>8.5025</td>\n",
       "      <td>12.0951</td>\n",
       "      <td>11.3431</td>\n",
       "      <td>5.8323</td>\n",
       "      <td>12.1429</td>\n",
       "      <td>-3.1511</td>\n",
       "      <td>6.6322</td>\n",
       "      <td>...</td>\n",
       "      <td>0.081818</td>\n",
       "      <td>0.088840</td>\n",
       "      <td>0.111412</td>\n",
       "      <td>0.110556</td>\n",
       "      <td>0.140573</td>\n",
       "      <td>0.101225</td>\n",
       "      <td>0.105791</td>\n",
       "      <td>0.114148</td>\n",
       "      <td>0.100054</td>\n",
       "      <td>0.000000</td>\n",
       "    </tr>\n",
       "    <tr>\n",
       "      <th>199981</th>\n",
       "      <td>7.9218</td>\n",
       "      <td>-5.7464</td>\n",
       "      <td>11.4171</td>\n",
       "      <td>6.7972</td>\n",
       "      <td>11.6260</td>\n",
       "      <td>-8.7730</td>\n",
       "      <td>5.4601</td>\n",
       "      <td>12.1401</td>\n",
       "      <td>5.1918</td>\n",
       "      <td>8.2214</td>\n",
       "      <td>...</td>\n",
       "      <td>0.103487</td>\n",
       "      <td>0.112403</td>\n",
       "      <td>0.104575</td>\n",
       "      <td>0.156451</td>\n",
       "      <td>0.101117</td>\n",
       "      <td>0.102267</td>\n",
       "      <td>0.108123</td>\n",
       "      <td>0.104651</td>\n",
       "      <td>0.104462</td>\n",
       "      <td>0.000000</td>\n",
       "    </tr>\n",
       "    <tr>\n",
       "      <th>199982</th>\n",
       "      <td>7.2189</td>\n",
       "      <td>1.6606</td>\n",
       "      <td>10.4651</td>\n",
       "      <td>4.4382</td>\n",
       "      <td>10.5562</td>\n",
       "      <td>-5.2083</td>\n",
       "      <td>4.7197</td>\n",
       "      <td>10.7883</td>\n",
       "      <td>-8.1002</td>\n",
       "      <td>7.6637</td>\n",
       "      <td>...</td>\n",
       "      <td>0.099064</td>\n",
       "      <td>0.108672</td>\n",
       "      <td>0.106593</td>\n",
       "      <td>0.121910</td>\n",
       "      <td>0.107045</td>\n",
       "      <td>0.134106</td>\n",
       "      <td>0.110465</td>\n",
       "      <td>0.100850</td>\n",
       "      <td>0.110027</td>\n",
       "      <td>0.000000</td>\n",
       "    </tr>\n",
       "    <tr>\n",
       "      <th>199983</th>\n",
       "      <td>11.8527</td>\n",
       "      <td>5.4321</td>\n",
       "      <td>12.7268</td>\n",
       "      <td>10.2392</td>\n",
       "      <td>12.4740</td>\n",
       "      <td>-14.6939</td>\n",
       "      <td>6.6544</td>\n",
       "      <td>14.1274</td>\n",
       "      <td>-0.4182</td>\n",
       "      <td>8.7811</td>\n",
       "      <td>...</td>\n",
       "      <td>0.101043</td>\n",
       "      <td>0.116723</td>\n",
       "      <td>0.110506</td>\n",
       "      <td>0.120854</td>\n",
       "      <td>0.090862</td>\n",
       "      <td>0.113270</td>\n",
       "      <td>0.106812</td>\n",
       "      <td>0.118280</td>\n",
       "      <td>0.117782</td>\n",
       "      <td>0.000000</td>\n",
       "    </tr>\n",
       "    <tr>\n",
       "      <th>199984</th>\n",
       "      <td>12.7445</td>\n",
       "      <td>-6.1135</td>\n",
       "      <td>9.9046</td>\n",
       "      <td>7.5790</td>\n",
       "      <td>14.8852</td>\n",
       "      <td>4.5083</td>\n",
       "      <td>6.3353</td>\n",
       "      <td>21.5936</td>\n",
       "      <td>-4.0102</td>\n",
       "      <td>8.5375</td>\n",
       "      <td>...</td>\n",
       "      <td>0.102349</td>\n",
       "      <td>0.091877</td>\n",
       "      <td>0.128563</td>\n",
       "      <td>0.117355</td>\n",
       "      <td>0.105035</td>\n",
       "      <td>0.099782</td>\n",
       "      <td>0.113004</td>\n",
       "      <td>0.114040</td>\n",
       "      <td>0.096340</td>\n",
       "      <td>0.000000</td>\n",
       "    </tr>\n",
       "    <tr>\n",
       "      <th>199985</th>\n",
       "      <td>14.8983</td>\n",
       "      <td>2.1302</td>\n",
       "      <td>7.4747</td>\n",
       "      <td>7.1744</td>\n",
       "      <td>11.8252</td>\n",
       "      <td>13.1758</td>\n",
       "      <td>5.1614</td>\n",
       "      <td>13.7914</td>\n",
       "      <td>-4.8184</td>\n",
       "      <td>6.5496</td>\n",
       "      <td>...</td>\n",
       "      <td>0.099891</td>\n",
       "      <td>0.121951</td>\n",
       "      <td>0.115079</td>\n",
       "      <td>0.119420</td>\n",
       "      <td>0.105696</td>\n",
       "      <td>0.116667</td>\n",
       "      <td>0.103391</td>\n",
       "      <td>0.107945</td>\n",
       "      <td>0.118664</td>\n",
       "      <td>0.000000</td>\n",
       "    </tr>\n",
       "    <tr>\n",
       "      <th>199986</th>\n",
       "      <td>19.2884</td>\n",
       "      <td>-2.8384</td>\n",
       "      <td>11.9149</td>\n",
       "      <td>6.6611</td>\n",
       "      <td>12.3112</td>\n",
       "      <td>12.9244</td>\n",
       "      <td>5.6492</td>\n",
       "      <td>16.0449</td>\n",
       "      <td>5.3597</td>\n",
       "      <td>8.2981</td>\n",
       "      <td>...</td>\n",
       "      <td>0.098623</td>\n",
       "      <td>0.087051</td>\n",
       "      <td>0.095648</td>\n",
       "      <td>0.109489</td>\n",
       "      <td>0.118481</td>\n",
       "      <td>0.110865</td>\n",
       "      <td>0.110681</td>\n",
       "      <td>0.119571</td>\n",
       "      <td>0.107104</td>\n",
       "      <td>0.000000</td>\n",
       "    </tr>\n",
       "    <tr>\n",
       "      <th>199987</th>\n",
       "      <td>11.2942</td>\n",
       "      <td>3.6321</td>\n",
       "      <td>15.3300</td>\n",
       "      <td>6.6904</td>\n",
       "      <td>10.9223</td>\n",
       "      <td>-5.6537</td>\n",
       "      <td>6.0221</td>\n",
       "      <td>11.7757</td>\n",
       "      <td>-0.5163</td>\n",
       "      <td>8.9841</td>\n",
       "      <td>...</td>\n",
       "      <td>0.104575</td>\n",
       "      <td>0.143787</td>\n",
       "      <td>0.121262</td>\n",
       "      <td>0.110556</td>\n",
       "      <td>0.099944</td>\n",
       "      <td>0.102267</td>\n",
       "      <td>0.120147</td>\n",
       "      <td>0.121799</td>\n",
       "      <td>0.128134</td>\n",
       "      <td>0.000000</td>\n",
       "    </tr>\n",
       "    <tr>\n",
       "      <th>199988</th>\n",
       "      <td>6.4535</td>\n",
       "      <td>-2.1707</td>\n",
       "      <td>10.7623</td>\n",
       "      <td>8.1571</td>\n",
       "      <td>7.9365</td>\n",
       "      <td>4.6091</td>\n",
       "      <td>4.9564</td>\n",
       "      <td>11.4483</td>\n",
       "      <td>2.8938</td>\n",
       "      <td>6.5602</td>\n",
       "      <td>...</td>\n",
       "      <td>0.125642</td>\n",
       "      <td>0.112955</td>\n",
       "      <td>0.115073</td>\n",
       "      <td>0.109091</td>\n",
       "      <td>0.126280</td>\n",
       "      <td>0.102174</td>\n",
       "      <td>0.106704</td>\n",
       "      <td>0.126568</td>\n",
       "      <td>0.114333</td>\n",
       "      <td>0.000000</td>\n",
       "    </tr>\n",
       "    <tr>\n",
       "      <th>199989</th>\n",
       "      <td>9.0436</td>\n",
       "      <td>-3.0491</td>\n",
       "      <td>10.8737</td>\n",
       "      <td>7.8789</td>\n",
       "      <td>11.0275</td>\n",
       "      <td>-10.1812</td>\n",
       "      <td>6.1978</td>\n",
       "      <td>16.4603</td>\n",
       "      <td>4.4421</td>\n",
       "      <td>9.1971</td>\n",
       "      <td>...</td>\n",
       "      <td>0.088096</td>\n",
       "      <td>0.112955</td>\n",
       "      <td>0.115926</td>\n",
       "      <td>0.112279</td>\n",
       "      <td>0.103840</td>\n",
       "      <td>0.113039</td>\n",
       "      <td>0.105292</td>\n",
       "      <td>0.242931</td>\n",
       "      <td>0.107104</td>\n",
       "      <td>0.000000</td>\n",
       "    </tr>\n",
       "    <tr>\n",
       "      <th>199990</th>\n",
       "      <td>5.5416</td>\n",
       "      <td>1.7340</td>\n",
       "      <td>9.6938</td>\n",
       "      <td>5.0126</td>\n",
       "      <td>11.3049</td>\n",
       "      <td>-15.9906</td>\n",
       "      <td>5.0937</td>\n",
       "      <td>17.7960</td>\n",
       "      <td>-3.1050</td>\n",
       "      <td>6.9197</td>\n",
       "      <td>...</td>\n",
       "      <td>0.094617</td>\n",
       "      <td>0.117746</td>\n",
       "      <td>0.113975</td>\n",
       "      <td>0.100275</td>\n",
       "      <td>0.103604</td>\n",
       "      <td>0.135321</td>\n",
       "      <td>0.096582</td>\n",
       "      <td>0.118056</td>\n",
       "      <td>0.093192</td>\n",
       "      <td>0.000000</td>\n",
       "    </tr>\n",
       "    <tr>\n",
       "      <th>199991</th>\n",
       "      <td>8.7935</td>\n",
       "      <td>-4.0646</td>\n",
       "      <td>9.9480</td>\n",
       "      <td>8.6947</td>\n",
       "      <td>11.0497</td>\n",
       "      <td>-0.5129</td>\n",
       "      <td>5.6410</td>\n",
       "      <td>21.5338</td>\n",
       "      <td>5.6578</td>\n",
       "      <td>5.3441</td>\n",
       "      <td>...</td>\n",
       "      <td>0.105577</td>\n",
       "      <td>0.088203</td>\n",
       "      <td>0.103429</td>\n",
       "      <td>0.093333</td>\n",
       "      <td>0.098864</td>\n",
       "      <td>0.086413</td>\n",
       "      <td>0.105502</td>\n",
       "      <td>0.125137</td>\n",
       "      <td>0.085448</td>\n",
       "      <td>0.000000</td>\n",
       "    </tr>\n",
       "    <tr>\n",
       "      <th>199992</th>\n",
       "      <td>16.4229</td>\n",
       "      <td>-5.0254</td>\n",
       "      <td>13.1385</td>\n",
       "      <td>5.4599</td>\n",
       "      <td>13.1347</td>\n",
       "      <td>-2.6212</td>\n",
       "      <td>4.7829</td>\n",
       "      <td>14.7163</td>\n",
       "      <td>0.0779</td>\n",
       "      <td>8.9048</td>\n",
       "      <td>...</td>\n",
       "      <td>0.097711</td>\n",
       "      <td>0.125137</td>\n",
       "      <td>0.109121</td>\n",
       "      <td>0.100598</td>\n",
       "      <td>0.105696</td>\n",
       "      <td>0.106312</td>\n",
       "      <td>0.091500</td>\n",
       "      <td>0.244694</td>\n",
       "      <td>0.112155</td>\n",
       "      <td>0.000000</td>\n",
       "    </tr>\n",
       "    <tr>\n",
       "      <th>199993</th>\n",
       "      <td>14.6764</td>\n",
       "      <td>-8.1066</td>\n",
       "      <td>7.1167</td>\n",
       "      <td>2.4138</td>\n",
       "      <td>10.3845</td>\n",
       "      <td>-11.9327</td>\n",
       "      <td>4.7563</td>\n",
       "      <td>16.0455</td>\n",
       "      <td>0.4510</td>\n",
       "      <td>8.7944</td>\n",
       "      <td>...</td>\n",
       "      <td>0.090323</td>\n",
       "      <td>0.091153</td>\n",
       "      <td>0.121501</td>\n",
       "      <td>0.121910</td>\n",
       "      <td>0.112795</td>\n",
       "      <td>0.104372</td>\n",
       "      <td>0.087857</td>\n",
       "      <td>0.098214</td>\n",
       "      <td>0.104664</td>\n",
       "      <td>0.000000</td>\n",
       "    </tr>\n",
       "    <tr>\n",
       "      <th>199994</th>\n",
       "      <td>8.2964</td>\n",
       "      <td>-2.3119</td>\n",
       "      <td>11.2139</td>\n",
       "      <td>9.1357</td>\n",
       "      <td>8.5339</td>\n",
       "      <td>4.0350</td>\n",
       "      <td>5.7000</td>\n",
       "      <td>11.0102</td>\n",
       "      <td>4.9089</td>\n",
       "      <td>8.3779</td>\n",
       "      <td>...</td>\n",
       "      <td>0.144133</td>\n",
       "      <td>0.153002</td>\n",
       "      <td>0.115079</td>\n",
       "      <td>0.110986</td>\n",
       "      <td>0.103840</td>\n",
       "      <td>0.134106</td>\n",
       "      <td>0.127623</td>\n",
       "      <td>0.118719</td>\n",
       "      <td>0.111965</td>\n",
       "      <td>0.000000</td>\n",
       "    </tr>\n",
       "    <tr>\n",
       "      <th>199995</th>\n",
       "      <td>13.1678</td>\n",
       "      <td>1.0136</td>\n",
       "      <td>10.4333</td>\n",
       "      <td>6.7997</td>\n",
       "      <td>8.5974</td>\n",
       "      <td>-4.1641</td>\n",
       "      <td>4.8579</td>\n",
       "      <td>14.7625</td>\n",
       "      <td>-2.7239</td>\n",
       "      <td>6.9937</td>\n",
       "      <td>...</td>\n",
       "      <td>0.112966</td>\n",
       "      <td>0.090080</td>\n",
       "      <td>0.116602</td>\n",
       "      <td>0.127986</td>\n",
       "      <td>0.122927</td>\n",
       "      <td>0.104338</td>\n",
       "      <td>0.094557</td>\n",
       "      <td>0.098126</td>\n",
       "      <td>0.098698</td>\n",
       "      <td>0.000000</td>\n",
       "    </tr>\n",
       "    <tr>\n",
       "      <th>199996</th>\n",
       "      <td>9.7171</td>\n",
       "      <td>-9.1462</td>\n",
       "      <td>7.3443</td>\n",
       "      <td>9.1421</td>\n",
       "      <td>12.8936</td>\n",
       "      <td>3.0191</td>\n",
       "      <td>5.6888</td>\n",
       "      <td>18.8862</td>\n",
       "      <td>5.0915</td>\n",
       "      <td>6.3545</td>\n",
       "      <td>...</td>\n",
       "      <td>0.119102</td>\n",
       "      <td>0.104821</td>\n",
       "      <td>0.121469</td>\n",
       "      <td>0.114577</td>\n",
       "      <td>0.100113</td>\n",
       "      <td>0.110747</td>\n",
       "      <td>0.118110</td>\n",
       "      <td>0.098126</td>\n",
       "      <td>0.082667</td>\n",
       "      <td>0.000000</td>\n",
       "    </tr>\n",
       "    <tr>\n",
       "      <th>199997</th>\n",
       "      <td>11.6360</td>\n",
       "      <td>2.2769</td>\n",
       "      <td>11.2074</td>\n",
       "      <td>7.7649</td>\n",
       "      <td>12.6796</td>\n",
       "      <td>11.3224</td>\n",
       "      <td>5.3883</td>\n",
       "      <td>18.3794</td>\n",
       "      <td>1.6603</td>\n",
       "      <td>5.7341</td>\n",
       "      <td>...</td>\n",
       "      <td>0.091450</td>\n",
       "      <td>0.108050</td>\n",
       "      <td>0.115073</td>\n",
       "      <td>0.103017</td>\n",
       "      <td>0.108803</td>\n",
       "      <td>0.109198</td>\n",
       "      <td>0.113004</td>\n",
       "      <td>0.125424</td>\n",
       "      <td>0.094549</td>\n",
       "      <td>0.000000</td>\n",
       "    </tr>\n",
       "    <tr>\n",
       "      <th>199998</th>\n",
       "      <td>13.5745</td>\n",
       "      <td>-0.5134</td>\n",
       "      <td>13.6584</td>\n",
       "      <td>7.4855</td>\n",
       "      <td>11.2241</td>\n",
       "      <td>-11.3037</td>\n",
       "      <td>4.1959</td>\n",
       "      <td>16.8280</td>\n",
       "      <td>5.3208</td>\n",
       "      <td>8.9032</td>\n",
       "      <td>...</td>\n",
       "      <td>0.114838</td>\n",
       "      <td>0.098801</td>\n",
       "      <td>0.120360</td>\n",
       "      <td>0.111541</td>\n",
       "      <td>0.122927</td>\n",
       "      <td>0.103645</td>\n",
       "      <td>0.108782</td>\n",
       "      <td>0.242931</td>\n",
       "      <td>0.111846</td>\n",
       "      <td>0.000000</td>\n",
       "    </tr>\n",
       "    <tr>\n",
       "      <th>199999</th>\n",
       "      <td>10.4664</td>\n",
       "      <td>1.8070</td>\n",
       "      <td>10.2277</td>\n",
       "      <td>6.0654</td>\n",
       "      <td>10.0258</td>\n",
       "      <td>1.0789</td>\n",
       "      <td>4.8879</td>\n",
       "      <td>14.4892</td>\n",
       "      <td>-0.5902</td>\n",
       "      <td>7.8362</td>\n",
       "      <td>...</td>\n",
       "      <td>0.126219</td>\n",
       "      <td>0.143787</td>\n",
       "      <td>0.103763</td>\n",
       "      <td>0.107613</td>\n",
       "      <td>0.114051</td>\n",
       "      <td>0.106127</td>\n",
       "      <td>0.091500</td>\n",
       "      <td>0.101433</td>\n",
       "      <td>0.114075</td>\n",
       "      <td>0.000000</td>\n",
       "    </tr>\n",
       "  </tbody>\n",
       "</table>\n",
       "<p>400000 rows × 603 columns</p>\n",
       "</div>"
      ],
      "text/plain": [
       "          var_0   var_1    var_2    var_3    var_4    var_5   var_6    var_7  \\\n",
       "0        8.9255 -6.7863  11.9081   5.0930  11.4607  -9.2834  5.1187  18.6266   \n",
       "1       11.5006 -4.1473  13.8588   5.3890  12.3622   7.0433  5.6208  16.5338   \n",
       "2        8.6093 -2.7457  12.0805   7.8928  10.5825  -9.0837  6.9427  14.6155   \n",
       "3       11.0604 -2.1518   8.9522   7.1957  12.5846  -1.8361  5.8428  14.9250   \n",
       "4        9.8369 -1.4834  12.8746   6.6375  12.2772   2.4486  5.9405  19.2514   \n",
       "5       11.4763 -2.3182  12.6080   8.6264  10.9621   3.5609  4.5322  15.2255   \n",
       "6       11.8091 -0.0832   9.3494   4.2916  11.1355  -8.0198  6.1961  12.0771   \n",
       "7       13.5580 -7.9881  13.8776   7.5985   8.6543   0.8310  5.6890  22.3262   \n",
       "8       16.1071  2.4426  13.9307   5.6327   8.8014   6.1630  4.4514  10.1854   \n",
       "9       12.5088  1.9743   8.8960   5.4508  13.6043 -16.2859  6.0637  16.8410   \n",
       "10       5.0702 -0.5447   9.5900   4.2987  12.3910 -18.8687  6.0382  14.3797   \n",
       "11      12.7188 -7.9750  10.3757   9.0101  12.8570 -12.0852  5.6464  11.8370   \n",
       "12       8.7671 -4.6154   9.7242   7.4242   9.0254   1.4247  6.2815  12.3143   \n",
       "13      16.3699  1.5934  16.7395   7.3330  12.1450   5.9004  4.8222  20.9729   \n",
       "14      13.8080  5.0514  17.2611   8.5120  12.8517  -9.1622  5.7327  21.0517   \n",
       "15       3.9416  2.6562  13.3633   6.8895  12.2806 -16.1620  5.6979  14.4573   \n",
       "16       5.0615  0.2689  15.1325   3.6587  13.5276  -6.5477  5.2757   9.8710   \n",
       "17       8.4199 -1.8128   8.1202   5.3955   9.7184 -17.8390  4.0959  15.2860   \n",
       "18       4.8750  1.2646  11.9190   8.4650  10.7203  -0.6707  5.6103  16.4661   \n",
       "19       4.4090 -0.7863  15.1828   8.0631  11.2831  -0.7356  6.3801  16.0218   \n",
       "20      12.6700 -2.0221   6.8930   6.9152   9.5677 -11.2672  5.6061  16.2354   \n",
       "21       8.3918  1.4806  12.9804   7.5538  11.1531 -14.7776  5.9987  15.5148   \n",
       "22      10.2031  0.1925  14.0238   7.0345  11.8514  13.8830  6.4040  18.0058   \n",
       "23      15.0029 -9.3439  10.3790   8.3226  13.0204  -5.0744  5.2489  11.6845   \n",
       "24       5.9240 -3.7285  11.0995   4.6969  11.7363 -20.4102  5.8125  15.9027   \n",
       "25       8.2703 -5.6854  12.6862   7.2755  12.3713  -7.7521  6.7252  18.4270   \n",
       "26      15.6567 -4.4950  10.4867   3.8187   8.8813  -6.0295  5.5224  17.6964   \n",
       "27      10.7166 -9.9800  10.9569   6.7660  10.6803 -12.9329  4.5012  17.3841   \n",
       "28       7.8010  4.5262   8.9291   8.4884  12.8435  -1.2632  5.0383  13.6339   \n",
       "29       5.3301 -2.6064  13.1913   3.1193   6.6483  -6.5659  5.9064  15.2341   \n",
       "...         ...     ...      ...      ...      ...      ...     ...      ...   \n",
       "199970  12.7260 -1.6706  12.3598   9.1114  10.1868  -9.5857  5.3494  23.6362   \n",
       "199971   9.4700 -6.7655  12.6591   9.1842  11.8260   0.0264  5.0633  20.7034   \n",
       "199972  13.3243  1.0870   8.4555   3.6929  11.2423   1.3986  4.4765  19.1021   \n",
       "199973  14.2830 -1.8421  11.3664   8.5772   8.8645 -13.8986  4.1603  19.4591   \n",
       "199974   4.5171 -5.2068   7.6007   8.1426  10.4433 -17.2322  4.4205  20.3407   \n",
       "199975  13.4796  2.7000  10.9653   9.1581  13.2959  -3.0995  5.1483  20.9766   \n",
       "199976  12.6337 -6.9793   9.8703   9.9180  10.8092   2.5809  6.7764  18.3443   \n",
       "199977  10.8078 -4.6108   9.0021   9.8910  12.4514  -3.7566  4.2958  19.9677   \n",
       "199978   9.9317 -2.2815  11.1707   5.6826  12.7396  -4.0659  6.2569  12.7697   \n",
       "199979  10.5933 -1.2672  13.6817   6.3789  12.8649  -5.4964  6.4800  13.5986   \n",
       "199980  13.4136  5.3912   9.6202   8.5025  12.0951  11.3431  5.8323  12.1429   \n",
       "199981   7.9218 -5.7464  11.4171   6.7972  11.6260  -8.7730  5.4601  12.1401   \n",
       "199982   7.2189  1.6606  10.4651   4.4382  10.5562  -5.2083  4.7197  10.7883   \n",
       "199983  11.8527  5.4321  12.7268  10.2392  12.4740 -14.6939  6.6544  14.1274   \n",
       "199984  12.7445 -6.1135   9.9046   7.5790  14.8852   4.5083  6.3353  21.5936   \n",
       "199985  14.8983  2.1302   7.4747   7.1744  11.8252  13.1758  5.1614  13.7914   \n",
       "199986  19.2884 -2.8384  11.9149   6.6611  12.3112  12.9244  5.6492  16.0449   \n",
       "199987  11.2942  3.6321  15.3300   6.6904  10.9223  -5.6537  6.0221  11.7757   \n",
       "199988   6.4535 -2.1707  10.7623   8.1571   7.9365   4.6091  4.9564  11.4483   \n",
       "199989   9.0436 -3.0491  10.8737   7.8789  11.0275 -10.1812  6.1978  16.4603   \n",
       "199990   5.5416  1.7340   9.6938   5.0126  11.3049 -15.9906  5.0937  17.7960   \n",
       "199991   8.7935 -4.0646   9.9480   8.6947  11.0497  -0.5129  5.6410  21.5338   \n",
       "199992  16.4229 -5.0254  13.1385   5.4599  13.1347  -2.6212  4.7829  14.7163   \n",
       "199993  14.6764 -8.1066   7.1167   2.4138  10.3845 -11.9327  4.7563  16.0455   \n",
       "199994   8.2964 -2.3119  11.2139   9.1357   8.5339   4.0350  5.7000  11.0102   \n",
       "199995  13.1678  1.0136  10.4333   6.7997   8.5974  -4.1641  4.8579  14.7625   \n",
       "199996   9.7171 -9.1462   7.3443   9.1421  12.8936   3.0191  5.6888  18.8862   \n",
       "199997  11.6360  2.2769  11.2074   7.7649  12.6796  11.3224  5.3883  18.3794   \n",
       "199998  13.5745 -0.5134  13.6584   7.4855  11.2241 -11.3037  4.1959  16.8280   \n",
       "199999  10.4664  1.8070  10.2277   6.0654  10.0258   1.0789  4.8879  14.4892   \n",
       "\n",
       "         var_8   var_9     ...       var_191_rate  var_192_rate  var_193_rate  \\\n",
       "0      -4.9200  5.7470     ...           0.099183      0.091362      0.122584   \n",
       "1       3.1468  8.0851     ...           0.096237      0.088009      0.110147   \n",
       "2      -4.9193  5.9525     ...           0.115670      0.123430      0.122584   \n",
       "3      -5.8609  8.2450     ...           0.096123      0.112031      0.109400   \n",
       "4       6.2654  7.6784     ...           0.125139      0.125499      0.107870   \n",
       "5       3.5855  5.9790     ...           0.112636      0.090022      0.112031   \n",
       "6      -4.3781  7.9232     ...           0.089056      0.088840      0.109059   \n",
       "7       5.0647  7.1971     ...           0.101136      0.087671      0.120360   \n",
       "8      -3.1882  9.0827     ...           0.210241      0.123430      0.109400   \n",
       "9       0.1287  7.9682     ...           0.105490      0.112955      0.115429   \n",
       "10     -0.4711  7.3198     ...           0.104575      0.128621      0.115073   \n",
       "11      1.2953  6.8093     ...           0.091450      0.149306      0.110506   \n",
       "12      5.6964  6.0197     ...           0.098209      0.129286      0.109400   \n",
       "13      1.1064  8.6978     ...           0.098209      0.101482      0.118539   \n",
       "14     -4.5117  6.8116     ...           0.125642      0.103955      0.122584   \n",
       "15     -4.3144  7.1290     ...           0.112323      0.128336      0.108746   \n",
       "16      2.5569  9.4701     ...           0.106874      0.147597      0.114910   \n",
       "17      1.9016  7.0967     ...           0.119287      0.106052      0.115073   \n",
       "18     -2.6601  8.4254     ...           0.091450      0.115169      0.087671   \n",
       "19      2.4621  8.2108     ...           0.105490      0.091005      0.121262   \n",
       "20      4.0217  6.4026     ...           0.087852      0.125499      0.126251   \n",
       "21     -5.5531  6.9881     ...           0.088472      0.119524      0.120360   \n",
       "22     -4.5693  9.5722     ...           0.096895      0.158711      0.095648   \n",
       "23      2.4277  6.6768     ...           0.097711      0.090022      0.109400   \n",
       "24     -2.5871  8.1194     ...           0.114838      0.119524      0.096099   \n",
       "25     -2.7730  7.7828     ...           0.109853      0.120047      0.110368   \n",
       "26     -0.7919  6.3417     ...           0.121562      0.119524      0.103882   \n",
       "27      4.2400  8.5820     ...           0.126975      0.125069      0.108020   \n",
       "28     -0.0472  5.9016     ...           0.101073      0.147597      0.107870   \n",
       "29      1.2915  9.1168     ...           0.110497      0.102052      0.125612   \n",
       "...        ...     ...     ...                ...           ...           ...   \n",
       "199970  2.0626  6.2033     ...           0.125139      0.125499      0.123429   \n",
       "199971  2.4171  8.2646     ...           0.124419      0.117746      0.111412   \n",
       "199972 -2.6573  8.6612     ...           0.126219      0.085084      0.103429   \n",
       "199973  5.6445  9.2011     ...           0.123665      0.086980      0.106190   \n",
       "199974 -1.0196  5.6569     ...           0.108493      0.091877      0.107451   \n",
       "199975  1.2932  7.6743     ...           0.095676      0.095662      0.106190   \n",
       "199976  4.1498  7.8825     ...           0.123256      0.116358      0.116804   \n",
       "199977  0.8806  8.2828     ...           0.098623      0.145749      0.114896   \n",
       "199978 -2.1645  8.9019     ...           0.099064      0.117746      0.115926   \n",
       "199979  4.0315  8.8308     ...           0.101136      0.127729      0.117615   \n",
       "199980 -3.1511  6.6322     ...           0.081818      0.088840      0.111412   \n",
       "199981  5.1918  8.2214     ...           0.103487      0.112403      0.104575   \n",
       "199982 -8.1002  7.6637     ...           0.099064      0.108672      0.106593   \n",
       "199983 -0.4182  8.7811     ...           0.101043      0.116723      0.110506   \n",
       "199984 -4.0102  8.5375     ...           0.102349      0.091877      0.128563   \n",
       "199985 -4.8184  6.5496     ...           0.099891      0.121951      0.115079   \n",
       "199986  5.3597  8.2981     ...           0.098623      0.087051      0.095648   \n",
       "199987 -0.5163  8.9841     ...           0.104575      0.143787      0.121262   \n",
       "199988  2.8938  6.5602     ...           0.125642      0.112955      0.115073   \n",
       "199989  4.4421  9.1971     ...           0.088096      0.112955      0.115926   \n",
       "199990 -3.1050  6.9197     ...           0.094617      0.117746      0.113975   \n",
       "199991  5.6578  5.3441     ...           0.105577      0.088203      0.103429   \n",
       "199992  0.0779  8.9048     ...           0.097711      0.125137      0.109121   \n",
       "199993  0.4510  8.7944     ...           0.090323      0.091153      0.121501   \n",
       "199994  4.9089  8.3779     ...           0.144133      0.153002      0.115079   \n",
       "199995 -2.7239  6.9937     ...           0.112966      0.090080      0.116602   \n",
       "199996  5.0915  6.3545     ...           0.119102      0.104821      0.121469   \n",
       "199997  1.6603  5.7341     ...           0.091450      0.108050      0.115073   \n",
       "199998  5.3208  8.9032     ...           0.114838      0.098801      0.120360   \n",
       "199999 -0.5902  7.8362     ...           0.126219      0.143787      0.103763   \n",
       "\n",
       "        var_194_rate  var_195_rate  var_196_rate  var_197_rate  var_198_rate  \\\n",
       "0           0.113960      0.096739      0.105705      0.116408      0.118333   \n",
       "1           0.121910      0.138169      0.113736      0.107865      0.097574   \n",
       "2           0.110986      0.168923      0.100221      0.120946      0.108170   \n",
       "3           0.105148      0.103840      0.089617      0.091500      0.098859   \n",
       "4           0.125140      0.089701      0.102097      0.102397      0.098859   \n",
       "5           0.099169      0.108952      0.099789      0.108287      0.103410   \n",
       "6           0.127119      0.103604      0.121130      0.118110      0.185731   \n",
       "7           0.101963      0.101488      0.134106      0.101401      0.242931   \n",
       "8           0.119865      0.119798      0.115575      0.100746      0.102883   \n",
       "9           0.119865      0.114773      0.000000      0.120147      0.087146   \n",
       "10          0.099169      0.110928      0.114790      0.106812      0.101433   \n",
       "11          0.121495      0.138506      0.106946      0.096582      0.099837   \n",
       "12          0.105530      0.110368      0.108544      0.112500      0.094093   \n",
       "13          0.110925      0.103840      0.123620      0.115186      0.108280   \n",
       "14          0.111474      0.120623      0.099789      0.094580      0.000000   \n",
       "15          0.105547      0.104190      0.118443      0.127563      0.107945   \n",
       "16          0.119420      0.114773      0.105705      0.116667      0.095003   \n",
       "17          0.109581      0.095875      0.121622      0.106704      0.100850   \n",
       "18          0.097481      0.089701      0.109198      0.122992      0.083285   \n",
       "19          0.097481      0.097748      0.109101      0.101610      0.108170   \n",
       "20          0.125563      0.104190      0.121130      0.105263      0.000000   \n",
       "21          0.101963      0.103840      0.101961      0.124931      0.098214   \n",
       "22          0.156451      0.111234      0.094851      0.103205      0.242931   \n",
       "23          0.127119      0.138506      0.099789      0.106704      0.118333   \n",
       "24          0.105530      0.105035      0.111556      0.098847      0.101433   \n",
       "25          0.094143      0.106866      0.108544      0.090860      0.086169   \n",
       "26          0.097808      0.118866      0.131119      0.098139      0.104651   \n",
       "27          0.125692      0.157200      0.121622      0.109581      0.104101   \n",
       "28          0.112500      0.136782      0.105705      0.093178      0.120181   \n",
       "29          0.101963      0.119798      0.103219      0.106704      0.084545   \n",
       "...              ...           ...           ...           ...           ...   \n",
       "199970      0.156451      0.110294      0.093422      0.118110      0.100850   \n",
       "199971      0.117355      0.100113      0.102267      0.120946      0.098126   \n",
       "199972      0.121910      0.114051      0.092077      0.107386      0.108280   \n",
       "199973      0.114411      0.104918      0.111717      0.098139      0.092432   \n",
       "199974      0.119865      0.105550      0.000000      0.109581      0.101433   \n",
       "199975      0.112279      0.106866      0.101523      0.107490      0.101161   \n",
       "199976      0.101466      0.122927      0.104097      0.091259      0.135057   \n",
       "199977      0.110986      0.111778      0.127002      0.091763      0.092432   \n",
       "199978      0.114411      0.133783      0.108939      0.124931      0.185731   \n",
       "199979      0.115128      0.095035      0.000000      0.110465      0.118719   \n",
       "199980      0.110556      0.140573      0.101225      0.105791      0.114148   \n",
       "199981      0.156451      0.101117      0.102267      0.108123      0.104651   \n",
       "199982      0.121910      0.107045      0.134106      0.110465      0.100850   \n",
       "199983      0.120854      0.090862      0.113270      0.106812      0.118280   \n",
       "199984      0.117355      0.105035      0.099782      0.113004      0.114040   \n",
       "199985      0.119420      0.105696      0.116667      0.103391      0.107945   \n",
       "199986      0.109489      0.118481      0.110865      0.110681      0.119571   \n",
       "199987      0.110556      0.099944      0.102267      0.120147      0.121799   \n",
       "199988      0.109091      0.126280      0.102174      0.106704      0.126568   \n",
       "199989      0.112279      0.103840      0.113039      0.105292      0.242931   \n",
       "199990      0.100275      0.103604      0.135321      0.096582      0.118056   \n",
       "199991      0.093333      0.098864      0.086413      0.105502      0.125137   \n",
       "199992      0.100598      0.105696      0.106312      0.091500      0.244694   \n",
       "199993      0.121910      0.112795      0.104372      0.087857      0.098214   \n",
       "199994      0.110986      0.103840      0.134106      0.127623      0.118719   \n",
       "199995      0.127986      0.122927      0.104338      0.094557      0.098126   \n",
       "199996      0.114577      0.100113      0.110747      0.118110      0.098126   \n",
       "199997      0.103017      0.108803      0.109198      0.113004      0.125424   \n",
       "199998      0.111541      0.122927      0.103645      0.108782      0.242931   \n",
       "199999      0.107613      0.114051      0.106127      0.091500      0.101433   \n",
       "\n",
       "        var_199_rate  target_rate  \n",
       "0           0.119658     0.111716  \n",
       "1           0.108672     0.111716  \n",
       "2           0.123464     0.111716  \n",
       "3           0.119977     0.111716  \n",
       "4           0.119977     0.111716  \n",
       "5           0.111607     0.111716  \n",
       "6           0.102762     0.111716  \n",
       "7           0.115680     0.111716  \n",
       "8           0.098698     0.111716  \n",
       "9           0.147701     0.111716  \n",
       "10          0.113426     0.111716  \n",
       "11          0.113270     0.111716  \n",
       "12          0.098698     0.111716  \n",
       "13          0.116548     0.111716  \n",
       "14          0.114191     0.111716  \n",
       "15          0.111607     0.111716  \n",
       "16          0.143772     0.111716  \n",
       "17          0.114191     0.111716  \n",
       "18          0.094549     0.111716  \n",
       "19          0.114365     0.111716  \n",
       "20          0.084746     0.111716  \n",
       "21          0.144744     0.111716  \n",
       "22          0.099114     0.111716  \n",
       "23          0.109081     0.111716  \n",
       "24          0.108672     0.111716  \n",
       "25          0.102762     0.111716  \n",
       "26          0.113426     0.111716  \n",
       "27          0.110423     0.111716  \n",
       "28          0.111965     0.111716  \n",
       "29          0.104948     0.111716  \n",
       "...              ...          ...  \n",
       "199970      0.113426     0.000000  \n",
       "199971      0.119658     0.000000  \n",
       "199972      0.121023     0.000000  \n",
       "199973      0.109666     0.000000  \n",
       "199974      0.107609     0.000000  \n",
       "199975      0.099114     0.000000  \n",
       "199976      0.108211     0.000000  \n",
       "199977      0.094311     0.000000  \n",
       "199978      0.108211     0.000000  \n",
       "199979      0.114191     0.000000  \n",
       "199980      0.100054     0.000000  \n",
       "199981      0.104462     0.000000  \n",
       "199982      0.110027     0.000000  \n",
       "199983      0.117782     0.000000  \n",
       "199984      0.096340     0.000000  \n",
       "199985      0.118664     0.000000  \n",
       "199986      0.107104     0.000000  \n",
       "199987      0.128134     0.000000  \n",
       "199988      0.114333     0.000000  \n",
       "199989      0.107104     0.000000  \n",
       "199990      0.093192     0.000000  \n",
       "199991      0.085448     0.000000  \n",
       "199992      0.112155     0.000000  \n",
       "199993      0.104664     0.000000  \n",
       "199994      0.111965     0.000000  \n",
       "199995      0.098698     0.000000  \n",
       "199996      0.082667     0.000000  \n",
       "199997      0.094549     0.000000  \n",
       "199998      0.111846     0.000000  \n",
       "199999      0.114075     0.000000  \n",
       "\n",
       "[400000 rows x 603 columns]"
      ]
     },
     "execution_count": 16,
     "metadata": {},
     "output_type": "execute_result"
    }
   ],
   "source": [
    "df_all"
   ]
  },
  {
   "cell_type": "code",
   "execution_count": 18,
   "metadata": {
    "collapsed": false
   },
   "outputs": [
    {
     "data": {
      "text/plain": [
       "400000"
      ]
     },
     "execution_count": 18,
     "metadata": {},
     "output_type": "execute_result"
    }
   ],
   "source": [
    "len(df_all)"
   ]
  },
  {
   "cell_type": "code",
   "execution_count": 17,
   "metadata": {
    "collapsed": true
   },
   "outputs": [],
   "source": [
    "df_all_train=df_all.head(200000)\n",
    "df_all_test=df_all.tail(200000)\n",
    "for j in df_all.columns:\n",
    "    if ('rate' in j) and ('var' in j):\n",
    "        train_df[j]=df_all_train[j]\n",
    "        test_df[j]=df_all_test[j]"
   ]
  },
  {
   "cell_type": "code",
   "execution_count": 19,
   "metadata": {
    "collapsed": false
   },
   "outputs": [
    {
     "data": {
      "text/html": [
       "<div>\n",
       "<style scoped>\n",
       "    .dataframe tbody tr th:only-of-type {\n",
       "        vertical-align: middle;\n",
       "    }\n",
       "\n",
       "    .dataframe tbody tr th {\n",
       "        vertical-align: top;\n",
       "    }\n",
       "\n",
       "    .dataframe thead th {\n",
       "        text-align: right;\n",
       "    }\n",
       "</style>\n",
       "<table border=\"1\" class=\"dataframe\">\n",
       "  <thead>\n",
       "    <tr style=\"text-align: right;\">\n",
       "      <th></th>\n",
       "      <th>ID_code</th>\n",
       "      <th>target</th>\n",
       "      <th>var_0</th>\n",
       "      <th>var_1</th>\n",
       "      <th>var_2</th>\n",
       "      <th>var_3</th>\n",
       "      <th>var_4</th>\n",
       "      <th>var_5</th>\n",
       "      <th>var_6</th>\n",
       "      <th>var_7</th>\n",
       "      <th>...</th>\n",
       "      <th>var_190_rate</th>\n",
       "      <th>var_191_rate</th>\n",
       "      <th>var_192_rate</th>\n",
       "      <th>var_193_rate</th>\n",
       "      <th>var_194_rate</th>\n",
       "      <th>var_195_rate</th>\n",
       "      <th>var_196_rate</th>\n",
       "      <th>var_197_rate</th>\n",
       "      <th>var_198_rate</th>\n",
       "      <th>var_199_rate</th>\n",
       "    </tr>\n",
       "  </thead>\n",
       "  <tbody>\n",
       "    <tr>\n",
       "      <th>0</th>\n",
       "      <td>train_0</td>\n",
       "      <td>0</td>\n",
       "      <td>8.9255</td>\n",
       "      <td>-6.7863</td>\n",
       "      <td>11.9081</td>\n",
       "      <td>5.0930</td>\n",
       "      <td>11.4607</td>\n",
       "      <td>-9.2834</td>\n",
       "      <td>5.1187</td>\n",
       "      <td>18.6266</td>\n",
       "      <td>...</td>\n",
       "      <td>0.107303</td>\n",
       "      <td>0.099183</td>\n",
       "      <td>0.091362</td>\n",
       "      <td>0.122584</td>\n",
       "      <td>0.113960</td>\n",
       "      <td>0.096739</td>\n",
       "      <td>0.105705</td>\n",
       "      <td>0.116408</td>\n",
       "      <td>0.118333</td>\n",
       "      <td>0.119658</td>\n",
       "    </tr>\n",
       "    <tr>\n",
       "      <th>1</th>\n",
       "      <td>train_1</td>\n",
       "      <td>0</td>\n",
       "      <td>11.5006</td>\n",
       "      <td>-4.1473</td>\n",
       "      <td>13.8588</td>\n",
       "      <td>5.3890</td>\n",
       "      <td>12.3622</td>\n",
       "      <td>7.0433</td>\n",
       "      <td>5.6208</td>\n",
       "      <td>16.5338</td>\n",
       "      <td>...</td>\n",
       "      <td>0.115079</td>\n",
       "      <td>0.096237</td>\n",
       "      <td>0.088009</td>\n",
       "      <td>0.110147</td>\n",
       "      <td>0.121910</td>\n",
       "      <td>0.138169</td>\n",
       "      <td>0.113736</td>\n",
       "      <td>0.107865</td>\n",
       "      <td>0.097574</td>\n",
       "      <td>0.108672</td>\n",
       "    </tr>\n",
       "    <tr>\n",
       "      <th>2</th>\n",
       "      <td>train_2</td>\n",
       "      <td>0</td>\n",
       "      <td>8.6093</td>\n",
       "      <td>-2.7457</td>\n",
       "      <td>12.0805</td>\n",
       "      <td>7.8928</td>\n",
       "      <td>10.5825</td>\n",
       "      <td>-9.0837</td>\n",
       "      <td>6.9427</td>\n",
       "      <td>14.6155</td>\n",
       "      <td>...</td>\n",
       "      <td>0.093483</td>\n",
       "      <td>0.115670</td>\n",
       "      <td>0.123430</td>\n",
       "      <td>0.122584</td>\n",
       "      <td>0.110986</td>\n",
       "      <td>0.168923</td>\n",
       "      <td>0.100221</td>\n",
       "      <td>0.120946</td>\n",
       "      <td>0.108170</td>\n",
       "      <td>0.123464</td>\n",
       "    </tr>\n",
       "    <tr>\n",
       "      <th>3</th>\n",
       "      <td>train_3</td>\n",
       "      <td>0</td>\n",
       "      <td>11.0604</td>\n",
       "      <td>-2.1518</td>\n",
       "      <td>8.9522</td>\n",
       "      <td>7.1957</td>\n",
       "      <td>12.5846</td>\n",
       "      <td>-1.8361</td>\n",
       "      <td>5.8428</td>\n",
       "      <td>14.9250</td>\n",
       "      <td>...</td>\n",
       "      <td>0.107303</td>\n",
       "      <td>0.096123</td>\n",
       "      <td>0.112031</td>\n",
       "      <td>0.109400</td>\n",
       "      <td>0.105148</td>\n",
       "      <td>0.103840</td>\n",
       "      <td>0.089617</td>\n",
       "      <td>0.091500</td>\n",
       "      <td>0.098859</td>\n",
       "      <td>0.119977</td>\n",
       "    </tr>\n",
       "    <tr>\n",
       "      <th>4</th>\n",
       "      <td>train_4</td>\n",
       "      <td>0</td>\n",
       "      <td>9.8369</td>\n",
       "      <td>-1.4834</td>\n",
       "      <td>12.8746</td>\n",
       "      <td>6.6375</td>\n",
       "      <td>12.2772</td>\n",
       "      <td>2.4486</td>\n",
       "      <td>5.9405</td>\n",
       "      <td>19.2514</td>\n",
       "      <td>...</td>\n",
       "      <td>0.098530</td>\n",
       "      <td>0.125139</td>\n",
       "      <td>0.125499</td>\n",
       "      <td>0.107870</td>\n",
       "      <td>0.125140</td>\n",
       "      <td>0.089701</td>\n",
       "      <td>0.102097</td>\n",
       "      <td>0.102397</td>\n",
       "      <td>0.098859</td>\n",
       "      <td>0.119977</td>\n",
       "    </tr>\n",
       "    <tr>\n",
       "      <th>5</th>\n",
       "      <td>train_5</td>\n",
       "      <td>0</td>\n",
       "      <td>11.4763</td>\n",
       "      <td>-2.3182</td>\n",
       "      <td>12.6080</td>\n",
       "      <td>8.6264</td>\n",
       "      <td>10.9621</td>\n",
       "      <td>3.5609</td>\n",
       "      <td>4.5322</td>\n",
       "      <td>15.2255</td>\n",
       "      <td>...</td>\n",
       "      <td>0.100646</td>\n",
       "      <td>0.112636</td>\n",
       "      <td>0.090022</td>\n",
       "      <td>0.112031</td>\n",
       "      <td>0.099169</td>\n",
       "      <td>0.108952</td>\n",
       "      <td>0.099789</td>\n",
       "      <td>0.108287</td>\n",
       "      <td>0.103410</td>\n",
       "      <td>0.111607</td>\n",
       "    </tr>\n",
       "    <tr>\n",
       "      <th>6</th>\n",
       "      <td>train_6</td>\n",
       "      <td>0</td>\n",
       "      <td>11.8091</td>\n",
       "      <td>-0.0832</td>\n",
       "      <td>9.3494</td>\n",
       "      <td>4.2916</td>\n",
       "      <td>11.1355</td>\n",
       "      <td>-8.0198</td>\n",
       "      <td>6.1961</td>\n",
       "      <td>12.0771</td>\n",
       "      <td>...</td>\n",
       "      <td>0.138262</td>\n",
       "      <td>0.089056</td>\n",
       "      <td>0.088840</td>\n",
       "      <td>0.109059</td>\n",
       "      <td>0.127119</td>\n",
       "      <td>0.103604</td>\n",
       "      <td>0.121130</td>\n",
       "      <td>0.118110</td>\n",
       "      <td>0.185731</td>\n",
       "      <td>0.102762</td>\n",
       "    </tr>\n",
       "    <tr>\n",
       "      <th>7</th>\n",
       "      <td>train_7</td>\n",
       "      <td>0</td>\n",
       "      <td>13.5580</td>\n",
       "      <td>-7.9881</td>\n",
       "      <td>13.8776</td>\n",
       "      <td>7.5985</td>\n",
       "      <td>8.6543</td>\n",
       "      <td>0.8310</td>\n",
       "      <td>5.6890</td>\n",
       "      <td>22.3262</td>\n",
       "      <td>...</td>\n",
       "      <td>0.227729</td>\n",
       "      <td>0.101136</td>\n",
       "      <td>0.087671</td>\n",
       "      <td>0.120360</td>\n",
       "      <td>0.101963</td>\n",
       "      <td>0.101488</td>\n",
       "      <td>0.134106</td>\n",
       "      <td>0.101401</td>\n",
       "      <td>0.242931</td>\n",
       "      <td>0.115680</td>\n",
       "    </tr>\n",
       "    <tr>\n",
       "      <th>8</th>\n",
       "      <td>train_8</td>\n",
       "      <td>0</td>\n",
       "      <td>16.1071</td>\n",
       "      <td>2.4426</td>\n",
       "      <td>13.9307</td>\n",
       "      <td>5.6327</td>\n",
       "      <td>8.8014</td>\n",
       "      <td>6.1630</td>\n",
       "      <td>4.4514</td>\n",
       "      <td>10.1854</td>\n",
       "      <td>...</td>\n",
       "      <td>0.100216</td>\n",
       "      <td>0.210241</td>\n",
       "      <td>0.123430</td>\n",
       "      <td>0.109400</td>\n",
       "      <td>0.119865</td>\n",
       "      <td>0.119798</td>\n",
       "      <td>0.115575</td>\n",
       "      <td>0.100746</td>\n",
       "      <td>0.102883</td>\n",
       "      <td>0.098698</td>\n",
       "    </tr>\n",
       "    <tr>\n",
       "      <th>9</th>\n",
       "      <td>train_9</td>\n",
       "      <td>0</td>\n",
       "      <td>12.5088</td>\n",
       "      <td>1.9743</td>\n",
       "      <td>8.8960</td>\n",
       "      <td>5.4508</td>\n",
       "      <td>13.6043</td>\n",
       "      <td>-16.2859</td>\n",
       "      <td>6.0637</td>\n",
       "      <td>16.8410</td>\n",
       "      <td>...</td>\n",
       "      <td>0.084467</td>\n",
       "      <td>0.105490</td>\n",
       "      <td>0.112955</td>\n",
       "      <td>0.115429</td>\n",
       "      <td>0.119865</td>\n",
       "      <td>0.114773</td>\n",
       "      <td>0.000000</td>\n",
       "      <td>0.120147</td>\n",
       "      <td>0.087146</td>\n",
       "      <td>0.147701</td>\n",
       "    </tr>\n",
       "    <tr>\n",
       "      <th>10</th>\n",
       "      <td>train_10</td>\n",
       "      <td>0</td>\n",
       "      <td>5.0702</td>\n",
       "      <td>-0.5447</td>\n",
       "      <td>9.5900</td>\n",
       "      <td>4.2987</td>\n",
       "      <td>12.3910</td>\n",
       "      <td>-18.8687</td>\n",
       "      <td>6.0382</td>\n",
       "      <td>14.3797</td>\n",
       "      <td>...</td>\n",
       "      <td>0.111965</td>\n",
       "      <td>0.104575</td>\n",
       "      <td>0.128621</td>\n",
       "      <td>0.115073</td>\n",
       "      <td>0.099169</td>\n",
       "      <td>0.110928</td>\n",
       "      <td>0.114790</td>\n",
       "      <td>0.106812</td>\n",
       "      <td>0.101433</td>\n",
       "      <td>0.113426</td>\n",
       "    </tr>\n",
       "    <tr>\n",
       "      <th>11</th>\n",
       "      <td>train_11</td>\n",
       "      <td>0</td>\n",
       "      <td>12.7188</td>\n",
       "      <td>-7.9750</td>\n",
       "      <td>10.3757</td>\n",
       "      <td>9.0101</td>\n",
       "      <td>12.8570</td>\n",
       "      <td>-12.0852</td>\n",
       "      <td>5.6464</td>\n",
       "      <td>11.8370</td>\n",
       "      <td>...</td>\n",
       "      <td>0.121381</td>\n",
       "      <td>0.091450</td>\n",
       "      <td>0.149306</td>\n",
       "      <td>0.110506</td>\n",
       "      <td>0.121495</td>\n",
       "      <td>0.138506</td>\n",
       "      <td>0.106946</td>\n",
       "      <td>0.096582</td>\n",
       "      <td>0.099837</td>\n",
       "      <td>0.113270</td>\n",
       "    </tr>\n",
       "    <tr>\n",
       "      <th>12</th>\n",
       "      <td>train_12</td>\n",
       "      <td>0</td>\n",
       "      <td>8.7671</td>\n",
       "      <td>-4.6154</td>\n",
       "      <td>9.7242</td>\n",
       "      <td>7.4242</td>\n",
       "      <td>9.0254</td>\n",
       "      <td>1.4247</td>\n",
       "      <td>6.2815</td>\n",
       "      <td>12.3143</td>\n",
       "      <td>...</td>\n",
       "      <td>0.094851</td>\n",
       "      <td>0.098209</td>\n",
       "      <td>0.129286</td>\n",
       "      <td>0.109400</td>\n",
       "      <td>0.105530</td>\n",
       "      <td>0.110368</td>\n",
       "      <td>0.108544</td>\n",
       "      <td>0.112500</td>\n",
       "      <td>0.094093</td>\n",
       "      <td>0.098698</td>\n",
       "    </tr>\n",
       "    <tr>\n",
       "      <th>13</th>\n",
       "      <td>train_13</td>\n",
       "      <td>1</td>\n",
       "      <td>16.3699</td>\n",
       "      <td>1.5934</td>\n",
       "      <td>16.7395</td>\n",
       "      <td>7.3330</td>\n",
       "      <td>12.1450</td>\n",
       "      <td>5.9004</td>\n",
       "      <td>4.8222</td>\n",
       "      <td>20.9729</td>\n",
       "      <td>...</td>\n",
       "      <td>0.120757</td>\n",
       "      <td>0.098209</td>\n",
       "      <td>0.101482</td>\n",
       "      <td>0.118539</td>\n",
       "      <td>0.110925</td>\n",
       "      <td>0.103840</td>\n",
       "      <td>0.123620</td>\n",
       "      <td>0.115186</td>\n",
       "      <td>0.108280</td>\n",
       "      <td>0.116548</td>\n",
       "    </tr>\n",
       "    <tr>\n",
       "      <th>14</th>\n",
       "      <td>train_14</td>\n",
       "      <td>0</td>\n",
       "      <td>13.8080</td>\n",
       "      <td>5.0514</td>\n",
       "      <td>17.2611</td>\n",
       "      <td>8.5120</td>\n",
       "      <td>12.8517</td>\n",
       "      <td>-9.1622</td>\n",
       "      <td>5.7327</td>\n",
       "      <td>21.0517</td>\n",
       "      <td>...</td>\n",
       "      <td>0.096914</td>\n",
       "      <td>0.125642</td>\n",
       "      <td>0.103955</td>\n",
       "      <td>0.122584</td>\n",
       "      <td>0.111474</td>\n",
       "      <td>0.120623</td>\n",
       "      <td>0.099789</td>\n",
       "      <td>0.094580</td>\n",
       "      <td>0.000000</td>\n",
       "      <td>0.114191</td>\n",
       "    </tr>\n",
       "    <tr>\n",
       "      <th>15</th>\n",
       "      <td>train_15</td>\n",
       "      <td>0</td>\n",
       "      <td>3.9416</td>\n",
       "      <td>2.6562</td>\n",
       "      <td>13.3633</td>\n",
       "      <td>6.8895</td>\n",
       "      <td>12.2806</td>\n",
       "      <td>-16.1620</td>\n",
       "      <td>5.6979</td>\n",
       "      <td>14.4573</td>\n",
       "      <td>...</td>\n",
       "      <td>0.101130</td>\n",
       "      <td>0.112323</td>\n",
       "      <td>0.128336</td>\n",
       "      <td>0.108746</td>\n",
       "      <td>0.105547</td>\n",
       "      <td>0.104190</td>\n",
       "      <td>0.118443</td>\n",
       "      <td>0.127563</td>\n",
       "      <td>0.107945</td>\n",
       "      <td>0.111607</td>\n",
       "    </tr>\n",
       "    <tr>\n",
       "      <th>16</th>\n",
       "      <td>train_16</td>\n",
       "      <td>0</td>\n",
       "      <td>5.0615</td>\n",
       "      <td>0.2689</td>\n",
       "      <td>15.1325</td>\n",
       "      <td>3.6587</td>\n",
       "      <td>13.5276</td>\n",
       "      <td>-6.5477</td>\n",
       "      <td>5.2757</td>\n",
       "      <td>9.8710</td>\n",
       "      <td>...</td>\n",
       "      <td>0.094505</td>\n",
       "      <td>0.106874</td>\n",
       "      <td>0.147597</td>\n",
       "      <td>0.114910</td>\n",
       "      <td>0.119420</td>\n",
       "      <td>0.114773</td>\n",
       "      <td>0.105705</td>\n",
       "      <td>0.116667</td>\n",
       "      <td>0.095003</td>\n",
       "      <td>0.143772</td>\n",
       "    </tr>\n",
       "    <tr>\n",
       "      <th>17</th>\n",
       "      <td>train_17</td>\n",
       "      <td>0</td>\n",
       "      <td>8.4199</td>\n",
       "      <td>-1.8128</td>\n",
       "      <td>8.1202</td>\n",
       "      <td>5.3955</td>\n",
       "      <td>9.7184</td>\n",
       "      <td>-17.8390</td>\n",
       "      <td>4.0959</td>\n",
       "      <td>15.2860</td>\n",
       "      <td>...</td>\n",
       "      <td>0.120757</td>\n",
       "      <td>0.119287</td>\n",
       "      <td>0.106052</td>\n",
       "      <td>0.115073</td>\n",
       "      <td>0.109581</td>\n",
       "      <td>0.095875</td>\n",
       "      <td>0.121622</td>\n",
       "      <td>0.106704</td>\n",
       "      <td>0.100850</td>\n",
       "      <td>0.114191</td>\n",
       "    </tr>\n",
       "    <tr>\n",
       "      <th>18</th>\n",
       "      <td>train_18</td>\n",
       "      <td>0</td>\n",
       "      <td>4.8750</td>\n",
       "      <td>1.2646</td>\n",
       "      <td>11.9190</td>\n",
       "      <td>8.4650</td>\n",
       "      <td>10.7203</td>\n",
       "      <td>-0.6707</td>\n",
       "      <td>5.6103</td>\n",
       "      <td>16.4661</td>\n",
       "      <td>...</td>\n",
       "      <td>0.132149</td>\n",
       "      <td>0.091450</td>\n",
       "      <td>0.115169</td>\n",
       "      <td>0.087671</td>\n",
       "      <td>0.097481</td>\n",
       "      <td>0.089701</td>\n",
       "      <td>0.109198</td>\n",
       "      <td>0.122992</td>\n",
       "      <td>0.083285</td>\n",
       "      <td>0.094549</td>\n",
       "    </tr>\n",
       "    <tr>\n",
       "      <th>19</th>\n",
       "      <td>train_19</td>\n",
       "      <td>0</td>\n",
       "      <td>4.4090</td>\n",
       "      <td>-0.7863</td>\n",
       "      <td>15.1828</td>\n",
       "      <td>8.0631</td>\n",
       "      <td>11.2831</td>\n",
       "      <td>-0.7356</td>\n",
       "      <td>6.3801</td>\n",
       "      <td>16.0218</td>\n",
       "      <td>...</td>\n",
       "      <td>0.111418</td>\n",
       "      <td>0.105490</td>\n",
       "      <td>0.091005</td>\n",
       "      <td>0.121262</td>\n",
       "      <td>0.097481</td>\n",
       "      <td>0.097748</td>\n",
       "      <td>0.109101</td>\n",
       "      <td>0.101610</td>\n",
       "      <td>0.108170</td>\n",
       "      <td>0.114365</td>\n",
       "    </tr>\n",
       "    <tr>\n",
       "      <th>20</th>\n",
       "      <td>train_20</td>\n",
       "      <td>0</td>\n",
       "      <td>12.6700</td>\n",
       "      <td>-2.0221</td>\n",
       "      <td>6.8930</td>\n",
       "      <td>6.9152</td>\n",
       "      <td>9.5677</td>\n",
       "      <td>-11.2672</td>\n",
       "      <td>5.6061</td>\n",
       "      <td>16.2354</td>\n",
       "      <td>...</td>\n",
       "      <td>0.086270</td>\n",
       "      <td>0.087852</td>\n",
       "      <td>0.125499</td>\n",
       "      <td>0.126251</td>\n",
       "      <td>0.125563</td>\n",
       "      <td>0.104190</td>\n",
       "      <td>0.121130</td>\n",
       "      <td>0.105263</td>\n",
       "      <td>0.000000</td>\n",
       "      <td>0.084746</td>\n",
       "    </tr>\n",
       "    <tr>\n",
       "      <th>21</th>\n",
       "      <td>train_21</td>\n",
       "      <td>0</td>\n",
       "      <td>8.3918</td>\n",
       "      <td>1.4806</td>\n",
       "      <td>12.9804</td>\n",
       "      <td>7.5538</td>\n",
       "      <td>11.1531</td>\n",
       "      <td>-14.7776</td>\n",
       "      <td>5.9987</td>\n",
       "      <td>15.5148</td>\n",
       "      <td>...</td>\n",
       "      <td>0.094842</td>\n",
       "      <td>0.088472</td>\n",
       "      <td>0.119524</td>\n",
       "      <td>0.120360</td>\n",
       "      <td>0.101963</td>\n",
       "      <td>0.103840</td>\n",
       "      <td>0.101961</td>\n",
       "      <td>0.124931</td>\n",
       "      <td>0.098214</td>\n",
       "      <td>0.144744</td>\n",
       "    </tr>\n",
       "    <tr>\n",
       "      <th>22</th>\n",
       "      <td>train_22</td>\n",
       "      <td>0</td>\n",
       "      <td>10.2031</td>\n",
       "      <td>0.1925</td>\n",
       "      <td>14.0238</td>\n",
       "      <td>7.0345</td>\n",
       "      <td>11.8514</td>\n",
       "      <td>13.8830</td>\n",
       "      <td>6.4040</td>\n",
       "      <td>18.0058</td>\n",
       "      <td>...</td>\n",
       "      <td>0.101790</td>\n",
       "      <td>0.096895</td>\n",
       "      <td>0.158711</td>\n",
       "      <td>0.095648</td>\n",
       "      <td>0.156451</td>\n",
       "      <td>0.111234</td>\n",
       "      <td>0.094851</td>\n",
       "      <td>0.103205</td>\n",
       "      <td>0.242931</td>\n",
       "      <td>0.099114</td>\n",
       "    </tr>\n",
       "    <tr>\n",
       "      <th>23</th>\n",
       "      <td>train_23</td>\n",
       "      <td>0</td>\n",
       "      <td>15.0029</td>\n",
       "      <td>-9.3439</td>\n",
       "      <td>10.3790</td>\n",
       "      <td>8.3226</td>\n",
       "      <td>13.0204</td>\n",
       "      <td>-5.0744</td>\n",
       "      <td>5.2489</td>\n",
       "      <td>11.6845</td>\n",
       "      <td>...</td>\n",
       "      <td>0.093483</td>\n",
       "      <td>0.097711</td>\n",
       "      <td>0.090022</td>\n",
       "      <td>0.109400</td>\n",
       "      <td>0.127119</td>\n",
       "      <td>0.138506</td>\n",
       "      <td>0.099789</td>\n",
       "      <td>0.106704</td>\n",
       "      <td>0.118333</td>\n",
       "      <td>0.109081</td>\n",
       "    </tr>\n",
       "    <tr>\n",
       "      <th>24</th>\n",
       "      <td>train_24</td>\n",
       "      <td>0</td>\n",
       "      <td>5.9240</td>\n",
       "      <td>-3.7285</td>\n",
       "      <td>11.0995</td>\n",
       "      <td>4.6969</td>\n",
       "      <td>11.7363</td>\n",
       "      <td>-20.4102</td>\n",
       "      <td>5.8125</td>\n",
       "      <td>15.9027</td>\n",
       "      <td>...</td>\n",
       "      <td>0.093800</td>\n",
       "      <td>0.114838</td>\n",
       "      <td>0.119524</td>\n",
       "      <td>0.096099</td>\n",
       "      <td>0.105530</td>\n",
       "      <td>0.105035</td>\n",
       "      <td>0.111556</td>\n",
       "      <td>0.098847</td>\n",
       "      <td>0.101433</td>\n",
       "      <td>0.108672</td>\n",
       "    </tr>\n",
       "    <tr>\n",
       "      <th>25</th>\n",
       "      <td>train_25</td>\n",
       "      <td>0</td>\n",
       "      <td>8.2703</td>\n",
       "      <td>-5.6854</td>\n",
       "      <td>12.6862</td>\n",
       "      <td>7.2755</td>\n",
       "      <td>12.3713</td>\n",
       "      <td>-7.7521</td>\n",
       "      <td>6.7252</td>\n",
       "      <td>18.4270</td>\n",
       "      <td>...</td>\n",
       "      <td>0.172174</td>\n",
       "      <td>0.109853</td>\n",
       "      <td>0.120047</td>\n",
       "      <td>0.110368</td>\n",
       "      <td>0.094143</td>\n",
       "      <td>0.106866</td>\n",
       "      <td>0.108544</td>\n",
       "      <td>0.090860</td>\n",
       "      <td>0.086169</td>\n",
       "      <td>0.102762</td>\n",
       "    </tr>\n",
       "    <tr>\n",
       "      <th>26</th>\n",
       "      <td>train_26</td>\n",
       "      <td>0</td>\n",
       "      <td>15.6567</td>\n",
       "      <td>-4.4950</td>\n",
       "      <td>10.4867</td>\n",
       "      <td>3.8187</td>\n",
       "      <td>8.8813</td>\n",
       "      <td>-6.0295</td>\n",
       "      <td>5.5224</td>\n",
       "      <td>17.6964</td>\n",
       "      <td>...</td>\n",
       "      <td>0.098670</td>\n",
       "      <td>0.121562</td>\n",
       "      <td>0.119524</td>\n",
       "      <td>0.103882</td>\n",
       "      <td>0.097808</td>\n",
       "      <td>0.118866</td>\n",
       "      <td>0.131119</td>\n",
       "      <td>0.098139</td>\n",
       "      <td>0.104651</td>\n",
       "      <td>0.113426</td>\n",
       "    </tr>\n",
       "    <tr>\n",
       "      <th>27</th>\n",
       "      <td>train_27</td>\n",
       "      <td>0</td>\n",
       "      <td>10.7166</td>\n",
       "      <td>-9.9800</td>\n",
       "      <td>10.9569</td>\n",
       "      <td>6.7660</td>\n",
       "      <td>10.6803</td>\n",
       "      <td>-12.9329</td>\n",
       "      <td>4.5012</td>\n",
       "      <td>17.3841</td>\n",
       "      <td>...</td>\n",
       "      <td>0.115982</td>\n",
       "      <td>0.126975</td>\n",
       "      <td>0.125069</td>\n",
       "      <td>0.108020</td>\n",
       "      <td>0.125692</td>\n",
       "      <td>0.157200</td>\n",
       "      <td>0.121622</td>\n",
       "      <td>0.109581</td>\n",
       "      <td>0.104101</td>\n",
       "      <td>0.110423</td>\n",
       "    </tr>\n",
       "    <tr>\n",
       "      <th>28</th>\n",
       "      <td>train_28</td>\n",
       "      <td>0</td>\n",
       "      <td>7.8010</td>\n",
       "      <td>4.5262</td>\n",
       "      <td>8.9291</td>\n",
       "      <td>8.4884</td>\n",
       "      <td>12.8435</td>\n",
       "      <td>-1.2632</td>\n",
       "      <td>5.0383</td>\n",
       "      <td>13.6339</td>\n",
       "      <td>...</td>\n",
       "      <td>0.125779</td>\n",
       "      <td>0.101073</td>\n",
       "      <td>0.147597</td>\n",
       "      <td>0.107870</td>\n",
       "      <td>0.112500</td>\n",
       "      <td>0.136782</td>\n",
       "      <td>0.105705</td>\n",
       "      <td>0.093178</td>\n",
       "      <td>0.120181</td>\n",
       "      <td>0.111965</td>\n",
       "    </tr>\n",
       "    <tr>\n",
       "      <th>29</th>\n",
       "      <td>train_29</td>\n",
       "      <td>1</td>\n",
       "      <td>5.3301</td>\n",
       "      <td>-2.6064</td>\n",
       "      <td>13.1913</td>\n",
       "      <td>3.1193</td>\n",
       "      <td>6.6483</td>\n",
       "      <td>-6.5659</td>\n",
       "      <td>5.9064</td>\n",
       "      <td>15.2341</td>\n",
       "      <td>...</td>\n",
       "      <td>0.129937</td>\n",
       "      <td>0.110497</td>\n",
       "      <td>0.102052</td>\n",
       "      <td>0.125612</td>\n",
       "      <td>0.101963</td>\n",
       "      <td>0.119798</td>\n",
       "      <td>0.103219</td>\n",
       "      <td>0.106704</td>\n",
       "      <td>0.084545</td>\n",
       "      <td>0.104948</td>\n",
       "    </tr>\n",
       "    <tr>\n",
       "      <th>...</th>\n",
       "      <td>...</td>\n",
       "      <td>...</td>\n",
       "      <td>...</td>\n",
       "      <td>...</td>\n",
       "      <td>...</td>\n",
       "      <td>...</td>\n",
       "      <td>...</td>\n",
       "      <td>...</td>\n",
       "      <td>...</td>\n",
       "      <td>...</td>\n",
       "      <td>...</td>\n",
       "      <td>...</td>\n",
       "      <td>...</td>\n",
       "      <td>...</td>\n",
       "      <td>...</td>\n",
       "      <td>...</td>\n",
       "      <td>...</td>\n",
       "      <td>...</td>\n",
       "      <td>...</td>\n",
       "      <td>...</td>\n",
       "      <td>...</td>\n",
       "    </tr>\n",
       "    <tr>\n",
       "      <th>199970</th>\n",
       "      <td>train_199970</td>\n",
       "      <td>0</td>\n",
       "      <td>15.5794</td>\n",
       "      <td>-2.5687</td>\n",
       "      <td>9.8811</td>\n",
       "      <td>4.2565</td>\n",
       "      <td>10.7471</td>\n",
       "      <td>-2.9749</td>\n",
       "      <td>6.2631</td>\n",
       "      <td>19.6539</td>\n",
       "      <td>...</td>\n",
       "      <td>0.118162</td>\n",
       "      <td>0.105120</td>\n",
       "      <td>0.115003</td>\n",
       "      <td>0.124175</td>\n",
       "      <td>0.121495</td>\n",
       "      <td>0.097627</td>\n",
       "      <td>0.099789</td>\n",
       "      <td>0.098139</td>\n",
       "      <td>0.095316</td>\n",
       "      <td>0.114333</td>\n",
       "    </tr>\n",
       "    <tr>\n",
       "      <th>199971</th>\n",
       "      <td>train_199971</td>\n",
       "      <td>0</td>\n",
       "      <td>14.5745</td>\n",
       "      <td>-3.9178</td>\n",
       "      <td>13.1673</td>\n",
       "      <td>9.2800</td>\n",
       "      <td>10.9593</td>\n",
       "      <td>7.7317</td>\n",
       "      <td>5.1604</td>\n",
       "      <td>14.8811</td>\n",
       "      <td>...</td>\n",
       "      <td>0.098414</td>\n",
       "      <td>0.000000</td>\n",
       "      <td>0.097756</td>\n",
       "      <td>0.115320</td>\n",
       "      <td>0.107613</td>\n",
       "      <td>0.089701</td>\n",
       "      <td>0.119774</td>\n",
       "      <td>0.171948</td>\n",
       "      <td>0.110676</td>\n",
       "      <td>0.147674</td>\n",
       "    </tr>\n",
       "    <tr>\n",
       "      <th>199972</th>\n",
       "      <td>train_199972</td>\n",
       "      <td>0</td>\n",
       "      <td>7.4206</td>\n",
       "      <td>-2.5972</td>\n",
       "      <td>12.0215</td>\n",
       "      <td>8.7882</td>\n",
       "      <td>14.1996</td>\n",
       "      <td>0.0649</td>\n",
       "      <td>4.7421</td>\n",
       "      <td>19.9268</td>\n",
       "      <td>...</td>\n",
       "      <td>0.173387</td>\n",
       "      <td>0.112323</td>\n",
       "      <td>0.136019</td>\n",
       "      <td>0.102664</td>\n",
       "      <td>0.112279</td>\n",
       "      <td>0.109402</td>\n",
       "      <td>0.116253</td>\n",
       "      <td>0.127623</td>\n",
       "      <td>0.105054</td>\n",
       "      <td>0.119977</td>\n",
       "    </tr>\n",
       "    <tr>\n",
       "      <th>199973</th>\n",
       "      <td>train_199973</td>\n",
       "      <td>0</td>\n",
       "      <td>8.7758</td>\n",
       "      <td>-0.4604</td>\n",
       "      <td>8.0874</td>\n",
       "      <td>6.4538</td>\n",
       "      <td>13.0035</td>\n",
       "      <td>0.1872</td>\n",
       "      <td>4.3495</td>\n",
       "      <td>20.0410</td>\n",
       "      <td>...</td>\n",
       "      <td>0.118866</td>\n",
       "      <td>0.106748</td>\n",
       "      <td>0.091005</td>\n",
       "      <td>0.107870</td>\n",
       "      <td>0.101245</td>\n",
       "      <td>0.103840</td>\n",
       "      <td>0.115819</td>\n",
       "      <td>0.105263</td>\n",
       "      <td>0.084967</td>\n",
       "      <td>0.000000</td>\n",
       "    </tr>\n",
       "    <tr>\n",
       "      <th>199974</th>\n",
       "      <td>train_199974</td>\n",
       "      <td>0</td>\n",
       "      <td>16.2010</td>\n",
       "      <td>-5.7847</td>\n",
       "      <td>15.2685</td>\n",
       "      <td>6.5241</td>\n",
       "      <td>11.6020</td>\n",
       "      <td>-7.3137</td>\n",
       "      <td>5.7833</td>\n",
       "      <td>18.4535</td>\n",
       "      <td>...</td>\n",
       "      <td>0.136848</td>\n",
       "      <td>0.105490</td>\n",
       "      <td>0.128336</td>\n",
       "      <td>0.107870</td>\n",
       "      <td>0.109244</td>\n",
       "      <td>0.098864</td>\n",
       "      <td>0.109101</td>\n",
       "      <td>0.102109</td>\n",
       "      <td>0.113078</td>\n",
       "      <td>0.115680</td>\n",
       "    </tr>\n",
       "    <tr>\n",
       "      <th>199975</th>\n",
       "      <td>train_199975</td>\n",
       "      <td>0</td>\n",
       "      <td>7.5238</td>\n",
       "      <td>1.0548</td>\n",
       "      <td>9.6265</td>\n",
       "      <td>4.8688</td>\n",
       "      <td>7.1841</td>\n",
       "      <td>-16.4001</td>\n",
       "      <td>5.3361</td>\n",
       "      <td>13.1120</td>\n",
       "      <td>...</td>\n",
       "      <td>0.118162</td>\n",
       "      <td>0.087575</td>\n",
       "      <td>0.091877</td>\n",
       "      <td>0.103153</td>\n",
       "      <td>0.100221</td>\n",
       "      <td>0.103604</td>\n",
       "      <td>0.116667</td>\n",
       "      <td>0.151602</td>\n",
       "      <td>0.104101</td>\n",
       "      <td>0.111111</td>\n",
       "    </tr>\n",
       "    <tr>\n",
       "      <th>199976</th>\n",
       "      <td>train_199976</td>\n",
       "      <td>1</td>\n",
       "      <td>7.9663</td>\n",
       "      <td>-2.8485</td>\n",
       "      <td>9.0919</td>\n",
       "      <td>7.3298</td>\n",
       "      <td>9.6690</td>\n",
       "      <td>-16.7872</td>\n",
       "      <td>4.5094</td>\n",
       "      <td>12.4351</td>\n",
       "      <td>...</td>\n",
       "      <td>0.151275</td>\n",
       "      <td>0.097711</td>\n",
       "      <td>0.106291</td>\n",
       "      <td>0.115079</td>\n",
       "      <td>0.106936</td>\n",
       "      <td>0.098614</td>\n",
       "      <td>0.114607</td>\n",
       "      <td>0.122074</td>\n",
       "      <td>0.101433</td>\n",
       "      <td>0.110423</td>\n",
       "    </tr>\n",
       "    <tr>\n",
       "      <th>199977</th>\n",
       "      <td>train_199977</td>\n",
       "      <td>0</td>\n",
       "      <td>7.3884</td>\n",
       "      <td>-0.8093</td>\n",
       "      <td>8.9274</td>\n",
       "      <td>7.7227</td>\n",
       "      <td>14.3232</td>\n",
       "      <td>-11.3203</td>\n",
       "      <td>5.2290</td>\n",
       "      <td>12.0626</td>\n",
       "      <td>...</td>\n",
       "      <td>0.096472</td>\n",
       "      <td>0.105120</td>\n",
       "      <td>0.088840</td>\n",
       "      <td>0.112031</td>\n",
       "      <td>0.101245</td>\n",
       "      <td>0.101545</td>\n",
       "      <td>0.115670</td>\n",
       "      <td>0.115186</td>\n",
       "      <td>0.094258</td>\n",
       "      <td>0.099059</td>\n",
       "    </tr>\n",
       "    <tr>\n",
       "      <th>199978</th>\n",
       "      <td>train_199978</td>\n",
       "      <td>0</td>\n",
       "      <td>12.2015</td>\n",
       "      <td>-0.8787</td>\n",
       "      <td>16.8069</td>\n",
       "      <td>9.1073</td>\n",
       "      <td>10.3219</td>\n",
       "      <td>7.0208</td>\n",
       "      <td>6.2587</td>\n",
       "      <td>19.8344</td>\n",
       "      <td>...</td>\n",
       "      <td>0.121381</td>\n",
       "      <td>0.088472</td>\n",
       "      <td>0.101504</td>\n",
       "      <td>0.144247</td>\n",
       "      <td>0.129315</td>\n",
       "      <td>0.119798</td>\n",
       "      <td>0.127771</td>\n",
       "      <td>0.131594</td>\n",
       "      <td>0.118719</td>\n",
       "      <td>0.100110</td>\n",
       "    </tr>\n",
       "    <tr>\n",
       "      <th>199979</th>\n",
       "      <td>train_199979</td>\n",
       "      <td>0</td>\n",
       "      <td>10.8208</td>\n",
       "      <td>-2.9344</td>\n",
       "      <td>15.0906</td>\n",
       "      <td>9.7810</td>\n",
       "      <td>9.4014</td>\n",
       "      <td>-4.5704</td>\n",
       "      <td>5.3201</td>\n",
       "      <td>16.0858</td>\n",
       "      <td>...</td>\n",
       "      <td>0.110683</td>\n",
       "      <td>0.144133</td>\n",
       "      <td>0.129286</td>\n",
       "      <td>0.108020</td>\n",
       "      <td>0.114411</td>\n",
       "      <td>0.089701</td>\n",
       "      <td>0.118443</td>\n",
       "      <td>0.103205</td>\n",
       "      <td>0.084545</td>\n",
       "      <td>0.114827</td>\n",
       "    </tr>\n",
       "    <tr>\n",
       "      <th>199980</th>\n",
       "      <td>train_199980</td>\n",
       "      <td>0</td>\n",
       "      <td>7.9618</td>\n",
       "      <td>6.2271</td>\n",
       "      <td>13.3326</td>\n",
       "      <td>7.5345</td>\n",
       "      <td>12.5645</td>\n",
       "      <td>1.1205</td>\n",
       "      <td>5.4488</td>\n",
       "      <td>22.1532</td>\n",
       "      <td>...</td>\n",
       "      <td>0.103831</td>\n",
       "      <td>0.087575</td>\n",
       "      <td>0.088203</td>\n",
       "      <td>0.087671</td>\n",
       "      <td>0.112500</td>\n",
       "      <td>0.118213</td>\n",
       "      <td>0.114607</td>\n",
       "      <td>0.105263</td>\n",
       "      <td>0.119571</td>\n",
       "      <td>0.119977</td>\n",
       "    </tr>\n",
       "    <tr>\n",
       "      <th>199981</th>\n",
       "      <td>train_199981</td>\n",
       "      <td>1</td>\n",
       "      <td>12.8140</td>\n",
       "      <td>0.6386</td>\n",
       "      <td>14.1657</td>\n",
       "      <td>7.1044</td>\n",
       "      <td>8.9365</td>\n",
       "      <td>-0.3274</td>\n",
       "      <td>6.5949</td>\n",
       "      <td>14.6078</td>\n",
       "      <td>...</td>\n",
       "      <td>0.103831</td>\n",
       "      <td>0.104825</td>\n",
       "      <td>0.098801</td>\n",
       "      <td>0.113975</td>\n",
       "      <td>0.106936</td>\n",
       "      <td>0.118213</td>\n",
       "      <td>0.093716</td>\n",
       "      <td>0.105502</td>\n",
       "      <td>0.092432</td>\n",
       "      <td>0.122658</td>\n",
       "    </tr>\n",
       "    <tr>\n",
       "      <th>199982</th>\n",
       "      <td>train_199982</td>\n",
       "      <td>0</td>\n",
       "      <td>11.8224</td>\n",
       "      <td>-2.3596</td>\n",
       "      <td>9.5937</td>\n",
       "      <td>10.5608</td>\n",
       "      <td>11.1665</td>\n",
       "      <td>-0.7569</td>\n",
       "      <td>4.8932</td>\n",
       "      <td>19.6128</td>\n",
       "      <td>...</td>\n",
       "      <td>0.113402</td>\n",
       "      <td>0.099183</td>\n",
       "      <td>0.088203</td>\n",
       "      <td>0.107870</td>\n",
       "      <td>0.100275</td>\n",
       "      <td>0.122427</td>\n",
       "      <td>0.106946</td>\n",
       "      <td>0.111842</td>\n",
       "      <td>0.104695</td>\n",
       "      <td>0.097093</td>\n",
       "    </tr>\n",
       "    <tr>\n",
       "      <th>199983</th>\n",
       "      <td>train_199983</td>\n",
       "      <td>0</td>\n",
       "      <td>15.3063</td>\n",
       "      <td>2.8260</td>\n",
       "      <td>11.4074</td>\n",
       "      <td>4.7992</td>\n",
       "      <td>11.4529</td>\n",
       "      <td>5.3734</td>\n",
       "      <td>4.5088</td>\n",
       "      <td>15.3278</td>\n",
       "      <td>...</td>\n",
       "      <td>0.103486</td>\n",
       "      <td>0.110791</td>\n",
       "      <td>0.088203</td>\n",
       "      <td>0.128563</td>\n",
       "      <td>0.127986</td>\n",
       "      <td>0.126280</td>\n",
       "      <td>0.131119</td>\n",
       "      <td>0.108287</td>\n",
       "      <td>0.095341</td>\n",
       "      <td>0.100110</td>\n",
       "    </tr>\n",
       "    <tr>\n",
       "      <th>199984</th>\n",
       "      <td>train_199984</td>\n",
       "      <td>0</td>\n",
       "      <td>11.3184</td>\n",
       "      <td>0.3745</td>\n",
       "      <td>4.5578</td>\n",
       "      <td>5.8872</td>\n",
       "      <td>10.3655</td>\n",
       "      <td>0.7182</td>\n",
       "      <td>5.4431</td>\n",
       "      <td>17.4472</td>\n",
       "      <td>...</td>\n",
       "      <td>0.111965</td>\n",
       "      <td>0.100219</td>\n",
       "      <td>0.117746</td>\n",
       "      <td>0.109161</td>\n",
       "      <td>0.111474</td>\n",
       "      <td>0.105696</td>\n",
       "      <td>0.000000</td>\n",
       "      <td>0.101571</td>\n",
       "      <td>0.083285</td>\n",
       "      <td>0.088510</td>\n",
       "    </tr>\n",
       "    <tr>\n",
       "      <th>199985</th>\n",
       "      <td>train_199985</td>\n",
       "      <td>0</td>\n",
       "      <td>9.0249</td>\n",
       "      <td>-3.6379</td>\n",
       "      <td>12.3907</td>\n",
       "      <td>5.1915</td>\n",
       "      <td>12.1701</td>\n",
       "      <td>-8.8978</td>\n",
       "      <td>5.2574</td>\n",
       "      <td>17.9830</td>\n",
       "      <td>...</td>\n",
       "      <td>0.125000</td>\n",
       "      <td>0.094617</td>\n",
       "      <td>0.117746</td>\n",
       "      <td>0.093326</td>\n",
       "      <td>0.133221</td>\n",
       "      <td>0.157200</td>\n",
       "      <td>0.108939</td>\n",
       "      <td>0.100746</td>\n",
       "      <td>0.095316</td>\n",
       "      <td>0.111111</td>\n",
       "    </tr>\n",
       "    <tr>\n",
       "      <th>199986</th>\n",
       "      <td>train_199986</td>\n",
       "      <td>1</td>\n",
       "      <td>12.0298</td>\n",
       "      <td>-8.7800</td>\n",
       "      <td>7.7071</td>\n",
       "      <td>7.4015</td>\n",
       "      <td>9.2305</td>\n",
       "      <td>-16.2174</td>\n",
       "      <td>5.9064</td>\n",
       "      <td>17.9268</td>\n",
       "      <td>...</td>\n",
       "      <td>0.000000</td>\n",
       "      <td>0.101073</td>\n",
       "      <td>0.151806</td>\n",
       "      <td>0.091156</td>\n",
       "      <td>0.124518</td>\n",
       "      <td>0.168923</td>\n",
       "      <td>0.117519</td>\n",
       "      <td>0.107490</td>\n",
       "      <td>0.104695</td>\n",
       "      <td>0.119888</td>\n",
       "    </tr>\n",
       "    <tr>\n",
       "      <th>199987</th>\n",
       "      <td>train_199987</td>\n",
       "      <td>0</td>\n",
       "      <td>8.0438</td>\n",
       "      <td>-1.9184</td>\n",
       "      <td>13.1498</td>\n",
       "      <td>9.2027</td>\n",
       "      <td>8.9886</td>\n",
       "      <td>2.7531</td>\n",
       "      <td>4.2194</td>\n",
       "      <td>18.1138</td>\n",
       "      <td>...</td>\n",
       "      <td>0.111965</td>\n",
       "      <td>0.130022</td>\n",
       "      <td>0.088877</td>\n",
       "      <td>0.107451</td>\n",
       "      <td>0.111541</td>\n",
       "      <td>0.097627</td>\n",
       "      <td>0.099789</td>\n",
       "      <td>0.100746</td>\n",
       "      <td>0.102883</td>\n",
       "      <td>0.116817</td>\n",
       "    </tr>\n",
       "    <tr>\n",
       "      <th>199988</th>\n",
       "      <td>train_199988</td>\n",
       "      <td>0</td>\n",
       "      <td>10.8657</td>\n",
       "      <td>-8.3545</td>\n",
       "      <td>6.1736</td>\n",
       "      <td>7.6057</td>\n",
       "      <td>9.5523</td>\n",
       "      <td>-15.7626</td>\n",
       "      <td>5.8723</td>\n",
       "      <td>18.9903</td>\n",
       "      <td>...</td>\n",
       "      <td>0.102974</td>\n",
       "      <td>0.096863</td>\n",
       "      <td>0.145749</td>\n",
       "      <td>0.106651</td>\n",
       "      <td>0.103243</td>\n",
       "      <td>0.122427</td>\n",
       "      <td>0.120087</td>\n",
       "      <td>0.100746</td>\n",
       "      <td>0.108170</td>\n",
       "      <td>0.122658</td>\n",
       "    </tr>\n",
       "    <tr>\n",
       "      <th>199989</th>\n",
       "      <td>train_199989</td>\n",
       "      <td>0</td>\n",
       "      <td>11.7554</td>\n",
       "      <td>-4.5356</td>\n",
       "      <td>9.2269</td>\n",
       "      <td>7.7733</td>\n",
       "      <td>10.6232</td>\n",
       "      <td>-2.2480</td>\n",
       "      <td>5.4759</td>\n",
       "      <td>12.4436</td>\n",
       "      <td>...</td>\n",
       "      <td>0.173387</td>\n",
       "      <td>0.121562</td>\n",
       "      <td>0.099085</td>\n",
       "      <td>0.111231</td>\n",
       "      <td>0.125477</td>\n",
       "      <td>0.093700</td>\n",
       "      <td>0.112561</td>\n",
       "      <td>0.185642</td>\n",
       "      <td>0.102883</td>\n",
       "      <td>0.128134</td>\n",
       "    </tr>\n",
       "    <tr>\n",
       "      <th>199990</th>\n",
       "      <td>train_199990</td>\n",
       "      <td>1</td>\n",
       "      <td>14.1475</td>\n",
       "      <td>1.8568</td>\n",
       "      <td>11.0066</td>\n",
       "      <td>3.6779</td>\n",
       "      <td>12.1944</td>\n",
       "      <td>-16.5936</td>\n",
       "      <td>5.3217</td>\n",
       "      <td>14.8508</td>\n",
       "      <td>...</td>\n",
       "      <td>0.100646</td>\n",
       "      <td>0.096123</td>\n",
       "      <td>0.105673</td>\n",
       "      <td>0.091733</td>\n",
       "      <td>0.092470</td>\n",
       "      <td>0.133783</td>\n",
       "      <td>0.109198</td>\n",
       "      <td>0.101610</td>\n",
       "      <td>0.114040</td>\n",
       "      <td>0.102521</td>\n",
       "    </tr>\n",
       "    <tr>\n",
       "      <th>199991</th>\n",
       "      <td>train_199991</td>\n",
       "      <td>0</td>\n",
       "      <td>9.9909</td>\n",
       "      <td>2.5523</td>\n",
       "      <td>11.9653</td>\n",
       "      <td>6.3958</td>\n",
       "      <td>13.5497</td>\n",
       "      <td>-9.5293</td>\n",
       "      <td>6.0864</td>\n",
       "      <td>14.1789</td>\n",
       "      <td>...</td>\n",
       "      <td>0.227687</td>\n",
       "      <td>0.109742</td>\n",
       "      <td>0.121420</td>\n",
       "      <td>0.118761</td>\n",
       "      <td>0.115128</td>\n",
       "      <td>0.104190</td>\n",
       "      <td>0.093422</td>\n",
       "      <td>0.116408</td>\n",
       "      <td>0.121404</td>\n",
       "      <td>0.105889</td>\n",
       "    </tr>\n",
       "    <tr>\n",
       "      <th>199992</th>\n",
       "      <td>train_199992</td>\n",
       "      <td>0</td>\n",
       "      <td>12.2825</td>\n",
       "      <td>2.6918</td>\n",
       "      <td>15.4684</td>\n",
       "      <td>6.4262</td>\n",
       "      <td>10.9863</td>\n",
       "      <td>9.9659</td>\n",
       "      <td>4.5030</td>\n",
       "      <td>9.9232</td>\n",
       "      <td>...</td>\n",
       "      <td>0.103889</td>\n",
       "      <td>0.130022</td>\n",
       "      <td>0.121951</td>\n",
       "      <td>0.110506</td>\n",
       "      <td>0.092470</td>\n",
       "      <td>0.095452</td>\n",
       "      <td>0.115819</td>\n",
       "      <td>0.110503</td>\n",
       "      <td>0.084545</td>\n",
       "      <td>0.103331</td>\n",
       "    </tr>\n",
       "    <tr>\n",
       "      <th>199993</th>\n",
       "      <td>train_199993</td>\n",
       "      <td>0</td>\n",
       "      <td>13.2152</td>\n",
       "      <td>-5.8006</td>\n",
       "      <td>9.7260</td>\n",
       "      <td>6.5910</td>\n",
       "      <td>12.4612</td>\n",
       "      <td>-7.1652</td>\n",
       "      <td>6.0666</td>\n",
       "      <td>12.9887</td>\n",
       "      <td>...</td>\n",
       "      <td>0.103889</td>\n",
       "      <td>0.126975</td>\n",
       "      <td>0.104821</td>\n",
       "      <td>0.142286</td>\n",
       "      <td>0.095552</td>\n",
       "      <td>0.114661</td>\n",
       "      <td>0.104372</td>\n",
       "      <td>0.117065</td>\n",
       "      <td>0.119571</td>\n",
       "      <td>0.115320</td>\n",
       "    </tr>\n",
       "    <tr>\n",
       "      <th>199994</th>\n",
       "      <td>train_199994</td>\n",
       "      <td>0</td>\n",
       "      <td>12.3925</td>\n",
       "      <td>-5.8821</td>\n",
       "      <td>11.2323</td>\n",
       "      <td>3.9237</td>\n",
       "      <td>10.4509</td>\n",
       "      <td>10.7262</td>\n",
       "      <td>7.0503</td>\n",
       "      <td>18.6968</td>\n",
       "      <td>...</td>\n",
       "      <td>0.083427</td>\n",
       "      <td>0.106180</td>\n",
       "      <td>0.106291</td>\n",
       "      <td>0.107865</td>\n",
       "      <td>0.125692</td>\n",
       "      <td>0.106019</td>\n",
       "      <td>0.099782</td>\n",
       "      <td>0.118110</td>\n",
       "      <td>0.098615</td>\n",
       "      <td>0.113426</td>\n",
       "    </tr>\n",
       "    <tr>\n",
       "      <th>199995</th>\n",
       "      <td>train_199995</td>\n",
       "      <td>0</td>\n",
       "      <td>11.4880</td>\n",
       "      <td>-0.4956</td>\n",
       "      <td>8.2622</td>\n",
       "      <td>3.5142</td>\n",
       "      <td>10.3404</td>\n",
       "      <td>11.6081</td>\n",
       "      <td>5.6709</td>\n",
       "      <td>15.1516</td>\n",
       "      <td>...</td>\n",
       "      <td>0.111364</td>\n",
       "      <td>0.176257</td>\n",
       "      <td>0.087671</td>\n",
       "      <td>0.106593</td>\n",
       "      <td>0.113143</td>\n",
       "      <td>0.105120</td>\n",
       "      <td>0.100000</td>\n",
       "      <td>0.096112</td>\n",
       "      <td>0.094875</td>\n",
       "      <td>0.101610</td>\n",
       "    </tr>\n",
       "    <tr>\n",
       "      <th>199996</th>\n",
       "      <td>train_199996</td>\n",
       "      <td>0</td>\n",
       "      <td>4.9149</td>\n",
       "      <td>-2.4484</td>\n",
       "      <td>16.7052</td>\n",
       "      <td>6.6345</td>\n",
       "      <td>8.3096</td>\n",
       "      <td>-10.5628</td>\n",
       "      <td>5.8802</td>\n",
       "      <td>21.5940</td>\n",
       "      <td>...</td>\n",
       "      <td>0.120339</td>\n",
       "      <td>0.094743</td>\n",
       "      <td>0.112031</td>\n",
       "      <td>0.124175</td>\n",
       "      <td>0.086794</td>\n",
       "      <td>0.112035</td>\n",
       "      <td>0.103297</td>\n",
       "      <td>0.208908</td>\n",
       "      <td>0.094258</td>\n",
       "      <td>0.100054</td>\n",
       "    </tr>\n",
       "    <tr>\n",
       "      <th>199997</th>\n",
       "      <td>train_199997</td>\n",
       "      <td>0</td>\n",
       "      <td>11.2232</td>\n",
       "      <td>-5.0518</td>\n",
       "      <td>10.5127</td>\n",
       "      <td>5.6456</td>\n",
       "      <td>9.3410</td>\n",
       "      <td>-5.4086</td>\n",
       "      <td>4.5555</td>\n",
       "      <td>21.5571</td>\n",
       "      <td>...</td>\n",
       "      <td>0.113402</td>\n",
       "      <td>0.096895</td>\n",
       "      <td>0.091877</td>\n",
       "      <td>0.103763</td>\n",
       "      <td>0.104520</td>\n",
       "      <td>0.097627</td>\n",
       "      <td>0.110254</td>\n",
       "      <td>0.126689</td>\n",
       "      <td>0.114040</td>\n",
       "      <td>0.114045</td>\n",
       "    </tr>\n",
       "    <tr>\n",
       "      <th>199998</th>\n",
       "      <td>train_199998</td>\n",
       "      <td>0</td>\n",
       "      <td>9.7148</td>\n",
       "      <td>-8.6098</td>\n",
       "      <td>13.6104</td>\n",
       "      <td>5.7930</td>\n",
       "      <td>12.5173</td>\n",
       "      <td>0.5339</td>\n",
       "      <td>6.0479</td>\n",
       "      <td>17.0152</td>\n",
       "      <td>...</td>\n",
       "      <td>0.100218</td>\n",
       "      <td>0.104553</td>\n",
       "      <td>0.081612</td>\n",
       "      <td>0.109121</td>\n",
       "      <td>0.100221</td>\n",
       "      <td>0.110368</td>\n",
       "      <td>0.104372</td>\n",
       "      <td>0.096463</td>\n",
       "      <td>0.108280</td>\n",
       "      <td>0.094311</td>\n",
       "    </tr>\n",
       "    <tr>\n",
       "      <th>199999</th>\n",
       "      <td>train_199999</td>\n",
       "      <td>0</td>\n",
       "      <td>10.8762</td>\n",
       "      <td>-5.7105</td>\n",
       "      <td>12.1183</td>\n",
       "      <td>8.0328</td>\n",
       "      <td>11.5577</td>\n",
       "      <td>0.3488</td>\n",
       "      <td>5.2839</td>\n",
       "      <td>15.2058</td>\n",
       "      <td>...</td>\n",
       "      <td>0.132149</td>\n",
       "      <td>0.097467</td>\n",
       "      <td>0.129286</td>\n",
       "      <td>0.112031</td>\n",
       "      <td>0.113786</td>\n",
       "      <td>0.115661</td>\n",
       "      <td>0.103297</td>\n",
       "      <td>0.100746</td>\n",
       "      <td>0.148649</td>\n",
       "      <td>0.100054</td>\n",
       "    </tr>\n",
       "  </tbody>\n",
       "</table>\n",
       "<p>200000 rows × 402 columns</p>\n",
       "</div>"
      ],
      "text/plain": [
       "             ID_code  target    var_0   var_1    var_2    var_3    var_4  \\\n",
       "0            train_0       0   8.9255 -6.7863  11.9081   5.0930  11.4607   \n",
       "1            train_1       0  11.5006 -4.1473  13.8588   5.3890  12.3622   \n",
       "2            train_2       0   8.6093 -2.7457  12.0805   7.8928  10.5825   \n",
       "3            train_3       0  11.0604 -2.1518   8.9522   7.1957  12.5846   \n",
       "4            train_4       0   9.8369 -1.4834  12.8746   6.6375  12.2772   \n",
       "5            train_5       0  11.4763 -2.3182  12.6080   8.6264  10.9621   \n",
       "6            train_6       0  11.8091 -0.0832   9.3494   4.2916  11.1355   \n",
       "7            train_7       0  13.5580 -7.9881  13.8776   7.5985   8.6543   \n",
       "8            train_8       0  16.1071  2.4426  13.9307   5.6327   8.8014   \n",
       "9            train_9       0  12.5088  1.9743   8.8960   5.4508  13.6043   \n",
       "10          train_10       0   5.0702 -0.5447   9.5900   4.2987  12.3910   \n",
       "11          train_11       0  12.7188 -7.9750  10.3757   9.0101  12.8570   \n",
       "12          train_12       0   8.7671 -4.6154   9.7242   7.4242   9.0254   \n",
       "13          train_13       1  16.3699  1.5934  16.7395   7.3330  12.1450   \n",
       "14          train_14       0  13.8080  5.0514  17.2611   8.5120  12.8517   \n",
       "15          train_15       0   3.9416  2.6562  13.3633   6.8895  12.2806   \n",
       "16          train_16       0   5.0615  0.2689  15.1325   3.6587  13.5276   \n",
       "17          train_17       0   8.4199 -1.8128   8.1202   5.3955   9.7184   \n",
       "18          train_18       0   4.8750  1.2646  11.9190   8.4650  10.7203   \n",
       "19          train_19       0   4.4090 -0.7863  15.1828   8.0631  11.2831   \n",
       "20          train_20       0  12.6700 -2.0221   6.8930   6.9152   9.5677   \n",
       "21          train_21       0   8.3918  1.4806  12.9804   7.5538  11.1531   \n",
       "22          train_22       0  10.2031  0.1925  14.0238   7.0345  11.8514   \n",
       "23          train_23       0  15.0029 -9.3439  10.3790   8.3226  13.0204   \n",
       "24          train_24       0   5.9240 -3.7285  11.0995   4.6969  11.7363   \n",
       "25          train_25       0   8.2703 -5.6854  12.6862   7.2755  12.3713   \n",
       "26          train_26       0  15.6567 -4.4950  10.4867   3.8187   8.8813   \n",
       "27          train_27       0  10.7166 -9.9800  10.9569   6.7660  10.6803   \n",
       "28          train_28       0   7.8010  4.5262   8.9291   8.4884  12.8435   \n",
       "29          train_29       1   5.3301 -2.6064  13.1913   3.1193   6.6483   \n",
       "...              ...     ...      ...     ...      ...      ...      ...   \n",
       "199970  train_199970       0  15.5794 -2.5687   9.8811   4.2565  10.7471   \n",
       "199971  train_199971       0  14.5745 -3.9178  13.1673   9.2800  10.9593   \n",
       "199972  train_199972       0   7.4206 -2.5972  12.0215   8.7882  14.1996   \n",
       "199973  train_199973       0   8.7758 -0.4604   8.0874   6.4538  13.0035   \n",
       "199974  train_199974       0  16.2010 -5.7847  15.2685   6.5241  11.6020   \n",
       "199975  train_199975       0   7.5238  1.0548   9.6265   4.8688   7.1841   \n",
       "199976  train_199976       1   7.9663 -2.8485   9.0919   7.3298   9.6690   \n",
       "199977  train_199977       0   7.3884 -0.8093   8.9274   7.7227  14.3232   \n",
       "199978  train_199978       0  12.2015 -0.8787  16.8069   9.1073  10.3219   \n",
       "199979  train_199979       0  10.8208 -2.9344  15.0906   9.7810   9.4014   \n",
       "199980  train_199980       0   7.9618  6.2271  13.3326   7.5345  12.5645   \n",
       "199981  train_199981       1  12.8140  0.6386  14.1657   7.1044   8.9365   \n",
       "199982  train_199982       0  11.8224 -2.3596   9.5937  10.5608  11.1665   \n",
       "199983  train_199983       0  15.3063  2.8260  11.4074   4.7992  11.4529   \n",
       "199984  train_199984       0  11.3184  0.3745   4.5578   5.8872  10.3655   \n",
       "199985  train_199985       0   9.0249 -3.6379  12.3907   5.1915  12.1701   \n",
       "199986  train_199986       1  12.0298 -8.7800   7.7071   7.4015   9.2305   \n",
       "199987  train_199987       0   8.0438 -1.9184  13.1498   9.2027   8.9886   \n",
       "199988  train_199988       0  10.8657 -8.3545   6.1736   7.6057   9.5523   \n",
       "199989  train_199989       0  11.7554 -4.5356   9.2269   7.7733  10.6232   \n",
       "199990  train_199990       1  14.1475  1.8568  11.0066   3.6779  12.1944   \n",
       "199991  train_199991       0   9.9909  2.5523  11.9653   6.3958  13.5497   \n",
       "199992  train_199992       0  12.2825  2.6918  15.4684   6.4262  10.9863   \n",
       "199993  train_199993       0  13.2152 -5.8006   9.7260   6.5910  12.4612   \n",
       "199994  train_199994       0  12.3925 -5.8821  11.2323   3.9237  10.4509   \n",
       "199995  train_199995       0  11.4880 -0.4956   8.2622   3.5142  10.3404   \n",
       "199996  train_199996       0   4.9149 -2.4484  16.7052   6.6345   8.3096   \n",
       "199997  train_199997       0  11.2232 -5.0518  10.5127   5.6456   9.3410   \n",
       "199998  train_199998       0   9.7148 -8.6098  13.6104   5.7930  12.5173   \n",
       "199999  train_199999       0  10.8762 -5.7105  12.1183   8.0328  11.5577   \n",
       "\n",
       "          var_5   var_6    var_7      ...       var_190_rate  var_191_rate  \\\n",
       "0       -9.2834  5.1187  18.6266      ...           0.107303      0.099183   \n",
       "1        7.0433  5.6208  16.5338      ...           0.115079      0.096237   \n",
       "2       -9.0837  6.9427  14.6155      ...           0.093483      0.115670   \n",
       "3       -1.8361  5.8428  14.9250      ...           0.107303      0.096123   \n",
       "4        2.4486  5.9405  19.2514      ...           0.098530      0.125139   \n",
       "5        3.5609  4.5322  15.2255      ...           0.100646      0.112636   \n",
       "6       -8.0198  6.1961  12.0771      ...           0.138262      0.089056   \n",
       "7        0.8310  5.6890  22.3262      ...           0.227729      0.101136   \n",
       "8        6.1630  4.4514  10.1854      ...           0.100216      0.210241   \n",
       "9      -16.2859  6.0637  16.8410      ...           0.084467      0.105490   \n",
       "10     -18.8687  6.0382  14.3797      ...           0.111965      0.104575   \n",
       "11     -12.0852  5.6464  11.8370      ...           0.121381      0.091450   \n",
       "12       1.4247  6.2815  12.3143      ...           0.094851      0.098209   \n",
       "13       5.9004  4.8222  20.9729      ...           0.120757      0.098209   \n",
       "14      -9.1622  5.7327  21.0517      ...           0.096914      0.125642   \n",
       "15     -16.1620  5.6979  14.4573      ...           0.101130      0.112323   \n",
       "16      -6.5477  5.2757   9.8710      ...           0.094505      0.106874   \n",
       "17     -17.8390  4.0959  15.2860      ...           0.120757      0.119287   \n",
       "18      -0.6707  5.6103  16.4661      ...           0.132149      0.091450   \n",
       "19      -0.7356  6.3801  16.0218      ...           0.111418      0.105490   \n",
       "20     -11.2672  5.6061  16.2354      ...           0.086270      0.087852   \n",
       "21     -14.7776  5.9987  15.5148      ...           0.094842      0.088472   \n",
       "22      13.8830  6.4040  18.0058      ...           0.101790      0.096895   \n",
       "23      -5.0744  5.2489  11.6845      ...           0.093483      0.097711   \n",
       "24     -20.4102  5.8125  15.9027      ...           0.093800      0.114838   \n",
       "25      -7.7521  6.7252  18.4270      ...           0.172174      0.109853   \n",
       "26      -6.0295  5.5224  17.6964      ...           0.098670      0.121562   \n",
       "27     -12.9329  4.5012  17.3841      ...           0.115982      0.126975   \n",
       "28      -1.2632  5.0383  13.6339      ...           0.125779      0.101073   \n",
       "29      -6.5659  5.9064  15.2341      ...           0.129937      0.110497   \n",
       "...         ...     ...      ...      ...                ...           ...   \n",
       "199970  -2.9749  6.2631  19.6539      ...           0.118162      0.105120   \n",
       "199971   7.7317  5.1604  14.8811      ...           0.098414      0.000000   \n",
       "199972   0.0649  4.7421  19.9268      ...           0.173387      0.112323   \n",
       "199973   0.1872  4.3495  20.0410      ...           0.118866      0.106748   \n",
       "199974  -7.3137  5.7833  18.4535      ...           0.136848      0.105490   \n",
       "199975 -16.4001  5.3361  13.1120      ...           0.118162      0.087575   \n",
       "199976 -16.7872  4.5094  12.4351      ...           0.151275      0.097711   \n",
       "199977 -11.3203  5.2290  12.0626      ...           0.096472      0.105120   \n",
       "199978   7.0208  6.2587  19.8344      ...           0.121381      0.088472   \n",
       "199979  -4.5704  5.3201  16.0858      ...           0.110683      0.144133   \n",
       "199980   1.1205  5.4488  22.1532      ...           0.103831      0.087575   \n",
       "199981  -0.3274  6.5949  14.6078      ...           0.103831      0.104825   \n",
       "199982  -0.7569  4.8932  19.6128      ...           0.113402      0.099183   \n",
       "199983   5.3734  4.5088  15.3278      ...           0.103486      0.110791   \n",
       "199984   0.7182  5.4431  17.4472      ...           0.111965      0.100219   \n",
       "199985  -8.8978  5.2574  17.9830      ...           0.125000      0.094617   \n",
       "199986 -16.2174  5.9064  17.9268      ...           0.000000      0.101073   \n",
       "199987   2.7531  4.2194  18.1138      ...           0.111965      0.130022   \n",
       "199988 -15.7626  5.8723  18.9903      ...           0.102974      0.096863   \n",
       "199989  -2.2480  5.4759  12.4436      ...           0.173387      0.121562   \n",
       "199990 -16.5936  5.3217  14.8508      ...           0.100646      0.096123   \n",
       "199991  -9.5293  6.0864  14.1789      ...           0.227687      0.109742   \n",
       "199992   9.9659  4.5030   9.9232      ...           0.103889      0.130022   \n",
       "199993  -7.1652  6.0666  12.9887      ...           0.103889      0.126975   \n",
       "199994  10.7262  7.0503  18.6968      ...           0.083427      0.106180   \n",
       "199995  11.6081  5.6709  15.1516      ...           0.111364      0.176257   \n",
       "199996 -10.5628  5.8802  21.5940      ...           0.120339      0.094743   \n",
       "199997  -5.4086  4.5555  21.5571      ...           0.113402      0.096895   \n",
       "199998   0.5339  6.0479  17.0152      ...           0.100218      0.104553   \n",
       "199999   0.3488  5.2839  15.2058      ...           0.132149      0.097467   \n",
       "\n",
       "        var_192_rate  var_193_rate  var_194_rate  var_195_rate  var_196_rate  \\\n",
       "0           0.091362      0.122584      0.113960      0.096739      0.105705   \n",
       "1           0.088009      0.110147      0.121910      0.138169      0.113736   \n",
       "2           0.123430      0.122584      0.110986      0.168923      0.100221   \n",
       "3           0.112031      0.109400      0.105148      0.103840      0.089617   \n",
       "4           0.125499      0.107870      0.125140      0.089701      0.102097   \n",
       "5           0.090022      0.112031      0.099169      0.108952      0.099789   \n",
       "6           0.088840      0.109059      0.127119      0.103604      0.121130   \n",
       "7           0.087671      0.120360      0.101963      0.101488      0.134106   \n",
       "8           0.123430      0.109400      0.119865      0.119798      0.115575   \n",
       "9           0.112955      0.115429      0.119865      0.114773      0.000000   \n",
       "10          0.128621      0.115073      0.099169      0.110928      0.114790   \n",
       "11          0.149306      0.110506      0.121495      0.138506      0.106946   \n",
       "12          0.129286      0.109400      0.105530      0.110368      0.108544   \n",
       "13          0.101482      0.118539      0.110925      0.103840      0.123620   \n",
       "14          0.103955      0.122584      0.111474      0.120623      0.099789   \n",
       "15          0.128336      0.108746      0.105547      0.104190      0.118443   \n",
       "16          0.147597      0.114910      0.119420      0.114773      0.105705   \n",
       "17          0.106052      0.115073      0.109581      0.095875      0.121622   \n",
       "18          0.115169      0.087671      0.097481      0.089701      0.109198   \n",
       "19          0.091005      0.121262      0.097481      0.097748      0.109101   \n",
       "20          0.125499      0.126251      0.125563      0.104190      0.121130   \n",
       "21          0.119524      0.120360      0.101963      0.103840      0.101961   \n",
       "22          0.158711      0.095648      0.156451      0.111234      0.094851   \n",
       "23          0.090022      0.109400      0.127119      0.138506      0.099789   \n",
       "24          0.119524      0.096099      0.105530      0.105035      0.111556   \n",
       "25          0.120047      0.110368      0.094143      0.106866      0.108544   \n",
       "26          0.119524      0.103882      0.097808      0.118866      0.131119   \n",
       "27          0.125069      0.108020      0.125692      0.157200      0.121622   \n",
       "28          0.147597      0.107870      0.112500      0.136782      0.105705   \n",
       "29          0.102052      0.125612      0.101963      0.119798      0.103219   \n",
       "...              ...           ...           ...           ...           ...   \n",
       "199970      0.115003      0.124175      0.121495      0.097627      0.099789   \n",
       "199971      0.097756      0.115320      0.107613      0.089701      0.119774   \n",
       "199972      0.136019      0.102664      0.112279      0.109402      0.116253   \n",
       "199973      0.091005      0.107870      0.101245      0.103840      0.115819   \n",
       "199974      0.128336      0.107870      0.109244      0.098864      0.109101   \n",
       "199975      0.091877      0.103153      0.100221      0.103604      0.116667   \n",
       "199976      0.106291      0.115079      0.106936      0.098614      0.114607   \n",
       "199977      0.088840      0.112031      0.101245      0.101545      0.115670   \n",
       "199978      0.101504      0.144247      0.129315      0.119798      0.127771   \n",
       "199979      0.129286      0.108020      0.114411      0.089701      0.118443   \n",
       "199980      0.088203      0.087671      0.112500      0.118213      0.114607   \n",
       "199981      0.098801      0.113975      0.106936      0.118213      0.093716   \n",
       "199982      0.088203      0.107870      0.100275      0.122427      0.106946   \n",
       "199983      0.088203      0.128563      0.127986      0.126280      0.131119   \n",
       "199984      0.117746      0.109161      0.111474      0.105696      0.000000   \n",
       "199985      0.117746      0.093326      0.133221      0.157200      0.108939   \n",
       "199986      0.151806      0.091156      0.124518      0.168923      0.117519   \n",
       "199987      0.088877      0.107451      0.111541      0.097627      0.099789   \n",
       "199988      0.145749      0.106651      0.103243      0.122427      0.120087   \n",
       "199989      0.099085      0.111231      0.125477      0.093700      0.112561   \n",
       "199990      0.105673      0.091733      0.092470      0.133783      0.109198   \n",
       "199991      0.121420      0.118761      0.115128      0.104190      0.093422   \n",
       "199992      0.121951      0.110506      0.092470      0.095452      0.115819   \n",
       "199993      0.104821      0.142286      0.095552      0.114661      0.104372   \n",
       "199994      0.106291      0.107865      0.125692      0.106019      0.099782   \n",
       "199995      0.087671      0.106593      0.113143      0.105120      0.100000   \n",
       "199996      0.112031      0.124175      0.086794      0.112035      0.103297   \n",
       "199997      0.091877      0.103763      0.104520      0.097627      0.110254   \n",
       "199998      0.081612      0.109121      0.100221      0.110368      0.104372   \n",
       "199999      0.129286      0.112031      0.113786      0.115661      0.103297   \n",
       "\n",
       "        var_197_rate  var_198_rate  var_199_rate  \n",
       "0           0.116408      0.118333      0.119658  \n",
       "1           0.107865      0.097574      0.108672  \n",
       "2           0.120946      0.108170      0.123464  \n",
       "3           0.091500      0.098859      0.119977  \n",
       "4           0.102397      0.098859      0.119977  \n",
       "5           0.108287      0.103410      0.111607  \n",
       "6           0.118110      0.185731      0.102762  \n",
       "7           0.101401      0.242931      0.115680  \n",
       "8           0.100746      0.102883      0.098698  \n",
       "9           0.120147      0.087146      0.147701  \n",
       "10          0.106812      0.101433      0.113426  \n",
       "11          0.096582      0.099837      0.113270  \n",
       "12          0.112500      0.094093      0.098698  \n",
       "13          0.115186      0.108280      0.116548  \n",
       "14          0.094580      0.000000      0.114191  \n",
       "15          0.127563      0.107945      0.111607  \n",
       "16          0.116667      0.095003      0.143772  \n",
       "17          0.106704      0.100850      0.114191  \n",
       "18          0.122992      0.083285      0.094549  \n",
       "19          0.101610      0.108170      0.114365  \n",
       "20          0.105263      0.000000      0.084746  \n",
       "21          0.124931      0.098214      0.144744  \n",
       "22          0.103205      0.242931      0.099114  \n",
       "23          0.106704      0.118333      0.109081  \n",
       "24          0.098847      0.101433      0.108672  \n",
       "25          0.090860      0.086169      0.102762  \n",
       "26          0.098139      0.104651      0.113426  \n",
       "27          0.109581      0.104101      0.110423  \n",
       "28          0.093178      0.120181      0.111965  \n",
       "29          0.106704      0.084545      0.104948  \n",
       "...              ...           ...           ...  \n",
       "199970      0.098139      0.095316      0.114333  \n",
       "199971      0.171948      0.110676      0.147674  \n",
       "199972      0.127623      0.105054      0.119977  \n",
       "199973      0.105263      0.084967      0.000000  \n",
       "199974      0.102109      0.113078      0.115680  \n",
       "199975      0.151602      0.104101      0.111111  \n",
       "199976      0.122074      0.101433      0.110423  \n",
       "199977      0.115186      0.094258      0.099059  \n",
       "199978      0.131594      0.118719      0.100110  \n",
       "199979      0.103205      0.084545      0.114827  \n",
       "199980      0.105263      0.119571      0.119977  \n",
       "199981      0.105502      0.092432      0.122658  \n",
       "199982      0.111842      0.104695      0.097093  \n",
       "199983      0.108287      0.095341      0.100110  \n",
       "199984      0.101571      0.083285      0.088510  \n",
       "199985      0.100746      0.095316      0.111111  \n",
       "199986      0.107490      0.104695      0.119888  \n",
       "199987      0.100746      0.102883      0.116817  \n",
       "199988      0.100746      0.108170      0.122658  \n",
       "199989      0.185642      0.102883      0.128134  \n",
       "199990      0.101610      0.114040      0.102521  \n",
       "199991      0.116408      0.121404      0.105889  \n",
       "199992      0.110503      0.084545      0.103331  \n",
       "199993      0.117065      0.119571      0.115320  \n",
       "199994      0.118110      0.098615      0.113426  \n",
       "199995      0.096112      0.094875      0.101610  \n",
       "199996      0.208908      0.094258      0.100054  \n",
       "199997      0.126689      0.114040      0.114045  \n",
       "199998      0.096463      0.108280      0.094311  \n",
       "199999      0.100746      0.148649      0.100054  \n",
       "\n",
       "[200000 rows x 402 columns]"
      ]
     },
     "execution_count": 19,
     "metadata": {},
     "output_type": "execute_result"
    }
   ],
   "source": [
    "train_df"
   ]
  },
  {
   "cell_type": "code",
   "execution_count": 20,
   "metadata": {
    "collapsed": false
   },
   "outputs": [],
   "source": [
    "train_df.to_csv('./feature/112_train_rate.csv',index=False)\n",
    "test_df.to_csv('./feature/112_test_rate.csv',index=False)"
   ]
  },
  {
   "cell_type": "code",
   "execution_count": null,
   "metadata": {
    "collapsed": true
   },
   "outputs": [],
   "source": []
  }
 ],
 "metadata": {
  "kernelspec": {
   "display_name": "Python 3",
   "language": "python",
   "name": "python3"
  },
  "language_info": {
   "codemirror_mode": {
    "name": "ipython",
    "version": 3
   },
   "file_extension": ".py",
   "mimetype": "text/x-python",
   "name": "python",
   "nbconvert_exporter": "python",
   "pygments_lexer": "ipython3",
   "version": "3.6.0"
  }
 },
 "nbformat": 4,
 "nbformat_minor": 2
}
