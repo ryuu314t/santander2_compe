{
 "cells": [
  {
   "cell_type": "code",
   "execution_count": 1,
   "metadata": {
    "collapsed": false
   },
   "outputs": [
    {
     "name": "stderr",
     "output_type": "stream",
     "text": [
      "C:\\Users\\tatsuya.okamoto\\AppData\\Local\\Continuum\\Anaconda3\\lib\\site-packages\\sklearn\\cross_validation.py:44: DeprecationWarning: This module was deprecated in version 0.18 in favor of the model_selection module into which all the refactored classes and functions are moved. Also note that the interface of the new CV iterators are different from that of this module. This module will be removed in 0.20.\n",
      "  \"This module will be removed in 0.20.\", DeprecationWarning)\n",
      "C:\\Users\\tatsuya.okamoto\\AppData\\Local\\Continuum\\Anaconda3\\lib\\site-packages\\sklearn\\grid_search.py:43: DeprecationWarning: This module was deprecated in version 0.18 in favor of the model_selection module into which all the refactored classes and functions are moved. This module will be removed in 0.20.\n",
      "  DeprecationWarning)\n"
     ]
    }
   ],
   "source": [
    "import gc\n",
    "import os\n",
    "import logging\n",
    "import datetime\n",
    "import warnings\n",
    "import numpy as np\n",
    "import pandas as pd\n",
    "import seaborn as sns\n",
    "import lightgbm as lgb\n",
    "from tqdm import tqdm_notebook\n",
    "import matplotlib.pyplot as plt\n",
    "from sklearn.metrics import mean_squared_error\n",
    "from sklearn.metrics import roc_auc_score, roc_curve\n",
    "from sklearn.model_selection import StratifiedKFold\n",
    "from sklearn.model_selection import ShuffleSplit\n",
    "import xgboost as xgb\n",
    "from sklearn.model_selection import GridSearchCV\n",
    "from sklearn.grid_search import RandomizedSearchCV\n",
    "warnings.filterwarnings('ignore')\n"
   ]
  },
  {
   "cell_type": "markdown",
   "metadata": {},
   "source": [
    "基本変数定義"
   ]
  },
  {
   "cell_type": "code",
   "execution_count": 2,
   "metadata": {
    "collapsed": true
   },
   "outputs": [],
   "source": [
    "submit_flg=1 #全件処理かどうかをコントロール\n",
    "grid_flg=0 #GridSearchをするかコントロール\n",
    "\n",
    "SEED=12345\n",
    "sample_num=10000\n",
    "fold_num=5\n",
    "\n",
    "#train関連\n",
    "train_dir='./feature/107_train_areacat.csv'\n",
    "train_drop_col=['ID_code', 'target']\n",
    "train_label='target'\n",
    "\n",
    "#test関連\n",
    "test_dir='./feature/107_test_areacat.csv'\n",
    "test_drop_col=['ID_code']\n",
    "\n",
    "#結果ファイル関連\n",
    "oof_preds_dir='./oof/111_LightGBM_areacat_preds.csv'\n",
    "test_preds_dir='./oof/111_LightGBM_areacat_tests.csv'\n",
    "submission_dir='./submission/111_LightGBM_areacat_submission.csv'\n",
    "save_col_name='oof_xgb'\n",
    "\n",
    "sample_submission_dir='./submission/sample_submission.csv'\n",
    "submission_target_col_name='target'\n",
    "submission_id_col_name='ID_code'"
   ]
  },
  {
   "cell_type": "code",
   "execution_count": 3,
   "metadata": {
    "collapsed": true
   },
   "outputs": [],
   "source": [
    "#model_param\n",
    "param = {\n",
    "        'num_leaves': 6,\n",
    "        'max_bin': 63,\n",
    "        'min_data_in_leaf': 45,\n",
    "        'learning_rate': 0.01,\n",
    "        'min_sum_hessian_in_leaf': 0.000446,\n",
    "        'bagging_fraction': 0.55, \n",
    "        'bagging_freq': 5, \n",
    "        'max_depth': 14,\n",
    "        'save_binary': True,\n",
    "        'seed': 31452,\n",
    "        'feature_fraction_seed': 31415,\n",
    "        'feature_fraction': 0.51,\n",
    "        'bagging_seed': 31415,\n",
    "        'drop_seed': 31415,\n",
    "        'data_random_seed': 31415,\n",
    "        'objective': 'binary',\n",
    "        'boosting_type': 'gbdt',\n",
    "        'verbose': 1,\n",
    "        'metric': 'auc',\n",
    "        'is_unbalance': True,\n",
    "        'boost_from_average': False,\n",
    "    }"
   ]
  },
  {
   "cell_type": "markdown",
   "metadata": {},
   "source": [
    "テンプレ処理"
   ]
  },
  {
   "cell_type": "code",
   "execution_count": 4,
   "metadata": {
    "collapsed": true
   },
   "outputs": [],
   "source": [
    "#ロード\n",
    "train_df=pd.read_csv(train_dir)\n",
    "test_df=pd.read_csv(test_dir)"
   ]
  },
  {
   "cell_type": "code",
   "execution_count": 5,
   "metadata": {
    "collapsed": false
   },
   "outputs": [],
   "source": [
    "#サンプリング\n",
    "if not(submit_flg ==1):\n",
    "    train_df=train_df.sample(n=sample_num,random_state=SEED)\n",
    "    test_df=test_df.sample(n=sample_num,random_state=SEED)"
   ]
  },
  {
   "cell_type": "code",
   "execution_count": 6,
   "metadata": {
    "collapsed": false
   },
   "outputs": [],
   "source": [
    "#x,y作成\n",
    "x_train=train_df.drop(train_drop_col,axis=1)\n",
    "y_train=train_df[train_label]\n",
    "x_test=test_df.drop(test_drop_col,axis=1)"
   ]
  },
  {
   "cell_type": "markdown",
   "metadata": {},
   "source": [
    "GridSearch"
   ]
  },
  {
   "cell_type": "code",
   "execution_count": 7,
   "metadata": {
    "collapsed": false
   },
   "outputs": [],
   "source": [
    "if grid_flg ==1:\n",
    "    clf = xgb.XGBRegressor()\n",
    "    parameters = {\n",
    "        'learning_rate':[0.1,0.01],\n",
    "        'n_estimators':[10,100,1000],\n",
    "        'max_depth':[3,4,5,10,15],\n",
    "        'min_child_weight':[1,2,3],\n",
    "        'max_delta_step':[0,5],\n",
    "        'gamma':[0,3,10,30],\n",
    "        'subsample':[0.8,1],\n",
    "        'colsample_bytree':[0.8,1],\n",
    "        'objective':['binary:logistic','reg:linear'],\n",
    "        'booster':['gbtree','gblinear'],\n",
    "        'nthread':[None,4],\n",
    "        'scale_pos_weight':[1],\n",
    "        'seed':[SEED]\n",
    "    }\n",
    "    clf = RandomizedSearchCV( estimator=model,\n",
    "                                        param_distributions=parameters,\n",
    "                                        cv=5,              #CV\n",
    "                                        scoring=\"accuracy\", #metrics\n",
    "                                        n_jobs=1,           #num of core\n",
    "                                        verbose=0,          \n",
    "                                        random_state=1)\n",
    "    clf.fit(x_train, y_train)"
   ]
  },
  {
   "cell_type": "markdown",
   "metadata": {},
   "source": [
    "モデル実行"
   ]
  },
  {
   "cell_type": "code",
   "execution_count": 8,
   "metadata": {
    "collapsed": false
   },
   "outputs": [
    {
     "name": "stdout",
     "output_type": "stream",
     "text": [
      "\n",
      "\n",
      "Fold 0\n",
      "Training until validation scores don't improve for 250 rounds.\n",
      "[1000]\ttraining's auc: 0.862398\tvalid_1's auc: 0.846293\n",
      "[2000]\ttraining's auc: 0.890696\tvalid_1's auc: 0.872407\n",
      "[3000]\ttraining's auc: 0.90424\tvalid_1's auc: 0.883707\n",
      "[4000]\ttraining's auc: 0.912171\tvalid_1's auc: 0.889346\n",
      "[5000]\ttraining's auc: 0.917615\tvalid_1's auc: 0.892674\n",
      "[6000]\ttraining's auc: 0.921702\tvalid_1's auc: 0.894858\n",
      "[7000]\ttraining's auc: 0.924938\tvalid_1's auc: 0.896043\n",
      "[8000]\ttraining's auc: 0.928042\tvalid_1's auc: 0.896717\n",
      "Early stopping, best iteration is:\n",
      "[8660]\ttraining's auc: 0.929964\tvalid_1's auc: 0.896925\n",
      "AUC = 0.896925229056076\n",
      "\n",
      "\n",
      "Fold 1\n",
      "Training until validation scores don't improve for 250 rounds.\n",
      "[1000]\ttraining's auc: 0.86286\tvalid_1's auc: 0.846552\n",
      "[2000]\ttraining's auc: 0.891099\tvalid_1's auc: 0.871544\n",
      "[3000]\ttraining's auc: 0.90416\tvalid_1's auc: 0.882421\n",
      "[4000]\ttraining's auc: 0.91203\tvalid_1's auc: 0.888453\n",
      "[5000]\ttraining's auc: 0.917323\tvalid_1's auc: 0.892196\n",
      "[6000]\ttraining's auc: 0.921235\tvalid_1's auc: 0.894439\n",
      "[7000]\ttraining's auc: 0.924556\tvalid_1's auc: 0.895971\n",
      "[8000]\ttraining's auc: 0.927598\tvalid_1's auc: 0.896797\n",
      "[9000]\ttraining's auc: 0.930602\tvalid_1's auc: 0.897213\n",
      "[10000]\ttraining's auc: 0.933598\tvalid_1's auc: 0.897445\n",
      "Early stopping, best iteration is:\n",
      "[10496]\ttraining's auc: 0.93507\tvalid_1's auc: 0.897519\n",
      "AUC = 0.8975194412307989\n",
      "\n",
      "\n",
      "Fold 2\n",
      "Training until validation scores don't improve for 250 rounds.\n",
      "[1000]\ttraining's auc: 0.862528\tvalid_1's auc: 0.847091\n",
      "[2000]\ttraining's auc: 0.890903\tvalid_1's auc: 0.872744\n",
      "[3000]\ttraining's auc: 0.903987\tvalid_1's auc: 0.883341\n",
      "[4000]\ttraining's auc: 0.911908\tvalid_1's auc: 0.889423\n",
      "[5000]\ttraining's auc: 0.917253\tvalid_1's auc: 0.892991\n",
      "[6000]\ttraining's auc: 0.921175\tvalid_1's auc: 0.895168\n",
      "[7000]\ttraining's auc: 0.924452\tvalid_1's auc: 0.896531\n",
      "[8000]\ttraining's auc: 0.927575\tvalid_1's auc: 0.897305\n",
      "[9000]\ttraining's auc: 0.930602\tvalid_1's auc: 0.897837\n",
      "[10000]\ttraining's auc: 0.933637\tvalid_1's auc: 0.898156\n",
      "Early stopping, best iteration is:\n",
      "[10188]\ttraining's auc: 0.934221\tvalid_1's auc: 0.898207\n",
      "AUC = 0.8982065630712475\n",
      "\n",
      "\n",
      "Fold 3\n",
      "Training until validation scores don't improve for 250 rounds.\n",
      "[1000]\ttraining's auc: 0.862328\tvalid_1's auc: 0.850853\n",
      "[2000]\ttraining's auc: 0.890571\tvalid_1's auc: 0.876113\n",
      "[3000]\ttraining's auc: 0.903816\tvalid_1's auc: 0.88664\n",
      "[4000]\ttraining's auc: 0.911575\tvalid_1's auc: 0.89216\n",
      "[5000]\ttraining's auc: 0.917068\tvalid_1's auc: 0.895718\n",
      "[6000]\ttraining's auc: 0.920977\tvalid_1's auc: 0.897714\n",
      "[7000]\ttraining's auc: 0.924231\tvalid_1's auc: 0.898812\n",
      "[8000]\ttraining's auc: 0.927351\tvalid_1's auc: 0.899336\n",
      "Early stopping, best iteration is:\n",
      "[8665]\ttraining's auc: 0.929381\tvalid_1's auc: 0.89961\n",
      "AUC = 0.8996098161304675\n",
      "\n",
      "\n",
      "Fold 4\n",
      "Training until validation scores don't improve for 250 rounds.\n",
      "[1000]\ttraining's auc: 0.863129\tvalid_1's auc: 0.852055\n",
      "[2000]\ttraining's auc: 0.891458\tvalid_1's auc: 0.874889\n",
      "[3000]\ttraining's auc: 0.90453\tvalid_1's auc: 0.884889\n",
      "[4000]\ttraining's auc: 0.912255\tvalid_1's auc: 0.889944\n",
      "[5000]\ttraining's auc: 0.917604\tvalid_1's auc: 0.893138\n",
      "[6000]\ttraining's auc: 0.921445\tvalid_1's auc: 0.895045\n",
      "[7000]\ttraining's auc: 0.924666\tvalid_1's auc: 0.896284\n",
      "[8000]\ttraining's auc: 0.927783\tvalid_1's auc: 0.896794\n",
      "[9000]\ttraining's auc: 0.930828\tvalid_1's auc: 0.897036\n",
      "Early stopping, best iteration is:\n",
      "[9160]\ttraining's auc: 0.931283\tvalid_1's auc: 0.897154\n",
      "AUC = 0.8971537987776517\n",
      "Overall AUC = 0.8978398289820222\n"
     ]
    }
   ],
   "source": [
    "folds = StratifiedKFold(n_splits=fold_num, shuffle=True, random_state=SEED)\n",
    "oof_preds = np.zeros((len(x_train), 1))\n",
    "test_preds = np.zeros((len(x_test), 1))\n",
    "\n",
    "for fold_, (trn_idx, val_idx) in enumerate(folds.split(x_train.values, y_train.values)):\n",
    "    print(\"\\n\")\n",
    "    print(\"Fold {}\".format(fold_))\n",
    "    trn_x,trn_y = x_train.iloc[trn_idx], y_train.iloc[trn_idx]\n",
    "    val_x,val_y = x_train.iloc[val_idx], y_train.iloc[val_idx]\n",
    "    trn_data = lgb.Dataset(trn_x,trn_y)\n",
    "    val_data = lgb.Dataset(val_x,val_y)\n",
    "    \n",
    "    num_round = 15000\n",
    "    clf = lgb.train(param, trn_data, num_round, valid_sets = [trn_data, val_data], verbose_eval=1000, early_stopping_rounds = 250)\n",
    "    val_pred = clf.predict(val_x, num_iteration=clf.best_iteration)\n",
    "    test_pred = clf.predict(x_test, num_iteration=clf.best_iteration)\n",
    "    \n",
    "    print(\"AUC = {}\".format(roc_auc_score(val_y, val_pred)))\n",
    "    #print(\"val = {}\".format(val_pred)\n",
    "    oof_preds[val_idx, :] = val_pred.reshape((-1, 1))\n",
    "    test_preds += test_pred.reshape((-1, 1))\n",
    "    \n",
    "test_preds /= fold_num\n",
    "roc_score = roc_auc_score(y_train, oof_preds.ravel())\n",
    "print(\"Overall AUC = {}\".format(roc_score))"
   ]
  },
  {
   "cell_type": "code",
   "execution_count": 9,
   "metadata": {
    "collapsed": false
   },
   "outputs": [],
   "source": [
    "#結果保存\n",
    "if submit_flg ==1:\n",
    "    series_oof_preds = pd.Series(data=oof_preds[:,0], name=save_col_name, dtype='float')\n",
    "    series_test_preds = pd.Series(data=test_preds[:,0], name=save_col_name, dtype='float')\n",
    "\n",
    "    series_oof_preds.to_csv(oof_preds_dir,header=True, index=False)\n",
    "    series_test_preds.to_csv(test_preds_dir,header=True, index=False)\n",
    "\n",
    "    sample = pd.read_csv(sample_submission_dir)\n",
    "    sample.target = test_preds[:,0].astype(float)\n",
    "    sample.ID_code = test_df['ID_code']\n",
    "    sample.to_csv(submission_dir, index=False)\n",
    "    "
   ]
  },
  {
   "cell_type": "code",
   "execution_count": null,
   "metadata": {
    "collapsed": true
   },
   "outputs": [],
   "source": []
  }
 ],
 "metadata": {
  "kernelspec": {
   "display_name": "Python 3",
   "language": "python",
   "name": "python3"
  },
  "language_info": {
   "codemirror_mode": {
    "name": "ipython",
    "version": 3
   },
   "file_extension": ".py",
   "mimetype": "text/x-python",
   "name": "python",
   "nbconvert_exporter": "python",
   "pygments_lexer": "ipython3",
   "version": "3.6.0"
  }
 },
 "nbformat": 4,
 "nbformat_minor": 2
}
