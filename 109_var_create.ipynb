{
 "cells": [
  {
   "cell_type": "code",
   "execution_count": 1,
   "metadata": {
    "_cell_guid": "b1076dfc-b9ad-4769-8c92-a6c4dae69d19",
    "_kg_hide-input": true,
    "_kg_hide-output": true,
    "_uuid": "8f2839f25d086af736a60e9eeb907d3b93b6e0e5",
    "collapsed": false
   },
   "outputs": [],
   "source": [
    "import numpy as np # linear algebra\n",
    "import pandas as pd # data processing, CSV file I/O (e.g. pd.read_csv)\n",
    "import matplotlib.pyplot as plt\n",
    "import seaborn as sns\n",
    "import os\n"
   ]
  },
  {
   "cell_type": "markdown",
   "metadata": {
    "_uuid": "6256884651fb03d4e84feaca8628ab971bee92fb"
   },
   "source": [
    "**Data Visualization**"
   ]
  },
  {
   "cell_type": "markdown",
   "metadata": {
    "_uuid": "6723fbe72f71888a167057967a11443e06d13445"
   },
   "source": [
    "Visualizing Data is a very important step in a Data Science project.  As per the recent Kagagle Survey 10-20% of the total Data Science Project time is spent on visualizing data. https://www.kaggle.com/rajeshcv/state-of-data-science-machine-learning-2018\n",
    "\n",
    "SaS Data Visualization’s webpage explain Data visualization  beautifully.\n",
    "\n",
    "*'The way the human brain processes information, using charts or graphs to visualize large amounts of complex data is easier than poring over spreadsheets or reports. Data visualization is a quick, easy way to convey concepts in a universal manner — and you can experiment with different scenarios by making slight adjustments.'*\n",
    "\n",
    "In the Santander Customer Transaction Prediction competition the features are predominently numeric.\n",
    "\n",
    "This kernel's objective is to\n",
    "*     Understand the value distribution in various features through boxplots and histograms. \n",
    "*     Seggregate features into groups based on range of values.\n",
    "*     Identify  features with similiar value distribution.\n",
    "*     To understand if there is any difference in values between the two target groups 'transaction done and 'transaction not done'\n",
    "*  Check whether feature values in test and train comes from the same sampling  distribution.\n",
    "\n",
    "\n"
   ]
  },
  {
   "cell_type": "code",
   "execution_count": 2,
   "metadata": {
    "_cell_guid": "79c7e3d0-c299-4dcb-8224-4455121ee9b0",
    "_kg_hide-input": true,
    "_uuid": "d629ff2d2480ee46fbb7e2d37f6b5fab8052498a",
    "collapsed": true
   },
   "outputs": [],
   "source": [
    "train = pd.read_csv('./feature/101_train.csv')\n",
    "test = pd.read_csv('./feature/101_test.csv')"
   ]
  },
  {
   "cell_type": "code",
   "execution_count": 3,
   "metadata": {
    "_uuid": "06593091eb395bf85a28c0e13345aa7596ad6b74",
    "collapsed": false
   },
   "outputs": [
    {
     "data": {
      "text/html": [
       "<div>\n",
       "<style scoped>\n",
       "    .dataframe tbody tr th:only-of-type {\n",
       "        vertical-align: middle;\n",
       "    }\n",
       "\n",
       "    .dataframe tbody tr th {\n",
       "        vertical-align: top;\n",
       "    }\n",
       "\n",
       "    .dataframe thead th {\n",
       "        text-align: right;\n",
       "    }\n",
       "</style>\n",
       "<table border=\"1\" class=\"dataframe\">\n",
       "  <thead>\n",
       "    <tr style=\"text-align: right;\">\n",
       "      <th></th>\n",
       "      <th>Unnamed: 0</th>\n",
       "      <th>ID_code</th>\n",
       "      <th>target</th>\n",
       "      <th>var_0</th>\n",
       "      <th>var_1</th>\n",
       "      <th>var_2</th>\n",
       "      <th>var_3</th>\n",
       "      <th>var_4</th>\n",
       "      <th>var_5</th>\n",
       "      <th>var_6</th>\n",
       "      <th>...</th>\n",
       "      <th>var_190</th>\n",
       "      <th>var_191</th>\n",
       "      <th>var_192</th>\n",
       "      <th>var_193</th>\n",
       "      <th>var_194</th>\n",
       "      <th>var_195</th>\n",
       "      <th>var_196</th>\n",
       "      <th>var_197</th>\n",
       "      <th>var_198</th>\n",
       "      <th>var_199</th>\n",
       "    </tr>\n",
       "  </thead>\n",
       "  <tbody>\n",
       "    <tr>\n",
       "      <th>0</th>\n",
       "      <td>0</td>\n",
       "      <td>train_0</td>\n",
       "      <td>0</td>\n",
       "      <td>8.9255</td>\n",
       "      <td>-6.7863</td>\n",
       "      <td>11.9081</td>\n",
       "      <td>5.0930</td>\n",
       "      <td>11.4607</td>\n",
       "      <td>-9.2834</td>\n",
       "      <td>5.1187</td>\n",
       "      <td>...</td>\n",
       "      <td>4.4354</td>\n",
       "      <td>3.9642</td>\n",
       "      <td>3.1364</td>\n",
       "      <td>1.6910</td>\n",
       "      <td>18.5227</td>\n",
       "      <td>-2.3978</td>\n",
       "      <td>7.8784</td>\n",
       "      <td>8.5635</td>\n",
       "      <td>12.7803</td>\n",
       "      <td>-1.0914</td>\n",
       "    </tr>\n",
       "    <tr>\n",
       "      <th>1</th>\n",
       "      <td>1</td>\n",
       "      <td>train_1</td>\n",
       "      <td>0</td>\n",
       "      <td>11.5006</td>\n",
       "      <td>-4.1473</td>\n",
       "      <td>13.8588</td>\n",
       "      <td>5.3890</td>\n",
       "      <td>12.3622</td>\n",
       "      <td>7.0433</td>\n",
       "      <td>5.6208</td>\n",
       "      <td>...</td>\n",
       "      <td>7.6421</td>\n",
       "      <td>7.7214</td>\n",
       "      <td>2.5837</td>\n",
       "      <td>10.9516</td>\n",
       "      <td>15.4305</td>\n",
       "      <td>2.0339</td>\n",
       "      <td>8.1267</td>\n",
       "      <td>8.7889</td>\n",
       "      <td>18.3560</td>\n",
       "      <td>1.9518</td>\n",
       "    </tr>\n",
       "    <tr>\n",
       "      <th>2</th>\n",
       "      <td>2</td>\n",
       "      <td>train_2</td>\n",
       "      <td>0</td>\n",
       "      <td>8.6093</td>\n",
       "      <td>-2.7457</td>\n",
       "      <td>12.0805</td>\n",
       "      <td>7.8928</td>\n",
       "      <td>10.5825</td>\n",
       "      <td>-9.0837</td>\n",
       "      <td>6.9427</td>\n",
       "      <td>...</td>\n",
       "      <td>2.9057</td>\n",
       "      <td>9.7905</td>\n",
       "      <td>1.6704</td>\n",
       "      <td>1.6858</td>\n",
       "      <td>21.6042</td>\n",
       "      <td>3.1417</td>\n",
       "      <td>-6.5213</td>\n",
       "      <td>8.2675</td>\n",
       "      <td>14.7222</td>\n",
       "      <td>0.3965</td>\n",
       "    </tr>\n",
       "    <tr>\n",
       "      <th>3</th>\n",
       "      <td>3</td>\n",
       "      <td>train_3</td>\n",
       "      <td>0</td>\n",
       "      <td>11.0604</td>\n",
       "      <td>-2.1518</td>\n",
       "      <td>8.9522</td>\n",
       "      <td>7.1957</td>\n",
       "      <td>12.5846</td>\n",
       "      <td>-1.8361</td>\n",
       "      <td>5.8428</td>\n",
       "      <td>...</td>\n",
       "      <td>4.4666</td>\n",
       "      <td>4.7433</td>\n",
       "      <td>0.7178</td>\n",
       "      <td>1.4214</td>\n",
       "      <td>23.0347</td>\n",
       "      <td>-1.2706</td>\n",
       "      <td>-2.9275</td>\n",
       "      <td>10.2922</td>\n",
       "      <td>17.9697</td>\n",
       "      <td>-8.9996</td>\n",
       "    </tr>\n",
       "    <tr>\n",
       "      <th>4</th>\n",
       "      <td>4</td>\n",
       "      <td>train_4</td>\n",
       "      <td>0</td>\n",
       "      <td>9.8369</td>\n",
       "      <td>-1.4834</td>\n",
       "      <td>12.8746</td>\n",
       "      <td>6.6375</td>\n",
       "      <td>12.2772</td>\n",
       "      <td>2.4486</td>\n",
       "      <td>5.9405</td>\n",
       "      <td>...</td>\n",
       "      <td>-1.4905</td>\n",
       "      <td>9.5214</td>\n",
       "      <td>-0.1508</td>\n",
       "      <td>9.1942</td>\n",
       "      <td>13.2876</td>\n",
       "      <td>-1.5121</td>\n",
       "      <td>3.9267</td>\n",
       "      <td>9.5031</td>\n",
       "      <td>17.9974</td>\n",
       "      <td>-8.8104</td>\n",
       "    </tr>\n",
       "  </tbody>\n",
       "</table>\n",
       "<p>5 rows × 203 columns</p>\n",
       "</div>"
      ],
      "text/plain": [
       "   Unnamed: 0  ID_code  target    var_0   var_1    var_2   var_3    var_4  \\\n",
       "0           0  train_0       0   8.9255 -6.7863  11.9081  5.0930  11.4607   \n",
       "1           1  train_1       0  11.5006 -4.1473  13.8588  5.3890  12.3622   \n",
       "2           2  train_2       0   8.6093 -2.7457  12.0805  7.8928  10.5825   \n",
       "3           3  train_3       0  11.0604 -2.1518   8.9522  7.1957  12.5846   \n",
       "4           4  train_4       0   9.8369 -1.4834  12.8746  6.6375  12.2772   \n",
       "\n",
       "    var_5   var_6   ...     var_190  var_191  var_192  var_193  var_194  \\\n",
       "0 -9.2834  5.1187   ...      4.4354   3.9642   3.1364   1.6910  18.5227   \n",
       "1  7.0433  5.6208   ...      7.6421   7.7214   2.5837  10.9516  15.4305   \n",
       "2 -9.0837  6.9427   ...      2.9057   9.7905   1.6704   1.6858  21.6042   \n",
       "3 -1.8361  5.8428   ...      4.4666   4.7433   0.7178   1.4214  23.0347   \n",
       "4  2.4486  5.9405   ...     -1.4905   9.5214  -0.1508   9.1942  13.2876   \n",
       "\n",
       "   var_195  var_196  var_197  var_198  var_199  \n",
       "0  -2.3978   7.8784   8.5635  12.7803  -1.0914  \n",
       "1   2.0339   8.1267   8.7889  18.3560   1.9518  \n",
       "2   3.1417  -6.5213   8.2675  14.7222   0.3965  \n",
       "3  -1.2706  -2.9275  10.2922  17.9697  -8.9996  \n",
       "4  -1.5121   3.9267   9.5031  17.9974  -8.8104  \n",
       "\n",
       "[5 rows x 203 columns]"
      ]
     },
     "execution_count": 3,
     "metadata": {},
     "output_type": "execute_result"
    }
   ],
   "source": [
    "train.head()"
   ]
  },
  {
   "cell_type": "code",
   "execution_count": 4,
   "metadata": {
    "_uuid": "4fe70ced9170bbc435cb4221f3164ab123d77ba6",
    "collapsed": false
   },
   "outputs": [
    {
     "name": "stdout",
     "output_type": "stream",
     "text": [
      "<class 'pandas.core.frame.DataFrame'>\n",
      "RangeIndex: 200000 entries, 0 to 199999\n",
      "Columns: 203 entries, Unnamed: 0 to var_199\n",
      "dtypes: float64(200), int64(2), object(1)\n",
      "memory usage: 309.8+ MB\n"
     ]
    }
   ],
   "source": [
    "train.info()"
   ]
  },
  {
   "cell_type": "markdown",
   "metadata": {
    "_uuid": "44a1592714b1472b97459683d2c449ad7c0daa1b"
   },
   "source": [
    "All the 200 features have numeric values . Let's check first if some of these numeric features are categorical  or boolean .In that case they will have less than 500 unique values."
   ]
  },
  {
   "cell_type": "code",
   "execution_count": 5,
   "metadata": {
    "_uuid": "98d7bf1875da41fbfa707ca8eb747b9347423975",
    "collapsed": false
   },
   "outputs": [
    {
     "data": {
      "text/plain": [
       "target    True\n",
       "var_68    True\n",
       "dtype: bool"
      ]
     },
     "execution_count": 5,
     "metadata": {},
     "output_type": "execute_result"
    }
   ],
   "source": [
    "likely_cat = {}\n",
    "for c in train.columns:\n",
    "    likely_cat[c] = 1.*train[c].nunique()/train[c].count() < 0.005\n",
    "likely_cat= pd.Series(likely_cat)\n",
    "likely_cat[likely_cat==True]"
   ]
  },
  {
   "cell_type": "code",
   "execution_count": 6,
   "metadata": {
    "_uuid": "78b8df5397f44edec4cf3193335afcf427e57301",
    "collapsed": false
   },
   "outputs": [
    {
     "data": {
      "text/plain": [
       "451"
      ]
     },
     "execution_count": 6,
     "metadata": {},
     "output_type": "execute_result"
    }
   ],
   "source": [
    "train.var_68.nunique()"
   ]
  },
  {
   "cell_type": "markdown",
   "metadata": {
    "_uuid": "dde5143e67596d16f9164c71144add9f0983a122"
   },
   "source": [
    "None of the features are categorical or boolean except 'target'. Let's understand the range of values of each of these features by plotting the max, min and median value of the features."
   ]
  },
  {
   "cell_type": "code",
   "execution_count": 7,
   "metadata": {
    "_kg_hide-input": true,
    "_uuid": "3305bec57e92b78b18347adf0ee62068a73872b0",
    "collapsed": false
   },
   "outputs": [
    {
     "data": {
      "text/html": [
       "<div>\n",
       "<style scoped>\n",
       "    .dataframe tbody tr th:only-of-type {\n",
       "        vertical-align: middle;\n",
       "    }\n",
       "\n",
       "    .dataframe tbody tr th {\n",
       "        vertical-align: top;\n",
       "    }\n",
       "\n",
       "    .dataframe thead th {\n",
       "        text-align: right;\n",
       "    }\n",
       "</style>\n",
       "<table border=\"1\" class=\"dataframe\">\n",
       "  <thead>\n",
       "    <tr style=\"text-align: right;\">\n",
       "      <th></th>\n",
       "      <th>Max_value</th>\n",
       "      <th>Min_value</th>\n",
       "      <th>Median_value</th>\n",
       "    </tr>\n",
       "  </thead>\n",
       "  <tbody>\n",
       "    <tr>\n",
       "      <th>target</th>\n",
       "      <td>1.0000</td>\n",
       "      <td>0.0000</td>\n",
       "      <td>0.00000</td>\n",
       "    </tr>\n",
       "    <tr>\n",
       "      <th>var_0</th>\n",
       "      <td>20.3150</td>\n",
       "      <td>0.4084</td>\n",
       "      <td>10.52475</td>\n",
       "    </tr>\n",
       "    <tr>\n",
       "      <th>var_1</th>\n",
       "      <td>10.3768</td>\n",
       "      <td>-15.0434</td>\n",
       "      <td>-1.60805</td>\n",
       "    </tr>\n",
       "    <tr>\n",
       "      <th>var_2</th>\n",
       "      <td>19.3530</td>\n",
       "      <td>2.1171</td>\n",
       "      <td>10.58000</td>\n",
       "    </tr>\n",
       "    <tr>\n",
       "      <th>var_3</th>\n",
       "      <td>13.1883</td>\n",
       "      <td>-0.0402</td>\n",
       "      <td>6.82500</td>\n",
       "    </tr>\n",
       "  </tbody>\n",
       "</table>\n",
       "</div>"
      ],
      "text/plain": [
       "        Max_value  Min_value  Median_value\n",
       "target     1.0000     0.0000       0.00000\n",
       "var_0     20.3150     0.4084      10.52475\n",
       "var_1     10.3768   -15.0434      -1.60805\n",
       "var_2     19.3530     2.1171      10.58000\n",
       "var_3     13.1883    -0.0402       6.82500"
      ]
     },
     "execution_count": 7,
     "metadata": {},
     "output_type": "execute_result"
    }
   ],
   "source": [
    "trainvaluedist = pd.DataFrame(train.iloc[:,2:].max(axis=0),columns=[\"Max_value\"])\n",
    "trainvaluedist['Min_value'] = train.iloc[:,2:].min(axis=0)\n",
    "trainvaluedist['Median_value'] = train.iloc[:,2:].median(axis=0)\n",
    "trainvaluedist.head()"
   ]
  },
  {
   "cell_type": "code",
   "execution_count": 8,
   "metadata": {
    "_kg_hide-input": true,
    "_uuid": "329a43ce5b24a341f081d69b89585c64158648f6",
    "collapsed": false
   },
   "outputs": [
    {
     "ename": "AttributeError",
     "evalue": "module 'seaborn' has no attribute 'lineplot'",
     "output_type": "error",
     "traceback": [
      "\u001b[0;31m---------------------------------------------------------------------------\u001b[0m",
      "\u001b[0;31mAttributeError\u001b[0m                            Traceback (most recent call last)",
      "\u001b[0;32m<ipython-input-8-e214dd65fe86>\u001b[0m in \u001b[0;36m<module>\u001b[0;34m()\u001b[0m\n\u001b[1;32m      1\u001b[0m \u001b[0msns\u001b[0m\u001b[1;33m.\u001b[0m\u001b[0mset\u001b[0m\u001b[1;33m(\u001b[0m\u001b[0mrc\u001b[0m\u001b[1;33m=\u001b[0m\u001b[1;33m{\u001b[0m\u001b[1;34m'figure.figsize'\u001b[0m\u001b[1;33m:\u001b[0m\u001b[1;33m(\u001b[0m\u001b[1;36m24\u001b[0m\u001b[1;33m,\u001b[0m\u001b[1;36m12\u001b[0m\u001b[1;33m)\u001b[0m\u001b[1;33m}\u001b[0m\u001b[1;33m)\u001b[0m\u001b[1;33m\u001b[0m\u001b[0m\n\u001b[0;32m----> 2\u001b[0;31m \u001b[0mline\u001b[0m\u001b[1;33m=\u001b[0m\u001b[0msns\u001b[0m\u001b[1;33m.\u001b[0m\u001b[0mlineplot\u001b[0m\u001b[1;33m(\u001b[0m\u001b[0mdata\u001b[0m\u001b[1;33m=\u001b[0m\u001b[0mtrainvaluedist\u001b[0m \u001b[1;33m)\u001b[0m\u001b[1;33m\u001b[0m\u001b[0m\n\u001b[0m\u001b[1;32m      3\u001b[0m \u001b[0mline\u001b[0m\u001b[1;33m=\u001b[0m \u001b[0mline\u001b[0m\u001b[1;33m.\u001b[0m\u001b[0mset\u001b[0m\u001b[1;33m(\u001b[0m\u001b[0myticks\u001b[0m\u001b[1;33m=\u001b[0m\u001b[1;33m[\u001b[0m\u001b[1;33m-\u001b[0m\u001b[1;36m80\u001b[0m\u001b[1;33m,\u001b[0m\u001b[1;33m-\u001b[0m\u001b[1;36m60\u001b[0m\u001b[1;33m,\u001b[0m\u001b[1;33m-\u001b[0m\u001b[1;36m40\u001b[0m\u001b[1;33m,\u001b[0m\u001b[1;33m-\u001b[0m\u001b[1;36m30\u001b[0m\u001b[1;33m,\u001b[0m\u001b[1;33m-\u001b[0m\u001b[1;36m20\u001b[0m\u001b[1;33m,\u001b[0m\u001b[1;33m-\u001b[0m\u001b[1;36m10\u001b[0m\u001b[1;33m,\u001b[0m\u001b[1;36m0\u001b[0m\u001b[1;33m,\u001b[0m\u001b[1;36m10\u001b[0m\u001b[1;33m,\u001b[0m\u001b[1;36m20\u001b[0m\u001b[1;33m,\u001b[0m\u001b[1;36m30\u001b[0m\u001b[1;33m,\u001b[0m\u001b[1;36m40\u001b[0m\u001b[1;33m,\u001b[0m\u001b[1;36m60\u001b[0m\u001b[1;33m,\u001b[0m\u001b[1;36m80\u001b[0m\u001b[1;33m]\u001b[0m\u001b[1;33m)\u001b[0m\u001b[1;33m\u001b[0m\u001b[0m\n",
      "\u001b[0;31mAttributeError\u001b[0m: module 'seaborn' has no attribute 'lineplot'"
     ]
    }
   ],
   "source": [
    "sns.set(rc={'figure.figsize':(24,12)})\n",
    "line=sns.lineplot(data=trainvaluedist )\n",
    "line= line.set(yticks=[-80,-60,-40,-30,-20,-10,0,10,20,30,40,60,80])\n"
   ]
  },
  {
   "cell_type": "markdown",
   "metadata": {
    "_uuid": "6477bb5e8ffdb251b55c8898c6800aa5b8ec5481"
   },
   "source": []
  },
  {
   "cell_type": "markdown",
   "metadata": {
    "_uuid": "6d25b30c22ff1e242f289256289e465b3c5c1eb0"
   },
   "source": []
  },
  {
   "cell_type": "code",
   "execution_count": null,
   "metadata": {
    "_uuid": "f8368175e8f3871317ed5612d737a8df12d2c8b1",
    "collapsed": true
   },
   "outputs": [],
   "source": []
  },
  {
   "cell_type": "code",
   "execution_count": null,
   "metadata": {
    "_uuid": "77fcee0f12805a548d61568983b02631f1fb7a79",
    "collapsed": true
   },
   "outputs": [],
   "source": []
  },
  {
   "cell_type": "markdown",
   "metadata": {
    "_uuid": "6ec602656d906808f3d15f10b39ca42b48dd58f2"
   },
   "source": [
    "Combined all values in the features are between 80 and -90.  From the plot it looks like the features can be seggregrated into 10 groups  based on their max and min values."
   ]
  },
  {
   "cell_type": "code",
   "execution_count": 9,
   "metadata": {
    "_kg_hide-input": true,
    "_uuid": "71eed66341bf801d1167deee7a6d160835638331",
    "collapsed": false
   },
   "outputs": [
    {
     "name": "stdout",
     "output_type": "stream",
     "text": [
      "Number of features with positive values and maximum value less than 10 : 17\n",
      "Number of features with positive values maximum value between 10 & 20 : 31\n",
      "Number of features with positive values maximum value > 20 : 22\n",
      "Number of features with only negative values : 0\n",
      "Number of features with negative values between 10 and -10 : 14\n",
      "Number of features with max value between 10 and 20 and min value between  between 0 and -10  : 17\n",
      "Number of features with max value less than 20 and min value between -10 and -20 : 15\n",
      "Number of features with max value less than 20 and min value less than -20 : 16\n",
      "Number of features with max value more than 20 and min value more than -10 : 28\n",
      "Number of features with max value more than 20 and min value between -10 and -20: 17\n",
      "Number of features with max value more than 20 and min value less than -20: 24\n"
     ]
    }
   ],
   "source": [
    "colzerototen= [c for c in train.iloc[:,2:].columns if (train.loc[:,c].min() >=0) & (train.loc[:,c].max()< 10) ]\n",
    "print('Number of features with positive values and maximum value less than 10 :',len(colzerototen))\n",
    "colzerototwenty= [c for c in train.iloc[:,2:].columns if (train.loc[:,c].min() >=0) & (train.loc[:,c].max() >= 10) & (train.loc[:,c].max() < 20)  ]\n",
    "print('Number of features with positive values maximum value between 10 & 20 :',len(colzerototwenty))\n",
    "colzeroandtwentyplus= [c for c in train.iloc[:,2:].columns if (train.loc[:,c].min() >=0) & (train.loc[:,c].max() >= 20)]\n",
    "print('Number of features with positive values maximum value > 20 :',len(colzeroandtwentyplus))\n",
    "colzerominus= [c for c in train.iloc[:,2:].columns if train.loc[:,c].max() <0 ]\n",
    "print('Number of features with only negative values :',len(colzerominus))\n",
    "colplustenminusten= [c for c in train.iloc[:,2:].columns if (train.loc[:,c].max() <= 10) & (train.loc[:,c].min() >=-10 )& (train.loc[:,c].min()< 0 )]\n",
    "print('Number of features with negative values between 10 and -10 :',len(colplustenminusten))\n",
    "colplustwentyminusten= [c for c in train.iloc[:,2:].columns if (train.loc[:,c].max() <= 20)& (train.loc[:,c].max() > 10) & (train.loc[:,c].min() >=-10 ) & (train.loc[:,c].min() < 0 )]\n",
    "print('Number of features with max value between 10 and 20 and min value between  between 0 and -10  :',len(colplustwentyminusten))\n",
    "colplustwentyminustwenty= [c for c in train.iloc[:,2:].columns if (train.loc[:,c].max() <= 20) &  (train.loc[:,c].min() < -10 ) & (train.loc[:,c].min() >= -20 )]\n",
    "print('Number of features with max value less than 20 and min value between -10 and -20 :',len(colplustwentyminustwenty))\n",
    "colplustwentyminustwentyless= [c for c in train.iloc[:,2:].columns if (train.loc[:,c].max() <= 20)& (train.loc[:,c].min() < -20 )]\n",
    "print('Number of features with max value less than 20 and min value less than -20 :',len(colplustwentyminustwentyless))\n",
    "colplustwentymoreminusten= [c for c in train.iloc[:,2:].columns if (train.loc[:,c].max() >20)& (train.loc[:,c].min()< 0 ) & (train.loc[:,c].min()>= -10 )]\n",
    "print('Number of features with max value more than 20 and min value more than -10 :',len(colplustwentymoreminusten))\n",
    "colplustwentymoreminustwenty= [c for c in train.iloc[:,2:].columns if (train.loc[:,c].max() >20)& (train.loc[:,c].min()< -10 ) & (train.loc[:,c].min()>= -20 )]\n",
    "print('Number of features with max value more than 20 and min value between -10 and -20:',len(colplustwentymoreminustwenty))\n",
    "colplustwentymoreminustwentymore= [c for c in train.iloc[:,2:].columns if (train.loc[:,c].max() >20)& (train.loc[:,c].min()< -20 )]\n",
    "print('Number of features with max value more than 20 and min value less than -20:',len(colplustwentymoreminustwentymore))"
   ]
  },
  {
   "cell_type": "markdown",
   "metadata": {
    "_uuid": "7e8ae473dc060a269f44f33807efc9571375553a"
   },
   "source": [
    "**Features with  positive values and maximum value less than 10**"
   ]
  },
  {
   "cell_type": "code",
   "execution_count": 10,
   "metadata": {
    "_kg_hide-input": true,
    "_uuid": "a6fe7278a19ba84e1e1def37c5ca49eafd15c255",
    "collapsed": true
   },
   "outputs": [],
   "source": [
    "sns.set(rc={'figure.figsize':(20,8)})\n",
    "setpositive=train.loc[:,colzerototen].boxplot(rot=90)\n",
    "setpositive=setpositive.set(yticks=[0,2.5,5,7.5,10],title=\"Features with  positive values and maximum value less than 10\")"
   ]
  },
  {
   "cell_type": "markdown",
   "metadata": {
    "_uuid": "9e072280df8ea681c0b95681c77b04c8a710dd28"
   },
   "source": [
    "var_68,var_91,var_103,var_148 and var_161 have comparatively lower range of values .\n",
    "The histograms below shows the distribution of values in cases of transaction done in green color (target=1) and transaction not done (target=0) in red colour."
   ]
  },
  {
   "cell_type": "code",
   "execution_count": 11,
   "metadata": {
    "_kg_hide-input": true,
    "_kg_hide-output": true,
    "_uuid": "598080e8c2cbd14c309dc6069433868cc23c77cb",
    "collapsed": false
   },
   "outputs": [
    {
     "ename": "ValueError",
     "evalue": "num must be 1 <= num <= 16, not 17",
     "output_type": "error",
     "traceback": [
      "\u001b[0;31m---------------------------------------------------------------------------\u001b[0m",
      "\u001b[0;31mValueError\u001b[0m                                Traceback (most recent call last)",
      "\u001b[0;32m<ipython-input-11-d03e8251dc4f>\u001b[0m in \u001b[0;36m<module>\u001b[0;34m()\u001b[0m\n\u001b[1;32m      3\u001b[0m \u001b[1;33m\u001b[0m\u001b[0m\n\u001b[1;32m      4\u001b[0m \u001b[1;32mfor\u001b[0m \u001b[0mk\u001b[0m \u001b[1;32min\u001b[0m \u001b[0mrange\u001b[0m\u001b[1;33m(\u001b[0m\u001b[0mlen\u001b[0m\u001b[1;33m(\u001b[0m\u001b[0mcolzerototen\u001b[0m\u001b[1;33m)\u001b[0m\u001b[1;33m)\u001b[0m\u001b[1;33m:\u001b[0m\u001b[1;33m\u001b[0m\u001b[0m\n\u001b[0;32m----> 5\u001b[0;31m      \u001b[0mplt\u001b[0m\u001b[1;33m.\u001b[0m\u001b[0msubplot\u001b[0m\u001b[1;33m(\u001b[0m\u001b[1;36m4\u001b[0m\u001b[1;33m,\u001b[0m\u001b[1;36m4\u001b[0m\u001b[1;33m,\u001b[0m\u001b[0mk\u001b[0m\u001b[1;33m+\u001b[0m\u001b[1;36m1\u001b[0m\u001b[1;33m)\u001b[0m\u001b[1;33m\u001b[0m\u001b[0m\n\u001b[0m\u001b[1;32m      6\u001b[0m      \u001b[0mplotlist\u001b[0m\u001b[1;33m[\u001b[0m\u001b[0mk\u001b[0m\u001b[1;33m]\u001b[0m \u001b[1;33m=\u001b[0m\u001b[0mplt\u001b[0m\u001b[1;33m.\u001b[0m\u001b[0mhist\u001b[0m\u001b[1;33m(\u001b[0m\u001b[0mtrain\u001b[0m\u001b[1;33m[\u001b[0m\u001b[0mcolzerototen\u001b[0m\u001b[1;33m[\u001b[0m\u001b[0mk\u001b[0m\u001b[1;33m]\u001b[0m\u001b[1;33m]\u001b[0m\u001b[1;33m)\u001b[0m\u001b[1;33m\u001b[0m\u001b[0m\n\u001b[1;32m      7\u001b[0m      \u001b[1;31m#plotlist[k].set(title=colzerototen[k])\u001b[0m\u001b[1;33m\u001b[0m\u001b[1;33m\u001b[0m\u001b[0m\n",
      "\u001b[0;32mC:\\Users\\tatsuya.okamoto\\AppData\\Local\\Continuum\\Anaconda3\\lib\\site-packages\\matplotlib\\pyplot.py\u001b[0m in \u001b[0;36msubplot\u001b[0;34m(*args, **kwargs)\u001b[0m\n\u001b[1;32m   1042\u001b[0m \u001b[1;33m\u001b[0m\u001b[0m\n\u001b[1;32m   1043\u001b[0m     \u001b[0mfig\u001b[0m \u001b[1;33m=\u001b[0m \u001b[0mgcf\u001b[0m\u001b[1;33m(\u001b[0m\u001b[1;33m)\u001b[0m\u001b[1;33m\u001b[0m\u001b[0m\n\u001b[0;32m-> 1044\u001b[0;31m     \u001b[0ma\u001b[0m \u001b[1;33m=\u001b[0m \u001b[0mfig\u001b[0m\u001b[1;33m.\u001b[0m\u001b[0madd_subplot\u001b[0m\u001b[1;33m(\u001b[0m\u001b[1;33m*\u001b[0m\u001b[0margs\u001b[0m\u001b[1;33m,\u001b[0m \u001b[1;33m**\u001b[0m\u001b[0mkwargs\u001b[0m\u001b[1;33m)\u001b[0m\u001b[1;33m\u001b[0m\u001b[0m\n\u001b[0m\u001b[1;32m   1045\u001b[0m     \u001b[0mbbox\u001b[0m \u001b[1;33m=\u001b[0m \u001b[0ma\u001b[0m\u001b[1;33m.\u001b[0m\u001b[0mbbox\u001b[0m\u001b[1;33m\u001b[0m\u001b[0m\n\u001b[1;32m   1046\u001b[0m     \u001b[0mbyebye\u001b[0m \u001b[1;33m=\u001b[0m \u001b[1;33m[\u001b[0m\u001b[1;33m]\u001b[0m\u001b[1;33m\u001b[0m\u001b[0m\n",
      "\u001b[0;32mC:\\Users\\tatsuya.okamoto\\AppData\\Local\\Continuum\\Anaconda3\\lib\\site-packages\\matplotlib\\figure.py\u001b[0m in \u001b[0;36madd_subplot\u001b[0;34m(self, *args, **kwargs)\u001b[0m\n\u001b[1;32m   1018\u001b[0m                     \u001b[0mself\u001b[0m\u001b[1;33m.\u001b[0m\u001b[0m_axstack\u001b[0m\u001b[1;33m.\u001b[0m\u001b[0mremove\u001b[0m\u001b[1;33m(\u001b[0m\u001b[0max\u001b[0m\u001b[1;33m)\u001b[0m\u001b[1;33m\u001b[0m\u001b[0m\n\u001b[1;32m   1019\u001b[0m \u001b[1;33m\u001b[0m\u001b[0m\n\u001b[0;32m-> 1020\u001b[0;31m             \u001b[0ma\u001b[0m \u001b[1;33m=\u001b[0m \u001b[0msubplot_class_factory\u001b[0m\u001b[1;33m(\u001b[0m\u001b[0mprojection_class\u001b[0m\u001b[1;33m)\u001b[0m\u001b[1;33m(\u001b[0m\u001b[0mself\u001b[0m\u001b[1;33m,\u001b[0m \u001b[1;33m*\u001b[0m\u001b[0margs\u001b[0m\u001b[1;33m,\u001b[0m \u001b[1;33m**\u001b[0m\u001b[0mkwargs\u001b[0m\u001b[1;33m)\u001b[0m\u001b[1;33m\u001b[0m\u001b[0m\n\u001b[0m\u001b[1;32m   1021\u001b[0m \u001b[1;33m\u001b[0m\u001b[0m\n\u001b[1;32m   1022\u001b[0m         \u001b[0mself\u001b[0m\u001b[1;33m.\u001b[0m\u001b[0m_axstack\u001b[0m\u001b[1;33m.\u001b[0m\u001b[0madd\u001b[0m\u001b[1;33m(\u001b[0m\u001b[0mkey\u001b[0m\u001b[1;33m,\u001b[0m \u001b[0ma\u001b[0m\u001b[1;33m)\u001b[0m\u001b[1;33m\u001b[0m\u001b[0m\n",
      "\u001b[0;32mC:\\Users\\tatsuya.okamoto\\AppData\\Local\\Continuum\\Anaconda3\\lib\\site-packages\\matplotlib\\axes\\_subplots.py\u001b[0m in \u001b[0;36m__init__\u001b[0;34m(self, fig, *args, **kwargs)\u001b[0m\n\u001b[1;32m     62\u001b[0m                     raise ValueError(\n\u001b[1;32m     63\u001b[0m                         \"num must be 1 <= num <= {maxn}, not {num}\".format(\n\u001b[0;32m---> 64\u001b[0;31m                             maxn=rows*cols, num=num))\n\u001b[0m\u001b[1;32m     65\u001b[0m                 \u001b[0mself\u001b[0m\u001b[1;33m.\u001b[0m\u001b[0m_subplotspec\u001b[0m \u001b[1;33m=\u001b[0m \u001b[0mGridSpec\u001b[0m\u001b[1;33m(\u001b[0m\u001b[0mrows\u001b[0m\u001b[1;33m,\u001b[0m \u001b[0mcols\u001b[0m\u001b[1;33m)\u001b[0m\u001b[1;33m[\u001b[0m\u001b[0mint\u001b[0m\u001b[1;33m(\u001b[0m\u001b[0mnum\u001b[0m\u001b[1;33m)\u001b[0m \u001b[1;33m-\u001b[0m \u001b[1;36m1\u001b[0m\u001b[1;33m]\u001b[0m\u001b[1;33m\u001b[0m\u001b[0m\n\u001b[1;32m     66\u001b[0m                 \u001b[1;31m# num - 1 for converting from MATLAB to python indexing\u001b[0m\u001b[1;33m\u001b[0m\u001b[1;33m\u001b[0m\u001b[0m\n",
      "\u001b[0;31mValueError\u001b[0m: num must be 1 <= num <= 16, not 17"
     ]
    }
   ],
   "source": [
    "sns.set(rc={'figure.figsize':(20,16)})\n",
    "plotlist =['hist'+ str(col) for col in colzerototen]\n",
    "\n",
    "for k in range(len(colzerototen)):\n",
    "     plt.subplot(4,4,k+1)\n",
    "     plotlist[k] =plt.hist(train[colzerototen[k]])\n",
    "     #plotlist[k].set(title=colzerototen[k])\n",
    "    \n"
   ]
  },
  {
   "cell_type": "code",
   "execution_count": null,
   "metadata": {
    "_kg_hide-input": true,
    "_uuid": "3013d8f9666bd26c55f9b39d34d72bcbecedaedc",
    "collapsed": true
   },
   "outputs": [],
   "source": [
    "sns.set(rc={'figure.figsize':(20,16)})\n",
    "def sephist(col):\n",
    "    yes = train[train['target'] == 1][col]\n",
    "    no = train[train['target'] == 0][col]\n",
    "    return yes, no\n",
    "\n",
    "for num, alpha in enumerate(colzerototen):\n",
    "    plt.subplot(4, 4, num+1)\n",
    "    plt.hist(sephist(alpha)[0], alpha=0.75, label='yes', color='g')\n",
    "    plt.hist(sephist(alpha)[1], alpha=0.25, label='no', color='r')\n",
    "    plt.legend(loc='upper right')\n",
    "    plt.title(alpha)\n",
    "plt.tight_layout(pad=0.4, w_pad=0.5, h_pad=1.0)"
   ]
  },
  {
   "cell_type": "markdown",
   "metadata": {
    "_uuid": "2e288fbc1828fe8a08bf8a5ff50a9272a3c5c622"
   },
   "source": [
    "var_103 values lie  between 1.1 and 2 , var_148 between 3.4 and 4.6 , var_68 values are in a narrow range between 4.99 and 5.04,   var_161 between 5 and 6.2  &  var_91 between 6.6 and 7.4.  Considering var_166 with values between 2 and 4 and var_169 and var_133  they all appear to be in sequence.\n",
    "\n",
    "However there is no significant difference in values between the \"transaction done\" and \"transaction not done\" groups"
   ]
  },
  {
   "cell_type": "markdown",
   "metadata": {
    "_uuid": "edaf73eee9073363c1aa2b2c475eae6f488f0e91"
   },
   "source": [
    "**Features with  positive values and maximum value between 10 & 20**"
   ]
  },
  {
   "cell_type": "code",
   "execution_count": null,
   "metadata": {
    "_kg_hide-input": true,
    "_uuid": "d3b197ac4e440d2703478c94189d7f8776696cc4",
    "collapsed": true
   },
   "outputs": [],
   "source": [
    "sns.set(rc={'figure.figsize':(20,8)})\n",
    "setpositive20=train.loc[:,colzerototwenty].boxplot(rot=90)\n",
    "setpositive20=setpositive20.set(yticks=[0,5,10,15,20],title=\"Features with  positive values and maximum value between 10 & 20\")"
   ]
  },
  {
   "cell_type": "markdown",
   "metadata": {
    "_uuid": "28f69558d6e23e28404e717a56c8beaba7027ac9"
   },
   "source": [
    "var_12,  var_15 ,var_25, var_34,  var_43, var_108, var_125 have very low range of values further elaborated by the histogram below."
   ]
  },
  {
   "cell_type": "code",
   "execution_count": null,
   "metadata": {
    "_kg_hide-input": true,
    "_uuid": "aa36da6e6cd59c47c5e96780bb4f00c7d4c61e52",
    "collapsed": true
   },
   "outputs": [],
   "source": [
    "sns.set(rc={'figure.figsize':(16,24)})\n",
    "for num, alpha in enumerate(colzerototwenty):\n",
    "    plt.subplot(8, 4, num+1)\n",
    "    plt.hist(sephist(alpha)[0], alpha=0.75, label='yes', color='g')\n",
    "    plt.hist(sephist(alpha)[1], alpha=0.25, label='no', color='r')\n",
    "    plt.legend(loc='upper right')\n",
    "    plt.title(alpha)\n",
    "plt.tight_layout(pad=0.4, w_pad=0.5, h_pad=1.0)"
   ]
  },
  {
   "cell_type": "markdown",
   "metadata": {
    "_uuid": "d717ea78350e00acd35d0d69ab7bdd6f80e2aba7"
   },
   "source": [
    "All those variables with a short range of values have values in the range 10 to 15 and as in the earlier group appear to be in some sequence."
   ]
  },
  {
   "cell_type": "markdown",
   "metadata": {
    "_uuid": "81a1261d026ab4e7c00e672b6c6913002cfb20b4"
   },
   "source": [
    "**Features with  positive values and maximum value greater than 20**"
   ]
  },
  {
   "cell_type": "code",
   "execution_count": null,
   "metadata": {
    "_kg_hide-input": true,
    "_uuid": "fd113d7a89bd740eaf34a74e3cb3427cb03230b7",
    "collapsed": true
   },
   "outputs": [],
   "source": [
    "sns.set(rc={'figure.figsize':(20,8)})\n",
    "setpositive20plus=train.loc[:,colzeroandtwentyplus].boxplot(rot=90)\n",
    "setpositive20plus=setpositive20plus.set(yticks=[0,10,20,30,40],title=\"Features with  positive values and maximum value more than 20\")"
   ]
  },
  {
   "cell_type": "code",
   "execution_count": null,
   "metadata": {
    "_kg_hide-input": true,
    "_uuid": "c46ea610d1c91f89255d87cfd670b7fb98b9b7b0",
    "collapsed": true
   },
   "outputs": [],
   "source": [
    "sns.set(rc={'figure.figsize':(16,20)})\n",
    "for num, alpha in enumerate(colzeroandtwentyplus):\n",
    "    plt.subplot(6, 4, num+1)\n",
    "    plt.hist(sephist(alpha)[0], alpha=0.75, label='yes', color='g')\n",
    "    plt.hist(sephist(alpha)[1], alpha=0.25, label='no', color='r')\n",
    "    plt.legend(loc='upper right')\n",
    "    plt.title(alpha)\n",
    "plt.tight_layout(pad=0.4, w_pad=0.5, h_pad=1.0)"
   ]
  },
  {
   "cell_type": "markdown",
   "metadata": {
    "_uuid": "a1b4b9e05332bb01912fa3d3320f44a9ba6ea3b2"
   },
   "source": [
    "var_85, var_194 and  var_198 appear to have similiar distribution of values.  var_0, var_46 , var_56, var_175 and var_177 also appear to have a similiar value distribution."
   ]
  },
  {
   "cell_type": "markdown",
   "metadata": {
    "_uuid": "f68d9c895966c0f1e7c4c4fb98dc601f9704064c"
   },
   "source": [
    "**Features with  values between 10 and -10**"
   ]
  },
  {
   "cell_type": "code",
   "execution_count": null,
   "metadata": {
    "_kg_hide-input": true,
    "_uuid": "060a5976ade3e9eaf488e7953d1d2ed67623bf69",
    "collapsed": true
   },
   "outputs": [],
   "source": [
    "sns.set(rc={'figure.figsize':(16,8)})\n",
    "setplustenminusten = train.loc[:,colplustenminusten].boxplot(rot=90)\n",
    "setplustenminusten = setplustenminusten.set(yticks=[-10,-5,0,5,10],title=\"Features with  values between 10 and -10\")"
   ]
  },
  {
   "cell_type": "code",
   "execution_count": null,
   "metadata": {
    "_kg_hide-input": true,
    "_uuid": "5fd22da329043dadec3c6ceec160bfdffa2c027d",
    "collapsed": true
   },
   "outputs": [],
   "source": [
    "sns.set(rc={'figure.figsize':(16,16)})\n",
    "for num, alpha in enumerate(colplustenminusten):\n",
    "    plt.subplot(4, 4, num+1)\n",
    "    plt.hist(sephist(alpha)[0], alpha=0.75, label='yes', color='g')\n",
    "    plt.hist(sephist(alpha)[1], alpha=0.25, label='no', color='r')\n",
    "    plt.legend(loc='upper right')\n",
    "    plt.title(alpha)\n",
    "plt.tight_layout(pad=0.4, w_pad=0.5, h_pad=1.0)"
   ]
  },
  {
   "cell_type": "markdown",
   "metadata": {
    "_uuid": "719852abb59089f6bd5595f51f52fe1a8d6bcc1b"
   },
   "source": [
    "**Features with  max value between 10 &  20  and min values between 0 & -10**"
   ]
  },
  {
   "cell_type": "code",
   "execution_count": null,
   "metadata": {
    "_kg_hide-input": true,
    "_uuid": "66921b9b9fa16f50bda9c6126317085736024cd4",
    "collapsed": true
   },
   "outputs": [],
   "source": [
    "sns.set(rc={'figure.figsize':(16,8)})\n",
    "setplustwentyminusten = train.loc[:,colplustwentyminusten].boxplot(rot=90)\n",
    "setplustwentyminusten = setplustwentyminusten.set(yticks=[-10,-5,0,5,10,15,20],title=\"Features with  max value between 10 and 20 and min values between 0 and -10\")"
   ]
  },
  {
   "cell_type": "code",
   "execution_count": null,
   "metadata": {
    "_kg_hide-input": true,
    "_uuid": "952635566217c4a797789dc8c572ef69b2a555f1",
    "collapsed": true
   },
   "outputs": [],
   "source": [
    "sns.set(rc={'figure.figsize':(16,16)})\n",
    "for num, alpha in enumerate(colplustwentyminusten):\n",
    "    plt.subplot(5, 4, num+1)\n",
    "    plt.hist(sephist(alpha)[0], alpha=0.75, label='yes', color='g')\n",
    "    plt.hist(sephist(alpha)[1], alpha=0.25, label='no', color='r')\n",
    "    plt.legend(loc='upper right')\n",
    "    plt.title(alpha)\n",
    "plt.tight_layout(pad=0.4, w_pad=0.5, h_pad=1.0)"
   ]
  },
  {
   "cell_type": "markdown",
   "metadata": {
    "_uuid": "38d0de2d8829f65cb5cc2b82b91cc487e2d603ba"
   },
   "source": [
    "From the above histogram for many of the features the ' transaction done'  group in green seems to have  lower range than the 'transaction not done' group in red."
   ]
  },
  {
   "cell_type": "markdown",
   "metadata": {
    "_uuid": "f9da143284890ab53687132d70facfff62e36d1f"
   },
   "source": [
    "**Features with  max value between 10 &  20  and min values between -10 & -20**"
   ]
  },
  {
   "cell_type": "code",
   "execution_count": null,
   "metadata": {
    "_kg_hide-input": true,
    "_uuid": "98adf4e06ba8d42aadab4f5f5d94e34627438dee",
    "collapsed": true
   },
   "outputs": [],
   "source": [
    "sns.set(rc={'figure.figsize':(20,8)})\n",
    "setplustwentyminustwenty=train.loc[:,colplustwentyminustwenty].boxplot(rot=90)\n",
    "setplustwentyminustwenty=setplustwentyminustwenty.set(yticks=[-20,-15,-10,-5,0,5,10,15,20],title=\"Features with  max value between 10 and 20 and min values between -10  and -20\")"
   ]
  },
  {
   "cell_type": "code",
   "execution_count": null,
   "metadata": {
    "_kg_hide-input": true,
    "_uuid": "102ad8c0575efd7dc26f580902050a3173307698",
    "collapsed": true
   },
   "outputs": [],
   "source": [
    "sns.set(rc={'figure.figsize':(16,16)})\n",
    "for num, alpha in enumerate(colplustwentyminustwenty):\n",
    "    plt.subplot(4, 4, num+1)\n",
    "    plt.hist(sephist(alpha)[0], alpha=0.75, label='yes', color='g')\n",
    "    plt.hist(sephist(alpha)[1], alpha=0.25, label='no', color='r')\n",
    "    plt.legend(loc='upper right')\n",
    "    plt.title(alpha)\n",
    "plt.tight_layout(pad=0.4, w_pad=0.5, h_pad=1.0)"
   ]
  },
  {
   "cell_type": "markdown",
   "metadata": {
    "_uuid": "d5b7d53e16a19cbac2b56dbf53d0f1434263d3c6"
   },
   "source": [
    "var_39,var_65 and var_138 appear to have similiar distribution of values and so is var_63 and var_128\n",
    "For some of the features the ' transaction done'  group in green seems to have  lower range than the 'transaction not done' group in red."
   ]
  },
  {
   "cell_type": "markdown",
   "metadata": {
    "_uuid": "291aac1fe5b4c4c88bcd49fc72e99f63ed4a80e3"
   },
   "source": [
    "**Features with  max value between 10 &  20  and min values less than  -20**"
   ]
  },
  {
   "cell_type": "code",
   "execution_count": null,
   "metadata": {
    "_kg_hide-input": true,
    "_uuid": "8bf67490be68010d3138c1f3f2e3ccfb5e29078d",
    "collapsed": true
   },
   "outputs": [],
   "source": [
    "sns.set(rc={'figure.figsize':(20,8)})\n",
    "setplustwentyminustwentyless=train.loc[:,colplustwentyminustwentyless].boxplot(rot=90)\n",
    "setplustwentyminustwentyless=setplustwentyminustwentyless.set(yticks=[-40,-30,-20,-15,-10,-5,0,5,10,15,20],title=\"Features with  max value between 10 and 20 and min values less than -20\")"
   ]
  },
  {
   "cell_type": "code",
   "execution_count": null,
   "metadata": {
    "_kg_hide-input": true,
    "_uuid": "e8ae28cf7e08086aa1710b78b624e936b70a39ff",
    "collapsed": true
   },
   "outputs": [],
   "source": [
    "sns.set(rc={'figure.figsize':(16,16)})\n",
    "for num, alpha in enumerate(colplustwentyminustwentyless):\n",
    "    plt.subplot(4, 4, num+1)\n",
    "    plt.hist(sephist(alpha)[0], alpha=0.75, label='yes', color='g')\n",
    "    plt.hist(sephist(alpha)[1], alpha=0.25, label='no', color='r')\n",
    "    plt.legend(loc='upper right')\n",
    "    plt.title(alpha)\n",
    "plt.tight_layout(pad=0.4, w_pad=0.5, h_pad=1.0)"
   ]
  },
  {
   "cell_type": "markdown",
   "metadata": {
    "_uuid": "70b0cfb1cecccabec835c0b781cb0a1e6c1b2807"
   },
   "source": [
    "var_84, var _155, var_157 appear to have similiar distribution of values and so does  var_11, var_180 & var_185"
   ]
  },
  {
   "cell_type": "markdown",
   "metadata": {
    "_uuid": "16a4978d47b05ef53169b7f014afd74859d1c0f7"
   },
   "source": [
    "**Features with  max value greater than 20  and min values less than  -20**"
   ]
  },
  {
   "cell_type": "code",
   "execution_count": null,
   "metadata": {
    "_kg_hide-input": true,
    "_uuid": "52e7bb344a45be0a4d9a813faa0824b00e0bb236",
    "collapsed": true
   },
   "outputs": [],
   "source": [
    "sns.set(rc={'figure.figsize':(20,8)})\n",
    "setplustwentymoreminusten=train.loc[:,colplustwentymoreminusten].boxplot(rot=90)\n",
    "setplustwentymoreminusten=setplustwentymoreminusten.set(yticks=[-10,-5,0,5,10,15,20,30,40,60],title=\"Features with  max value more than 20 and min values between 0 and -10\")"
   ]
  },
  {
   "cell_type": "code",
   "execution_count": null,
   "metadata": {
    "_kg_hide-input": true,
    "_uuid": "fbb52f27fd48d031f9a006751a7178fdab5d4d5f",
    "collapsed": true
   },
   "outputs": [],
   "source": [
    "sns.set(rc={'figure.figsize':(16,16)})\n",
    "for num, alpha in enumerate(colplustwentymoreminusten):\n",
    "    plt.subplot(7, 4, num+1)\n",
    "    plt.hist(sephist(alpha)[0], alpha=0.75, label='yes', color='g')\n",
    "    plt.hist(sephist(alpha)[1], alpha=0.25, label='no', color='r')\n",
    "    plt.legend(loc='upper right')\n",
    "    plt.title(alpha)\n",
    "plt.tight_layout(pad=0.4, w_pad=0.5, h_pad=1.0)"
   ]
  },
  {
   "cell_type": "markdown",
   "metadata": {
    "_uuid": "15ff104394c708af144c99af6a4ee7cdccc4f745"
   },
   "source": [
    "(var_73 & var_158) , (var_92,var_154,var_159 & var_163) , ( var_20 & var_55) \n",
    "The features within the above groups  appear to have similiar distribution of values . Here also the range  of values for the *'transaction done'* group in green appears to be shorter."
   ]
  },
  {
   "cell_type": "markdown",
   "metadata": {
    "_uuid": "e890a1a82362eab34ded645b1a52c68c7fa38910"
   },
   "source": [
    "**Features with  max value more than 20 and min values between -10 and -20**"
   ]
  },
  {
   "cell_type": "code",
   "execution_count": null,
   "metadata": {
    "_kg_hide-input": true,
    "_uuid": "dcebd7eaa622a345af75630fd2e2e2fb954dc740",
    "collapsed": true
   },
   "outputs": [],
   "source": [
    "sns.set(rc={'figure.figsize':(20,8)})\n",
    "setplustwentymoreminustwenty=train.loc[:,colplustwentymoreminustwenty].boxplot(rot=90)\n",
    "setplustwentymoreminustwenty=setplustwentymoreminustwenty.set(yticks=[-20,-15,-10,-5,0,5,10,15,20,30,40,60],title=\"Features with  max value more than 20 and min values between -10 and -20\")"
   ]
  },
  {
   "cell_type": "code",
   "execution_count": null,
   "metadata": {
    "_kg_hide-input": true,
    "_uuid": "fe2207febe742432fdac828e35d2f07e3936d7c9",
    "collapsed": true
   },
   "outputs": [],
   "source": [
    "sns.set(rc={'figure.figsize':(16,16)})\n",
    "for num, alpha in enumerate(colplustwentymoreminustwenty):\n",
    "    plt.subplot(7, 4, num+1)\n",
    "    plt.hist(sephist(alpha)[0], alpha=0.75, label='yes', color='g')\n",
    "    plt.hist(sephist(alpha)[1], alpha=0.25, label='no', color='r')\n",
    "    plt.legend(loc='upper right')\n",
    "    plt.title(alpha)\n",
    "plt.tight_layout(pad=0.4, w_pad=0.5, h_pad=1.0)"
   ]
  },
  {
   "cell_type": "markdown",
   "metadata": {
    "_uuid": "2f161b4e92cc109b3273bf6f712bd5e16cdebe0c"
   },
   "source": [
    "var_21 & var_172 appear to have similiar distribution of values"
   ]
  },
  {
   "cell_type": "markdown",
   "metadata": {
    "_uuid": "1c65f585d1582f83fd563d8905000304281ba79d"
   },
   "source": [
    "**Features with  max value more than 20 and min values less than -20**"
   ]
  },
  {
   "cell_type": "code",
   "execution_count": null,
   "metadata": {
    "_kg_hide-input": true,
    "_uuid": "9d8494e1a1190b6a13d4d8471d8542965e275f56",
    "collapsed": true
   },
   "outputs": [],
   "source": [
    "sns.set(rc={'figure.figsize':(20,8)})\n",
    "setplustwentymoreminustwentymore=train.loc[:,colplustwentymoreminustwentymore].boxplot(rot=90)\n",
    "setplustwentymoreminustwentymore=setplustwentymoreminustwentymore.set(yticks=[-40,-30,-20,-10,0,5,10,15,20,30,40,60],title=\"Features with  max value more than 20 and min values less than -20\")"
   ]
  },
  {
   "cell_type": "code",
   "execution_count": null,
   "metadata": {
    "_kg_hide-input": true,
    "_uuid": "07fde37242ed381d12398673f679120f9c88fb12",
    "collapsed": true
   },
   "outputs": [],
   "source": [
    "sns.set(rc={'figure.figsize':(16,16)})\n",
    "for num, alpha in enumerate(colplustwentymoreminustwentymore):\n",
    "    plt.subplot(6, 4, num+1)\n",
    "    plt.hist(sephist(alpha)[0], alpha=0.75, label='yes', color='g')\n",
    "    plt.hist(sephist(alpha)[1], alpha=0.25, label='no', color='r')\n",
    "    plt.legend(loc='upper right')\n",
    "    plt.title(alpha)\n",
    "plt.tight_layout(pad=0.4, w_pad=0.5, h_pad=1.0)"
   ]
  },
  {
   "cell_type": "markdown",
   "metadata": {
    "_uuid": "4baed7f29dfbb40cdc5450b0b014bbfa9bab9baf"
   },
   "source": [
    "var_47 & var_187 appear to have similiar distribution of values"
   ]
  },
  {
   "cell_type": "markdown",
   "metadata": {
    "_uuid": "b1c22c5375b09e4fb13dad1a3b74624006734ad1"
   },
   "source": [
    "**Checking for correlation between feature**s"
   ]
  },
  {
   "cell_type": "code",
   "execution_count": null,
   "metadata": {
    "_uuid": "939997c335ea821fe8c5653387f7f20f235b0e9c",
    "collapsed": true
   },
   "outputs": [],
   "source": [
    "traincorr = train.iloc[:,2:].corr()\n",
    "traincorr.head()"
   ]
  },
  {
   "cell_type": "code",
   "execution_count": null,
   "metadata": {
    "_uuid": "effe5c0811e9a2ea6e91b52b44782b26b32ef7d7",
    "collapsed": true
   },
   "outputs": [],
   "source": [
    "sns.set(rc={'figure.figsize':(10,8)})\n",
    "sns.heatmap(traincorr,xticklabels=traincorr.columns,yticklabels=traincorr.columns,cmap=sns.diverging_palette(240, 10, n=9))"
   ]
  },
  {
   "cell_type": "markdown",
   "metadata": {
    "_uuid": "6bc7d3bc9510f82c8943007ca8544a35598f7d72"
   },
   "source": [
    "***No correlation between any features . Does this mean all features are important?***"
   ]
  },
  {
   "cell_type": "markdown",
   "metadata": {
    "_uuid": "635bff0cd675e6f6f6a9d1dd6dfd08f0a95ce2ab"
   },
   "source": [
    "**Kolmogorov-Smirnov test**"
   ]
  },
  {
   "cell_type": "markdown",
   "metadata": {
    "_uuid": "e4f9ce25c4c5316568f88d1188cae3107b0c5516"
   },
   "source": [
    "Before concluding let's do a check of whether feature values in test and train comes from the same sampling  distribution.\n",
    "Kolmogorov-Smirnov  is a two-sided test for the null hypothesis that 2 independent samples are drawn from the same continuous distribution.\n",
    "If the K-S statistic is small or the p-value is high, then we cannot reject the hypothesis that the distributions of the two samples are the same."
   ]
  },
  {
   "cell_type": "code",
   "execution_count": 12,
   "metadata": {
    "_uuid": "8e2dd555de53786e375b5d16f92599d45bf056cd",
    "collapsed": false
   },
   "outputs": [
    {
     "name": "stderr",
     "output_type": "stream",
     "text": [
      "  0%|                                                                                          | 0/201 [00:00<?, ?it/s]\n"
     ]
    },
    {
     "ename": "KeyError",
     "evalue": "'target'",
     "output_type": "error",
     "traceback": [
      "\u001b[0;31m---------------------------------------------------------------------------\u001b[0m",
      "\u001b[0;31mKeyError\u001b[0m                                  Traceback (most recent call last)",
      "\u001b[0;32mC:\\Users\\tatsuya.okamoto\\AppData\\Local\\Continuum\\Anaconda3\\lib\\site-packages\\pandas\\core\\indexes\\base.py\u001b[0m in \u001b[0;36mget_loc\u001b[0;34m(self, key, method, tolerance)\u001b[0m\n\u001b[1;32m   3077\u001b[0m             \u001b[1;32mtry\u001b[0m\u001b[1;33m:\u001b[0m\u001b[1;33m\u001b[0m\u001b[0m\n\u001b[0;32m-> 3078\u001b[0;31m                 \u001b[1;32mreturn\u001b[0m \u001b[0mself\u001b[0m\u001b[1;33m.\u001b[0m\u001b[0m_engine\u001b[0m\u001b[1;33m.\u001b[0m\u001b[0mget_loc\u001b[0m\u001b[1;33m(\u001b[0m\u001b[0mkey\u001b[0m\u001b[1;33m)\u001b[0m\u001b[1;33m\u001b[0m\u001b[0m\n\u001b[0m\u001b[1;32m   3079\u001b[0m             \u001b[1;32mexcept\u001b[0m \u001b[0mKeyError\u001b[0m\u001b[1;33m:\u001b[0m\u001b[1;33m\u001b[0m\u001b[0m\n",
      "\u001b[0;32mpandas\\_libs\\index.pyx\u001b[0m in \u001b[0;36mpandas._libs.index.IndexEngine.get_loc\u001b[0;34m()\u001b[0m\n",
      "\u001b[0;32mpandas\\_libs\\index.pyx\u001b[0m in \u001b[0;36mpandas._libs.index.IndexEngine.get_loc\u001b[0;34m()\u001b[0m\n",
      "\u001b[0;32mpandas\\_libs\\hashtable_class_helper.pxi\u001b[0m in \u001b[0;36mpandas._libs.hashtable.PyObjectHashTable.get_item\u001b[0;34m()\u001b[0m\n",
      "\u001b[0;32mpandas\\_libs\\hashtable_class_helper.pxi\u001b[0m in \u001b[0;36mpandas._libs.hashtable.PyObjectHashTable.get_item\u001b[0;34m()\u001b[0m\n",
      "\u001b[0;31mKeyError\u001b[0m: 'target'",
      "\nDuring handling of the above exception, another exception occurred:\n",
      "\u001b[0;31mKeyError\u001b[0m                                  Traceback (most recent call last)",
      "\u001b[0;32m<ipython-input-12-85824516c089>\u001b[0m in \u001b[0;36m<module>\u001b[0;34m()\u001b[0m\n\u001b[1;32m      5\u001b[0m \u001b[0mtrain_columns\u001b[0m \u001b[1;33m=\u001b[0m \u001b[0mtrain\u001b[0m\u001b[1;33m.\u001b[0m\u001b[0miloc\u001b[0m\u001b[1;33m[\u001b[0m\u001b[1;33m:\u001b[0m\u001b[1;33m,\u001b[0m\u001b[1;36m2\u001b[0m\u001b[1;33m:\u001b[0m\u001b[1;33m]\u001b[0m\u001b[1;33m.\u001b[0m\u001b[0mcolumns\u001b[0m\u001b[1;33m\u001b[0m\u001b[0m\n\u001b[1;32m      6\u001b[0m \u001b[1;32mfor\u001b[0m \u001b[0mi\u001b[0m \u001b[1;32min\u001b[0m \u001b[0mtqdm\u001b[0m\u001b[1;33m(\u001b[0m\u001b[0mtrain_columns\u001b[0m\u001b[1;33m)\u001b[0m\u001b[1;33m:\u001b[0m\u001b[1;33m\u001b[0m\u001b[0m\n\u001b[0;32m----> 7\u001b[0;31m     \u001b[0mks_values\u001b[0m\u001b[1;33m.\u001b[0m\u001b[0mappend\u001b[0m\u001b[1;33m(\u001b[0m\u001b[0mks_2samp\u001b[0m\u001b[1;33m(\u001b[0m\u001b[0mtest\u001b[0m\u001b[1;33m[\u001b[0m\u001b[0mi\u001b[0m\u001b[1;33m]\u001b[0m \u001b[1;33m,\u001b[0m \u001b[0mtrain\u001b[0m\u001b[1;33m[\u001b[0m\u001b[0mi\u001b[0m\u001b[1;33m]\u001b[0m\u001b[1;33m)\u001b[0m\u001b[1;33m[\u001b[0m\u001b[1;36m0\u001b[0m\u001b[1;33m]\u001b[0m\u001b[1;33m)\u001b[0m\u001b[1;33m\u001b[0m\u001b[0m\n\u001b[0m\u001b[1;32m      8\u001b[0m     \u001b[0mp_values\u001b[0m\u001b[1;33m.\u001b[0m\u001b[0mappend\u001b[0m\u001b[1;33m(\u001b[0m\u001b[0mks_2samp\u001b[0m\u001b[1;33m(\u001b[0m\u001b[0mtest\u001b[0m\u001b[1;33m[\u001b[0m\u001b[0mi\u001b[0m\u001b[1;33m]\u001b[0m \u001b[1;33m,\u001b[0m \u001b[0mtrain\u001b[0m\u001b[1;33m[\u001b[0m\u001b[0mi\u001b[0m\u001b[1;33m]\u001b[0m\u001b[1;33m)\u001b[0m\u001b[1;33m[\u001b[0m\u001b[1;36m1\u001b[0m\u001b[1;33m]\u001b[0m\u001b[1;33m)\u001b[0m\u001b[1;33m\u001b[0m\u001b[0m\n\u001b[1;32m      9\u001b[0m \u001b[0mp_values_series\u001b[0m \u001b[1;33m=\u001b[0m \u001b[0mpd\u001b[0m\u001b[1;33m.\u001b[0m\u001b[0mSeries\u001b[0m\u001b[1;33m(\u001b[0m\u001b[0mp_values\u001b[0m\u001b[1;33m,\u001b[0m \u001b[0mindex\u001b[0m \u001b[1;33m=\u001b[0m \u001b[0mtrain_columns\u001b[0m\u001b[1;33m)\u001b[0m\u001b[1;33m\u001b[0m\u001b[0m\n",
      "\u001b[0;32mC:\\Users\\tatsuya.okamoto\\AppData\\Local\\Continuum\\Anaconda3\\lib\\site-packages\\pandas\\core\\frame.py\u001b[0m in \u001b[0;36m__getitem__\u001b[0;34m(self, key)\u001b[0m\n\u001b[1;32m   2686\u001b[0m             \u001b[1;32mreturn\u001b[0m \u001b[0mself\u001b[0m\u001b[1;33m.\u001b[0m\u001b[0m_getitem_multilevel\u001b[0m\u001b[1;33m(\u001b[0m\u001b[0mkey\u001b[0m\u001b[1;33m)\u001b[0m\u001b[1;33m\u001b[0m\u001b[0m\n\u001b[1;32m   2687\u001b[0m         \u001b[1;32melse\u001b[0m\u001b[1;33m:\u001b[0m\u001b[1;33m\u001b[0m\u001b[0m\n\u001b[0;32m-> 2688\u001b[0;31m             \u001b[1;32mreturn\u001b[0m \u001b[0mself\u001b[0m\u001b[1;33m.\u001b[0m\u001b[0m_getitem_column\u001b[0m\u001b[1;33m(\u001b[0m\u001b[0mkey\u001b[0m\u001b[1;33m)\u001b[0m\u001b[1;33m\u001b[0m\u001b[0m\n\u001b[0m\u001b[1;32m   2689\u001b[0m \u001b[1;33m\u001b[0m\u001b[0m\n\u001b[1;32m   2690\u001b[0m     \u001b[1;32mdef\u001b[0m \u001b[0m_getitem_column\u001b[0m\u001b[1;33m(\u001b[0m\u001b[0mself\u001b[0m\u001b[1;33m,\u001b[0m \u001b[0mkey\u001b[0m\u001b[1;33m)\u001b[0m\u001b[1;33m:\u001b[0m\u001b[1;33m\u001b[0m\u001b[0m\n",
      "\u001b[0;32mC:\\Users\\tatsuya.okamoto\\AppData\\Local\\Continuum\\Anaconda3\\lib\\site-packages\\pandas\\core\\frame.py\u001b[0m in \u001b[0;36m_getitem_column\u001b[0;34m(self, key)\u001b[0m\n\u001b[1;32m   2693\u001b[0m         \u001b[1;31m# get column\u001b[0m\u001b[1;33m\u001b[0m\u001b[1;33m\u001b[0m\u001b[0m\n\u001b[1;32m   2694\u001b[0m         \u001b[1;32mif\u001b[0m \u001b[0mself\u001b[0m\u001b[1;33m.\u001b[0m\u001b[0mcolumns\u001b[0m\u001b[1;33m.\u001b[0m\u001b[0mis_unique\u001b[0m\u001b[1;33m:\u001b[0m\u001b[1;33m\u001b[0m\u001b[0m\n\u001b[0;32m-> 2695\u001b[0;31m             \u001b[1;32mreturn\u001b[0m \u001b[0mself\u001b[0m\u001b[1;33m.\u001b[0m\u001b[0m_get_item_cache\u001b[0m\u001b[1;33m(\u001b[0m\u001b[0mkey\u001b[0m\u001b[1;33m)\u001b[0m\u001b[1;33m\u001b[0m\u001b[0m\n\u001b[0m\u001b[1;32m   2696\u001b[0m \u001b[1;33m\u001b[0m\u001b[0m\n\u001b[1;32m   2697\u001b[0m         \u001b[1;31m# duplicate columns & possible reduce dimensionality\u001b[0m\u001b[1;33m\u001b[0m\u001b[1;33m\u001b[0m\u001b[0m\n",
      "\u001b[0;32mC:\\Users\\tatsuya.okamoto\\AppData\\Local\\Continuum\\Anaconda3\\lib\\site-packages\\pandas\\core\\generic.py\u001b[0m in \u001b[0;36m_get_item_cache\u001b[0;34m(self, item)\u001b[0m\n\u001b[1;32m   2487\u001b[0m         \u001b[0mres\u001b[0m \u001b[1;33m=\u001b[0m \u001b[0mcache\u001b[0m\u001b[1;33m.\u001b[0m\u001b[0mget\u001b[0m\u001b[1;33m(\u001b[0m\u001b[0mitem\u001b[0m\u001b[1;33m)\u001b[0m\u001b[1;33m\u001b[0m\u001b[0m\n\u001b[1;32m   2488\u001b[0m         \u001b[1;32mif\u001b[0m \u001b[0mres\u001b[0m \u001b[1;32mis\u001b[0m \u001b[1;32mNone\u001b[0m\u001b[1;33m:\u001b[0m\u001b[1;33m\u001b[0m\u001b[0m\n\u001b[0;32m-> 2489\u001b[0;31m             \u001b[0mvalues\u001b[0m \u001b[1;33m=\u001b[0m \u001b[0mself\u001b[0m\u001b[1;33m.\u001b[0m\u001b[0m_data\u001b[0m\u001b[1;33m.\u001b[0m\u001b[0mget\u001b[0m\u001b[1;33m(\u001b[0m\u001b[0mitem\u001b[0m\u001b[1;33m)\u001b[0m\u001b[1;33m\u001b[0m\u001b[0m\n\u001b[0m\u001b[1;32m   2490\u001b[0m             \u001b[0mres\u001b[0m \u001b[1;33m=\u001b[0m \u001b[0mself\u001b[0m\u001b[1;33m.\u001b[0m\u001b[0m_box_item_values\u001b[0m\u001b[1;33m(\u001b[0m\u001b[0mitem\u001b[0m\u001b[1;33m,\u001b[0m \u001b[0mvalues\u001b[0m\u001b[1;33m)\u001b[0m\u001b[1;33m\u001b[0m\u001b[0m\n\u001b[1;32m   2491\u001b[0m             \u001b[0mcache\u001b[0m\u001b[1;33m[\u001b[0m\u001b[0mitem\u001b[0m\u001b[1;33m]\u001b[0m \u001b[1;33m=\u001b[0m \u001b[0mres\u001b[0m\u001b[1;33m\u001b[0m\u001b[0m\n",
      "\u001b[0;32mC:\\Users\\tatsuya.okamoto\\AppData\\Local\\Continuum\\Anaconda3\\lib\\site-packages\\pandas\\core\\internals.py\u001b[0m in \u001b[0;36mget\u001b[0;34m(self, item, fastpath)\u001b[0m\n\u001b[1;32m   4113\u001b[0m \u001b[1;33m\u001b[0m\u001b[0m\n\u001b[1;32m   4114\u001b[0m             \u001b[1;32mif\u001b[0m \u001b[1;32mnot\u001b[0m \u001b[0misna\u001b[0m\u001b[1;33m(\u001b[0m\u001b[0mitem\u001b[0m\u001b[1;33m)\u001b[0m\u001b[1;33m:\u001b[0m\u001b[1;33m\u001b[0m\u001b[0m\n\u001b[0;32m-> 4115\u001b[0;31m                 \u001b[0mloc\u001b[0m \u001b[1;33m=\u001b[0m \u001b[0mself\u001b[0m\u001b[1;33m.\u001b[0m\u001b[0mitems\u001b[0m\u001b[1;33m.\u001b[0m\u001b[0mget_loc\u001b[0m\u001b[1;33m(\u001b[0m\u001b[0mitem\u001b[0m\u001b[1;33m)\u001b[0m\u001b[1;33m\u001b[0m\u001b[0m\n\u001b[0m\u001b[1;32m   4116\u001b[0m             \u001b[1;32melse\u001b[0m\u001b[1;33m:\u001b[0m\u001b[1;33m\u001b[0m\u001b[0m\n\u001b[1;32m   4117\u001b[0m                 \u001b[0mindexer\u001b[0m \u001b[1;33m=\u001b[0m \u001b[0mnp\u001b[0m\u001b[1;33m.\u001b[0m\u001b[0marange\u001b[0m\u001b[1;33m(\u001b[0m\u001b[0mlen\u001b[0m\u001b[1;33m(\u001b[0m\u001b[0mself\u001b[0m\u001b[1;33m.\u001b[0m\u001b[0mitems\u001b[0m\u001b[1;33m)\u001b[0m\u001b[1;33m)\u001b[0m\u001b[1;33m[\u001b[0m\u001b[0misna\u001b[0m\u001b[1;33m(\u001b[0m\u001b[0mself\u001b[0m\u001b[1;33m.\u001b[0m\u001b[0mitems\u001b[0m\u001b[1;33m)\u001b[0m\u001b[1;33m]\u001b[0m\u001b[1;33m\u001b[0m\u001b[0m\n",
      "\u001b[0;32mC:\\Users\\tatsuya.okamoto\\AppData\\Local\\Continuum\\Anaconda3\\lib\\site-packages\\pandas\\core\\indexes\\base.py\u001b[0m in \u001b[0;36mget_loc\u001b[0;34m(self, key, method, tolerance)\u001b[0m\n\u001b[1;32m   3078\u001b[0m                 \u001b[1;32mreturn\u001b[0m \u001b[0mself\u001b[0m\u001b[1;33m.\u001b[0m\u001b[0m_engine\u001b[0m\u001b[1;33m.\u001b[0m\u001b[0mget_loc\u001b[0m\u001b[1;33m(\u001b[0m\u001b[0mkey\u001b[0m\u001b[1;33m)\u001b[0m\u001b[1;33m\u001b[0m\u001b[0m\n\u001b[1;32m   3079\u001b[0m             \u001b[1;32mexcept\u001b[0m \u001b[0mKeyError\u001b[0m\u001b[1;33m:\u001b[0m\u001b[1;33m\u001b[0m\u001b[0m\n\u001b[0;32m-> 3080\u001b[0;31m                 \u001b[1;32mreturn\u001b[0m \u001b[0mself\u001b[0m\u001b[1;33m.\u001b[0m\u001b[0m_engine\u001b[0m\u001b[1;33m.\u001b[0m\u001b[0mget_loc\u001b[0m\u001b[1;33m(\u001b[0m\u001b[0mself\u001b[0m\u001b[1;33m.\u001b[0m\u001b[0m_maybe_cast_indexer\u001b[0m\u001b[1;33m(\u001b[0m\u001b[0mkey\u001b[0m\u001b[1;33m)\u001b[0m\u001b[1;33m)\u001b[0m\u001b[1;33m\u001b[0m\u001b[0m\n\u001b[0m\u001b[1;32m   3081\u001b[0m \u001b[1;33m\u001b[0m\u001b[0m\n\u001b[1;32m   3082\u001b[0m         \u001b[0mindexer\u001b[0m \u001b[1;33m=\u001b[0m \u001b[0mself\u001b[0m\u001b[1;33m.\u001b[0m\u001b[0mget_indexer\u001b[0m\u001b[1;33m(\u001b[0m\u001b[1;33m[\u001b[0m\u001b[0mkey\u001b[0m\u001b[1;33m]\u001b[0m\u001b[1;33m,\u001b[0m \u001b[0mmethod\u001b[0m\u001b[1;33m=\u001b[0m\u001b[0mmethod\u001b[0m\u001b[1;33m,\u001b[0m \u001b[0mtolerance\u001b[0m\u001b[1;33m=\u001b[0m\u001b[0mtolerance\u001b[0m\u001b[1;33m)\u001b[0m\u001b[1;33m\u001b[0m\u001b[0m\n",
      "\u001b[0;32mpandas\\_libs\\index.pyx\u001b[0m in \u001b[0;36mpandas._libs.index.IndexEngine.get_loc\u001b[0;34m()\u001b[0m\n",
      "\u001b[0;32mpandas\\_libs\\index.pyx\u001b[0m in \u001b[0;36mpandas._libs.index.IndexEngine.get_loc\u001b[0;34m()\u001b[0m\n",
      "\u001b[0;32mpandas\\_libs\\hashtable_class_helper.pxi\u001b[0m in \u001b[0;36mpandas._libs.hashtable.PyObjectHashTable.get_item\u001b[0;34m()\u001b[0m\n",
      "\u001b[0;32mpandas\\_libs\\hashtable_class_helper.pxi\u001b[0m in \u001b[0;36mpandas._libs.hashtable.PyObjectHashTable.get_item\u001b[0;34m()\u001b[0m\n",
      "\u001b[0;31mKeyError\u001b[0m: 'target'"
     ]
    }
   ],
   "source": [
    "from scipy.stats import ks_2samp\n",
    "from tqdm import tqdm\n",
    "ks_values =[]\n",
    "p_values  = []\n",
    "train_columns = train.iloc[:,2:].columns\n",
    "for i in tqdm(train_columns):\n",
    "    ks_values.append(ks_2samp(test[i] , train[i])[0])\n",
    "    p_values.append(ks_2samp(test[i] , train[i])[1])\n",
    "p_values_series = pd.Series(p_values, index = train_columns) \n"
   ]
  },
  {
   "cell_type": "markdown",
   "metadata": {
    "_uuid": "1219ef3e8aecb326a8d25b6eb6695ae923428025"
   },
   "source": [
    "For the two tailed test at 95% confidence level the pvalue has to be less than 0.05 to reject the null hypothesis that both samples are from same distribution.Let's look for values less than 0.05"
   ]
  },
  {
   "cell_type": "code",
   "execution_count": null,
   "metadata": {
    "_uuid": "36515966dc20f09c36eee5f87f0c2ce234f536e2",
    "collapsed": true
   },
   "outputs": [],
   "source": [
    "dissimiliar_features= p_values_series[p_values_series <0.05].index\n",
    "dissimiliar_features"
   ]
  },
  {
   "cell_type": "markdown",
   "metadata": {
    "_uuid": "d4e197275250358fb4b8c04c03d9a60b1421bb01"
   },
   "source": [
    "As per the Kolmogorov-Smirnov test 46 features have a high probability of not being from the same sampling distribution.\n",
    "Will this affect the models? "
   ]
  },
  {
   "cell_type": "code",
   "execution_count": null,
   "metadata": {
    "_uuid": "dd27c64c9f9b1dc7c5eca2cf80217c788e07f2b1",
    "collapsed": true
   },
   "outputs": [],
   "source": [
    "# sns.set(rc={'figure.figsize':(16,48)})\n",
    "# set1=train.iloc[:,47:92].hist(layout=(9,5),sharey=True)"
   ]
  }
 ],
 "metadata": {
  "kernelspec": {
   "display_name": "Python 3",
   "language": "python",
   "name": "python3"
  },
  "language_info": {
   "codemirror_mode": {
    "name": "ipython",
    "version": 3
   },
   "file_extension": ".py",
   "mimetype": "text/x-python",
   "name": "python",
   "nbconvert_exporter": "python",
   "pygments_lexer": "ipython3",
   "version": "3.6.0"
  }
 },
 "nbformat": 4,
 "nbformat_minor": 1
}
