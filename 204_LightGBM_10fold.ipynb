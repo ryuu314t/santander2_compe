{
 "cells": [
  {
   "cell_type": "code",
   "execution_count": 1,
   "metadata": {
    "collapsed": false
   },
   "outputs": [
    {
     "name": "stderr",
     "output_type": "stream",
     "text": [
      "C:\\Users\\tatsuya.okamoto\\AppData\\Local\\Continuum\\Anaconda3\\lib\\site-packages\\sklearn\\cross_validation.py:44: DeprecationWarning: This module was deprecated in version 0.18 in favor of the model_selection module into which all the refactored classes and functions are moved. Also note that the interface of the new CV iterators are different from that of this module. This module will be removed in 0.20.\n",
      "  \"This module will be removed in 0.20.\", DeprecationWarning)\n",
      "C:\\Users\\tatsuya.okamoto\\AppData\\Local\\Continuum\\Anaconda3\\lib\\site-packages\\sklearn\\grid_search.py:43: DeprecationWarning: This module was deprecated in version 0.18 in favor of the model_selection module into which all the refactored classes and functions are moved. This module will be removed in 0.20.\n",
      "  DeprecationWarning)\n"
     ]
    }
   ],
   "source": [
    "import gc\n",
    "import os\n",
    "import logging\n",
    "import datetime\n",
    "import warnings\n",
    "import numpy as np\n",
    "import pandas as pd\n",
    "import seaborn as sns\n",
    "import lightgbm as lgb\n",
    "from tqdm import tqdm_notebook\n",
    "import matplotlib.pyplot as plt\n",
    "from sklearn.metrics import mean_squared_error\n",
    "from sklearn.metrics import roc_auc_score, roc_curve\n",
    "from sklearn.model_selection import StratifiedKFold\n",
    "from sklearn.model_selection import ShuffleSplit\n",
    "import xgboost as xgb\n",
    "from sklearn.model_selection import GridSearchCV\n",
    "from sklearn.grid_search import RandomizedSearchCV\n",
    "warnings.filterwarnings('ignore')\n"
   ]
  },
  {
   "cell_type": "markdown",
   "metadata": {},
   "source": [
    "基本変数定義"
   ]
  },
  {
   "cell_type": "code",
   "execution_count": 2,
   "metadata": {
    "collapsed": true
   },
   "outputs": [],
   "source": [
    "submit_flg=1 #全件処理かどうかをコントロール\n",
    "grid_flg=0 #GridSearchをするかコントロール\n",
    "\n",
    "SEED=12345\n",
    "sample_num=10000\n",
    "fold_num=10\n",
    "\n",
    "#train関連\n",
    "train_dir='./feature/101_train.csv'\n",
    "train_drop_col=['ID_code', 'target']\n",
    "train_label='target'\n",
    "\n",
    "#test関連\n",
    "test_dir='./feature/101_test.csv'\n",
    "test_drop_col=['ID_code']\n",
    "\n",
    "#結果ファイル関連\n",
    "oof_preds_dir='./oof/104_LightGBM_preds.csv'\n",
    "test_preds_dir='./oof/104_LightGBM_tests.csv'\n",
    "submission_dir='./submission/104_LightGBM_submission.csv'\n",
    "save_col_name='oof_xgb'\n",
    "\n",
    "sample_submission_dir='./submission/sample_submission.csv'\n",
    "submission_target_col_name='target'\n",
    "submission_id_col_name='ID_code'"
   ]
  },
  {
   "cell_type": "code",
   "execution_count": 3,
   "metadata": {
    "collapsed": true
   },
   "outputs": [],
   "source": [
    "#model_param\n",
    "param = {\n",
    "        'num_leaves': 6,\n",
    "        'max_bin': 63,\n",
    "        'min_data_in_leaf': 45,\n",
    "        'learning_rate': 0.01,\n",
    "        'min_sum_hessian_in_leaf': 0.000446,\n",
    "        'bagging_fraction': 0.55, \n",
    "        'bagging_freq': 5, \n",
    "        'max_depth': 14,\n",
    "        'save_binary': True,\n",
    "        'seed': 31452,\n",
    "        'feature_fraction_seed': 31415,\n",
    "        'feature_fraction': 0.51,\n",
    "        'bagging_seed': 31415,\n",
    "        'drop_seed': 31415,\n",
    "        'data_random_seed': 31415,\n",
    "        'objective': 'binary',\n",
    "        'boosting_type': 'gbdt',\n",
    "        'verbose': 1,\n",
    "        'metric': 'auc',\n",
    "        'is_unbalance': True,\n",
    "        'boost_from_average': False,\n",
    "    }"
   ]
  },
  {
   "cell_type": "markdown",
   "metadata": {},
   "source": [
    "テンプレ処理"
   ]
  },
  {
   "cell_type": "code",
   "execution_count": 4,
   "metadata": {
    "collapsed": true
   },
   "outputs": [],
   "source": [
    "#ロード\n",
    "train_df=pd.read_csv(train_dir)\n",
    "test_df=pd.read_csv(test_dir)"
   ]
  },
  {
   "cell_type": "code",
   "execution_count": 5,
   "metadata": {
    "collapsed": false
   },
   "outputs": [],
   "source": [
    "#サンプリング\n",
    "if not(submit_flg ==1):\n",
    "    train_df=train_df.sample(n=sample_num,random_state=SEED)\n",
    "    test_df=test_df.sample(n=sample_num,random_state=SEED)"
   ]
  },
  {
   "cell_type": "code",
   "execution_count": 6,
   "metadata": {
    "collapsed": false
   },
   "outputs": [],
   "source": [
    "#x,y作成\n",
    "x_train=train_df.drop(train_drop_col,axis=1)\n",
    "y_train=train_df[train_label]\n",
    "x_test=test_df.drop(test_drop_col,axis=1)"
   ]
  },
  {
   "cell_type": "markdown",
   "metadata": {},
   "source": [
    "GridSearch"
   ]
  },
  {
   "cell_type": "code",
   "execution_count": 7,
   "metadata": {
    "collapsed": false
   },
   "outputs": [],
   "source": [
    "if grid_flg ==1:\n",
    "    clf = xgb.XGBRegressor()\n",
    "    parameters = {\n",
    "        'learning_rate':[0.1,0.01],\n",
    "        'n_estimators':[10,100,1000],\n",
    "        'max_depth':[3,4,5,10,15],\n",
    "        'min_child_weight':[1,2,3],\n",
    "        'max_delta_step':[0,5],\n",
    "        'gamma':[0,3,10,30],\n",
    "        'subsample':[0.8,1],\n",
    "        'colsample_bytree':[0.8,1],\n",
    "        'objective':['binary:logistic','reg:linear'],\n",
    "        'booster':['gbtree','gblinear'],\n",
    "        'nthread':[None,4],\n",
    "        'scale_pos_weight':[1],\n",
    "        'seed':[SEED]\n",
    "    }\n",
    "    clf = RandomizedSearchCV( estimator=model,\n",
    "                                        param_distributions=parameters,\n",
    "                                        cv=5,              #CV\n",
    "                                        scoring=\"accuracy\", #metrics\n",
    "                                        n_jobs=1,           #num of core\n",
    "                                        verbose=0,          \n",
    "                                        random_state=1)\n",
    "    clf.fit(x_train, y_train)"
   ]
  },
  {
   "cell_type": "markdown",
   "metadata": {},
   "source": [
    "モデル実行"
   ]
  },
  {
   "cell_type": "code",
   "execution_count": 8,
   "metadata": {
    "collapsed": false
   },
   "outputs": [
    {
     "name": "stdout",
     "output_type": "stream",
     "text": [
      "\n",
      "\n",
      "Fold 0\n",
      "Training until validation scores don't improve for 250 rounds.\n",
      "[1000]\ttraining's auc: 0.862234\tvalid_1's auc: 0.846295\n",
      "[2000]\ttraining's auc: 0.889724\tvalid_1's auc: 0.871047\n",
      "[3000]\ttraining's auc: 0.902381\tvalid_1's auc: 0.88213\n",
      "[4000]\ttraining's auc: 0.910379\tvalid_1's auc: 0.888456\n",
      "[5000]\ttraining's auc: 0.915653\tvalid_1's auc: 0.891442\n",
      "[6000]\ttraining's auc: 0.919528\tvalid_1's auc: 0.893551\n",
      "[7000]\ttraining's auc: 0.922627\tvalid_1's auc: 0.894491\n",
      "[8000]\ttraining's auc: 0.92537\tvalid_1's auc: 0.895198\n",
      "[9000]\ttraining's auc: 0.928073\tvalid_1's auc: 0.895658\n",
      "Early stopping, best iteration is:\n",
      "[8843]\ttraining's auc: 0.927643\tvalid_1's auc: 0.895715\n",
      "AUC = 0.8957148557695099\n",
      "\n",
      "\n",
      "Fold 1\n",
      "Training until validation scores don't improve for 250 rounds.\n",
      "[1000]\ttraining's auc: 0.860613\tvalid_1's auc: 0.846678\n",
      "[2000]\ttraining's auc: 0.889101\tvalid_1's auc: 0.873472\n",
      "[3000]\ttraining's auc: 0.902565\tvalid_1's auc: 0.884724\n",
      "[4000]\ttraining's auc: 0.910306\tvalid_1's auc: 0.890473\n",
      "[5000]\ttraining's auc: 0.915474\tvalid_1's auc: 0.893783\n",
      "[6000]\ttraining's auc: 0.919219\tvalid_1's auc: 0.895656\n",
      "[7000]\ttraining's auc: 0.922376\tvalid_1's auc: 0.897018\n",
      "[8000]\ttraining's auc: 0.925186\tvalid_1's auc: 0.897757\n",
      "Early stopping, best iteration is:\n",
      "[8169]\ttraining's auc: 0.925667\tvalid_1's auc: 0.897871\n",
      "AUC = 0.8978705770795845\n",
      "\n",
      "\n",
      "Fold 2\n",
      "Training until validation scores don't improve for 250 rounds.\n",
      "[1000]\ttraining's auc: 0.861605\tvalid_1's auc: 0.849382\n",
      "[2000]\ttraining's auc: 0.889409\tvalid_1's auc: 0.873434\n",
      "[3000]\ttraining's auc: 0.902498\tvalid_1's auc: 0.884146\n",
      "[4000]\ttraining's auc: 0.91001\tvalid_1's auc: 0.889881\n",
      "[5000]\ttraining's auc: 0.915238\tvalid_1's auc: 0.893613\n",
      "[6000]\ttraining's auc: 0.918995\tvalid_1's auc: 0.895893\n",
      "[7000]\ttraining's auc: 0.922126\tvalid_1's auc: 0.897206\n",
      "[8000]\ttraining's auc: 0.924911\tvalid_1's auc: 0.898079\n",
      "[9000]\ttraining's auc: 0.927687\tvalid_1's auc: 0.898538\n",
      "Early stopping, best iteration is:\n",
      "[9472]\ttraining's auc: 0.928982\tvalid_1's auc: 0.898811\n",
      "AUC = 0.8988110863138449\n",
      "\n",
      "\n",
      "Fold 3\n",
      "Training until validation scores don't improve for 250 rounds.\n",
      "[1000]\ttraining's auc: 0.862224\tvalid_1's auc: 0.845285\n",
      "[2000]\ttraining's auc: 0.889754\tvalid_1's auc: 0.869832\n",
      "[3000]\ttraining's auc: 0.902565\tvalid_1's auc: 0.880627\n",
      "[4000]\ttraining's auc: 0.910332\tvalid_1's auc: 0.886797\n",
      "[5000]\ttraining's auc: 0.915424\tvalid_1's auc: 0.890752\n",
      "[6000]\ttraining's auc: 0.919232\tvalid_1's auc: 0.893242\n",
      "[7000]\ttraining's auc: 0.92241\tvalid_1's auc: 0.894796\n",
      "[8000]\ttraining's auc: 0.925222\tvalid_1's auc: 0.895806\n",
      "[9000]\ttraining's auc: 0.928007\tvalid_1's auc: 0.896405\n",
      "[10000]\ttraining's auc: 0.930761\tvalid_1's auc: 0.896651\n",
      "Early stopping, best iteration is:\n",
      "[10346]\ttraining's auc: 0.931677\tvalid_1's auc: 0.896819\n",
      "AUC = 0.896819156026427\n",
      "\n",
      "\n",
      "Fold 4\n",
      "Training until validation scores don't improve for 250 rounds.\n",
      "[1000]\ttraining's auc: 0.861033\tvalid_1's auc: 0.850232\n",
      "[2000]\ttraining's auc: 0.889003\tvalid_1's auc: 0.875961\n",
      "[3000]\ttraining's auc: 0.901916\tvalid_1's auc: 0.886951\n",
      "[4000]\ttraining's auc: 0.909742\tvalid_1's auc: 0.893278\n",
      "[5000]\ttraining's auc: 0.914945\tvalid_1's auc: 0.897125\n",
      "[6000]\ttraining's auc: 0.918721\tvalid_1's auc: 0.899278\n",
      "[7000]\ttraining's auc: 0.921874\tvalid_1's auc: 0.9009\n",
      "[8000]\ttraining's auc: 0.924747\tvalid_1's auc: 0.901968\n",
      "[9000]\ttraining's auc: 0.927442\tvalid_1's auc: 0.902534\n",
      "Early stopping, best iteration is:\n",
      "[9157]\ttraining's auc: 0.92785\tvalid_1's auc: 0.902609\n",
      "AUC = 0.902608635532731\n",
      "\n",
      "\n",
      "Fold 5\n",
      "Training until validation scores don't improve for 250 rounds.\n",
      "[1000]\ttraining's auc: 0.861891\tvalid_1's auc: 0.844628\n",
      "[2000]\ttraining's auc: 0.89017\tvalid_1's auc: 0.869719\n",
      "[3000]\ttraining's auc: 0.902924\tvalid_1's auc: 0.880106\n",
      "[4000]\ttraining's auc: 0.910592\tvalid_1's auc: 0.886094\n",
      "[5000]\ttraining's auc: 0.915793\tvalid_1's auc: 0.889651\n",
      "[6000]\ttraining's auc: 0.919616\tvalid_1's auc: 0.891774\n",
      "[7000]\ttraining's auc: 0.92272\tvalid_1's auc: 0.893317\n",
      "[8000]\ttraining's auc: 0.925465\tvalid_1's auc: 0.894058\n",
      "[9000]\ttraining's auc: 0.928182\tvalid_1's auc: 0.894439\n",
      "Early stopping, best iteration is:\n",
      "[9736]\ttraining's auc: 0.930218\tvalid_1's auc: 0.894692\n",
      "AUC = 0.8946923249234651\n",
      "\n",
      "\n",
      "Fold 6\n",
      "Training until validation scores don't improve for 250 rounds.\n",
      "[1000]\ttraining's auc: 0.861188\tvalid_1's auc: 0.852254\n",
      "[2000]\ttraining's auc: 0.889125\tvalid_1's auc: 0.876226\n",
      "[3000]\ttraining's auc: 0.902345\tvalid_1's auc: 0.887113\n",
      "[4000]\ttraining's auc: 0.909942\tvalid_1's auc: 0.892893\n",
      "[5000]\ttraining's auc: 0.915161\tvalid_1's auc: 0.896169\n",
      "[6000]\ttraining's auc: 0.919044\tvalid_1's auc: 0.898578\n",
      "[7000]\ttraining's auc: 0.921963\tvalid_1's auc: 0.899646\n",
      "[8000]\ttraining's auc: 0.92486\tvalid_1's auc: 0.900275\n",
      "Early stopping, best iteration is:\n",
      "[8709]\ttraining's auc: 0.926814\tvalid_1's auc: 0.900721\n",
      "AUC = 0.9007214345172416\n",
      "\n",
      "\n",
      "Fold 7\n",
      "Training until validation scores don't improve for 250 rounds.\n",
      "[1000]\ttraining's auc: 0.8616\tvalid_1's auc: 0.84676\n",
      "[2000]\ttraining's auc: 0.889632\tvalid_1's auc: 0.873371\n",
      "[3000]\ttraining's auc: 0.902351\tvalid_1's auc: 0.884345\n",
      "[4000]\ttraining's auc: 0.910098\tvalid_1's auc: 0.890456\n",
      "[5000]\ttraining's auc: 0.915167\tvalid_1's auc: 0.893639\n",
      "[6000]\ttraining's auc: 0.919147\tvalid_1's auc: 0.895792\n",
      "[7000]\ttraining's auc: 0.922276\tvalid_1's auc: 0.897016\n",
      "[8000]\ttraining's auc: 0.92507\tvalid_1's auc: 0.898\n",
      "[9000]\ttraining's auc: 0.927829\tvalid_1's auc: 0.898357\n",
      "[10000]\ttraining's auc: 0.930664\tvalid_1's auc: 0.898662\n",
      "Early stopping, best iteration is:\n",
      "[10307]\ttraining's auc: 0.931485\tvalid_1's auc: 0.898822\n",
      "AUC = 0.8988216781572957\n",
      "\n",
      "\n",
      "Fold 8\n",
      "Training until validation scores don't improve for 250 rounds.\n",
      "[1000]\ttraining's auc: 0.861314\tvalid_1's auc: 0.851148\n",
      "[2000]\ttraining's auc: 0.889388\tvalid_1's auc: 0.87503\n",
      "[3000]\ttraining's auc: 0.902417\tvalid_1's auc: 0.885391\n",
      "[4000]\ttraining's auc: 0.910139\tvalid_1's auc: 0.890968\n",
      "[5000]\ttraining's auc: 0.915325\tvalid_1's auc: 0.894066\n",
      "[6000]\ttraining's auc: 0.919188\tvalid_1's auc: 0.896228\n",
      "[7000]\ttraining's auc: 0.92226\tvalid_1's auc: 0.897519\n",
      "[8000]\ttraining's auc: 0.925108\tvalid_1's auc: 0.898211\n",
      "[9000]\ttraining's auc: 0.927821\tvalid_1's auc: 0.898512\n",
      "Early stopping, best iteration is:\n",
      "[9355]\ttraining's auc: 0.928821\tvalid_1's auc: 0.898602\n",
      "AUC = 0.8986021768080327\n",
      "\n",
      "\n",
      "Fold 9\n",
      "Training until validation scores don't improve for 250 rounds.\n",
      "[1000]\ttraining's auc: 0.862301\tvalid_1's auc: 0.851883\n",
      "[2000]\ttraining's auc: 0.889823\tvalid_1's auc: 0.874206\n",
      "[3000]\ttraining's auc: 0.902736\tvalid_1's auc: 0.883703\n",
      "[4000]\ttraining's auc: 0.910495\tvalid_1's auc: 0.888648\n",
      "[5000]\ttraining's auc: 0.915598\tvalid_1's auc: 0.891738\n",
      "[6000]\ttraining's auc: 0.919341\tvalid_1's auc: 0.893711\n",
      "[7000]\ttraining's auc: 0.922422\tvalid_1's auc: 0.894789\n",
      "[8000]\ttraining's auc: 0.925207\tvalid_1's auc: 0.895512\n",
      "Early stopping, best iteration is:\n",
      "[8598]\ttraining's auc: 0.926834\tvalid_1's auc: 0.895884\n",
      "AUC = 0.8958839751413249\n",
      "Overall AUC = 0.8980030819711918\n"
     ]
    }
   ],
   "source": [
    "folds = StratifiedKFold(n_splits=fold_num, shuffle=True, random_state=SEED)\n",
    "oof_preds = np.zeros((len(x_train), 1))\n",
    "test_preds = np.zeros((len(x_test), 1))\n",
    "\n",
    "for fold_, (trn_idx, val_idx) in enumerate(folds.split(x_train.values, y_train.values)):\n",
    "    print(\"\\n\")\n",
    "    print(\"Fold {}\".format(fold_))\n",
    "    trn_x,trn_y = x_train.iloc[trn_idx], y_train.iloc[trn_idx]\n",
    "    val_x,val_y = x_train.iloc[val_idx], y_train.iloc[val_idx]\n",
    "    trn_data = lgb.Dataset(trn_x,trn_y)\n",
    "    val_data = lgb.Dataset(val_x,val_y)\n",
    "    \n",
    "    num_round = 15000\n",
    "    clf = lgb.train(param, trn_data, num_round, valid_sets = [trn_data, val_data], verbose_eval=1000, early_stopping_rounds = 250)\n",
    "    val_pred = clf.predict(val_x, num_iteration=clf.best_iteration)\n",
    "    test_pred = clf.predict(x_test, num_iteration=clf.best_iteration)\n",
    "    \n",
    "    print(\"AUC = {}\".format(roc_auc_score(val_y, val_pred)))\n",
    "    #print(\"val = {}\".format(val_pred)\n",
    "    oof_preds[val_idx, :] = val_pred.reshape((-1, 1))\n",
    "    test_preds += test_pred.reshape((-1, 1))\n",
    "    \n",
    "test_preds /= fold_num\n",
    "roc_score = roc_auc_score(y_train, oof_preds.ravel())\n",
    "print(\"Overall AUC = {}\".format(roc_score))"
   ]
  },
  {
   "cell_type": "code",
   "execution_count": 9,
   "metadata": {
    "collapsed": false
   },
   "outputs": [],
   "source": [
    "#結果保存\n",
    "if submit_flg ==1:\n",
    "    series_oof_preds = pd.Series(data=oof_preds[:,0], name=save_col_name, dtype='float')\n",
    "    series_test_preds = pd.Series(data=test_preds[:,0], name=save_col_name, dtype='float')\n",
    "\n",
    "    series_oof_preds.to_csv(oof_preds_dir,header=True, index=False)\n",
    "    series_test_preds.to_csv(test_preds_dir,header=True, index=False)\n",
    "\n",
    "    sample = pd.read_csv(sample_submission_dir)\n",
    "    sample.target = test_preds[:,0].astype(float)\n",
    "    sample.ID_code = test_df['ID_code']\n",
    "    sample.to_csv(submission_dir, index=False)\n",
    "    "
   ]
  },
  {
   "cell_type": "code",
   "execution_count": null,
   "metadata": {
    "collapsed": true
   },
   "outputs": [],
   "source": []
  }
 ],
 "metadata": {
  "kernelspec": {
   "display_name": "Python 3",
   "language": "python",
   "name": "python3"
  },
  "language_info": {
   "codemirror_mode": {
    "name": "ipython",
    "version": 3
   },
   "file_extension": ".py",
   "mimetype": "text/x-python",
   "name": "python",
   "nbconvert_exporter": "python",
   "pygments_lexer": "ipython3",
   "version": "3.6.0"
  }
 },
 "nbformat": 4,
 "nbformat_minor": 2
}
