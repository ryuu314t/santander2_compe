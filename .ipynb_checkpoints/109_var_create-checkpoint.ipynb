{
 "cells": [
  {
   "cell_type": "code",
   "execution_count": null,
   "metadata": {
    "_cell_guid": "b1076dfc-b9ad-4769-8c92-a6c4dae69d19",
    "_kg_hide-input": true,
    "_kg_hide-output": true,
    "_uuid": "8f2839f25d086af736a60e9eeb907d3b93b6e0e5",
    "collapsed": false
   },
   "outputs": [],
   "source": [
    "import numpy as np # linear algebra\n",
    "import pandas as pd # data processing, CSV file I/O (e.g. pd.read_csv)\n",
    "import matplotlib.pyplot as plt\n",
    "import seaborn as sns\n",
    "import os\n"
   ]
  },
  {
   "cell_type": "markdown",
   "metadata": {
    "_uuid": "6256884651fb03d4e84feaca8628ab971bee92fb"
   },
   "source": [
    "**Data Visualization**"
   ]
  },
  {
   "cell_type": "markdown",
   "metadata": {
    "_uuid": "6723fbe72f71888a167057967a11443e06d13445"
   },
   "source": [
    "Visualizing Data is a very important step in a Data Science project.  As per the recent Kagagle Survey 10-20% of the total Data Science Project time is spent on visualizing data. https://www.kaggle.com/rajeshcv/state-of-data-science-machine-learning-2018\n",
    "\n",
    "SaS Data Visualization’s webpage explain Data visualization  beautifully.\n",
    "\n",
    "*'The way the human brain processes information, using charts or graphs to visualize large amounts of complex data is easier than poring over spreadsheets or reports. Data visualization is a quick, easy way to convey concepts in a universal manner — and you can experiment with different scenarios by making slight adjustments.'*\n",
    "\n",
    "In the Santander Customer Transaction Prediction competition the features are predominently numeric.\n",
    "\n",
    "This kernel's objective is to\n",
    "*     Understand the value distribution in various features through boxplots and histograms. \n",
    "*     Seggregate features into groups based on range of values.\n",
    "*     Identify  features with similiar value distribution.\n",
    "*     To understand if there is any difference in values between the two target groups 'transaction done and 'transaction not done'\n",
    "*  Check whether feature values in test and train comes from the same sampling  distribution.\n",
    "\n",
    "\n"
   ]
  },
  {
   "cell_type": "code",
   "execution_count": null,
   "metadata": {
    "_cell_guid": "79c7e3d0-c299-4dcb-8224-4455121ee9b0",
    "_kg_hide-input": true,
    "_uuid": "d629ff2d2480ee46fbb7e2d37f6b5fab8052498a",
    "collapsed": true
   },
   "outputs": [],
   "source": [
    "train = pd.read_csv('./feature/101_train.csv')\n",
    "test = pd.read_csv('./feature/101_test.csv')"
   ]
  },
  {
   "cell_type": "code",
   "execution_count": null,
   "metadata": {
    "_uuid": "06593091eb395bf85a28c0e13345aa7596ad6b74",
    "collapsed": true
   },
   "outputs": [],
   "source": [
    "train.head()"
   ]
  },
  {
   "cell_type": "code",
   "execution_count": null,
   "metadata": {
    "_uuid": "4fe70ced9170bbc435cb4221f3164ab123d77ba6",
    "collapsed": true
   },
   "outputs": [],
   "source": [
    "train.info()"
   ]
  },
  {
   "cell_type": "markdown",
   "metadata": {
    "_uuid": "44a1592714b1472b97459683d2c449ad7c0daa1b"
   },
   "source": [
    "All the 200 features have numeric values . Let's check first if some of these numeric features are categorical  or boolean .In that case they will have less than 500 unique values."
   ]
  },
  {
   "cell_type": "code",
   "execution_count": null,
   "metadata": {
    "_uuid": "98d7bf1875da41fbfa707ca8eb747b9347423975",
    "collapsed": true
   },
   "outputs": [],
   "source": [
    "likely_cat = {}\n",
    "for c in train.columns:\n",
    "    likely_cat[c] = 1.*train[c].nunique()/train[c].count() < 0.005\n",
    "likely_cat= pd.Series(likely_cat)\n",
    "likely_cat[likely_cat==True]"
   ]
  },
  {
   "cell_type": "code",
   "execution_count": null,
   "metadata": {
    "_uuid": "78b8df5397f44edec4cf3193335afcf427e57301",
    "collapsed": true
   },
   "outputs": [],
   "source": [
    "train.var_68.nunique()"
   ]
  },
  {
   "cell_type": "markdown",
   "metadata": {
    "_uuid": "dde5143e67596d16f9164c71144add9f0983a122"
   },
   "source": [
    "None of the features are categorical or boolean except 'target'. Let's understand the range of values of each of these features by plotting the max, min and median value of the features."
   ]
  },
  {
   "cell_type": "code",
   "execution_count": null,
   "metadata": {
    "_kg_hide-input": true,
    "_uuid": "3305bec57e92b78b18347adf0ee62068a73872b0",
    "collapsed": true
   },
   "outputs": [],
   "source": [
    "trainvaluedist = pd.DataFrame(train.iloc[:,2:].max(axis=0),columns=[\"Max_value\"])\n",
    "trainvaluedist['Min_value'] = train.iloc[:,2:].min(axis=0)\n",
    "trainvaluedist['Median_value'] = train.iloc[:,2:].median(axis=0)\n",
    "trainvaluedist.head()"
   ]
  },
  {
   "cell_type": "code",
   "execution_count": null,
   "metadata": {
    "_kg_hide-input": true,
    "_uuid": "329a43ce5b24a341f081d69b89585c64158648f6",
    "collapsed": true
   },
   "outputs": [],
   "source": [
    "sns.set(rc={'figure.figsize':(24,12)})\n",
    "line=sns.lineplot(data=trainvaluedist )\n",
    "line= line.set(yticks=[-80,-60,-40,-30,-20,-10,0,10,20,30,40,60,80])\n"
   ]
  },
  {
   "cell_type": "markdown",
   "metadata": {
    "_uuid": "6477bb5e8ffdb251b55c8898c6800aa5b8ec5481"
   },
   "source": []
  },
  {
   "cell_type": "markdown",
   "metadata": {
    "_uuid": "6d25b30c22ff1e242f289256289e465b3c5c1eb0"
   },
   "source": []
  },
  {
   "cell_type": "code",
   "execution_count": null,
   "metadata": {
    "_uuid": "f8368175e8f3871317ed5612d737a8df12d2c8b1",
    "collapsed": true
   },
   "outputs": [],
   "source": []
  },
  {
   "cell_type": "code",
   "execution_count": null,
   "metadata": {
    "_uuid": "77fcee0f12805a548d61568983b02631f1fb7a79",
    "collapsed": true
   },
   "outputs": [],
   "source": []
  },
  {
   "cell_type": "markdown",
   "metadata": {
    "_uuid": "6ec602656d906808f3d15f10b39ca42b48dd58f2"
   },
   "source": [
    "Combined all values in the features are between 80 and -90.  From the plot it looks like the features can be seggregrated into 10 groups  based on their max and min values."
   ]
  },
  {
   "cell_type": "code",
   "execution_count": null,
   "metadata": {
    "_kg_hide-input": true,
    "_uuid": "71eed66341bf801d1167deee7a6d160835638331",
    "collapsed": true
   },
   "outputs": [],
   "source": [
    "colzerototen= [c for c in train.iloc[:,2:].columns if (train.loc[:,c].min() >=0) & (train.loc[:,c].max()< 10) ]\n",
    "print('Number of features with positive values and maximum value less than 10 :',len(colzerototen))\n",
    "colzerototwenty= [c for c in train.iloc[:,2:].columns if (train.loc[:,c].min() >=0) & (train.loc[:,c].max() >= 10) & (train.loc[:,c].max() < 20)  ]\n",
    "print('Number of features with positive values maximum value between 10 & 20 :',len(colzerototwenty))\n",
    "colzeroandtwentyplus= [c for c in train.iloc[:,2:].columns if (train.loc[:,c].min() >=0) & (train.loc[:,c].max() >= 20)]\n",
    "print('Number of features with positive values maximum value > 20 :',len(colzeroandtwentyplus))\n",
    "colzerominus= [c for c in train.iloc[:,2:].columns if train.loc[:,c].max() <0 ]\n",
    "print('Number of features with only negative values :',len(colzerominus))\n",
    "colplustenminusten= [c for c in train.iloc[:,2:].columns if (train.loc[:,c].max() <= 10) & (train.loc[:,c].min() >=-10 )& (train.loc[:,c].min()< 0 )]\n",
    "print('Number of features with negative values between 10 and -10 :',len(colplustenminusten))\n",
    "colplustwentyminusten= [c for c in train.iloc[:,2:].columns if (train.loc[:,c].max() <= 20)& (train.loc[:,c].max() > 10) & (train.loc[:,c].min() >=-10 ) & (train.loc[:,c].min() < 0 )]\n",
    "print('Number of features with max value between 10 and 20 and min value between  between 0 and -10  :',len(colplustwentyminusten))\n",
    "colplustwentyminustwenty= [c for c in train.iloc[:,2:].columns if (train.loc[:,c].max() <= 20) &  (train.loc[:,c].min() < -10 ) & (train.loc[:,c].min() >= -20 )]\n",
    "print('Number of features with max value less than 20 and min value between -10 and -20 :',len(colplustwentyminustwenty))\n",
    "colplustwentyminustwentyless= [c for c in train.iloc[:,2:].columns if (train.loc[:,c].max() <= 20)& (train.loc[:,c].min() < -20 )]\n",
    "print('Number of features with max value less than 20 and min value less than -20 :',len(colplustwentyminustwentyless))\n",
    "colplustwentymoreminusten= [c for c in train.iloc[:,2:].columns if (train.loc[:,c].max() >20)& (train.loc[:,c].min()< 0 ) & (train.loc[:,c].min()>= -10 )]\n",
    "print('Number of features with max value more than 20 and min value more than -10 :',len(colplustwentymoreminusten))\n",
    "colplustwentymoreminustwenty= [c for c in train.iloc[:,2:].columns if (train.loc[:,c].max() >20)& (train.loc[:,c].min()< -10 ) & (train.loc[:,c].min()>= -20 )]\n",
    "print('Number of features with max value more than 20 and min value between -10 and -20:',len(colplustwentymoreminustwenty))\n",
    "colplustwentymoreminustwentymore= [c for c in train.iloc[:,2:].columns if (train.loc[:,c].max() >20)& (train.loc[:,c].min()< -20 )]\n",
    "print('Number of features with max value more than 20 and min value less than -20:',len(colplustwentymoreminustwentymore))"
   ]
  },
  {
   "cell_type": "markdown",
   "metadata": {
    "_uuid": "7e8ae473dc060a269f44f33807efc9571375553a"
   },
   "source": [
    "**Features with  positive values and maximum value less than 10**"
   ]
  },
  {
   "cell_type": "code",
   "execution_count": null,
   "metadata": {
    "_kg_hide-input": true,
    "_uuid": "a6fe7278a19ba84e1e1def37c5ca49eafd15c255",
    "collapsed": true
   },
   "outputs": [],
   "source": [
    "sns.set(rc={'figure.figsize':(20,8)})\n",
    "setpositive=train.loc[:,colzerototen].boxplot(rot=90)\n",
    "setpositive=setpositive.set(yticks=[0,2.5,5,7.5,10],title=\"Features with  positive values and maximum value less than 10\")"
   ]
  },
  {
   "cell_type": "markdown",
   "metadata": {
    "_uuid": "9e072280df8ea681c0b95681c77b04c8a710dd28"
   },
   "source": [
    "var_68,var_91,var_103,var_148 and var_161 have comparatively lower range of values .\n",
    "The histograms below shows the distribution of values in cases of transaction done in green color (target=1) and transaction not done (target=0) in red colour."
   ]
  },
  {
   "cell_type": "code",
   "execution_count": null,
   "metadata": {
    "_kg_hide-input": true,
    "_kg_hide-output": true,
    "_uuid": "598080e8c2cbd14c309dc6069433868cc23c77cb",
    "collapsed": true
   },
   "outputs": [],
   "source": [
    "sns.set(rc={'figure.figsize':(20,16)})\n",
    "plotlist =['hist'+ str(col) for col in colzerototen]\n",
    "\n",
    "for k in range(len(colzerototen)):\n",
    "     plt.subplot(4,4,k+1)\n",
    "     plotlist[k] =plt.hist(train[colzerototen[k]])\n",
    "     #plotlist[k].set(title=colzerototen[k])\n",
    "    \n"
   ]
  },
  {
   "cell_type": "code",
   "execution_count": null,
   "metadata": {
    "_kg_hide-input": true,
    "_uuid": "3013d8f9666bd26c55f9b39d34d72bcbecedaedc",
    "collapsed": true
   },
   "outputs": [],
   "source": [
    "sns.set(rc={'figure.figsize':(20,16)})\n",
    "def sephist(col):\n",
    "    yes = train[train['target'] == 1][col]\n",
    "    no = train[train['target'] == 0][col]\n",
    "    return yes, no\n",
    "\n",
    "for num, alpha in enumerate(colzerototen):\n",
    "    plt.subplot(4, 4, num+1)\n",
    "    plt.hist(sephist(alpha)[0], alpha=0.75, label='yes', color='g')\n",
    "    plt.hist(sephist(alpha)[1], alpha=0.25, label='no', color='r')\n",
    "    plt.legend(loc='upper right')\n",
    "    plt.title(alpha)\n",
    "plt.tight_layout(pad=0.4, w_pad=0.5, h_pad=1.0)"
   ]
  },
  {
   "cell_type": "markdown",
   "metadata": {
    "_uuid": "2e288fbc1828fe8a08bf8a5ff50a9272a3c5c622"
   },
   "source": [
    "var_103 values lie  between 1.1 and 2 , var_148 between 3.4 and 4.6 , var_68 values are in a narrow range between 4.99 and 5.04,   var_161 between 5 and 6.2  &  var_91 between 6.6 and 7.4.  Considering var_166 with values between 2 and 4 and var_169 and var_133  they all appear to be in sequence.\n",
    "\n",
    "However there is no significant difference in values between the \"transaction done\" and \"transaction not done\" groups"
   ]
  },
  {
   "cell_type": "markdown",
   "metadata": {
    "_uuid": "edaf73eee9073363c1aa2b2c475eae6f488f0e91"
   },
   "source": [
    "**Features with  positive values and maximum value between 10 & 20**"
   ]
  },
  {
   "cell_type": "code",
   "execution_count": null,
   "metadata": {
    "_kg_hide-input": true,
    "_uuid": "d3b197ac4e440d2703478c94189d7f8776696cc4",
    "collapsed": true
   },
   "outputs": [],
   "source": [
    "sns.set(rc={'figure.figsize':(20,8)})\n",
    "setpositive20=train.loc[:,colzerototwenty].boxplot(rot=90)\n",
    "setpositive20=setpositive20.set(yticks=[0,5,10,15,20],title=\"Features with  positive values and maximum value between 10 & 20\")"
   ]
  },
  {
   "cell_type": "markdown",
   "metadata": {
    "_uuid": "28f69558d6e23e28404e717a56c8beaba7027ac9"
   },
   "source": [
    "var_12,  var_15 ,var_25, var_34,  var_43, var_108, var_125 have very low range of values further elaborated by the histogram below."
   ]
  },
  {
   "cell_type": "code",
   "execution_count": null,
   "metadata": {
    "_kg_hide-input": true,
    "_uuid": "aa36da6e6cd59c47c5e96780bb4f00c7d4c61e52",
    "collapsed": true
   },
   "outputs": [],
   "source": [
    "sns.set(rc={'figure.figsize':(16,24)})\n",
    "for num, alpha in enumerate(colzerototwenty):\n",
    "    plt.subplot(8, 4, num+1)\n",
    "    plt.hist(sephist(alpha)[0], alpha=0.75, label='yes', color='g')\n",
    "    plt.hist(sephist(alpha)[1], alpha=0.25, label='no', color='r')\n",
    "    plt.legend(loc='upper right')\n",
    "    plt.title(alpha)\n",
    "plt.tight_layout(pad=0.4, w_pad=0.5, h_pad=1.0)"
   ]
  },
  {
   "cell_type": "markdown",
   "metadata": {
    "_uuid": "d717ea78350e00acd35d0d69ab7bdd6f80e2aba7"
   },
   "source": [
    "All those variables with a short range of values have values in the range 10 to 15 and as in the earlier group appear to be in some sequence."
   ]
  },
  {
   "cell_type": "markdown",
   "metadata": {
    "_uuid": "81a1261d026ab4e7c00e672b6c6913002cfb20b4"
   },
   "source": [
    "**Features with  positive values and maximum value greater than 20**"
   ]
  },
  {
   "cell_type": "code",
   "execution_count": null,
   "metadata": {
    "_kg_hide-input": true,
    "_uuid": "fd113d7a89bd740eaf34a74e3cb3427cb03230b7",
    "collapsed": true
   },
   "outputs": [],
   "source": [
    "sns.set(rc={'figure.figsize':(20,8)})\n",
    "setpositive20plus=train.loc[:,colzeroandtwentyplus].boxplot(rot=90)\n",
    "setpositive20plus=setpositive20plus.set(yticks=[0,10,20,30,40],title=\"Features with  positive values and maximum value more than 20\")"
   ]
  },
  {
   "cell_type": "code",
   "execution_count": null,
   "metadata": {
    "_kg_hide-input": true,
    "_uuid": "c46ea610d1c91f89255d87cfd670b7fb98b9b7b0",
    "collapsed": true
   },
   "outputs": [],
   "source": [
    "sns.set(rc={'figure.figsize':(16,20)})\n",
    "for num, alpha in enumerate(colzeroandtwentyplus):\n",
    "    plt.subplot(6, 4, num+1)\n",
    "    plt.hist(sephist(alpha)[0], alpha=0.75, label='yes', color='g')\n",
    "    plt.hist(sephist(alpha)[1], alpha=0.25, label='no', color='r')\n",
    "    plt.legend(loc='upper right')\n",
    "    plt.title(alpha)\n",
    "plt.tight_layout(pad=0.4, w_pad=0.5, h_pad=1.0)"
   ]
  },
  {
   "cell_type": "markdown",
   "metadata": {
    "_uuid": "a1b4b9e05332bb01912fa3d3320f44a9ba6ea3b2"
   },
   "source": [
    "var_85, var_194 and  var_198 appear to have similiar distribution of values.  var_0, var_46 , var_56, var_175 and var_177 also appear to have a similiar value distribution."
   ]
  },
  {
   "cell_type": "markdown",
   "metadata": {
    "_uuid": "f68d9c895966c0f1e7c4c4fb98dc601f9704064c"
   },
   "source": [
    "**Features with  values between 10 and -10**"
   ]
  },
  {
   "cell_type": "code",
   "execution_count": null,
   "metadata": {
    "_kg_hide-input": true,
    "_uuid": "060a5976ade3e9eaf488e7953d1d2ed67623bf69",
    "collapsed": true
   },
   "outputs": [],
   "source": [
    "sns.set(rc={'figure.figsize':(16,8)})\n",
    "setplustenminusten = train.loc[:,colplustenminusten].boxplot(rot=90)\n",
    "setplustenminusten = setplustenminusten.set(yticks=[-10,-5,0,5,10],title=\"Features with  values between 10 and -10\")"
   ]
  },
  {
   "cell_type": "code",
   "execution_count": null,
   "metadata": {
    "_kg_hide-input": true,
    "_uuid": "5fd22da329043dadec3c6ceec160bfdffa2c027d",
    "collapsed": true
   },
   "outputs": [],
   "source": [
    "sns.set(rc={'figure.figsize':(16,16)})\n",
    "for num, alpha in enumerate(colplustenminusten):\n",
    "    plt.subplot(4, 4, num+1)\n",
    "    plt.hist(sephist(alpha)[0], alpha=0.75, label='yes', color='g')\n",
    "    plt.hist(sephist(alpha)[1], alpha=0.25, label='no', color='r')\n",
    "    plt.legend(loc='upper right')\n",
    "    plt.title(alpha)\n",
    "plt.tight_layout(pad=0.4, w_pad=0.5, h_pad=1.0)"
   ]
  },
  {
   "cell_type": "markdown",
   "metadata": {
    "_uuid": "719852abb59089f6bd5595f51f52fe1a8d6bcc1b"
   },
   "source": [
    "**Features with  max value between 10 &  20  and min values between 0 & -10**"
   ]
  },
  {
   "cell_type": "code",
   "execution_count": null,
   "metadata": {
    "_kg_hide-input": true,
    "_uuid": "66921b9b9fa16f50bda9c6126317085736024cd4",
    "collapsed": true
   },
   "outputs": [],
   "source": [
    "sns.set(rc={'figure.figsize':(16,8)})\n",
    "setplustwentyminusten = train.loc[:,colplustwentyminusten].boxplot(rot=90)\n",
    "setplustwentyminusten = setplustwentyminusten.set(yticks=[-10,-5,0,5,10,15,20],title=\"Features with  max value between 10 and 20 and min values between 0 and -10\")"
   ]
  },
  {
   "cell_type": "code",
   "execution_count": null,
   "metadata": {
    "_kg_hide-input": true,
    "_uuid": "952635566217c4a797789dc8c572ef69b2a555f1",
    "collapsed": true
   },
   "outputs": [],
   "source": [
    "sns.set(rc={'figure.figsize':(16,16)})\n",
    "for num, alpha in enumerate(colplustwentyminusten):\n",
    "    plt.subplot(5, 4, num+1)\n",
    "    plt.hist(sephist(alpha)[0], alpha=0.75, label='yes', color='g')\n",
    "    plt.hist(sephist(alpha)[1], alpha=0.25, label='no', color='r')\n",
    "    plt.legend(loc='upper right')\n",
    "    plt.title(alpha)\n",
    "plt.tight_layout(pad=0.4, w_pad=0.5, h_pad=1.0)"
   ]
  },
  {
   "cell_type": "markdown",
   "metadata": {
    "_uuid": "38d0de2d8829f65cb5cc2b82b91cc487e2d603ba"
   },
   "source": [
    "From the above histogram for many of the features the ' transaction done'  group in green seems to have  lower range than the 'transaction not done' group in red."
   ]
  },
  {
   "cell_type": "markdown",
   "metadata": {
    "_uuid": "f9da143284890ab53687132d70facfff62e36d1f"
   },
   "source": [
    "**Features with  max value between 10 &  20  and min values between -10 & -20**"
   ]
  },
  {
   "cell_type": "code",
   "execution_count": null,
   "metadata": {
    "_kg_hide-input": true,
    "_uuid": "98adf4e06ba8d42aadab4f5f5d94e34627438dee",
    "collapsed": true
   },
   "outputs": [],
   "source": [
    "sns.set(rc={'figure.figsize':(20,8)})\n",
    "setplustwentyminustwenty=train.loc[:,colplustwentyminustwenty].boxplot(rot=90)\n",
    "setplustwentyminustwenty=setplustwentyminustwenty.set(yticks=[-20,-15,-10,-5,0,5,10,15,20],title=\"Features with  max value between 10 and 20 and min values between -10  and -20\")"
   ]
  },
  {
   "cell_type": "code",
   "execution_count": null,
   "metadata": {
    "_kg_hide-input": true,
    "_uuid": "102ad8c0575efd7dc26f580902050a3173307698",
    "collapsed": true
   },
   "outputs": [],
   "source": [
    "sns.set(rc={'figure.figsize':(16,16)})\n",
    "for num, alpha in enumerate(colplustwentyminustwenty):\n",
    "    plt.subplot(4, 4, num+1)\n",
    "    plt.hist(sephist(alpha)[0], alpha=0.75, label='yes', color='g')\n",
    "    plt.hist(sephist(alpha)[1], alpha=0.25, label='no', color='r')\n",
    "    plt.legend(loc='upper right')\n",
    "    plt.title(alpha)\n",
    "plt.tight_layout(pad=0.4, w_pad=0.5, h_pad=1.0)"
   ]
  },
  {
   "cell_type": "markdown",
   "metadata": {
    "_uuid": "d5b7d53e16a19cbac2b56dbf53d0f1434263d3c6"
   },
   "source": [
    "var_39,var_65 and var_138 appear to have similiar distribution of values and so is var_63 and var_128\n",
    "For some of the features the ' transaction done'  group in green seems to have  lower range than the 'transaction not done' group in red."
   ]
  },
  {
   "cell_type": "markdown",
   "metadata": {
    "_uuid": "291aac1fe5b4c4c88bcd49fc72e99f63ed4a80e3"
   },
   "source": [
    "**Features with  max value between 10 &  20  and min values less than  -20**"
   ]
  },
  {
   "cell_type": "code",
   "execution_count": null,
   "metadata": {
    "_kg_hide-input": true,
    "_uuid": "8bf67490be68010d3138c1f3f2e3ccfb5e29078d",
    "collapsed": true
   },
   "outputs": [],
   "source": [
    "sns.set(rc={'figure.figsize':(20,8)})\n",
    "setplustwentyminustwentyless=train.loc[:,colplustwentyminustwentyless].boxplot(rot=90)\n",
    "setplustwentyminustwentyless=setplustwentyminustwentyless.set(yticks=[-40,-30,-20,-15,-10,-5,0,5,10,15,20],title=\"Features with  max value between 10 and 20 and min values less than -20\")"
   ]
  },
  {
   "cell_type": "code",
   "execution_count": null,
   "metadata": {
    "_kg_hide-input": true,
    "_uuid": "e8ae28cf7e08086aa1710b78b624e936b70a39ff",
    "collapsed": true
   },
   "outputs": [],
   "source": [
    "sns.set(rc={'figure.figsize':(16,16)})\n",
    "for num, alpha in enumerate(colplustwentyminustwentyless):\n",
    "    plt.subplot(4, 4, num+1)\n",
    "    plt.hist(sephist(alpha)[0], alpha=0.75, label='yes', color='g')\n",
    "    plt.hist(sephist(alpha)[1], alpha=0.25, label='no', color='r')\n",
    "    plt.legend(loc='upper right')\n",
    "    plt.title(alpha)\n",
    "plt.tight_layout(pad=0.4, w_pad=0.5, h_pad=1.0)"
   ]
  },
  {
   "cell_type": "markdown",
   "metadata": {
    "_uuid": "70b0cfb1cecccabec835c0b781cb0a1e6c1b2807"
   },
   "source": [
    "var_84, var _155, var_157 appear to have similiar distribution of values and so does  var_11, var_180 & var_185"
   ]
  },
  {
   "cell_type": "markdown",
   "metadata": {
    "_uuid": "16a4978d47b05ef53169b7f014afd74859d1c0f7"
   },
   "source": [
    "**Features with  max value greater than 20  and min values less than  -20**"
   ]
  },
  {
   "cell_type": "code",
   "execution_count": null,
   "metadata": {
    "_kg_hide-input": true,
    "_uuid": "52e7bb344a45be0a4d9a813faa0824b00e0bb236",
    "collapsed": true
   },
   "outputs": [],
   "source": [
    "sns.set(rc={'figure.figsize':(20,8)})\n",
    "setplustwentymoreminusten=train.loc[:,colplustwentymoreminusten].boxplot(rot=90)\n",
    "setplustwentymoreminusten=setplustwentymoreminusten.set(yticks=[-10,-5,0,5,10,15,20,30,40,60],title=\"Features with  max value more than 20 and min values between 0 and -10\")"
   ]
  },
  {
   "cell_type": "code",
   "execution_count": null,
   "metadata": {
    "_kg_hide-input": true,
    "_uuid": "fbb52f27fd48d031f9a006751a7178fdab5d4d5f",
    "collapsed": true
   },
   "outputs": [],
   "source": [
    "sns.set(rc={'figure.figsize':(16,16)})\n",
    "for num, alpha in enumerate(colplustwentymoreminusten):\n",
    "    plt.subplot(7, 4, num+1)\n",
    "    plt.hist(sephist(alpha)[0], alpha=0.75, label='yes', color='g')\n",
    "    plt.hist(sephist(alpha)[1], alpha=0.25, label='no', color='r')\n",
    "    plt.legend(loc='upper right')\n",
    "    plt.title(alpha)\n",
    "plt.tight_layout(pad=0.4, w_pad=0.5, h_pad=1.0)"
   ]
  },
  {
   "cell_type": "markdown",
   "metadata": {
    "_uuid": "15ff104394c708af144c99af6a4ee7cdccc4f745"
   },
   "source": [
    "(var_73 & var_158) , (var_92,var_154,var_159 & var_163) , ( var_20 & var_55) \n",
    "The features within the above groups  appear to have similiar distribution of values . Here also the range  of values for the *'transaction done'* group in green appears to be shorter."
   ]
  },
  {
   "cell_type": "markdown",
   "metadata": {
    "_uuid": "e890a1a82362eab34ded645b1a52c68c7fa38910"
   },
   "source": [
    "**Features with  max value more than 20 and min values between -10 and -20**"
   ]
  },
  {
   "cell_type": "code",
   "execution_count": null,
   "metadata": {
    "_kg_hide-input": true,
    "_uuid": "dcebd7eaa622a345af75630fd2e2e2fb954dc740",
    "collapsed": true
   },
   "outputs": [],
   "source": [
    "sns.set(rc={'figure.figsize':(20,8)})\n",
    "setplustwentymoreminustwenty=train.loc[:,colplustwentymoreminustwenty].boxplot(rot=90)\n",
    "setplustwentymoreminustwenty=setplustwentymoreminustwenty.set(yticks=[-20,-15,-10,-5,0,5,10,15,20,30,40,60],title=\"Features with  max value more than 20 and min values between -10 and -20\")"
   ]
  },
  {
   "cell_type": "code",
   "execution_count": null,
   "metadata": {
    "_kg_hide-input": true,
    "_uuid": "fe2207febe742432fdac828e35d2f07e3936d7c9",
    "collapsed": true
   },
   "outputs": [],
   "source": [
    "sns.set(rc={'figure.figsize':(16,16)})\n",
    "for num, alpha in enumerate(colplustwentymoreminustwenty):\n",
    "    plt.subplot(7, 4, num+1)\n",
    "    plt.hist(sephist(alpha)[0], alpha=0.75, label='yes', color='g')\n",
    "    plt.hist(sephist(alpha)[1], alpha=0.25, label='no', color='r')\n",
    "    plt.legend(loc='upper right')\n",
    "    plt.title(alpha)\n",
    "plt.tight_layout(pad=0.4, w_pad=0.5, h_pad=1.0)"
   ]
  },
  {
   "cell_type": "markdown",
   "metadata": {
    "_uuid": "2f161b4e92cc109b3273bf6f712bd5e16cdebe0c"
   },
   "source": [
    "var_21 & var_172 appear to have similiar distribution of values"
   ]
  },
  {
   "cell_type": "markdown",
   "metadata": {
    "_uuid": "1c65f585d1582f83fd563d8905000304281ba79d"
   },
   "source": [
    "**Features with  max value more than 20 and min values less than -20**"
   ]
  },
  {
   "cell_type": "code",
   "execution_count": null,
   "metadata": {
    "_kg_hide-input": true,
    "_uuid": "9d8494e1a1190b6a13d4d8471d8542965e275f56",
    "collapsed": true
   },
   "outputs": [],
   "source": [
    "sns.set(rc={'figure.figsize':(20,8)})\n",
    "setplustwentymoreminustwentymore=train.loc[:,colplustwentymoreminustwentymore].boxplot(rot=90)\n",
    "setplustwentymoreminustwentymore=setplustwentymoreminustwentymore.set(yticks=[-40,-30,-20,-10,0,5,10,15,20,30,40,60],title=\"Features with  max value more than 20 and min values less than -20\")"
   ]
  },
  {
   "cell_type": "code",
   "execution_count": null,
   "metadata": {
    "_kg_hide-input": true,
    "_uuid": "07fde37242ed381d12398673f679120f9c88fb12",
    "collapsed": true
   },
   "outputs": [],
   "source": [
    "sns.set(rc={'figure.figsize':(16,16)})\n",
    "for num, alpha in enumerate(colplustwentymoreminustwentymore):\n",
    "    plt.subplot(6, 4, num+1)\n",
    "    plt.hist(sephist(alpha)[0], alpha=0.75, label='yes', color='g')\n",
    "    plt.hist(sephist(alpha)[1], alpha=0.25, label='no', color='r')\n",
    "    plt.legend(loc='upper right')\n",
    "    plt.title(alpha)\n",
    "plt.tight_layout(pad=0.4, w_pad=0.5, h_pad=1.0)"
   ]
  },
  {
   "cell_type": "markdown",
   "metadata": {
    "_uuid": "4baed7f29dfbb40cdc5450b0b014bbfa9bab9baf"
   },
   "source": [
    "var_47 & var_187 appear to have similiar distribution of values"
   ]
  },
  {
   "cell_type": "markdown",
   "metadata": {
    "_uuid": "b1c22c5375b09e4fb13dad1a3b74624006734ad1"
   },
   "source": [
    "**Checking for correlation between feature**s"
   ]
  },
  {
   "cell_type": "code",
   "execution_count": null,
   "metadata": {
    "_uuid": "939997c335ea821fe8c5653387f7f20f235b0e9c",
    "collapsed": true
   },
   "outputs": [],
   "source": [
    "traincorr = train.iloc[:,2:].corr()\n",
    "traincorr.head()"
   ]
  },
  {
   "cell_type": "code",
   "execution_count": null,
   "metadata": {
    "_uuid": "effe5c0811e9a2ea6e91b52b44782b26b32ef7d7",
    "collapsed": true
   },
   "outputs": [],
   "source": [
    "sns.set(rc={'figure.figsize':(10,8)})\n",
    "sns.heatmap(traincorr,xticklabels=traincorr.columns,yticklabels=traincorr.columns,cmap=sns.diverging_palette(240, 10, n=9))"
   ]
  },
  {
   "cell_type": "markdown",
   "metadata": {
    "_uuid": "6bc7d3bc9510f82c8943007ca8544a35598f7d72"
   },
   "source": [
    "***No correlation between any features . Does this mean all features are important?***"
   ]
  },
  {
   "cell_type": "markdown",
   "metadata": {
    "_uuid": "635bff0cd675e6f6f6a9d1dd6dfd08f0a95ce2ab"
   },
   "source": [
    "**Kolmogorov-Smirnov test**"
   ]
  },
  {
   "cell_type": "markdown",
   "metadata": {
    "_uuid": "e4f9ce25c4c5316568f88d1188cae3107b0c5516"
   },
   "source": [
    "Before concluding let's do a check of whether feature values in test and train comes from the same sampling  distribution.\n",
    "Kolmogorov-Smirnov  is a two-sided test for the null hypothesis that 2 independent samples are drawn from the same continuous distribution.\n",
    "If the K-S statistic is small or the p-value is high, then we cannot reject the hypothesis that the distributions of the two samples are the same."
   ]
  },
  {
   "cell_type": "code",
   "execution_count": null,
   "metadata": {
    "_uuid": "8e2dd555de53786e375b5d16f92599d45bf056cd",
    "collapsed": true
   },
   "outputs": [],
   "source": [
    "from scipy.stats import ks_2samp\n",
    "from tqdm import tqdm\n",
    "ks_values =[]\n",
    "p_values  = []\n",
    "train_columns = train.iloc[:,2:].columns\n",
    "for i in tqdm(train_columns):\n",
    "    ks_values.append(ks_2samp(test[i] , train[i])[0])\n",
    "    p_values.append(ks_2samp(test[i] , train[i])[1])\n",
    "p_values_series = pd.Series(p_values, index = train_columns) \n"
   ]
  },
  {
   "cell_type": "markdown",
   "metadata": {
    "_uuid": "1219ef3e8aecb326a8d25b6eb6695ae923428025"
   },
   "source": [
    "For the two tailed test at 95% confidence level the pvalue has to be less than 0.05 to reject the null hypothesis that both samples are from same distribution.Let's look for values less than 0.05"
   ]
  },
  {
   "cell_type": "code",
   "execution_count": null,
   "metadata": {
    "_uuid": "36515966dc20f09c36eee5f87f0c2ce234f536e2",
    "collapsed": true
   },
   "outputs": [],
   "source": [
    "dissimiliar_features= p_values_series[p_values_series <0.05].index\n",
    "dissimiliar_features"
   ]
  },
  {
   "cell_type": "markdown",
   "metadata": {
    "_uuid": "d4e197275250358fb4b8c04c03d9a60b1421bb01"
   },
   "source": [
    "As per the Kolmogorov-Smirnov test 46 features have a high probability of not being from the same sampling distribution.\n",
    "Will this affect the models? "
   ]
  },
  {
   "cell_type": "code",
   "execution_count": null,
   "metadata": {
    "_uuid": "dd27c64c9f9b1dc7c5eca2cf80217c788e07f2b1",
    "collapsed": true
   },
   "outputs": [],
   "source": [
    "# sns.set(rc={'figure.figsize':(16,48)})\n",
    "# set1=train.iloc[:,47:92].hist(layout=(9,5),sharey=True)"
   ]
  }
 ],
 "metadata": {
  "kernelspec": {
   "display_name": "Python 3",
   "language": "python",
   "name": "python3"
  },
  "language_info": {
   "codemirror_mode": {
    "name": "ipython",
    "version": 3
   },
   "file_extension": ".py",
   "mimetype": "text/x-python",
   "name": "python",
   "nbconvert_exporter": "python",
   "pygments_lexer": "ipython3",
   "version": "3.6.0"
  }
 },
 "nbformat": 4,
 "nbformat_minor": 1
}
