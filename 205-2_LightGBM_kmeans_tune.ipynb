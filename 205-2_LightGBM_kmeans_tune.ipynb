{
 "cells": [
  {
   "cell_type": "code",
   "execution_count": 1,
   "metadata": {
    "collapsed": false
   },
   "outputs": [
    {
     "name": "stderr",
     "output_type": "stream",
     "text": [
      "C:\\Users\\tatsuya.okamoto\\AppData\\Local\\Continuum\\Anaconda3\\lib\\site-packages\\sklearn\\cross_validation.py:44: DeprecationWarning: This module was deprecated in version 0.18 in favor of the model_selection module into which all the refactored classes and functions are moved. Also note that the interface of the new CV iterators are different from that of this module. This module will be removed in 0.20.\n",
      "  \"This module will be removed in 0.20.\", DeprecationWarning)\n",
      "C:\\Users\\tatsuya.okamoto\\AppData\\Local\\Continuum\\Anaconda3\\lib\\site-packages\\sklearn\\grid_search.py:43: DeprecationWarning: This module was deprecated in version 0.18 in favor of the model_selection module into which all the refactored classes and functions are moved. This module will be removed in 0.20.\n",
      "  DeprecationWarning)\n"
     ]
    }
   ],
   "source": [
    "import gc\n",
    "import os\n",
    "import logging\n",
    "import datetime\n",
    "import warnings\n",
    "import numpy as np\n",
    "import pandas as pd\n",
    "import seaborn as sns\n",
    "import lightgbm as lgb\n",
    "from tqdm import tqdm_notebook\n",
    "import matplotlib.pyplot as plt\n",
    "from sklearn.metrics import mean_squared_error\n",
    "from sklearn.metrics import roc_auc_score, roc_curve\n",
    "from sklearn.model_selection import StratifiedKFold\n",
    "from sklearn.model_selection import ShuffleSplit\n",
    "import xgboost as xgb\n",
    "from sklearn.model_selection import GridSearchCV\n",
    "from sklearn.grid_search import RandomizedSearchCV\n",
    "warnings.filterwarnings('ignore')\n"
   ]
  },
  {
   "cell_type": "markdown",
   "metadata": {},
   "source": [
    "基本変数定義"
   ]
  },
  {
   "cell_type": "code",
   "execution_count": 2,
   "metadata": {
    "collapsed": true
   },
   "outputs": [],
   "source": [
    "submit_flg=1 #全件処理かどうかをコントロール\n",
    "grid_flg=0 #GridSearchをするかコントロール\n",
    "\n",
    "SEED=12345\n",
    "sample_num=10000\n",
    "fold_num=5\n",
    "\n",
    "#train関連\n",
    "train_dir='./feature/102_train_kmeans.csv'\n",
    "train_drop_col=['ID_code', 'target','label']\n",
    "train_label='target'\n",
    "\n",
    "#test関連\n",
    "test_dir='./feature/102_test_kmeans.csv'\n",
    "test_drop_col=['ID_code','label']\n",
    "\n",
    "#結果ファイル関連\n",
    "oof_preds_dir='./oof/105-2_LightGBM_kmeans_preds.csv'\n",
    "test_preds_dir='./oof/105-2_LightGBM_kmeans_tests.csv'\n",
    "\n",
    "submission_dir='./submission/105-2_LightGBM_kmeans_submission.csv'\n",
    "save_col_name='oof_xgb'\n",
    "\n",
    "sample_submission_dir='./submission/sample_submission.csv'\n",
    "submission_target_col_name='target'\n",
    "submission_id_col_name='ID_code'"
   ]
  },
  {
   "cell_type": "code",
   "execution_count": 3,
   "metadata": {
    "collapsed": true
   },
   "outputs": [],
   "source": [
    "#model_param\n",
    "param = {\n",
    "        'num_leaves': 6,\n",
    "        'max_bin': 63,\n",
    "        'min_data_in_leaf': 45,\n",
    "        'learning_rate': 0.01,\n",
    "        'min_sum_hessian_in_leaf': 0.000446,\n",
    "        'bagging_fraction': 0.55, \n",
    "        'bagging_freq': 5, \n",
    "        'max_depth': 14,\n",
    "        'save_binary': True,\n",
    "        'seed': 31452,\n",
    "        'feature_fraction_seed': 31415,\n",
    "        'feature_fraction': 0.51,\n",
    "        'bagging_seed': 31415,\n",
    "        'drop_seed': 31415,\n",
    "        'data_random_seed': 31415,\n",
    "        'objective': 'binary',\n",
    "        'boosting_type': 'gbdt',\n",
    "        'verbose': 1,\n",
    "        'metric': 'auc',\n",
    "        'is_unbalance': True,\n",
    "        'boost_from_average': False,\n",
    "    }"
   ]
  },
  {
   "cell_type": "markdown",
   "metadata": {},
   "source": [
    "テンプレ処理"
   ]
  },
  {
   "cell_type": "code",
   "execution_count": 4,
   "metadata": {
    "collapsed": true
   },
   "outputs": [],
   "source": [
    "#ロード\n",
    "train_df=pd.read_csv(train_dir)\n",
    "test_df=pd.read_csv(test_dir)"
   ]
  },
  {
   "cell_type": "code",
   "execution_count": null,
   "metadata": {
    "collapsed": false
   },
   "outputs": [],
   "source": []
  },
  {
   "cell_type": "code",
   "execution_count": 5,
   "metadata": {
    "collapsed": false
   },
   "outputs": [],
   "source": [
    "#x,y作成\n",
    "train_df=train_df[~((train_df['label']==6) | (train_df['label']==0))]\n",
    "#test_df=test_df[~(test_df['label']==6)]\n",
    "\n",
    "x_train=train_df.drop(train_drop_col,axis=1)\n",
    "y_train=train_df[train_label]\n",
    "x_test=test_df.drop(test_drop_col,axis=1)"
   ]
  },
  {
   "cell_type": "markdown",
   "metadata": {},
   "source": [
    "GridSearch"
   ]
  },
  {
   "cell_type": "code",
   "execution_count": 6,
   "metadata": {
    "collapsed": false
   },
   "outputs": [],
   "source": [
    "if grid_flg ==1:\n",
    "    clf = xgb.XGBRegressor()\n",
    "    parameters = {\n",
    "        'learning_rate':[0.1,0.01],\n",
    "        'n_estimators':[10,100,1000],\n",
    "        'max_depth':[3,4,5,10,15],\n",
    "        'min_child_weight':[1,2,3],\n",
    "        'max_delta_step':[0,5],\n",
    "        'gamma':[0,3,10,30],\n",
    "        'subsample':[0.8,1],\n",
    "        'colsample_bytree':[0.8,1],\n",
    "        'objective':['binary:logistic','reg:linear'],\n",
    "        'booster':['gbtree','gblinear'],\n",
    "        'nthread':[None,4],\n",
    "        'scale_pos_weight':[1],\n",
    "        'seed':[SEED]\n",
    "    }\n",
    "    clf = RandomizedSearchCV( estimator=model,\n",
    "                                        param_distributions=parameters,\n",
    "                                        cv=5,              #CV\n",
    "                                        scoring=\"accuracy\", #metrics\n",
    "                                        n_jobs=1,           #num of core\n",
    "                                        verbose=0,          \n",
    "                                        random_state=1)\n",
    "    clf.fit(x_train, y_train)"
   ]
  },
  {
   "cell_type": "markdown",
   "metadata": {},
   "source": [
    "モデル実行"
   ]
  },
  {
   "cell_type": "code",
   "execution_count": 7,
   "metadata": {
    "collapsed": false
   },
   "outputs": [
    {
     "name": "stdout",
     "output_type": "stream",
     "text": [
      "\n",
      "\n",
      "Fold 0\n",
      "Training until validation scores don't improve for 250 rounds.\n",
      "[1000]\ttraining's auc: 0.866523\tvalid_1's auc: 0.855592\n",
      "[2000]\ttraining's auc: 0.894627\tvalid_1's auc: 0.880395\n",
      "[3000]\ttraining's auc: 0.90778\tvalid_1's auc: 0.891016\n",
      "[4000]\ttraining's auc: 0.915892\tvalid_1's auc: 0.896811\n",
      "[5000]\ttraining's auc: 0.921445\tvalid_1's auc: 0.900035\n",
      "[6000]\ttraining's auc: 0.925795\tvalid_1's auc: 0.901796\n",
      "[7000]\ttraining's auc: 0.929694\tvalid_1's auc: 0.903006\n",
      "[8000]\ttraining's auc: 0.933331\tvalid_1's auc: 0.903429\n",
      "Early stopping, best iteration is:\n",
      "[8308]\ttraining's auc: 0.934397\tvalid_1's auc: 0.903547\n",
      "AUC = 0.9035472506523603\n",
      "\n",
      "\n",
      "Fold 1\n",
      "Training until validation scores don't improve for 250 rounds.\n",
      "[1000]\ttraining's auc: 0.8672\tvalid_1's auc: 0.85155\n",
      "[2000]\ttraining's auc: 0.895072\tvalid_1's auc: 0.877065\n",
      "[3000]\ttraining's auc: 0.908482\tvalid_1's auc: 0.887891\n",
      "[4000]\ttraining's auc: 0.916364\tvalid_1's auc: 0.893468\n",
      "[5000]\ttraining's auc: 0.922078\tvalid_1's auc: 0.896723\n",
      "[6000]\ttraining's auc: 0.926344\tvalid_1's auc: 0.898531\n",
      "[7000]\ttraining's auc: 0.930036\tvalid_1's auc: 0.899525\n",
      "[8000]\ttraining's auc: 0.933655\tvalid_1's auc: 0.900202\n",
      "[9000]\ttraining's auc: 0.937189\tvalid_1's auc: 0.900619\n",
      "Early stopping, best iteration is:\n",
      "[9335]\ttraining's auc: 0.938355\tvalid_1's auc: 0.90075\n",
      "AUC = 0.900750255030626\n",
      "\n",
      "\n",
      "Fold 2\n",
      "Training until validation scores don't improve for 250 rounds.\n",
      "[1000]\ttraining's auc: 0.867741\tvalid_1's auc: 0.845153\n",
      "[2000]\ttraining's auc: 0.896287\tvalid_1's auc: 0.869369\n",
      "[3000]\ttraining's auc: 0.90958\tvalid_1's auc: 0.880544\n",
      "[4000]\ttraining's auc: 0.917444\tvalid_1's auc: 0.886971\n",
      "[5000]\ttraining's auc: 0.923\tvalid_1's auc: 0.890576\n",
      "[6000]\ttraining's auc: 0.927159\tvalid_1's auc: 0.892932\n",
      "[7000]\ttraining's auc: 0.930902\tvalid_1's auc: 0.894255\n",
      "[8000]\ttraining's auc: 0.934534\tvalid_1's auc: 0.895018\n",
      "[9000]\ttraining's auc: 0.937943\tvalid_1's auc: 0.895378\n",
      "Early stopping, best iteration is:\n",
      "[9130]\ttraining's auc: 0.938403\tvalid_1's auc: 0.895549\n",
      "AUC = 0.8955488441258613\n",
      "\n",
      "\n",
      "Fold 3\n",
      "Training until validation scores don't improve for 250 rounds.\n",
      "[1000]\ttraining's auc: 0.867802\tvalid_1's auc: 0.849726\n",
      "[2000]\ttraining's auc: 0.896383\tvalid_1's auc: 0.873522\n",
      "[3000]\ttraining's auc: 0.909432\tvalid_1's auc: 0.883276\n",
      "[4000]\ttraining's auc: 0.917382\tvalid_1's auc: 0.888947\n",
      "[5000]\ttraining's auc: 0.923064\tvalid_1's auc: 0.892479\n",
      "[6000]\ttraining's auc: 0.927361\tvalid_1's auc: 0.894505\n",
      "[7000]\ttraining's auc: 0.931034\tvalid_1's auc: 0.895576\n",
      "[8000]\ttraining's auc: 0.934559\tvalid_1's auc: 0.896245\n",
      "Early stopping, best iteration is:\n",
      "[8677]\ttraining's auc: 0.936982\tvalid_1's auc: 0.896521\n",
      "AUC = 0.896520941459097\n",
      "\n",
      "\n",
      "Fold 4\n",
      "Training until validation scores don't improve for 250 rounds.\n",
      "[1000]\ttraining's auc: 0.868826\tvalid_1's auc: 0.850885\n",
      "[2000]\ttraining's auc: 0.896341\tvalid_1's auc: 0.87398\n",
      "[3000]\ttraining's auc: 0.909707\tvalid_1's auc: 0.884034\n",
      "[4000]\ttraining's auc: 0.917808\tvalid_1's auc: 0.889042\n",
      "[5000]\ttraining's auc: 0.923219\tvalid_1's auc: 0.892082\n",
      "[6000]\ttraining's auc: 0.927497\tvalid_1's auc: 0.893859\n",
      "[7000]\ttraining's auc: 0.931321\tvalid_1's auc: 0.894966\n",
      "[8000]\ttraining's auc: 0.934907\tvalid_1's auc: 0.895348\n",
      "Early stopping, best iteration is:\n",
      "[8362]\ttraining's auc: 0.93614\tvalid_1's auc: 0.895421\n",
      "AUC = 0.8954214035411269\n",
      "Overall AUC = 0.8982902002212847\n"
     ]
    }
   ],
   "source": [
    "folds = StratifiedKFold(n_splits=fold_num, shuffle=True, random_state=SEED)\n",
    "oof_preds = np.zeros((len(x_train), 1))\n",
    "test_preds = np.zeros((len(x_test), 1))\n",
    "\n",
    "for fold_, (trn_idx, val_idx) in enumerate(folds.split(x_train.values, y_train.values)):\n",
    "    print(\"\\n\")\n",
    "    print(\"Fold {}\".format(fold_))\n",
    "    trn_x,trn_y = x_train.iloc[trn_idx], y_train.iloc[trn_idx]\n",
    "    val_x,val_y = x_train.iloc[val_idx], y_train.iloc[val_idx]\n",
    "    trn_data = lgb.Dataset(trn_x,trn_y)\n",
    "    val_data = lgb.Dataset(val_x,val_y)\n",
    "    \n",
    "    num_round = 15000\n",
    "    clf = lgb.train(param, trn_data, num_round, valid_sets = [trn_data, val_data], verbose_eval=1000, early_stopping_rounds = 250)\n",
    "    val_pred = clf.predict(val_x, num_iteration=clf.best_iteration)\n",
    "    test_pred = clf.predict(x_test, num_iteration=clf.best_iteration)\n",
    "    \n",
    "    print(\"AUC = {}\".format(roc_auc_score(val_y, val_pred)))\n",
    "    #print(\"val = {}\".format(val_pred)\n",
    "    oof_preds[val_idx, :] = val_pred.reshape((-1, 1))\n",
    "    test_preds += test_pred.reshape((-1, 1))\n",
    "    \n",
    "test_preds /= fold_num\n",
    "roc_score = roc_auc_score(y_train, oof_preds.ravel())\n",
    "print(\"Overall AUC = {}\".format(roc_score))"
   ]
  },
  {
   "cell_type": "code",
   "execution_count": 9,
   "metadata": {
    "collapsed": false
   },
   "outputs": [],
   "source": [
    "#結果保存\n",
    "if submit_flg ==1:\n",
    "    series_oof_preds = pd.Series(data=oof_preds[:,0], name=save_col_name, dtype='float')\n",
    "    series_test_preds = pd.Series(data=test_preds[:,0], name=save_col_name, dtype='float')\n",
    "\n",
    "    series_oof_preds.to_csv(oof_preds_dir,header=True, index=False)\n",
    "    series_test_preds.to_csv(test_preds_dir,header=True, index=False)\n",
    "\n",
    "    sample = pd.read_csv(sample_submission_dir)\n",
    "    sample.target = test_preds[:,0].astype(float)\n",
    "    sample.ID_code = test_df['ID_code']\n",
    "    sample.to_csv(submission_dir, index=False)\n",
    "    "
   ]
  },
  {
   "cell_type": "code",
   "execution_count": null,
   "metadata": {
    "collapsed": true
   },
   "outputs": [],
   "source": []
  },
  {
   "cell_type": "code",
   "execution_count": null,
   "metadata": {
    "collapsed": true
   },
   "outputs": [],
   "source": []
  }
 ],
 "metadata": {
  "kernelspec": {
   "display_name": "Python 3",
   "language": "python",
   "name": "python3"
  },
  "language_info": {
   "codemirror_mode": {
    "name": "ipython",
    "version": 3
   },
   "file_extension": ".py",
   "mimetype": "text/x-python",
   "name": "python",
   "nbconvert_exporter": "python",
   "pygments_lexer": "ipython3",
   "version": "3.6.0"
  }
 },
 "nbformat": 4,
 "nbformat_minor": 2
}
